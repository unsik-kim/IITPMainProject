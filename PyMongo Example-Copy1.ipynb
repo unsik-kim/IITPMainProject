{
 "cells": [
  {
   "cell_type": "code",
   "execution_count": 13,
   "metadata": {},
   "outputs": [],
   "source": [
    "import pymongo\n",
    "from pymongo import MongoClient"
   ]
  },
  {
   "cell_type": "code",
   "execution_count": 14,
   "metadata": {},
   "outputs": [],
   "source": [
    "import pandas as pd\n",
    "import numpy as np"
   ]
  },
  {
   "cell_type": "code",
   "execution_count": 15,
   "metadata": {},
   "outputs": [
    {
     "data": {
      "text/html": [
       "<div>\n",
       "<style scoped>\n",
       "    .dataframe tbody tr th:only-of-type {\n",
       "        vertical-align: middle;\n",
       "    }\n",
       "\n",
       "    .dataframe tbody tr th {\n",
       "        vertical-align: top;\n",
       "    }\n",
       "\n",
       "    .dataframe thead th {\n",
       "        text-align: right;\n",
       "    }\n",
       "</style>\n",
       "<table border=\"1\" class=\"dataframe\">\n",
       "  <thead>\n",
       "    <tr style=\"text-align: right;\">\n",
       "      <th></th>\n",
       "      <th>회차</th>\n",
       "      <th>응시인원</th>\n",
       "      <th>합격자</th>\n",
       "      <th>합격률</th>\n",
       "    </tr>\n",
       "  </thead>\n",
       "  <tbody>\n",
       "    <tr>\n",
       "      <th>0</th>\n",
       "      <td>2020년(제84회)</td>\n",
       "      <td>3210</td>\n",
       "      <td>3025</td>\n",
       "      <td>94.2</td>\n",
       "    </tr>\n",
       "    <tr>\n",
       "      <th>1</th>\n",
       "      <td>2019년(제83회)</td>\n",
       "      <td>3307</td>\n",
       "      <td>3115</td>\n",
       "      <td>94.2</td>\n",
       "    </tr>\n",
       "    <tr>\n",
       "      <th>2</th>\n",
       "      <td>2018년(제82회)</td>\n",
       "      <td>3373</td>\n",
       "      <td>3204</td>\n",
       "      <td>95.0</td>\n",
       "    </tr>\n",
       "    <tr>\n",
       "      <th>3</th>\n",
       "      <td>2017년(제81회)</td>\n",
       "      <td>3336</td>\n",
       "      <td>3095</td>\n",
       "      <td>92.8</td>\n",
       "    </tr>\n",
       "    <tr>\n",
       "      <th>4</th>\n",
       "      <td>2016년(제80회)</td>\n",
       "      <td>3323</td>\n",
       "      <td>3106</td>\n",
       "      <td>93.5</td>\n",
       "    </tr>\n",
       "    <tr>\n",
       "      <th>5</th>\n",
       "      <td>2015년(제79회)</td>\n",
       "      <td>3392</td>\n",
       "      <td>3125</td>\n",
       "      <td>94.6</td>\n",
       "    </tr>\n",
       "    <tr>\n",
       "      <th>6</th>\n",
       "      <td>2014년(제78회)</td>\n",
       "      <td>3412</td>\n",
       "      <td>3200</td>\n",
       "      <td>93.8</td>\n",
       "    </tr>\n",
       "    <tr>\n",
       "      <th>7</th>\n",
       "      <td>2013년(제77회)</td>\n",
       "      <td>3287</td>\n",
       "      <td>3032</td>\n",
       "      <td>92.2</td>\n",
       "    </tr>\n",
       "    <tr>\n",
       "      <th>8</th>\n",
       "      <td>2012년(제76회)</td>\n",
       "      <td>3446</td>\n",
       "      <td>3208</td>\n",
       "      <td>93.1</td>\n",
       "    </tr>\n",
       "    <tr>\n",
       "      <th>9</th>\n",
       "      <td>2011년(제75회)</td>\n",
       "      <td>3376</td>\n",
       "      <td>3095</td>\n",
       "      <td>91.7</td>\n",
       "    </tr>\n",
       "    <tr>\n",
       "      <th>10</th>\n",
       "      <td>2010년(제74회)</td>\n",
       "      <td>3469</td>\n",
       "      <td>3224</td>\n",
       "      <td>92.9</td>\n",
       "    </tr>\n",
       "    <tr>\n",
       "      <th>11</th>\n",
       "      <td>2009년(제73회)</td>\n",
       "      <td>3750</td>\n",
       "      <td>3510</td>\n",
       "      <td>93.6</td>\n",
       "    </tr>\n",
       "    <tr>\n",
       "      <th>12</th>\n",
       "      <td>2008년(제72회)</td>\n",
       "      <td>4028</td>\n",
       "      <td>3887</td>\n",
       "      <td>96.5</td>\n",
       "    </tr>\n",
       "    <tr>\n",
       "      <th>13</th>\n",
       "      <td>2007년(제71회)</td>\n",
       "      <td>3735</td>\n",
       "      <td>3305</td>\n",
       "      <td>88.5</td>\n",
       "    </tr>\n",
       "    <tr>\n",
       "      <th>14</th>\n",
       "      <td>2006년(제70회)</td>\n",
       "      <td>3743</td>\n",
       "      <td>3489</td>\n",
       "      <td>93.2</td>\n",
       "    </tr>\n",
       "  </tbody>\n",
       "</table>\n",
       "</div>"
      ],
      "text/plain": [
       "             회차  응시인원   합격자   합격률\n",
       "0   2020년(제84회)  3210  3025  94.2\n",
       "1   2019년(제83회)  3307  3115  94.2\n",
       "2   2018년(제82회)  3373  3204  95.0\n",
       "3   2017년(제81회)  3336  3095  92.8\n",
       "4   2016년(제80회)  3323  3106  93.5\n",
       "5   2015년(제79회)  3392  3125  94.6\n",
       "6   2014년(제78회)  3412  3200  93.8\n",
       "7   2013년(제77회)  3287  3032  92.2\n",
       "8   2012년(제76회)  3446  3208  93.1\n",
       "9   2011년(제75회)  3376  3095  91.7\n",
       "10  2010년(제74회)  3469  3224  92.9\n",
       "11  2009년(제73회)  3750  3510  93.6\n",
       "12  2008년(제72회)  4028  3887  96.5\n",
       "13  2007년(제71회)  3735  3305  88.5\n",
       "14  2006년(제70회)  3743  3489  93.2"
      ]
     },
     "execution_count": 15,
     "metadata": {},
     "output_type": "execute_result"
    }
   ],
   "source": [
    "doc_pass = pd.read_excel(\".\\data\\의사 국가시험 최종 합격자.xlsx\")\n",
    "doc_pass"
   ]
  },
  {
   "cell_type": "code",
   "execution_count": 16,
   "metadata": {},
   "outputs": [],
   "source": [
    "# DB 연결\n",
    "myclient = MongoClient('218.150.247.209:2017',\n",
    "                       username='unsik',\n",
    "                       password='next1004',\n",
    "                       authSource='admin',\n",
    "                       authMechanism='SCRAM-SHA-256')"
   ]
  },
  {
   "cell_type": "code",
   "execution_count": 17,
   "metadata": {},
   "outputs": [],
   "source": [
    "# DB 객체 불러오기 / DB가 없으면 생성\n",
    "newDB = myclient['FriDB']"
   ]
  },
  {
   "cell_type": "code",
   "execution_count": 18,
   "metadata": {},
   "outputs": [],
   "source": [
    "# 컬렉션 객체 불러오기 / 컬렉션이 없으면 생성\n",
    "newCollection = newDB['DocPass']"
   ]
  },
  {
   "cell_type": "code",
   "execution_count": 28,
   "metadata": {},
   "outputs": [
    {
     "name": "stdout",
     "output_type": "stream",
     "text": [
      "<class 'list'>\n",
      "<class 'dict'>\n",
      "<class 'str'>\n",
      "<class 'int'>\n"
     ]
    }
   ],
   "source": [
    "test_list = []\n",
    "for i in range(len(doc_pass.index)):\n",
    "    test_year = doc_pass.iloc[i,0]\n",
    "    test_apply = doc_pass.iloc[i,1]\n",
    "    test_pass = doc_pass.iloc[i,2]\n",
    "    test_pass_rate = doc_pass.iloc[i,3]\n",
    "    dic_doc = {\"년도\":test_year, \"응시인원\":int(test_apply),\"합격자 수\":int(test_pass), \"합격률\":float(test_pass_rate)}\n",
    "    test_list.append(dic_doc)\n",
    "\n",
    "print(type(test_list))\n",
    "print(type(test_list[0]))\n",
    "print(type(test_list[0]['년도']))\n",
    "print(type(test_list[0]['응시인원']))"
   ]
  },
  {
   "cell_type": "code",
   "execution_count": 29,
   "metadata": {},
   "outputs": [
    {
     "data": {
      "text/plain": [
       "<pymongo.results.InsertManyResult at 0x22ae2193200>"
      ]
     },
     "execution_count": 29,
     "metadata": {},
     "output_type": "execute_result"
    }
   ],
   "source": [
    "newCollection.insert_many(test_list)"
   ]
  },
  {
   "cell_type": "code",
   "execution_count": 14,
   "metadata": {},
   "outputs": [],
   "source": [
    "# 테스트 데이터 생성\n",
    "testDict = {\"name\":\"unsik\", \"phone\":\"010-9792-0999\"}\n",
    "testDictList = [{\"name\":\"unsik\", \"phone\":\"010-9792-0999\"},{\"name\":\"woosik\", \"phone\":\"010-1234-5678\"}]\n",
    "test = {'name':'eun', 'phone':'010-0000-0000'}"
   ]
  },
  {
   "cell_type": "code",
   "execution_count": 15,
   "metadata": {},
   "outputs": [
    {
     "data": {
      "text/plain": [
       "<pymongo.results.InsertOneResult at 0x276c980c6c0>"
      ]
     },
     "execution_count": 15,
     "metadata": {},
     "output_type": "execute_result"
    }
   ],
   "source": [
    "# 하나의 데이터만 삽입  / dict 타입\n",
    "newCollection.insert_one(test)"
   ]
  },
  {
   "cell_type": "code",
   "execution_count": null,
   "metadata": {},
   "outputs": [],
   "source": []
  }
 ],
 "metadata": {
  "kernelspec": {
   "display_name": "Python 3",
   "language": "python",
   "name": "python3"
  },
  "language_info": {
   "codemirror_mode": {
    "name": "ipython",
    "version": 3
   },
   "file_extension": ".py",
   "mimetype": "text/x-python",
   "name": "python",
   "nbconvert_exporter": "python",
   "pygments_lexer": "ipython3",
   "version": "3.8.3"
  }
 },
 "nbformat": 4,
 "nbformat_minor": 4
}
