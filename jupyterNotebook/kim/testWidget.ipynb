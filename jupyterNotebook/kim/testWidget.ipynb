{
 "cells": [
  {
   "cell_type": "code",
   "execution_count": 94,
   "metadata": {},
   "outputs": [
    {
     "data": {
      "application/vnd.jupyter.widget-view+json": {
       "model_id": "43445033304c4a678d1c0d057e1d3167",
       "version_major": 2,
       "version_minor": 0
      },
      "text/plain": [
       "interactive(children=(FloatSlider(value=3150.0, description='의대입학 :', max=10000.0, step=10.0), FloatSlider(val…"
      ]
     },
     "metadata": {},
     "output_type": "display_data"
    },
    {
     "data": {
      "text/plain": [
       "<function __main__.printer(v1, v2, v3, v4)>"
      ]
     },
     "execution_count": 94,
     "metadata": {},
     "output_type": "execute_result"
    }
   ],
   "source": [
    "from __future__ import print_function\n",
    "from ipywidgets import interact, interactive, fixed, interact_manual\n",
    "from ipywidgets import FloatSlider\n",
    "import ipywidgets as widgets\n",
    "\n",
    "wd1 = FloatSlider(min=0, max=10000, step=10, value=3150, description='의대입학 :')\n",
    "wd2 = FloatSlider(min=0, max=1, step=0.01, value=0.6, description='남성비율 :')\n",
    "wd3 = FloatSlider(min=0, max=10000, step=10, value=3150, description='의전원입학 :')\n",
    "wd4 = FloatSlider(min=0, max=1, step=0.01, value=0.6, description='남성비율 :')\n",
    "\n",
    "def printer(v1, v2, v3, v4):\n",
    "    return(v1, v2, v3, v4)\n",
    "\n",
    "interact_manual(printer, v1=wd1, v2=wd2, v3=wd3, v4=wd4)"
   ]
  }
 ],
 "metadata": {
  "kernelspec": {
   "display_name": "Python 3",
   "language": "python",
   "name": "python3"
  },
  "language_info": {
   "codemirror_mode": {
    "name": "ipython",
    "version": 3
   },
   "file_extension": ".py",
   "mimetype": "text/x-python",
   "name": "python",
   "nbconvert_exporter": "python",
   "pygments_lexer": "ipython3",
   "version": "3.6.9"
  }
 },
 "nbformat": 4,
 "nbformat_minor": 4
}
