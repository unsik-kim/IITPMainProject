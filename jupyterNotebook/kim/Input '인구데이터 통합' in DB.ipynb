{
 "cells": [
  {
   "cell_type": "code",
   "execution_count": 20,
   "metadata": {},
   "outputs": [],
   "source": [
    "import dash\n",
    "import dash_core_components as dcc\n",
    "import dash_html_components as html\n",
    "from dash.dependencies import Input, Output\n",
    "import plotly.express as px\n",
    "import connectDB\n",
    "import pandas as pd\n",
    "import plotly.graph_objects as go\n",
    "\n",
    "# DB 연결\n",
    "myclient = connectDB.connectDB()\n",
    "\n",
    "myDB = myclient['FriDB']\n",
    "popCol = myDB['population3']"
   ]
  },
  {
   "cell_type": "code",
   "execution_count": 19,
   "metadata": {},
   "outputs": [],
   "source": [
    "dataDf = pd.read_excel('인구데이터 통합.xlsx',thousands = ',')"
   ]
  },
  {
   "cell_type": "code",
   "execution_count": 54,
   "metadata": {},
   "outputs": [],
   "source": [
    "resultList = []\n",
    "\n",
    "\n",
    "for i in range(len(dataDf.index)):\n",
    "    newDict = {'년도':int(dataDf.iloc[i,0]), '연령':int(dataDf.iloc[i,1]), '성별':'남','값':int(dataDf.iloc[i,2])}\n",
    "    resultList.append(newDict)\n",
    "    newDict = {'년도':int(dataDf.iloc[i,0]), '연령':int(dataDf.iloc[i,1]), '성별':'여','값':int(dataDf.iloc[i,3])}\n",
    "    resultList.append(newDict)\n",
    "    "
   ]
  },
  {
   "cell_type": "code",
   "execution_count": 55,
   "metadata": {},
   "outputs": [
    {
     "data": {
      "text/plain": [
       "<pymongo.results.InsertManyResult at 0x2d00f1c84c0>"
      ]
     },
     "execution_count": 55,
     "metadata": {},
     "output_type": "execute_result"
    }
   ],
   "source": [
    "popCol.insert_many(resultList)"
   ]
  },
  {
   "cell_type": "code",
   "execution_count": 51,
   "metadata": {},
   "outputs": [
    {
     "data": {
      "text/html": [
       "<div>\n",
       "<style scoped>\n",
       "    .dataframe tbody tr th:only-of-type {\n",
       "        vertical-align: middle;\n",
       "    }\n",
       "\n",
       "    .dataframe tbody tr th {\n",
       "        vertical-align: top;\n",
       "    }\n",
       "\n",
       "    .dataframe thead th {\n",
       "        text-align: right;\n",
       "    }\n",
       "</style>\n",
       "<table border=\"1\" class=\"dataframe\">\n",
       "  <thead>\n",
       "    <tr style=\"text-align: right;\">\n",
       "      <th></th>\n",
       "      <th>년도</th>\n",
       "      <th>성별</th>\n",
       "      <th>연령</th>\n",
       "      <th>값</th>\n",
       "    </tr>\n",
       "  </thead>\n",
       "  <tbody>\n",
       "    <tr>\n",
       "      <th>0</th>\n",
       "      <td>1960</td>\n",
       "      <td>남</td>\n",
       "      <td>3160</td>\n",
       "      <td>12529599</td>\n",
       "    </tr>\n",
       "    <tr>\n",
       "      <th>1</th>\n",
       "      <td>1960</td>\n",
       "      <td>여</td>\n",
       "      <td>3160</td>\n",
       "      <td>12423593</td>\n",
       "    </tr>\n",
       "    <tr>\n",
       "      <th>2</th>\n",
       "      <td>1961</td>\n",
       "      <td>남</td>\n",
       "      <td>3160</td>\n",
       "      <td>12913686</td>\n",
       "    </tr>\n",
       "    <tr>\n",
       "      <th>3</th>\n",
       "      <td>1961</td>\n",
       "      <td>여</td>\n",
       "      <td>3160</td>\n",
       "      <td>12786593</td>\n",
       "    </tr>\n",
       "    <tr>\n",
       "      <th>4</th>\n",
       "      <td>1962</td>\n",
       "      <td>남</td>\n",
       "      <td>3160</td>\n",
       "      <td>13297328</td>\n",
       "    </tr>\n",
       "    <tr>\n",
       "      <th>...</th>\n",
       "      <td>...</td>\n",
       "      <td>...</td>\n",
       "      <td>...</td>\n",
       "      <td>...</td>\n",
       "    </tr>\n",
       "    <tr>\n",
       "      <th>211</th>\n",
       "      <td>2065</td>\n",
       "      <td>여</td>\n",
       "      <td>5050</td>\n",
       "      <td>20347764</td>\n",
       "    </tr>\n",
       "    <tr>\n",
       "      <th>212</th>\n",
       "      <td>2066</td>\n",
       "      <td>남</td>\n",
       "      <td>5050</td>\n",
       "      <td>19699346</td>\n",
       "    </tr>\n",
       "    <tr>\n",
       "      <th>213</th>\n",
       "      <td>2066</td>\n",
       "      <td>여</td>\n",
       "      <td>5050</td>\n",
       "      <td>20093039</td>\n",
       "    </tr>\n",
       "    <tr>\n",
       "      <th>214</th>\n",
       "      <td>2067</td>\n",
       "      <td>남</td>\n",
       "      <td>5050</td>\n",
       "      <td>19453869</td>\n",
       "    </tr>\n",
       "    <tr>\n",
       "      <th>215</th>\n",
       "      <td>2067</td>\n",
       "      <td>여</td>\n",
       "      <td>5050</td>\n",
       "      <td>19839958</td>\n",
       "    </tr>\n",
       "  </tbody>\n",
       "</table>\n",
       "<p>216 rows × 4 columns</p>\n",
       "</div>"
      ],
      "text/plain": [
       "       년도 성별    연령         값\n",
       "0    1960  남  3160  12529599\n",
       "1    1960  여  3160  12423593\n",
       "2    1961  남  3160  12913686\n",
       "3    1961  여  3160  12786593\n",
       "4    1962  남  3160  13297328\n",
       "..    ... ..   ...       ...\n",
       "211  2065  여  5050  20347764\n",
       "212  2066  남  5050  19699346\n",
       "213  2066  여  5050  20093039\n",
       "214  2067  남  5050  19453869\n",
       "215  2067  여  5050  19839958\n",
       "\n",
       "[216 rows x 4 columns]"
      ]
     },
     "execution_count": 51,
     "metadata": {},
     "output_type": "execute_result"
    }
   ],
   "source": [
    "data = pd.DataFrame(resultList).groupby(['년도','성별']).sum()\n",
    "data = data.reset_index()\n",
    "data"
   ]
  },
  {
   "cell_type": "code",
   "execution_count": null,
   "metadata": {},
   "outputs": [],
   "source": []
  }
 ],
 "metadata": {
  "kernelspec": {
   "display_name": "Python 3",
   "language": "python",
   "name": "python3"
  },
  "language_info": {
   "codemirror_mode": {
    "name": "ipython",
    "version": 3
   },
   "file_extension": ".py",
   "mimetype": "text/x-python",
   "name": "python",
   "nbconvert_exporter": "python",
   "pygments_lexer": "ipython3",
   "version": "3.8.5"
  }
 },
 "nbformat": 4,
 "nbformat_minor": 4
}
