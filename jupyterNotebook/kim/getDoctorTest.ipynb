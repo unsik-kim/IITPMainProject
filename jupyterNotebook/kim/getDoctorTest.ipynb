{
 "cells": [
  {
   "cell_type": "code",
   "execution_count": 31,
   "metadata": {},
   "outputs": [],
   "source": [
    "import pandas as pd\n",
    "import numpy as np\n",
    "import matplotlib.pyplot as plt\n",
    "dataOriDf = pd.read_excel('../../data/데이터정리3.xlsx')"
   ]
  },
  {
   "cell_type": "code",
   "execution_count": 36,
   "metadata": {
    "scrolled": true
   },
   "outputs": [
    {
     "data": {
      "text/plain": [
       "array([[ 932.,  155.,    0.,    0.,   94.,   17.],\n",
       "       [ 963.,  154.,    0.,    0.,   70.,   12.],\n",
       "       [ 953.,  156.,    0.,    0.,   95.,   15.],\n",
       "       [1030.,  178.,    0.,    0.,   98.,   16.],\n",
       "       [1026.,  132.,    0.,    0.,  149.,   26.],\n",
       "       [1220.,  111.,    0.,    0.,   59.,    8.],\n",
       "       [1187.,  150.,    0.,    0.,   61.,    6.],\n",
       "       [1032.,  188.,    0.,    0.,  294.,   37.],\n",
       "       [1242.,  181.,    0.,    0.,  139.,   25.],\n",
       "       [1656.,  302.,    0.,    0.,   94.,   14.],\n",
       "       [2241.,  304.,    0.,    0.,   46.,    8.],\n",
       "       [2157.,  391.,    0.,    0.,  133.,   18.],\n",
       "       [2194.,  526.,    0.,    0.,  180.,   33.],\n",
       "       [1983.,  493.,    0.,    0.,  260.,   62.],\n",
       "       [2195.,  535.,    0.,    0.,  187.,   47.],\n",
       "       [2116.,  550.,    0.,    0.,  199.,   48.],\n",
       "       [2400.,  616.,    0.,    0.,   75.,   20.],\n",
       "       [2282.,  522.,    0.,    0.,   81.,   21.],\n",
       "       [1602.,  354.,    0.,    0.,  692.,  158.],\n",
       "       [1321.,  337.,    0.,    0.,  438.,   97.],\n",
       "       [2274.,  544.,    0.,    0.,  335.,   86.],\n",
       "       [1956.,  551.,    0.,    0.,  270.,   65.],\n",
       "       [2006.,  620.,    0.,    0.,  192.,   54.],\n",
       "       [1961.,  596.,    0.,    0.,  164.,   51.],\n",
       "       [1676.,  724.,    0.,    0.,  304.,   92.],\n",
       "       [2205.,  822.,    0.,    0.,  201.,   87.],\n",
       "       [1947.,  769.,    0.,    0.,  323.,  120.],\n",
       "       [2479., 1044.,    0.,    0.,  170.,   67.],\n",
       "       [2128.,  940.,    0.,    0.,  214.,   90.],\n",
       "       [1992., 1200.,    0.,    0.,  206.,   91.],\n",
       "       [1881., 1039.,    0.,    0.,  240.,  145.],\n",
       "       [2440., 1270.,    0.,    0.,  114.,   63.],\n",
       "       [2020., 1112.,   57.,   87.,  155.,   80.],\n",
       "       [1666.,  776.,  244.,  304.,  148.,   85.],\n",
       "       [1610.,  641.,  258.,  322.,  168.,   95.],\n",
       "       [1628.,  580.,  308.,  416.,  182.,   94.],\n",
       "       [1072.,  434.,  564.,  702.,  172.,   89.],\n",
       "       [1078.,  475.,  652.,  778.,  128.,   89.],\n",
       "       [1058.,  439.,  742.,  721.,   96.,   69.],\n",
       "       [1001.,  468.,  744.,  696.,  119.,   77.],\n",
       "       [ 931.,  424.,  850.,  669.,  133.,   89.],\n",
       "       [ 970.,  453.,  902.,  709.,  106.,   65.],\n",
       "       [1200.,  586.,  625.,  518.,  115.,   71.]])"
      ]
     },
     "execution_count": 36,
     "metadata": {},
     "output_type": "execute_result"
    }
   ],
   "source": [
    "pd.set_option('display.max_row', 1200)\n",
    "pd.set_option('display.max_columns', 100)\n",
    "\n",
    "#1977년 합격자부터 2019년 합격자\n",
    "dataDf = dataOriDf[['년도','의대졸합격/남', '의대졸합격/여', '의전졸합격/남', '의전졸합격/여', '불합합격/남', '불합합격/여']]\n",
    "dataDf = dataDf[27:70]\n",
    "\n",
    "npData = np.around(np.array(dataDf)[:,1:7])\n",
    "npData"
   ]
  },
  {
   "cell_type": "markdown",
   "metadata": {},
   "source": [
    "# 시그모이드 변형 모델"
   ]
  },
  {
   "cell_type": "code",
   "execution_count": 33,
   "metadata": {},
   "outputs": [],
   "source": [
    "# 분류모델함수 생성\n",
    "# x - x값, sp - 시작점, xl - x축 조정, yl - y축 조정\n",
    "def sigmoid_function(x, sp, xl, yl):\n",
    "    \n",
    "    result = 1 / ( yl+np.exp((x-(sp+(10/xl/2)))*xl) )\n",
    "    \n",
    "    for i in range(np.size(x)):\n",
    "        if x[i]<sp:\n",
    "           result[i]=0\n",
    "        if x[i]>(sp+(10/xl)):\n",
    "           result[i]=0\n",
    "            \n",
    "    return result\n",
    "\n",
    "# 분류모델 확률질량함수 생성\n",
    "def makeClusterModel(sp, xl, yl):\n",
    "    x = np.arange(1, 101, 1)\n",
    "    y = sigmoid_function(x, sp, xl, yl)\n",
    "    sum = np.sum(y)\n",
    "    z = y/sum\n",
    "    \n",
    "    return z"
   ]
  },
  {
   "cell_type": "markdown",
   "metadata": {},
   "source": [
    "# 사망률 적용"
   ]
  },
  {
   "cell_type": "code",
   "execution_count": 34,
   "metadata": {},
   "outputs": [],
   "source": [
    "def deathRateArray(array):\n",
    "    deathWoman = pd.read_excel('../../data/사망확률여자.xlsx')[7:,:101].iloc.set_index(['연도'])\n",
    "    deathMan = pd.read_excel('../../data/사망확률남자.xlsx')[7:,:101].iloc.set_index(['연도'])\n",
    "    deathRate = np.array([deathWoman, deathMan])\n",
    "    resultData = np.around(deathRate*array)\n",
    "    \n",
    "    return resultData"
   ]
  },
  {
   "cell_type": "markdown",
   "metadata": {},
   "source": [
    "# 시그모이드 "
   ]
  },
  {
   "cell_type": "code",
   "execution_count": 35,
   "metadata": {},
   "outputs": [],
   "source": [
    "def makeArrayUseModel(tuningList):\n",
    "    model1 = makeClusterModel(26,tuningList[0][0],tuningList[1][0]) # 의대 남\n",
    "    model2 = makeClusterModel(26,tuningList[0][1],tuningList[1][1]) # 의대 여\n",
    "    model3 = makeClusterModel(28,tuningList[0][2],tuningList[1][2]) # 의전원 남\n",
    "    model4 = makeClusterModel(28,tuningList[0][3],tuningList[1][3]) # 의전원 여\n",
    "    model5 = makeClusterModel(27,tuningList[0][4],tuningList[1][4]) # 재시험 남\n",
    "    model6 = makeClusterModel(27,tuningList[0][5],tuningList[1][5]) # 재시험 여\n",
    "    result = [model1, model2, model3, model4, model5, model6]\n",
    "    \n",
    "    return np.array(result)"
   ]
  },
  {
   "cell_type": "markdown",
   "metadata": {},
   "source": [
    "# 신규인원 생성"
   ]
  },
  {
   "cell_type": "code",
   "execution_count": 52,
   "metadata": {},
   "outputs": [],
   "source": [
    "def makeNewPerson(npData, tuningList,):\n",
    "    oldSize = 100\n",
    "    yearSize = len(npData)\n",
    "    modelSize = 6\n",
    "    \n",
    "    #모델 적용 배열\n",
    "    applyModelArray = np.zeros((yearSize,modelSize,oldSize))\n",
    "\n",
    "    #신규인원 배열\n",
    "    newPersonArray = np.zeros((yearSize,2,oldSize))\n",
    "\n",
    "    \n",
    "    modelAry = makeArrayUseModel(xlList, ylList)\n",
    "    for i in range(yearSize):\n",
    "        for j in range(modelSize):\n",
    "            applyModelArray[i][j] = np.around(modelAry[j]*np.around(npData[i][j]))\n",
    "\n",
    "            if j%2==0:\n",
    "                newPersonArray[i][0] += applyModelArray[i][j]\n",
    "            else:\n",
    "                newPersonArray[i][1] += applyModelArray[i][j]\n",
    "    return newPersonArray"
   ]
  },
  {
   "cell_type": "markdown",
   "metadata": {},
   "source": [
    "# 최종인원 도출"
   ]
  },
  {
   "cell_type": "code",
   "execution_count": null,
   "metadata": {},
   "outputs": [],
   "source": [
    "def shiftOld(personArray):\n",
    "    dataArray = np.zeros((2,len(personArray[0])))\n",
    "    dataArray[0] = np.roll(personArray[0], 1)  \n",
    "    dataArray[1] = np.roll(personArray[1], 1)\n",
    "    dataArray[0][0] = 0\n",
    "    dataArray[1][0] = 0\n",
    "    return dataArray\n",
    "\n",
    "def makeResultPersonArray(newPersonArray, deathRateArray, retireeRateArray):\n",
    "    #누적인원 배열\n",
    "    \n",
    "    resultPersonArray = np.zeros((yearSize,2,oldSize))\n",
    "\n",
    "    for i in range(yearSize):\n",
    "        if i>0:\n",
    "            resultPersonArray[i] = shiftOld(resultPersonArray[i-1]) + newPersonArray[i]\n",
    "        else:\n",
    "            resultPersonArray[i] =  newPersonArray[i]\n",
    "    return resultPersonArray"
   ]
  },
  {
   "cell_type": "code",
   "execution_count": null,
   "metadata": {},
   "outputs": [],
   "source": [
    "tuningList = [[0.5, 0.5, 0.5, 0.5, 0.5, 0.5],[0.005, 0.005, 0.005, 0.005, 0.005, 0.005]]\n",
    "modelSize = len(makeArrayUseModel(tuningList))\n",
    "\n",
    "makeNewPerson\n",
    "\n",
    "makeNewPerson()\n",
    "\n",
    "\n"
   ]
  }
 ],
 "metadata": {
  "kernelspec": {
   "display_name": "Python 3",
   "language": "python",
   "name": "python3"
  },
  "language_info": {
   "codemirror_mode": {
    "name": "ipython",
    "version": 3
   },
   "file_extension": ".py",
   "mimetype": "text/x-python",
   "name": "python",
   "nbconvert_exporter": "python",
   "pygments_lexer": "ipython3",
   "version": "3.7.7"
  }
 },
 "nbformat": 4,
 "nbformat_minor": 4
}
