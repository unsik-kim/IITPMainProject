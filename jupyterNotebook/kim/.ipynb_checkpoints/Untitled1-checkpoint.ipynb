{
 "cells": [
  {
   "cell_type": "code",
   "execution_count": 2,
   "metadata": {},
   "outputs": [],
   "source": [
    "import pandas as pd\n",
    "import numpy as np\n",
    "\n",
    "pd.set_option('display.max_row', 1200)\n",
    "pd.set_option('display.max_columns', 100)"
   ]
  },
  {
   "cell_type": "code",
   "execution_count": 100,
   "metadata": {},
   "outputs": [],
   "source": [
    "# 1950~2067년\n",
    "examResult = (pd.read_excel('output.xlsx'))"
   ]
  },
  {
   "cell_type": "code",
   "execution_count": 101,
   "metadata": {},
   "outputs": [],
   "source": [
    "examResult1 = examResult[examResult['연도']==2020]"
   ]
  },
  {
   "cell_type": "code",
   "execution_count": 106,
   "metadata": {},
   "outputs": [],
   "source": [
    "examResult2 = examResult1[examResult1['직종']!='의사']"
   ]
  },
  {
   "cell_type": "code",
   "execution_count": 107,
   "metadata": {},
   "outputs": [],
   "source": [
    "examResult3 = examResult2[examResult2['성별']=='남']"
   ]
  },
  {
   "cell_type": "code",
   "execution_count": 108,
   "metadata": {},
   "outputs": [],
   "source": [
    "examResult4 = examResult3[['연령대','값']].groupby(['연령대']).mean()"
   ]
  },
  {
   "cell_type": "code",
   "execution_count": 112,
   "metadata": {},
   "outputs": [
    {
     "data": {
      "text/plain": [
       "array([1.1985e+03, 6.7000e+02, 1.3500e+01, 1.0000e+00])"
      ]
     },
     "execution_count": 112,
     "metadata": {},
     "output_type": "execute_result"
    }
   ],
   "source": [
    "np.array(examResult4).T[0]"
   ]
  },
  {
   "cell_type": "code",
   "execution_count": 117,
   "metadata": {},
   "outputs": [
    {
     "data": {
      "text/plain": [
       "[[array([1723,  274,    7]),\n",
       "  array([2060,  349,   10,    2]),\n",
       "  array([1908,  306,    5]),\n",
       "  array([2200,  497,   19]),\n",
       "  array([1955,  336,    7]),\n",
       "  array([1803,  382,    4]),\n",
       "  array([1758,  347,    6,    1]),\n",
       "  array([2076,  483,   22,    5]),\n",
       "  array([1848,  352,   14]),\n",
       "  array([1.574e+03, 5.420e+02, 2.800e+01, 1.000e+00]),\n",
       "  array([1525.,  501.,   28.,    2.]),\n",
       "  array([1.624e+03, 5.140e+02, 1.800e+01, 1.000e+00]),\n",
       "  array([1164.,  646.,   13.,    2.]),\n",
       "  array([1.206e+03, 6.780e+02, 1.600e+01, 1.000e+00]),\n",
       "  array([1.219e+03, 6.960e+02, 2.200e+01, 1.000e+00]),\n",
       "  array([1.246e+03, 6.550e+02, 1.200e+01, 1.000e+00]),\n",
       "  array([1.278e+03, 6.640e+02, 2.100e+01, 1.000e+00]),\n",
       "  array([1.342e+03, 6.550e+02, 1.600e+01, 2.000e+00, 1.000e+00]),\n",
       "  array([1.378e+03, 5.820e+02, 1.200e+01, 1.000e+00, 1.000e+00]),\n",
       "  array([1.198e+03, 6.700e+02, 1.400e+01, 1.000e+00]),\n",
       "  array([744,  46,   2]),\n",
       "  array([816,  76,   1]),\n",
       "  array([847,  92,   1]),\n",
       "  array([932, 108,   3]),\n",
       "  array([973, 100,   1]),\n",
       "  array([1144,  154,    1]),\n",
       "  array([1068,  123,    2]),\n",
       "  array([1129,  166,    6]),\n",
       "  array([1104,  189,    3]),\n",
       "  array([838., 330.,   6.,   1.]),\n",
       "  array([778., 268.,  10.,   1.]),\n",
       "  array([718., 330.,   2.,   2.]),\n",
       "  array([716., 496.,  14.,   2.]),\n",
       "  array([744., 542.,  12.]),\n",
       "  array([740., 444.,  10.,   2.]),\n",
       "  array([773, 442,   4,   1]),\n",
       "  array([760., 396.,   1.]),\n",
       "  array([768., 398.,   7.,   1.]),\n",
       "  array([777., 375.,   6.,   1.]),\n",
       "  array([708., 438.,   7.,   1.])],\n",
       " []]"
      ]
     },
     "execution_count": 117,
     "metadata": {},
     "output_type": "execute_result"
    }
   ],
   "source": [
    "resultList = [[],[]]\n",
    "for i in range(2001,2021):\n",
    "    examResult1 = examResult[examResult['연도']==i]\n",
    "    examResult2 = examResult1[examResult1['성별']=='남']\n",
    "    examResult3 = examResult2[['연령대','값']].groupby(['연령대']).mean()\n",
    "    resultList[0].append(np.around(np.array(examResult3).T[0]))\n",
    "for i in range(2001,2021):\n",
    "    examResult1 = examResult[examResult['연도']==i]\n",
    "    examResult2 = examResult1[examResult1['성별']=='여']\n",
    "    examResult3 = examResult2[['연령대','값']].groupby(['연령대']).mean()\n",
    "    resultList[0].append(np.around(np.array(examResult3).T[0]))\n",
    "resultList"
   ]
  }
 ],
 "metadata": {
  "kernelspec": {
   "display_name": "Python 3",
   "language": "python",
   "name": "python3"
  },
  "language_info": {
   "codemirror_mode": {
    "name": "ipython",
    "version": 3
   },
   "file_extension": ".py",
   "mimetype": "text/x-python",
   "name": "python",
   "nbconvert_exporter": "python",
   "pygments_lexer": "ipython3",
   "version": "3.6.9"
  }
 },
 "nbformat": 4,
 "nbformat_minor": 4
}
