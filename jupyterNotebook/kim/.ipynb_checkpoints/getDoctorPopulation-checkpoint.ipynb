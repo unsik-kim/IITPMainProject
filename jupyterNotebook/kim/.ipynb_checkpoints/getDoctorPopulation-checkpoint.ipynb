{
 "cells": [
  {
   "cell_type": "code",
   "execution_count": 31,
   "metadata": {},
   "outputs": [],
   "source": [
    "import pandas as pd\n",
    "import numpy as np\n",
    "import matplotlib.pyplot as plt\n",
    "dataOriDf = pd.read_excel('../../data/데이터정리3.xlsx')"
   ]
  },
  {
   "cell_type": "code",
   "execution_count": 32,
   "metadata": {},
   "outputs": [],
   "source": [
    "pd.set_option('display.max_row', 1200)\n",
    "pd.set_option('display.max_columns', 100)\n",
    "\n",
    "#1977년 합격자부터 2019년 합격자\n",
    "dataDf = dataOriDf[['년도','의대졸합격/남', '의대졸합격/여', '의전졸합격/남', '의전졸합격/여', '불합합격/남', '불합합격/여']]\n",
    "dataDf = dataDf[27:70]\n",
    "\n",
    "npData = np.around(np.array(dataDf)[:,1:7])\n",
    "\n",
    "# 분류모델함수 생성\n",
    "# x - x값, sp - 시작점, xl - x축 조정, yl - y축 조정\n",
    "def sigmoid_function(x, sp, xl, yl):\n",
    "    \n",
    "    result = 1 / ( yl+np.exp((x-(sp+(10/xl/2)))*xl) )\n",
    "    \n",
    "    for i in range(np.size(x)):\n",
    "        if x[i]<sp:\n",
    "           result[i]=0\n",
    "        if x[i]>(sp+(10/xl)):\n",
    "           result[i]=0\n",
    "            \n",
    "    return result\n",
    "\n",
    "# 분류모델 확률질량함수 생성\n",
    "\n",
    "def makeClusterModel(sp, xl, yl):\n",
    "    x = np.arange(1, 101, 1)\n",
    "    y = sigmoid_function(x, sp, xl, yl)\n",
    "    sum = np.sum(y)\n",
    "    z = y/sum\n",
    "    \n",
    "    return z\n",
    "\n",
    "tuningList = [[0.5, 0.5, 0.5, 0.5, 0.5, 0.5],[0.005, 0.005, 0.005, 0.005, 0.005, 0.005]]\n",
    "\n",
    "def makeArrayUseModel(tuningList):\n",
    "    model1 = makeClusterModel(26,tuningList[0][0],tuningList[1][0]) # 의대 남\n",
    "    model2 = makeClusterModel(26,tuningList[0][1],tuningList[1][1]) # 의대 여\n",
    "    model3 = makeClusterModel(28,tuningList[0][2],tuningList[1][2]) # 의전원 남\n",
    "    model4 = makeClusterModel(28,tuningList[0][3],tuningList[1][3]) # 의전원 여\n",
    "    model5 = makeClusterModel(27,tuningList[0][4],tuningList[1][4]) # 재시험 남\n",
    "    model6 = makeClusterModel(27,tuningList[0][5],tuningList[1][5]) # 재시험 여\n",
    "    result = [model1, model2, model3, model4, model5, model6]\n",
    "    \n",
    "    return np.array(result)\n",
    "\n",
    "def shiftOld(personArray):\n",
    "    dataArray = np.zeros((2,len(personArray[0])))\n",
    "    dataArray[0] = np.roll(personArray[0], 1)  \n",
    "    dataArray[1] = np.roll(personArray[1], 1)\n",
    "    dataArray[0][0] = 0\n",
    "    dataArray[1][0] = 0\n",
    "    return dataArray\n"
   ]
  },
  {
   "cell_type": "code",
   "execution_count": 33,
   "metadata": {},
   "outputs": [],
   "source": [
    "yearSize = len(npData)\n",
    "modelSize = len(makeArrayUseModel(tuningList))\n",
    "\n",
    "def makeNewPerson(yearSize, modelSize):\n",
    "    oldSize = 100\n",
    "    \n",
    "    #모델 적용 배열\n",
    "    applyModelArray = np.zeros((yearSize,modelSize,oldSize))\n",
    "\n",
    "    #신규인원 배열\n",
    "    newPersonArray = np.zeros((yearSize,2,oldSize))\n",
    "\n",
    "    \n",
    "    modelAry = makeArrayUseModel(xlList, ylList)\n",
    "    for i in range(yearSize):\n",
    "        for j in range(modelSize):\n",
    "            applyModelArray[i][j] = np.around(modelAry[j]*np.around(npData[i][j]))\n",
    "\n",
    "            if j%2==0:\n",
    "                newPersonArray[i][0] += applyModelArray[i][j]\n",
    "            else:\n",
    "                newPersonArray[i][1] += applyModelArray[i][j]\n",
    "    return newPersonArray\n",
    "\n",
    "\n",
    "\n",
    "def makeResultPersonArray(newPersonArray, deathRateArray, retireeRateArray):\n",
    "    #누적인원 배열\n",
    "    \n",
    "    resultPersonArray = np.zeros((yearSize,2,oldSize))\n",
    "\n",
    "    for i in range(yearSize):\n",
    "        if i>0:\n",
    "            resultPersonArray[i] = shiftOld(resultPersonArray[i-1]) + newPersonArray[i]\n",
    "        else:\n",
    "            resultPersonArray[i] =  newPersonArray[i]"
   ]
  },
  {
   "cell_type": "code",
   "execution_count": 12,
   "metadata": {},
   "outputs": [
    {
     "ename": "NameError",
     "evalue": "name 'personArray' is not defined",
     "output_type": "error",
     "traceback": [
      "\u001b[0;31m---------------------------------------------------------------------------\u001b[0m",
      "\u001b[0;31mNameError\u001b[0m                                 Traceback (most recent call last)",
      "\u001b[0;32m<ipython-input-12-68527d40ca84>\u001b[0m in \u001b[0;36m<module>\u001b[0;34m\u001b[0m\n\u001b[0;32m----> 1\u001b[0;31m \u001b[0mpersonArray\u001b[0m\u001b[0;34m[\u001b[0m\u001b[0;36m2\u001b[0m\u001b[0;34m]\u001b[0m\u001b[0;34m\u001b[0m\u001b[0;34m\u001b[0m\u001b[0m\n\u001b[0m",
      "\u001b[0;31mNameError\u001b[0m: name 'personArray' is not defined"
     ]
    }
   ],
   "source": [
    "personArray[2]"
   ]
  },
  {
   "cell_type": "code",
   "execution_count": 28,
   "metadata": {},
   "outputs": [],
   "source": [
    "#사망자수\n",
    "import pandas as pd\n",
    "import numpy as np\n",
    "import matplotlib.pyplot as plt\n",
    "\n",
    "\n",
    "grad_Woman = pd.read_excel('../../data/N년도여자인원수.xlsx')\n",
    "def deathRAteArray(array):\n",
    "    death_Woman = pd.read_excel('../../data/사망확률여자.xlsx')\n",
    "    death_Woman = death_Woman[7::]\n",
    "    death_Woman = death_Woman.set_index(['연도'])\n",
    "    data_Woman_death = death_Woman*array\n",
    "    return data_Woman_death\n",
    "\n",
    "data_Woman_death = death_Woman(grad_Woman)\n",
    "data_Woman_death = data_Woman_death.iloc[:,25:80]\n",
    "data_Woman_death = data_Woman_death.round()\n"
   ]
  }
 ],
 "metadata": {
  "kernelspec": {
   "display_name": "Python 3",
   "language": "python",
   "name": "python3"
  },
  "language_info": {
   "codemirror_mode": {
    "name": "ipython",
    "version": 3
   },
   "file_extension": ".py",
   "mimetype": "text/x-python",
   "name": "python",
   "nbconvert_exporter": "python",
   "pygments_lexer": "ipython3",
   "version": "3.6.9"
  }
 },
 "nbformat": 4,
 "nbformat_minor": 4
}
