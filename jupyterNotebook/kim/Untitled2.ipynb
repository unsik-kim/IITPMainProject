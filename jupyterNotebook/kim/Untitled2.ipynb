{
 "cells": [
  {
   "cell_type": "code",
   "execution_count": 36,
   "metadata": {},
   "outputs": [
    {
     "name": "stdout",
     "output_type": "stream",
     "text": [
      "N:7\n",
      "2 5\n",
      "6\n",
      "1 5 7\n",
      "3 6 1 2 5\n",
      "4 1 7\n",
      "1 4\n",
      "5 6 1 4\n"
     ]
    },
    {
     "data": {
      "text/plain": [
       "12"
      ]
     },
     "execution_count": 36,
     "metadata": {},
     "output_type": "execute_result"
    }
   ],
   "source": [
    "import numpy as np\n",
    "N = int(input('N:'))\n",
    "count1 = 0\n",
    "li = []\n",
    "for i in range(N):\n",
    "    li.append(input().split())\n",
    "    \n",
    "for i in  range(len(li)):\n",
    "    leni = len(li[i])\n",
    "    if leni >0:\n",
    "        for j in li[i]:\n",
    "            if li[int(j)-1].count(str(i+1))==0:\n",
    "                count1 += 1\n",
    "                \n",
    "            \n",
    "count1"
   ]
  },
  {
   "cell_type": "code",
   "execution_count": 26,
   "metadata": {},
   "outputs": [
    {
     "data": {
      "text/plain": [
       "1"
      ]
     },
     "execution_count": 26,
     "metadata": {},
     "output_type": "execute_result"
    }
   ],
   "source": [
    "li = [['1', '2'], ['3', '4'], ['5', '6'], ['7', '8'], ['9', '0']]\n",
    "li[0].count(str(1))"
   ]
  }
 ],
 "metadata": {
  "kernelspec": {
   "display_name": "Python 3",
   "language": "python",
   "name": "python3"
  },
  "language_info": {
   "codemirror_mode": {
    "name": "ipython",
    "version": 3
   },
   "file_extension": ".py",
   "mimetype": "text/x-python",
   "name": "python",
   "nbconvert_exporter": "python",
   "pygments_lexer": "ipython3",
   "version": "3.6.9"
  }
 },
 "nbformat": 4,
 "nbformat_minor": 4
}
