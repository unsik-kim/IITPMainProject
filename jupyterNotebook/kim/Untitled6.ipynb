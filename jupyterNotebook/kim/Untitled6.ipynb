{
 "cells": [
  {
   "cell_type": "code",
   "execution_count": 33,
   "metadata": {},
   "outputs": [
    {
     "name": "stdout",
     "output_type": "stream",
     "text": [
      "학생의 이름 입력: 개나리\n",
      "학생의 중간고사 점수 입력: 78.3\n",
      "학생의 기말고사 점수 입력: 81.7\n",
      "성적 구분 입력 (GD(Grade) 또는 PF(Pass/Fail): gd\n",
      "학생의 점수를 계속 입력하겠습니까 (Y/N)? y\n",
      "학생의 이름 입력: 병아리\n",
      "학생의 중간고사 점수 입력: 64.5\n",
      "학생의 기말고사 점수 입력: 92.2\n",
      "성적 구분 입력 (GD(Grade) 또는 PF(Pass/Fail): pf\n",
      "학생의 점수를 계속 입력하겠습니까 (Y/N)? n\n",
      "-----------------\n",
      "NAME\tGRADE\n",
      "-----------------\n"
     ]
    },
    {
     "ename": "TypeError",
     "evalue": "'<' not supported between instances of 'PFSubject' and 'GradeSubject'",
     "output_type": "error",
     "traceback": [
      "\u001b[0;31m---------------------------------------------------------------------------\u001b[0m",
      "\u001b[0;31mTypeError\u001b[0m                                 Traceback (most recent call last)",
      "\u001b[0;32m<ipython-input-33-f701ab99a78a>\u001b[0m in \u001b[0;36m<module>\u001b[0;34m\u001b[0m\n\u001b[1;32m     78\u001b[0m \u001b[0;34m\u001b[0m\u001b[0m\n\u001b[1;32m     79\u001b[0m \u001b[0;34m\u001b[0m\u001b[0m\n\u001b[0;32m---> 80\u001b[0;31m \u001b[0mmain\u001b[0m\u001b[0;34m(\u001b[0m\u001b[0;34m)\u001b[0m\u001b[0;34m\u001b[0m\u001b[0;34m\u001b[0m\u001b[0m\n\u001b[0m\u001b[1;32m     81\u001b[0m \u001b[0;34m\u001b[0m\u001b[0m\n",
      "\u001b[0;32m<ipython-input-33-f701ab99a78a>\u001b[0m in \u001b[0;36mmain\u001b[0;34m()\u001b[0m\n\u001b[1;32m     75\u001b[0m \u001b[0;32mdef\u001b[0m \u001b[0mmain\u001b[0m\u001b[0;34m(\u001b[0m\u001b[0;34m)\u001b[0m\u001b[0;34m:\u001b[0m\u001b[0;34m\u001b[0m\u001b[0;34m\u001b[0m\u001b[0m\n\u001b[1;32m     76\u001b[0m     \u001b[0mstudents\u001b[0m \u001b[0;34m=\u001b[0m \u001b[0mlistStudents\u001b[0m\u001b[0;34m(\u001b[0m\u001b[0;34m)\u001b[0m\u001b[0;34m\u001b[0m\u001b[0;34m\u001b[0m\u001b[0m\n\u001b[0;32m---> 77\u001b[0;31m     \u001b[0mdispResult\u001b[0m\u001b[0;34m(\u001b[0m\u001b[0mstudents\u001b[0m\u001b[0;34m)\u001b[0m\u001b[0;34m\u001b[0m\u001b[0;34m\u001b[0m\u001b[0m\n\u001b[0m\u001b[1;32m     78\u001b[0m \u001b[0;34m\u001b[0m\u001b[0m\n\u001b[1;32m     79\u001b[0m \u001b[0;34m\u001b[0m\u001b[0m\n",
      "\u001b[0;32m<ipython-input-33-f701ab99a78a>\u001b[0m in \u001b[0;36mdispResult\u001b[0;34m(students)\u001b[0m\n\u001b[1;32m     68\u001b[0m     \u001b[0mprint\u001b[0m\u001b[0;34m(\u001b[0m\u001b[0;34m\"NAME\\tGRADE\"\u001b[0m\u001b[0;34m)\u001b[0m\u001b[0;34m\u001b[0m\u001b[0;34m\u001b[0m\u001b[0m\n\u001b[1;32m     69\u001b[0m     \u001b[0mprint\u001b[0m\u001b[0;34m(\u001b[0m\u001b[0;34m\"-----------------\"\u001b[0m\u001b[0;34m)\u001b[0m\u001b[0;34m\u001b[0m\u001b[0;34m\u001b[0m\u001b[0m\n\u001b[0;32m---> 70\u001b[0;31m     \u001b[0mstudents\u001b[0m\u001b[0;34m.\u001b[0m\u001b[0msort\u001b[0m\u001b[0;34m(\u001b[0m\u001b[0;34m)\u001b[0m  \u001b[0;31m# sort() - 키 값으로 정렬\u001b[0m\u001b[0;34m\u001b[0m\u001b[0;34m\u001b[0m\u001b[0m\n\u001b[0m\u001b[1;32m     71\u001b[0m     \u001b[0;32mfor\u001b[0m \u001b[0mitem\u001b[0m \u001b[0;32min\u001b[0m \u001b[0mstudents\u001b[0m\u001b[0;34m:\u001b[0m\u001b[0;34m\u001b[0m\u001b[0;34m\u001b[0m\u001b[0m\n\u001b[1;32m     72\u001b[0m         \u001b[0mprint\u001b[0m\u001b[0;34m(\u001b[0m\u001b[0mitem\u001b[0m\u001b[0;34m)\u001b[0m\u001b[0;34m\u001b[0m\u001b[0;34m\u001b[0m\u001b[0m\n",
      "\u001b[0;31mTypeError\u001b[0m: '<' not supported between instances of 'PFSubject' and 'GradeSubject'"
     ]
    }
   ],
   "source": [
    "class Student:\n",
    "    def __init__(self, name=\"\", midterm=0, final=0):\n",
    "        self._name = name\n",
    "        self._midterm = midterm\n",
    "        self._final = final\n",
    "\n",
    "    def setName(self, name):\n",
    "        self._name = name\n",
    "\n",
    "    def setMidterm(self, midterm):\n",
    "        self._midterm = midterm\n",
    "\n",
    "    def setFinal(self, final):\n",
    "        self._final = final\n",
    "\n",
    "    def getName(self):\n",
    "        return self._name\n",
    "\n",
    "    def __str__(self):\n",
    "        return self._name + \"\\t\" + self.calcGrade()\n",
    "\n",
    "\n",
    "class GradeSubject(Student):\n",
    "    def calcGrade(self):\n",
    "        average = round((self._midterm + self._final) / 2)  # round()함수-반올림\n",
    "        if average >= 90:\n",
    "            return 'A'\n",
    "        elif average >= 80:\n",
    "            return 'B'\n",
    "        elif average >= 70:\n",
    "            return 'C'\n",
    "        elif average >= 60:\n",
    "            return 'D'\n",
    "        else:\n",
    "            return 'F'\n",
    "\n",
    "\n",
    "class PFSubject(Student):\n",
    "    def calcGrade(self):\n",
    "        average = round((self._midterm + self._final) / 2)  # round()함수-반올림\n",
    "        if average >= 60:\n",
    "            return \"Pass\"\n",
    "        else:\n",
    "            return \"Fail\"\n",
    "\n",
    "def listStudents():\n",
    "    students = []\n",
    "    flag = 'Y'\n",
    "\n",
    "    while flag == 'Y':\n",
    "        name = input(\"학생의 이름 입력: \")\n",
    "        midterm = float(input(\"학생의 중간고사 점수 입력: \"))\n",
    "        final = float(input(\"학생의 기말고사 점수 입력: \"))\n",
    "        select = input(\"성적 구분 입력 (GD(Grade) 또는 PF(Pass/Fail): \")\n",
    "        if select.upper() == \"GD\":\n",
    "            result = GradeSubject(name, midterm, final)\n",
    "        else:\n",
    "            result = PFSubject(name, midterm, final)\n",
    "\n",
    "        students.append(result)\n",
    "        flag = input(\"학생의 점수를 계속 입력하겠습니까 (Y/N)? \")\n",
    "        flag = flag.upper()\n",
    "    return students\n",
    "\n",
    "\n",
    "def dispResult(students):\n",
    "    print(\"-----------------\")\n",
    "    print(\"NAME\\tGRADE\")\n",
    "    print(\"-----------------\")\n",
    "    students.sort(key=lambda name: name)  # sort() - 키 값으로 정렬\n",
    "    for item in students:\n",
    "        print(item)\n",
    "\n",
    "\n",
    "def main():\n",
    "    students = listStudents()\n",
    "    dispResult(students)\n",
    "\n",
    "\n",
    "main()\n",
    "        "
   ]
  },
  {
   "cell_type": "code",
   "execution_count": 15,
   "metadata": {},
   "outputs": [
    {
     "data": {
      "text/plain": [
       "True"
      ]
     },
     "execution_count": 15,
     "metadata": {},
     "output_type": "execute_result"
    }
   ],
   "source": [
    "select.() == 'GD'"
   ]
  }
 ],
 "metadata": {
  "kernelspec": {
   "display_name": "Python 3",
   "language": "python",
   "name": "python3"
  },
  "language_info": {
   "codemirror_mode": {
    "name": "ipython",
    "version": 3
   },
   "file_extension": ".py",
   "mimetype": "text/x-python",
   "name": "python",
   "nbconvert_exporter": "python",
   "pygments_lexer": "ipython3",
   "version": "3.6.9"
  }
 },
 "nbformat": 4,
 "nbformat_minor": 4
}
