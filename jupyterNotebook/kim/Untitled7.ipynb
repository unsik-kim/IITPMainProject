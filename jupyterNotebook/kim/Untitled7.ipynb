{
 "cells": [
  {
   "cell_type": "code",
   "execution_count": 9,
   "metadata": {},
   "outputs": [],
   "source": [
    "import pandas as pd\n",
    "import matplotlib.pyplot as plt\n",
    "data_df = pd.read_excel('../../data/정리데이터.xlsx')"
   ]
  },
  {
   "cell_type": "code",
   "execution_count": 12,
   "metadata": {},
   "outputs": [
    {
     "data": {
      "text/html": [
       "<div>\n",
       "<style scoped>\n",
       "    .dataframe tbody tr th:only-of-type {\n",
       "        vertical-align: middle;\n",
       "    }\n",
       "\n",
       "    .dataframe tbody tr th {\n",
       "        vertical-align: top;\n",
       "    }\n",
       "\n",
       "    .dataframe thead th {\n",
       "        text-align: right;\n",
       "    }\n",
       "</style>\n",
       "<table border=\"1\" class=\"dataframe\">\n",
       "  <thead>\n",
       "    <tr style=\"text-align: right;\">\n",
       "      <th></th>\n",
       "      <th>년도</th>\n",
       "      <th>비고</th>\n",
       "      <th>회차</th>\n",
       "      <th>횟수</th>\n",
       "      <th>의사고시\\n접수인원</th>\n",
       "      <th>의사고시\\n결시인원</th>\n",
       "      <th>의사고시\\n응시자수</th>\n",
       "      <th>의사고시 합격자수</th>\n",
       "      <th>의사고시\\n합격률</th>\n",
       "      <th>의사고시\\n응시자\\n불합격자수</th>\n",
       "      <th>...</th>\n",
       "      <th>예과/4학년/계</th>\n",
       "      <th>예과/4학년/여</th>\n",
       "      <th>1학년/계</th>\n",
       "      <th>1학년/여</th>\n",
       "      <th>2학년/계</th>\n",
       "      <th>2학년/여</th>\n",
       "      <th>3학년/계</th>\n",
       "      <th>3학년/여</th>\n",
       "      <th>4학년/계</th>\n",
       "      <th>4학년/여</th>\n",
       "    </tr>\n",
       "  </thead>\n",
       "  <tbody>\n",
       "    <tr>\n",
       "      <th>60</th>\n",
       "      <td>2010</td>\n",
       "      <td>NaN</td>\n",
       "      <td>74.0</td>\n",
       "      <td>1.0</td>\n",
       "      <td>3481.0</td>\n",
       "      <td>12.0</td>\n",
       "      <td>3469.0</td>\n",
       "      <td>3224.0</td>\n",
       "      <td>92.937446</td>\n",
       "      <td>245.0</td>\n",
       "      <td>...</td>\n",
       "      <td>NaN</td>\n",
       "      <td>NaN</td>\n",
       "      <td>3736.0</td>\n",
       "      <td>1055.0</td>\n",
       "      <td>3368.0</td>\n",
       "      <td>875.0</td>\n",
       "      <td>2518.0</td>\n",
       "      <td>628.0</td>\n",
       "      <td>2610.0</td>\n",
       "      <td>721.0</td>\n",
       "    </tr>\n",
       "  </tbody>\n",
       "</table>\n",
       "<p>1 rows × 91 columns</p>\n",
       "</div>"
      ],
      "text/plain": [
       "      년도   비고    회차   횟수  의사고시\\n접수인원  의사고시\\n결시인원  의사고시\\n응시자수  의사고시 합격자수  \\\n",
       "60  2010  NaN  74.0  1.0      3481.0        12.0      3469.0     3224.0   \n",
       "\n",
       "    의사고시\\n합격률  의사고시\\n응시자\\n불합격자수  ...  예과/4학년/계  예과/4학년/여   1학년/계   1학년/여  \\\n",
       "60  92.937446             245.0  ...       NaN       NaN  3736.0  1055.0   \n",
       "\n",
       "     2학년/계  2학년/여   3학년/계  3학년/여   4학년/계  4학년/여  \n",
       "60  3368.0  875.0  2518.0  628.0  2610.0  721.0  \n",
       "\n",
       "[1 rows x 91 columns]"
      ]
     },
     "execution_count": 12,
     "metadata": {},
     "output_type": "execute_result"
    }
   ],
   "source": [
    "data_df[data_df['년도']==2010]"
   ]
  },
  {
   "cell_type": "code",
   "execution_count": null,
   "metadata": {},
   "outputs": [],
   "source": []
  }
 ],
 "metadata": {
  "kernelspec": {
   "display_name": "Python 3",
   "language": "python",
   "name": "python3"
  },
  "language_info": {
   "codemirror_mode": {
    "name": "ipython",
    "version": 3
   },
   "file_extension": ".py",
   "mimetype": "text/x-python",
   "name": "python",
   "nbconvert_exporter": "python",
   "pygments_lexer": "ipython3",
   "version": "3.8.5"
  }
 },
 "nbformat": 4,
 "nbformat_minor": 4
}
