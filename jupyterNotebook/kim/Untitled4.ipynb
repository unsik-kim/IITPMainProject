{
 "cells": [
  {
   "cell_type": "code",
   "execution_count": 15,
   "metadata": {},
   "outputs": [
    {
     "ename": "ModuleNotFoundError",
     "evalue": "No module named 'msvcrt'",
     "output_type": "error",
     "traceback": [
      "\u001b[0;31m---------------------------------------------------------------------------\u001b[0m",
      "\u001b[0;31mModuleNotFoundError\u001b[0m                       Traceback (most recent call last)",
      "\u001b[0;32m<ipython-input-15-d3f1c81a3fb5>\u001b[0m in \u001b[0;36m<module>\u001b[0;34m\u001b[0m\n\u001b[1;32m      1\u001b[0m \u001b[0;32mimport\u001b[0m \u001b[0mgym\u001b[0m\u001b[0;34m\u001b[0m\u001b[0;34m\u001b[0m\u001b[0m\n\u001b[1;32m      2\u001b[0m \u001b[0;32mimport\u001b[0m \u001b[0mcolorama\u001b[0m \u001b[0;32mas\u001b[0m \u001b[0mcr\u001b[0m\u001b[0;34m\u001b[0m\u001b[0;34m\u001b[0m\u001b[0m\n\u001b[0;32m----> 3\u001b[0;31m \u001b[0;32mimport\u001b[0m \u001b[0mmsvcrt\u001b[0m \u001b[0;32mas\u001b[0m \u001b[0mvc\u001b[0m\u001b[0;34m\u001b[0m\u001b[0;34m\u001b[0m\u001b[0m\n\u001b[0m\u001b[1;32m      4\u001b[0m \u001b[0;34m\u001b[0m\u001b[0m\n\u001b[1;32m      5\u001b[0m \u001b[0mcr\u001b[0m\u001b[0;34m.\u001b[0m\u001b[0minit\u001b[0m\u001b[0;34m(\u001b[0m\u001b[0mautoreset\u001b[0m\u001b[0;34m=\u001b[0m\u001b[0;32mTrue\u001b[0m\u001b[0;34m)\u001b[0m\u001b[0;34m\u001b[0m\u001b[0;34m\u001b[0m\u001b[0m\n",
      "\u001b[0;31mModuleNotFoundError\u001b[0m: No module named 'msvcrt'"
     ]
    }
   ],
   "source": [
    "import gym\n",
    "import colorama as cr\n",
    "import msvcrt as vc\n",
    "\n",
    "cr.init(autoreset=True)\n",
    "\n",
    "environment = gym.make('FrozenLake-v0')\n",
    "environment.render()\n",
    "environment.reset()\n",
    "\\\n",
    "while True:\n",
    "    keyIn = vc.getch().decode('utf-8').lower()\n",
    "    if keyIn in ['w', 'a', 's', 'd']:\n",
    "        action = 3          # up\n",
    "        if keyIn == 's':\n",
    "            action = 1      # down\n",
    "        elif keyIn == 'a':\n",
    "            action = 0      # left\n",
    "        elif keyIn == 'd':\n",
    "            action = 2      # right\n",
    "\n",
    "        state, reward, isDone, information = environment.step(action)\n",
    "        environment.render()\n",
    "        print(\"state : {} \\t action : {} \\t reward : {} \\t info : {}\".format(\n",
    "            state, action, reward, information))\n",
    "        print() # new line\n",
    "        if isDone:\n",
    "            print(\"DONE\")\n",
    "            break"
   ]
  }
 ],
 "metadata": {
  "kernelspec": {
   "display_name": "Python 3",
   "language": "python",
   "name": "python3"
  },
  "language_info": {
   "codemirror_mode": {
    "name": "ipython",
    "version": 3
   },
   "file_extension": ".py",
   "mimetype": "text/x-python",
   "name": "python",
   "nbconvert_exporter": "python",
   "pygments_lexer": "ipython3",
   "version": "3.6.9"
  }
 },
 "nbformat": 4,
 "nbformat_minor": 4
}
