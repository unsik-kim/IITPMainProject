{
 "cells": [
  {
   "cell_type": "code",
   "execution_count": 3,
   "metadata": {},
   "outputs": [
    {
     "data": {
      "text/plain": [
       "32"
      ]
     },
     "execution_count": 3,
     "metadata": {},
     "output_type": "execute_result"
    }
   ],
   "source": [
    "import multiprocessing\n",
    "num_cores = multiprocessing.cpu_count()\n",
    "num_cores"
   ]
  },
  {
   "cell_type": "code",
   "execution_count": 4,
   "metadata": {},
   "outputs": [],
   "source": [
    "def square(input_list):\n",
    "    return [x*x for x in input_list]"
   ]
  },
  {
   "cell_type": "code",
   "execution_count": 29,
   "metadata": {},
   "outputs": [
    {
     "name": "stderr",
     "output_type": "stream",
     "text": [
      "100%|██████████| 32/32 [00:00<00:00, 147.43it/s]\n"
     ]
    }
   ],
   "source": [
    "import multiprocessing\n",
    "import parmap \n",
    "import numpy as np \n",
    "num_cores = multiprocessing.cpu_count() # 12 \n",
    "\n",
    "def square(input_list):\n",
    "    return [input_list,input_list,input_list]\n",
    "tAge1 = np.arange(0.4, 1, 0.1) # 연령분포모델1 변수 / 범위 0~1\n",
    "tAge2 = np.arange(0.4, 1, 0.1) # 연령분포모델2 변수 / 범위 0~1\n",
    "tAge3 = np.arange(0.4, 1, 0.1) # 연령분포모델3 변수 / 범위 0~1\n",
    "tAge4 = np.arange(40,41) # 합격연령 최대치 / 범위 30~45\n",
    "tRetire1 = np.arange(1.01, 1.2, 0.01) # 은퇴율모델 변수1 / 범위 1 이상\n",
    "tRetire2 = np.arange(30, 31) # 은퇴율모델 변수2 / 은퇴시작나이 / 범위 20 이상\n",
    "tRetire3 = np.arange(1, 3, 0.1) # 은퇴율모델 변수3 / 범위 0~1\n",
    "tuningList = []\n",
    "for h in tAge1:\n",
    "        for i in tAge2:\n",
    "            for j in tAge3:\n",
    "                for k in tAge4:\n",
    "                    for m in tRetire1:\n",
    "                        for n in tRetire2:\n",
    "                            for p in tRetire3:\n",
    "                                tuningList.append([h,i,j,k,m,n,p])\n",
    "                                \n",
    "    \n",
    "splitedTuningList = np.array_split(tuningList, num_cores) \n",
    "splitedTuningList = [i.tolist() for i in splitedTuningList]\n",
    "\n",
    "result = parmap.map(square, splitedTuningList, pm_pbar=True, pm_processes=num_cores)"
   ]
  },
  {
   "cell_type": "code",
   "execution_count": 31,
   "metadata": {},
   "outputs": [
    {
     "data": {
      "text/plain": [
       "32"
      ]
     },
     "execution_count": 31,
     "metadata": {},
     "output_type": "execute_result"
    }
   ],
   "source": [
    "len(result)"
   ]
  },
  {
   "cell_type": "code",
   "execution_count": 17,
   "metadata": {
    "scrolled": true
   },
   "outputs": [
    {
     "data": {
      "text/plain": [
       "[[1, 2],\n",
       " [3, 4],\n",
       " [5, 6],\n",
       " [7, 8],\n",
       " [9, 10],\n",
       " [11, 12],\n",
       " [13, 14],\n",
       " [15, 16],\n",
       " [17, 18],\n",
       " [19, 20],\n",
       " [21, 22],\n",
       " [23, 24],\n",
       " [25, 26],\n",
       " [27, 28],\n",
       " [29, 30],\n",
       " [31, 32],\n",
       " [33, 34],\n",
       " [35],\n",
       " [36],\n",
       " [37],\n",
       " [38],\n",
       " [39],\n",
       " [40],\n",
       " [41],\n",
       " [42],\n",
       " [43],\n",
       " [44],\n",
       " [45],\n",
       " [46],\n",
       " [47],\n",
       " [48],\n",
       " [49]]"
      ]
     },
     "execution_count": 17,
     "metadata": {},
     "output_type": "execute_result"
    }
   ],
   "source": [
    "splited_data"
   ]
  }
 ],
 "metadata": {
  "kernelspec": {
   "display_name": "Python 3",
   "language": "python",
   "name": "python3"
  },
  "language_info": {
   "codemirror_mode": {
    "name": "ipython",
    "version": 3
   },
   "file_extension": ".py",
   "mimetype": "text/x-python",
   "name": "python",
   "nbconvert_exporter": "python",
   "pygments_lexer": "ipython3",
   "version": "3.6.9"
  }
 },
 "nbformat": 4,
 "nbformat_minor": 4
}
