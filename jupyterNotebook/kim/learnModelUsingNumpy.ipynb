{
 "cells": [
  {
   "cell_type": "code",
   "execution_count": 1,
   "metadata": {},
   "outputs": [],
   "source": [
    "import pandas as pd\n",
    "import numpy as np\n",
    "import time\n",
    "import iddModel.learnUsingNumpy as idoctor\n",
    "import multiprocessing\n",
    "import parmap \n",
    "pd.set_option('display.max_row', 1200)\n",
    "pd.set_option('display.max_columns', 100)"
   ]
  },
  {
   "cell_type": "code",
   "execution_count": 2,
   "metadata": {
    "scrolled": false
   },
   "outputs": [
    {
     "name": "stdout",
     "output_type": "stream",
     "text": [
      "CPU times: user 17.9 ms, sys: 0 ns, total: 17.9 ms\n",
      "Wall time: 15.4 ms\n"
     ]
    },
    {
     "data": {
      "text/html": [
       "<div>\n",
       "<style scoped>\n",
       "    .dataframe tbody tr th:only-of-type {\n",
       "        vertical-align: middle;\n",
       "    }\n",
       "\n",
       "    .dataframe tbody tr th {\n",
       "        vertical-align: top;\n",
       "    }\n",
       "\n",
       "    .dataframe thead th {\n",
       "        text-align: right;\n",
       "    }\n",
       "</style>\n",
       "<table border=\"1\" class=\"dataframe\">\n",
       "  <thead>\n",
       "    <tr style=\"text-align: right;\">\n",
       "      <th></th>\n",
       "      <th>0</th>\n",
       "      <th>1</th>\n",
       "      <th>2</th>\n",
       "      <th>3</th>\n",
       "      <th>4</th>\n",
       "      <th>5</th>\n",
       "      <th>6</th>\n",
       "      <th>7</th>\n",
       "      <th>8</th>\n",
       "      <th>9</th>\n",
       "      <th>10</th>\n",
       "      <th>11</th>\n",
       "    </tr>\n",
       "  </thead>\n",
       "  <tbody>\n",
       "    <tr>\n",
       "      <th>0</th>\n",
       "      <td>9418</td>\n",
       "      <td>7496</td>\n",
       "      <td>7192</td>\n",
       "      <td>158</td>\n",
       "      <td>4060</td>\n",
       "      <td>1368</td>\n",
       "      <td>0.0233792</td>\n",
       "      <td>0.0756676</td>\n",
       "      <td>0.0462088</td>\n",
       "      <td>0.0397671</td>\n",
       "      <td>0.0729549</td>\n",
       "      <td>0.0325335</td>\n",
       "    </tr>\n",
       "    <tr>\n",
       "      <th>1</th>\n",
       "      <td>5614</td>\n",
       "      <td>4018</td>\n",
       "      <td>521</td>\n",
       "      <td>35</td>\n",
       "      <td>425</td>\n",
       "      <td>1535</td>\n",
       "      <td>0.0233792</td>\n",
       "      <td>0.0406015</td>\n",
       "      <td>0.0109752</td>\n",
       "      <td>0.0107433</td>\n",
       "      <td>0.00915858</td>\n",
       "      <td>0.0136547</td>\n",
       "    </tr>\n",
       "    <tr>\n",
       "      <th>2</th>\n",
       "      <td>9503</td>\n",
       "      <td>6008</td>\n",
       "      <td>6718</td>\n",
       "      <td>37</td>\n",
       "      <td>2715</td>\n",
       "      <td>471</td>\n",
       "      <td>0.0240397</td>\n",
       "      <td>0.0573803</td>\n",
       "      <td>0.0384127</td>\n",
       "      <td>0.0404125</td>\n",
       "      <td>0.0572331</td>\n",
       "      <td>0.022187</td>\n",
       "    </tr>\n",
       "    <tr>\n",
       "      <th>3</th>\n",
       "      <td>5861</td>\n",
       "      <td>3130</td>\n",
       "      <td>1027</td>\n",
       "      <td>174</td>\n",
       "      <td>151</td>\n",
       "      <td>1681</td>\n",
       "      <td>0.0240397</td>\n",
       "      <td>0.0300724</td>\n",
       "      <td>0.00643247</td>\n",
       "      <td>0.00824714</td>\n",
       "      <td>0.00615157</td>\n",
       "      <td>0.0147985</td>\n",
       "    </tr>\n",
       "    <tr>\n",
       "      <th>4</th>\n",
       "      <td>8552</td>\n",
       "      <td>4448</td>\n",
       "      <td>5359</td>\n",
       "      <td>298</td>\n",
       "      <td>1408</td>\n",
       "      <td>451</td>\n",
       "      <td>0.0216337</td>\n",
       "      <td>0.0396751</td>\n",
       "      <td>0.0253656</td>\n",
       "      <td>0.0371585</td>\n",
       "      <td>0.0393722</td>\n",
       "      <td>0.0101437</td>\n",
       "    </tr>\n",
       "    <tr>\n",
       "      <th>5</th>\n",
       "      <td>5480</td>\n",
       "      <td>2282</td>\n",
       "      <td>828</td>\n",
       "      <td>285</td>\n",
       "      <td>238</td>\n",
       "      <td>1847</td>\n",
       "      <td>0.0216337</td>\n",
       "      <td>0.0203801</td>\n",
       "      <td>0.00769297</td>\n",
       "      <td>0.00576102</td>\n",
       "      <td>0.00164442</td>\n",
       "      <td>0.016352</td>\n",
       "    </tr>\n",
       "    <tr>\n",
       "      <th>6</th>\n",
       "      <td>8634</td>\n",
       "      <td>3174</td>\n",
       "      <td>4666</td>\n",
       "      <td>357</td>\n",
       "      <td>275</td>\n",
       "      <td>1426</td>\n",
       "      <td>0.0229512</td>\n",
       "      <td>0.0251427</td>\n",
       "      <td>0.0169478</td>\n",
       "      <td>0.0369848</td>\n",
       "      <td>0.0276788</td>\n",
       "      <td>0.000378146</td>\n",
       "    </tr>\n",
       "    <tr>\n",
       "      <th>7</th>\n",
       "      <td>5841</td>\n",
       "      <td>1636</td>\n",
       "      <td>1091</td>\n",
       "      <td>479</td>\n",
       "      <td>609</td>\n",
       "      <td>2026</td>\n",
       "      <td>0.0229512</td>\n",
       "      <td>0.0127482</td>\n",
       "      <td>0.00563315</td>\n",
       "      <td>0.0037553</td>\n",
       "      <td>0.00191342</td>\n",
       "      <td>0.017678</td>\n",
       "    </tr>\n",
       "    <tr>\n",
       "      <th>8</th>\n",
       "      <td>8700</td>\n",
       "      <td>1681</td>\n",
       "      <td>4360</td>\n",
       "      <td>818</td>\n",
       "      <td>994</td>\n",
       "      <td>2483</td>\n",
       "      <td>0.0235096</td>\n",
       "      <td>0.00919986</td>\n",
       "      <td>0.0127802</td>\n",
       "      <td>0.0402312</td>\n",
       "      <td>0.0151617</td>\n",
       "      <td>0.00990313</td>\n",
       "    </tr>\n",
       "    <tr>\n",
       "      <th>9</th>\n",
       "      <td>6093</td>\n",
       "      <td>631</td>\n",
       "      <td>1590</td>\n",
       "      <td>651</td>\n",
       "      <td>1060</td>\n",
       "      <td>2161</td>\n",
       "      <td>0.0235096</td>\n",
       "      <td>0.00198843</td>\n",
       "      <td>0.000982141</td>\n",
       "      <td>0.00212644</td>\n",
       "      <td>0.0060674</td>\n",
       "      <td>0.0185624</td>\n",
       "    </tr>\n",
       "    <tr>\n",
       "      <th>10</th>\n",
       "      <td>8360</td>\n",
       "      <td>231</td>\n",
       "      <td>3303</td>\n",
       "      <td>867</td>\n",
       "      <td>2033</td>\n",
       "      <td>3660</td>\n",
       "      <td>0.0247122</td>\n",
       "      <td>0.00516575</td>\n",
       "      <td>0.00250007</td>\n",
       "      <td>0.0386531</td>\n",
       "      <td>0.00454363</td>\n",
       "      <td>0.0211502</td>\n",
       "    </tr>\n",
       "    <tr>\n",
       "      <th>11</th>\n",
       "      <td>6300</td>\n",
       "      <td>435</td>\n",
       "      <td>1927</td>\n",
       "      <td>983</td>\n",
       "      <td>1561</td>\n",
       "      <td>2264</td>\n",
       "      <td>0.0247122</td>\n",
       "      <td>0.00876926</td>\n",
       "      <td>0.00242782</td>\n",
       "      <td>0.00128052</td>\n",
       "      <td>0.010629</td>\n",
       "      <td>0.0191442</td>\n",
       "    </tr>\n",
       "  </tbody>\n",
       "</table>\n",
       "</div>"
      ],
      "text/plain": [
       "      0     1     2    3     4     5          6           7            8   \\\n",
       "0   9418  7496  7192  158  4060  1368  0.0233792   0.0756676    0.0462088   \n",
       "1   5614  4018   521   35   425  1535  0.0233792   0.0406015    0.0109752   \n",
       "2   9503  6008  6718   37  2715   471  0.0240397   0.0573803    0.0384127   \n",
       "3   5861  3130  1027  174   151  1681  0.0240397   0.0300724   0.00643247   \n",
       "4   8552  4448  5359  298  1408   451  0.0216337   0.0396751    0.0253656   \n",
       "5   5480  2282   828  285   238  1847  0.0216337   0.0203801   0.00769297   \n",
       "6   8634  3174  4666  357   275  1426  0.0229512   0.0251427    0.0169478   \n",
       "7   5841  1636  1091  479   609  2026  0.0229512   0.0127482   0.00563315   \n",
       "8   8700  1681  4360  818   994  2483  0.0235096  0.00919986    0.0127802   \n",
       "9   6093   631  1590  651  1060  2161  0.0235096  0.00198843  0.000982141   \n",
       "10  8360   231  3303  867  2033  3660  0.0247122  0.00516575   0.00250007   \n",
       "11  6300   435  1927  983  1561  2264  0.0247122  0.00876926   0.00242782   \n",
       "\n",
       "            9           10           11  \n",
       "0    0.0397671   0.0729549    0.0325335  \n",
       "1    0.0107433  0.00915858    0.0136547  \n",
       "2    0.0404125   0.0572331     0.022187  \n",
       "3   0.00824714  0.00615157    0.0147985  \n",
       "4    0.0371585   0.0393722    0.0101437  \n",
       "5   0.00576102  0.00164442     0.016352  \n",
       "6    0.0369848   0.0276788  0.000378146  \n",
       "7    0.0037553  0.00191342     0.017678  \n",
       "8    0.0402312   0.0151617   0.00990313  \n",
       "9   0.00212644   0.0060674    0.0185624  \n",
       "10   0.0386531  0.00454363    0.0211502  \n",
       "11  0.00128052    0.010629    0.0191442  "
      ]
     },
     "execution_count": 2,
     "metadata": {},
     "output_type": "execute_result"
    }
   ],
   "source": [
    "tuningSetAgeRate = [[0.1, 0.2, 0.9],[26,28,27],[40,40,40]]\n",
    "tuningSetRetireRate = [1.4,35,0.2]\n",
    "%time npCostData = idoctor.getCost([tuningSetAgeRate, tuningSetRetireRate])\n",
    "pd.DataFrame(npCostData)"
   ]
  },
  {
   "cell_type": "code",
   "execution_count": 3,
   "metadata": {},
   "outputs": [],
   "source": [
    "def runGetCost(tuningValueList):\n",
    "    resultData = []\n",
    "    \n",
    "    for value in tuningValueList:\n",
    "        resultData.append([value ,idoctor.getCost([[[value[0], value[1], value[2]],[26,28,27],[40,40,40]], [value[3],30,value[4]]])])\n",
    "        \n",
    "        \n",
    "    return resultData"
   ]
  },
  {
   "cell_type": "code",
   "execution_count": 33,
   "metadata": {},
   "outputs": [],
   "source": [
    "def startGetCost():\n",
    "    tAge1 = np.arange(0.05, 1, 0.05) # 연령분포모델1 변수 / 범위 0~1\n",
    "    tAge2 = np.arange(0.05, 1, 0.05) # 연령분포모델2 변수 / 범위 0~1\n",
    "    tAge3 = np.arange(0.1, 1, 0.1) # 연령분포모델3 변수 / 범위 0~1\n",
    "    tRetire1 = np.arange(1.1, 3, 0.1) # 은퇴율모델 변수1 / 범위 1 이상\n",
    "    tRetire2 = np.arange(0.1, 10, 0.1) # 은퇴율모델 변수3 / 범위 0 이상\n",
    "    \n",
    "    dataSize = len(tAge1)*len(tAge2)*len(tAge3)*len(tRetire1)*len(tRetire2)\n",
    "    timeMinute = dataSize*20/1000/60/22\n",
    "    curentData = 0\n",
    "    resultData = []\n",
    "    \n",
    "    num_cores = 30\n",
    "\n",
    "    now = time.localtime()\n",
    "    print(\"│ Start Time : %04d/%02d/%02d %02d:%02d:%02d\" % (now.tm_year, now.tm_mon, now.tm_mday, now.tm_hour+9, now.tm_min, now.tm_sec))\n",
    "    print(\"│ expect running time : \" + str(round(timeMinute)) + \"min\")\n",
    "    print(\"│ Data Size = \" + str(dataSize))\n",
    "    print(\"└───────────────────────\")\n",
    "    print('│ '+str(round(curentData/dataSize*100,2))+'%')\n",
    "    \n",
    "    tuningList = []\n",
    "    \n",
    "    for i in tAge1:\n",
    "        for j in tAge2:\n",
    "            for k in tAge3:\n",
    "                for m in tRetire1:\n",
    "                    for n in tRetire2:\n",
    "                        tuningList.append([i,j,k,m,n])\n",
    "\n",
    "    \n",
    "    splitedTuningList = np.array_split(tuningList, num_cores) \n",
    "    splitedTuningList = [i.tolist() for i in splitedTuningList] \n",
    "    \n",
    "    result = parmap.map(runGetCost, splitedTuningList, pm_pbar=True, pm_processes=num_cores)\n",
    "    \n",
    "    print(\"| End Time : %04d/%02d/%02d %02d:%02d:%02d\" % (now.tm_year, now.tm_mon, now.tm_mday, now.tm_hour+9, now.tm_min, now.tm_sec))\n",
    "    return result"
   ]
  },
  {
   "cell_type": "code",
   "execution_count": 34,
   "metadata": {
    "scrolled": true
   },
   "outputs": [
    {
     "name": "stdout",
     "output_type": "stream",
     "text": [
      "│ Start Time : 2020/11/10 18:24:52\n",
      "│ expect running time : 93min\n",
      "│ Data Size = 6111369\n",
      "└───────────────────────\n",
      "│ 0.0%\n"
     ]
    },
    {
     "name": "stderr",
     "output_type": "stream",
     "text": [
      "100%|██████████| 30/30 [1:39:23<00:00, 198.77s/it]   \n"
     ]
    },
    {
     "name": "stdout",
     "output_type": "stream",
     "text": [
      "| End Time : 2020/11/10 18:24:52\n",
      "CPU times: user 2min 21s, sys: 1min 17s, total: 3min 38s\n",
      "Wall time: 1h 39min 52s\n"
     ]
    },
    {
     "data": {
      "text/plain": [
       "(30,)"
      ]
     },
     "execution_count": 34,
     "metadata": {},
     "output_type": "execute_result"
    }
   ],
   "source": [
    "%time liCostData = startGetCost()\n",
    "npCostData = np.array(liCostData)\n",
    "\n",
    "np.shape(npCostData)"
   ]
  },
  {
   "cell_type": "code",
   "execution_count": 35,
   "metadata": {},
   "outputs": [],
   "source": [
    "len(liCostData[0])\n",
    "npCostData = np.array(liCostData)"
   ]
  },
  {
   "cell_type": "code",
   "execution_count": null,
   "metadata": {},
   "outputs": [],
   "source": [
    "value = [0.4, 0.8, 0.4, 40, 1.09, 30, 1.9]\n",
    "\n",
    "data = idoctor.getCost([[[value[0], value[1], value[2]],[26,28,27],[value[3],value[3],value[3]]], [value[4],value[5],value[6]]])\n",
    "data"
   ]
  },
  {
   "cell_type": "code",
   "execution_count": 42,
   "metadata": {},
   "outputs": [
    {
     "data": {
      "text/plain": [
       "[0.05, 0.05, 0.1, 1.1, 0.1]"
      ]
     },
     "execution_count": 42,
     "metadata": {},
     "output_type": "execute_result"
    }
   ],
   "source": [
    "minManCost = (np.concatenate((npCostData[0][0][1][0],npCostData[0][0][1][2],npCostData[0][0][1][4],npCostData[0][0][1][6],npCostData[0][0][1][8],npCostData[0][0][1][10]))).reshape(6,12).sum(axis=0)\n",
    "minWomanCost = (np.concatenate((npCostData[0][0][1][1],npCostData[0][0][1][3],npCostData[0][0][1][5],npCostData[0][0][1][7],npCostData[0][0][1][9],npCostData[0][0][1][11]))).reshape(6,12).sum(axis=0)\n",
    "minTuningValue = npCostData[0][0][0]\n",
    "minTuningValue"
   ]
  },
  {
   "cell_type": "code",
   "execution_count": 51,
   "metadata": {},
   "outputs": [
    {
     "name": "stdout",
     "output_type": "stream",
     "text": [
      "6111369\n"
     ]
    }
   ],
   "source": [
    "minManCost = (np.concatenate((npCostData[0][0][1][0],npCostData[0][0][1][2],npCostData[0][0][1][4],npCostData[0][0][1][6],npCostData[0][0][1][8],npCostData[0][0][1][10]))).reshape(6,12).sum(axis=0)\n",
    "minWomanCost = (np.concatenate((npCostData[0][0][1][1],npCostData[0][0][1][3],npCostData[0][0][1][5],npCostData[0][0][1][7],npCostData[0][0][1][9],npCostData[0][0][1][11]))).reshape(6,12).sum(axis=0)\n",
    "minManTuningValue = npCostData[0][0][0]\n",
    "minWomanTuningValue = npCostData[0][0][0]\n",
    "count = 0\n",
    "for data1 in npCostData:\n",
    "    for data2 in data1:   \n",
    "        count += 1\n",
    "        npManCost = (np.concatenate((data2[1][0],data2[1][2],data2[1][4],data2[1][6],data2[1][8],data2[1][10]))).reshape(6,12).sum(axis=0)\n",
    "        npWomanCost = (np.concatenate((data2[1][1],data2[1][3],data2[1][5],data2[1][7],data2[1][9],data2[1][11]))).reshape(6,12).sum(axis=0)\n",
    "\n",
    "        manCostCount = 0\n",
    "        womanCostCount = 0\n",
    "        \n",
    "        for i in range(12):\n",
    "            if npManCost[i]<=minManCost[i]:\n",
    "                manCostCount += 1\n",
    "            else:\n",
    "                break\n",
    "                \n",
    "        for i in range(12):\n",
    "            if npWomanCost[i]<=minWomanCost[i]:\n",
    "                womanCostCount += 1\n",
    "            else:\n",
    "                break\n",
    "                \n",
    "        if manCostCount==12:\n",
    "            minManCost = npManCost\n",
    "            minManTuningValue = data2[0]\n",
    "            \n",
    "        if womanCostCount==12:\n",
    "            minWomanCost = npWomanCost\n",
    "            minWomanTuningValue = data2[0]\n",
    "\n",
    "pd.DataFrame([[minManCost, minManTuningValue],[minWomanCost,minWomanTuningValue]])\n",
    "print(count)"
   ]
  },
  {
   "cell_type": "code",
   "execution_count": 52,
   "metadata": {},
   "outputs": [
    {
     "name": "stdout",
     "output_type": "stream",
     "text": [
      "[49580.0 24945.0 32934.0 1822.0 11958.0 8281.0 0.13810982645232572\n",
      " 0.2273820888936964 0.16591566654493078 0.21607463116044057\n",
      " 0.23005667409844557 0.10861255367502023]\n",
      "[0.05, 0.05, 0.6, 1.2000000000000002, 1.8000000000000003]\n",
      "[34487.0 13402.0 7116.0 2220.0 3633.0 10344.0 0.14395946825812597\n",
      " 0.12809288631690458 0.031208756300101795 0.03560435146605327\n",
      " 0.03501055575021555 0.09011246067102151]\n",
      "[0.05, 0.05, 0.1, 1.1, 0.1]\n"
     ]
    }
   ],
   "source": [
    "print(minManCost)\n",
    "print(minManTuningValue)\n",
    "print(minWomanCost)\n",
    "print(minWomanTuningValue)"
   ]
  }
 ],
 "metadata": {
  "kernelspec": {
   "display_name": "Python 3",
   "language": "python",
   "name": "python3"
  },
  "language_info": {
   "codemirror_mode": {
    "name": "ipython",
    "version": 3
   },
   "file_extension": ".py",
   "mimetype": "text/x-python",
   "name": "python",
   "nbconvert_exporter": "python",
   "pygments_lexer": "ipython3",
   "version": "3.6.9"
  }
 },
 "nbformat": 4,
 "nbformat_minor": 4
}
