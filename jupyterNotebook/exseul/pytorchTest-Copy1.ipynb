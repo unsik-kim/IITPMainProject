{
 "cells": [
  {
   "cell_type": "code",
   "execution_count": 2,
   "metadata": {},
   "outputs": [],
   "source": [
    "import pandas as pd\n",
    "import numpy as np\n",
    "import matplotlib.pyplot as plt\n",
    "import torch\n",
    "npDeathWoman = np.array(pd.read_excel('../../data/여성사망률추이.xlsx').set_index(['연도']).iloc[:71,:100])\n",
    "npDeathMan = np.array(pd.read_excel('../../data/남성사망률추이.xlsx').set_index(['연도']).iloc[:71,:100])\n",
    "npPassDoctor = np.around(np.array((pd.read_excel('../../data/데이터정리3.xlsx'))[['년도','의대졸합격/남', '의대졸합격/여', '의전졸합격/남', '의전졸합격/여', '불합합격/남', '불합합격/여']].iloc[27:,1:7])).T\n",
    "npDoctorAgeData = np.array(pd.read_excel('../../data/의사연령별분포.xlsx'))\n",
    "#npFutureData = pd.read_excel('추계인구.xlsx')"
   ]
  },
  {
   "cell_type": "code",
   "execution_count": 3,
   "metadata": {},
   "outputs": [],
   "source": [
    "if torch.cuda.is_available():\n",
    "    cuda = torch.device('cuda:1')\n",
    "    cuda"
   ]
  },
  {
   "cell_type": "code",
   "execution_count": 4,
   "metadata": {},
   "outputs": [],
   "source": [
    "yearSize = 71\n",
    "oldSize = 100\n",
    "ageModelSize = 6\n",
    "RetireModelSize = 2"
   ]
  },
  {
   "cell_type": "markdown",
   "metadata": {},
   "source": [
    "# 기본데이터 텐서 정의"
   ]
  },
  {
   "cell_type": "code",
   "execution_count": 5,
   "metadata": {},
   "outputs": [],
   "source": [
    "# 외부데이터\n",
    "tsPassDoctorMan = torch.tensor([npPassDoctor[0],npPassDoctor[2],npPassDoctor[4]]).to(device=cuda)\n",
    "tsPassDoctorWoman = torch.tensor([npPassDoctor[1],npPassDoctor[3],npPassDoctor[5]]).to(device=cuda)\n",
    "tsDeathWoman = torch.tensor(npDeathWoman).to(device=cuda)\n",
    "tsDeathMan = torch.tensor(npDeathMan).to(device=cuda)\n",
    "tsDoctorAgeData = torch.tensor(npDoctorAgeData).to(device=cuda)\n",
    "\n",
    "# 계산데이터\n",
    "tsBasic = torch.zeros(oldSize).to(device=cuda)\n",
    "tsNewPerson = torch.zeros([yearSize,2,oldSize]).to(device=cuda)\n",
    "tsResultPerson = torch.zeros([yearSize,2,oldSize]).to(device=cuda)\n",
    "tsAgeTuningSet = torch.zeros([ageModelSize,3]).to(device=cuda)\n",
    "tsRetireTuningSet = torch.zeros([RetireModelSize,3]).to(device=cuda)"
   ]
  },
  {
   "cell_type": "markdown",
   "metadata": {},
   "source": [
    "# 연령분포 모델 텐서 설계"
   ]
  },
  {
   "cell_type": "code",
   "execution_count": 6,
   "metadata": {},
   "outputs": [
    {
     "data": {
      "text/plain": [
       "tensor([[-7.0476e-03, -6.6919e-03, -6.3365e-03,  ...,  2.5854e-02,\n",
       "          2.6177e-02,  2.6500e-02],\n",
       "        [ 0.0000e+00,  0.0000e+00,  0.0000e+00,  ...,  0.0000e+00,\n",
       "          0.0000e+00,  0.0000e+00],\n",
       "        [ 9.9900e-01,  9.9900e-04,  9.9900e-07,  ..., -9.9900e-64,\n",
       "         -9.9900e-64, -9.9900e-64],\n",
       "        ...,\n",
       "        [ 0.0000e+00,  0.0000e+00,  0.0000e+00,  ...,  0.0000e+00,\n",
       "          0.0000e+00,  0.0000e+00],\n",
       "        [ 0.0000e+00,  0.0000e+00,  0.0000e+00,  ...,  0.0000e+00,\n",
       "          0.0000e+00,  0.0000e+00],\n",
       "        [ 0.0000e+00,  0.0000e+00,  0.0000e+00,  ...,  0.0000e+00,\n",
       "          0.0000e+00,  0.0000e+00]], device='cuda:1', dtype=torch.float64)"
      ]
     },
     "execution_count": 6,
     "metadata": {},
     "output_type": "execute_result"
    }
   ],
   "source": [
    "npBasic = np.zeros(100)\n",
    "npAgeDistribution = np.zeros([30000,100])\n",
    "\n",
    "rateArray = np.arange(0,1,0.001)\n",
    "endArray = np.arange(20,50,1)\n",
    "\n",
    "for i in range(1000):\n",
    "    if i==0:\n",
    "        continue\n",
    "    for j in range(30):\n",
    "        for k in range(100):\n",
    "            npBasic[k] = (rateArray[i]**(k-endArray[j]))-1\n",
    "            \n",
    "        npSum = np.sum(npBasic)\n",
    "        \n",
    "        if npSum!=0:\n",
    "            npBasic = npBasic / npSum\n",
    "        else:\n",
    "            npBasic = 0\n",
    "        \n",
    "        npAgeDistribution[(i*j)+j] = npBasic\n",
    "        \n",
    "tsAgeDistribution = torch.from_numpy(npAgeDistribution).to(device=cuda)\n",
    "\n",
    "tsAgeDistribution"
   ]
  },
  {
   "cell_type": "code",
   "execution_count": 7,
   "metadata": {},
   "outputs": [
    {
     "data": {
      "text/plain": [
       "torch.Size([30000, 100])"
      ]
     },
     "execution_count": 7,
     "metadata": {},
     "output_type": "execute_result"
    }
   ],
   "source": [
    "tsAgeDistribution.size()"
   ]
  },
  {
   "cell_type": "code",
   "execution_count": 8,
   "metadata": {},
   "outputs": [
    {
     "data": {
      "text/plain": [
       "tensor([[ 155.,  154.,  156.,  178.,  132.,  111.,  150.,  188.,  181.,  302.,\n",
       "          304.,  391.,  526.,  493.,  535.,  550.,  616.,  522.,  354.,  337.,\n",
       "          544.,  551.,  620.,  596.,  724.,  822.,  769., 1044.,  940., 1200.,\n",
       "         1039., 1270., 1112.,  776.,  641.,  580.,  434.,  475.,  439.,  468.,\n",
       "          424.,  453.,  586.,  569.,  569.,  569.,  569.,  569.,  569.,  569.,\n",
       "          569.,  569.,  569.,  569.,  569.,  569.,  569.,  569.,  569.,  569.,\n",
       "          569.,  569.,  569.,  569.,  569.,  569.,  569.,  569.,  569.,  569.,\n",
       "          569.],\n",
       "        [   0.,    0.,    0.,    0.,    0.,    0.,    0.,    0.,    0.,    0.,\n",
       "            0.,    0.,    0.,    0.,    0.,    0.,    0.,    0.,    0.,    0.,\n",
       "            0.,    0.,    0.,    0.,    0.,    0.,    0.,    0.,    0.,    0.,\n",
       "            0.,    0.,   87.,  304.,  322.,  416.,  702.,  778.,  721.,  696.,\n",
       "          669.,  709.,  518.,  503.,  503.,  503.,  503.,  503.,  503.,  503.,\n",
       "          503.,  503.,  503.,  503.,  503.,  503.,  503.,  503.,  503.,  503.,\n",
       "          503.,  503.,  503.,  503.,  503.,  503.,  503.,  503.,  503.,  503.,\n",
       "          503.],\n",
       "        [  17.,   12.,   15.,   16.,   26.,    8.,    6.,   37.,   25.,   14.,\n",
       "            8.,   18.,   33.,   62.,   47.,   48.,   20.,   21.,  158.,   97.,\n",
       "           86.,   65.,   54.,   51.,   92.,   87.,  120.,   67.,   90.,   91.,\n",
       "          145.,   63.,   80.,   85.,   95.,   94.,   89.,   89.,   69.,   77.,\n",
       "           89.,   65.,   71.,   69.,   69.,   69.,   69.,   69.,   69.,   69.,\n",
       "           69.,   69.,   69.,   69.,   69.,   69.,   69.,   69.,   69.,   69.,\n",
       "           69.,   69.,   69.,   69.,   69.,   69.,   69.,   69.,   69.,   69.,\n",
       "           69.]], device='cuda:1', dtype=torch.float64)"
      ]
     },
     "execution_count": 8,
     "metadata": {},
     "output_type": "execute_result"
    }
   ],
   "source": [
    "tsPassDoctorMan\n",
    "tsPassDoctorWoman"
   ]
  },
  {
   "cell_type": "markdown",
   "metadata": {},
   "source": [
    "# 은퇴율 모델 텐서 설계"
   ]
  },
  {
   "cell_type": "code",
   "execution_count": 9,
   "metadata": {},
   "outputs": [
    {
     "data": {
      "text/plain": [
       "torch.Size([100, 1000, 50, 100])"
      ]
     },
     "execution_count": 9,
     "metadata": {},
     "output_type": "execute_result"
    }
   ],
   "source": [
    "npBasic = np.zeros(100)\n",
    "npRetireRate = np.zeros([100,1000,50,100])\n",
    "\n",
    "rate1Array = np.arange(1,2,0.001)\n",
    "rate2Array = np.arange(0,1,0.01)\n",
    "startArray = np.arange(30,80,1)\n",
    "\n",
    "for i in range(100):\n",
    "    for j in range(1000):\n",
    "        if i==0:\n",
    "            continue\n",
    "    for k in range(50):\n",
    "        for m in range(100):\n",
    "            a = (rate1Array[j]**(m-startArray[k]))-1\n",
    "            b = rate2Array[i]/((rate1Array[j]**(100-startArray[k]))-1)\n",
    "            npBasic[m] = a*b\n",
    "            \n",
    "        npRetireRate[i][j] = npBasic\n",
    "        \n",
    "tsRetireRate = torch.from_numpy(npRetireRate).to(device=cuda)\n",
    "tsRetireRate.size()"
   ]
  },
  {
   "cell_type": "markdown",
   "metadata": {},
   "source": [
    "# 신규인원 생성"
   ]
  },
  {
   "cell_type": "code",
   "execution_count": 10,
   "metadata": {},
   "outputs": [],
   "source": [
    "def newPerson():\n",
    "    tsNewPerson[0] = tsPassDoctorMan@[tsAgeDistribution,tsAgeDistribution,tsAgeDistribution]\n",
    "    "
   ]
  },
  {
   "cell_type": "code",
   "execution_count": 11,
   "metadata": {},
   "outputs": [
    {
     "ename": "NameError",
     "evalue": "name 'tsPassDoctor' is not defined",
     "output_type": "error",
     "traceback": [
      "\u001b[0;31m---------------------------------------------------------------------------\u001b[0m",
      "\u001b[0;31mNameError\u001b[0m                                 Traceback (most recent call last)",
      "\u001b[0;32m<ipython-input-11-c05c87207ff5>\u001b[0m in \u001b[0;36m<module>\u001b[0;34m\u001b[0m\n\u001b[0;32m----> 1\u001b[0;31m \u001b[0mtsPassDoctor\u001b[0m\u001b[0;34m.\u001b[0m\u001b[0msize\u001b[0m\u001b[0;34m(\u001b[0m\u001b[0;34m)\u001b[0m\u001b[0;34m\u001b[0m\u001b[0;34m\u001b[0m\u001b[0m\n\u001b[0m",
      "\u001b[0;31mNameError\u001b[0m: name 'tsPassDoctor' is not defined"
     ]
    }
   ],
   "source": [
    "tsPassDoctor.size()"
   ]
  },
  {
   "cell_type": "code",
   "execution_count": null,
   "metadata": {
    "scrolled": true
   },
   "outputs": [],
   "source": [
    "%time newPerson()"
   ]
  },
  {
   "cell_type": "code",
   "execution_count": null,
   "metadata": {
    "scrolled": true
   },
   "outputs": [],
   "source": [
    "tsApplyAgeModel[0]"
   ]
  },
  {
   "cell_type": "code",
   "execution_count": null,
   "metadata": {},
   "outputs": [],
   "source": [
    "a = np.array([[1,2],[3,4],[5,6],[7,8]])\n",
    "b = np.array([[[1,2,3],[4,5,6]],[[7,8,9],[10,11,12]],[[13,14,15],[16,17,18]]])\n",
    "c = a@b\n",
    "print(np.shape(a))\n",
    "print(np.shape(b))\n",
    "print(np.shape(c))\n",
    "c"
   ]
  },
  {
   "cell_type": "code",
   "execution_count": null,
   "metadata": {},
   "outputs": [],
   "source": [
    "a = np.array([3,5])\n",
    "b = np.array([[5,6],[7,8]])\n",
    "a@b"
   ]
  }
 ],
 "metadata": {
  "kernelspec": {
   "display_name": "Python 3",
   "language": "python",
   "name": "python3"
  },
  "language_info": {
   "codemirror_mode": {
    "name": "ipython",
    "version": 3
   },
   "file_extension": ".py",
   "mimetype": "text/x-python",
   "name": "python",
   "nbconvert_exporter": "python",
   "pygments_lexer": "ipython3",
   "version": "3.6.9"
  }
 },
 "nbformat": 4,
 "nbformat_minor": 4
}
