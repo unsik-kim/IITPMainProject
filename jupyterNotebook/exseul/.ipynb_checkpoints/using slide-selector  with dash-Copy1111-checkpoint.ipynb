{
 "cells": [
  {
   "cell_type": "code",
   "execution_count": null,
   "metadata": {},
   "outputs": [],
   "source": [
    "import dash\n",
    "import dash_core_components as dcc\n",
    "import dash_html_components as html\n",
    "from dash.dependencies import Input, Output\n",
    "import plotly.express as px\n",
    "\n",
    "import pandas as pd\n",
    "import plotly.graph_objects as go"
   ]
  },
  {
   "cell_type": "code",
   "execution_count": null,
   "metadata": {},
   "outputs": [],
   "source": [
    "import pandas as pd\n",
    "import numpy as np\n",
    "import matplotlib.pyplot as plt\n",
    "import tensorflow\n",
    "deathWoman = np.array(pd.read_excel('../../data/여성사망률추이.xlsx').set_index(['연도']).iloc[:43,:100])\n",
    "deathMan = np.array(pd.read_excel('../../data/남성사망률추이.xlsx').set_index(['연도']).iloc[:43,:100])\n",
    "dataOriDf = pd.read_excel('../../data/데이터정리3.xlsx')\n",
    "ageDataOriDf = pd.read_excel('../../data/의사연령별분포.xlsx')\n",
    "npAgeData = np.array(pd.read_excel('../../data/의사연령별분포.xlsx'))"
   ]
  },
  {
   "cell_type": "code",
   "execution_count": null,
   "metadata": {
    "scrolled": true
   },
   "outputs": [],
   "source": [
    "ageDataOriDf.iloc[:,1:]"
   ]
  },
  {
   "cell_type": "code",
   "execution_count": null,
   "metadata": {
    "scrolled": true
   },
   "outputs": [],
   "source": [
    "pd.set_option('display.max_row', 1200)\n",
    "pd.set_option('display.max_columns', 100)\n",
    "\n",
    "#1977년 합격자부터 2019년 합격자\n",
    "dataDf = dataOriDf[['년도','의대졸합격/남', '의대졸합격/여', '의전졸합격/남', '의전졸합격/여', '불합합격/남', '불합합격/여']]\n",
    "dataDf = dataDf[27:]\n",
    "\n",
    "npData = np.around(np.array(dataDf)[:,1:7])\n",
    "npData"
   ]
  },
  {
   "cell_type": "markdown",
   "metadata": {},
   "source": [
    "# 시그모이드 변형 모델"
   ]
  },
  {
   "cell_type": "code",
   "execution_count": null,
   "metadata": {},
   "outputs": [],
   "source": [
    "# 분류모델함수 생성\n",
    "# x - x값, sp - 시작점, xl - x축 조정, yl - y축 조정\n",
    "def sigmoid_function(x, sp, xl, yl):\n",
    "    \n",
    "    \n",
    "    \n",
    "    result = 1 / ( yl+np.exp((x-(sp+(5/xl)))*xl) )\n",
    "    \n",
    "    for i in range(np.size(x)):\n",
    "        if x[i]<sp:\n",
    "           result[i]=0\n",
    "        if x[i]>(sp+(10/xl)):\n",
    "           result[i]=0\n",
    "            \n",
    "    return result\n",
    "\n",
    "# 분류모델 확률질량함수 생성\n",
    "def makeSigmoidModel(sp, xl, yl):\n",
    "    x = np.arange(1, 101, 1)\n",
    "    y = sigmoid_function(x, sp, xl, yl)\n",
    "    sum = np.sum(y)\n",
    "    z = y/sum\n",
    "    \n",
    "    return z\n",
    "\n",
    "\n",
    "\n",
    "def clusterAgeModel(rate,st,end):\n",
    "    npData = np.zeros(100)\n",
    "    \n",
    "    for i in range(st,end):\n",
    "        npData[i] = (rate**(i-end))-1  \n",
    "        \n",
    "    sumValue = np.sum(npData)\n",
    "    npRateData = npData / sumValue\n",
    "    return npRateData"
   ]
  },
  {
   "cell_type": "code",
   "execution_count": null,
   "metadata": {},
   "outputs": [],
   "source": [
    "%time clusterAgeModel(0.7,10,40)"
   ]
  },
  {
   "cell_type": "markdown",
   "metadata": {},
   "source": [
    "# 사망률 적용"
   ]
  },
  {
   "cell_type": "code",
   "execution_count": null,
   "metadata": {},
   "outputs": [],
   "source": [
    "def makeAlivePerson(npData,year):\n",
    "    \n",
    "    deathRate = np.array([deathMan[year], deathWoman[year]])\n",
    "    resultData = npData - np.around((npData*deathRate))\n",
    "    \n",
    "    return resultData"
   ]
  },
  {
   "cell_type": "markdown",
   "metadata": {},
   "source": [
    "# 은퇴율 적용"
   ]
  },
  {
   "cell_type": "code",
   "execution_count": null,
   "metadata": {},
   "outputs": [],
   "source": [
    "def makeWorkPerson(npData,tuningSet):\n",
    "    valueList = np.zeros([2,100])\n",
    "    c1 = tuningSet[2][0]/((tuningSet[0][0]**(100-tuningSet[1][0]))-1)\n",
    "    c2 = tuningSet[2][1]/((tuningSet[0][1]**(100-tuningSet[1][1]))-1)\n",
    "    for i in range(100):\n",
    "        result1 = ((tuningSet[0][0]**(i-tuningSet[1][0]))-1)*c1\n",
    "        result2 = ((tuningSet[0][1]**(i-tuningSet[1][1]))-1)*c2\n",
    "        valueList[0][i] = 0 if result1<0 else 1 if result1>1 else  result1\n",
    "        valueList[1][i] = 0 if result2<0 else 1 if result2>1 else  result2\n",
    "\n",
    "    result = npData - np.around(npData*valueList)\n",
    "    \n",
    "    return result"
   ]
  },
  {
   "cell_type": "code",
   "execution_count": null,
   "metadata": {},
   "outputs": [],
   "source": [
    "def makeWorkPerson1(tuningSet):\n",
    "    valueList = np.zeros([2,100])\n",
    "    c1 = 1/((tuningSet[0][0]**(100-tuningSet[1][0]))-1)\n",
    "    c2 = 1/((tuningSet[0][1]**(100-tuningSet[1][1]))-1)\n",
    "    for i in range(100):\n",
    "        result1 = ((tuningSet[0][0]**(i-tuningSet[1][0]))-1)*c1\n",
    "        result2 = ((tuningSet[0][1]**(i-tuningSet[1][1]))-1)*c2\n",
    "        valueList[0][i] = 0 if result1<0 else 1 if result1>1 else  result1\n",
    "        valueList[1][i] = 0 if result2<0 else 1 if result2>1 else  result2\n",
    "\n",
    "    \n",
    "    return valueList\n",
    "\n",
    "pd.DataFrame(makeWorkPerson1([[1.5,1.5],[25,25]]))"
   ]
  },
  {
   "cell_type": "markdown",
   "metadata": {},
   "source": [
    "# 출신 연령별 분류모델"
   ]
  },
  {
   "cell_type": "code",
   "execution_count": null,
   "metadata": {},
   "outputs": [],
   "source": [
    "def makeArrayUseModel(tuningList):\n",
    "    model1 = clusterAgeModel(tuningList[0][0], tuningList[1][0], tuningList[2][0]) # 의대 남\n",
    "    model2 = clusterAgeModel(tuningList[0][1], tuningList[1][1], tuningList[2][1]) # 의대 여\n",
    "    model3 = clusterAgeModel(tuningList[0][2], tuningList[1][2], tuningList[2][2]) # 의전원 남\n",
    "    model4 = clusterAgeModel(tuningList[0][3], tuningList[1][3], tuningList[2][3]) # 의전원 여\n",
    "    model5 = clusterAgeModel(tuningList[0][4], tuningList[1][4], tuningList[2][4]) # 재시험 남\n",
    "    model6 = clusterAgeModel(tuningList[0][5], tuningList[1][5], tuningList[2][5]) # 재시험 여\n",
    "    \n",
    "    resultData =  np.array([model1, model2, model3, model4, model5, model6])\n",
    "    \n",
    "    return resultData"
   ]
  },
  {
   "cell_type": "markdown",
   "metadata": {},
   "source": [
    "# 신규인원 생성"
   ]
  },
  {
   "cell_type": "code",
   "execution_count": null,
   "metadata": {},
   "outputs": [],
   "source": [
    "def makeNewPerson(npData, tuningSet):\n",
    "    oldSize = 100\n",
    "    yearSize = len(npData)\n",
    "    modelSize = len(npData[0])\n",
    "    \n",
    "    #모델 적용 배열\n",
    "    applyModelArray = np.zeros((yearSize,modelSize,oldSize))\n",
    "\n",
    "    #신규인원 배열\n",
    "    newPersonArray = np.zeros((yearSize,2,oldSize))\n",
    "    \n",
    "    modelAry = makeArrayUseModel(tuningSet)\n",
    "    \n",
    "    for i in range(yearSize):\n",
    "        for j in range(modelSize):\n",
    "            applyModelArray[i][j] = np.around(modelAry[j]*np.around(npData[i][j]))\n",
    "            if j%2==0:\n",
    "                newPersonArray[i][0] += applyModelArray[i][j]\n",
    "            else:\n",
    "                newPersonArray[i][1] += applyModelArray[i][j]\n",
    "    \n",
    "    resultData = newPersonArray\n",
    "    return resultData"
   ]
  },
  {
   "cell_type": "markdown",
   "metadata": {},
   "source": [
    "# 최종인원 도출"
   ]
  },
  {
   "cell_type": "code",
   "execution_count": null,
   "metadata": {},
   "outputs": [],
   "source": [
    "def shiftOld(personArray):\n",
    "    dataArray = np.zeros((2,len(personArray[0])))\n",
    "    dataArray[0] = np.roll(personArray[0], 1)  \n",
    "    dataArray[1] = np.roll(personArray[1], 1)\n",
    "    dataArray[0][0] = 0\n",
    "    dataArray[1][0] = 0\n",
    "    \n",
    "    return dataArray\n",
    "\n",
    "def makeResultPersonArray(newPersonArray, tuningSet):\n",
    "    #누적인원 배열\n",
    "    \n",
    "    sizeArray = list(np.shape(newPersonArray))\n",
    "    yearSize = sizeArray[0]\n",
    "    resultPersonArray = np.zeros(sizeArray)\n",
    "\n",
    "    for i in range(yearSize):\n",
    "        if i>0:\n",
    "            # 1살 올리기 / shiftData -> 2 x 100\n",
    "            shiftData = shiftOld(resultPersonArray[i-1])\n",
    "            # 사망률 적용 / aliveData -> 2 x 100\n",
    "            aliveData = makeAlivePerson(shiftData, i)\n",
    "            # 은퇴율 적용 / workData -> 2 x 100\n",
    "            workData = makeWorkPerson(aliveData, tuningSet)\n",
    "            # 최종 계산\n",
    "            resultPersonArray[i] =  workData + newPersonArray[i]\n",
    "        else:\n",
    "            resultPersonArray[i] =  newPersonArray[i]\n",
    "            \n",
    "            \n",
    "    return resultPersonArray"
   ]
  },
  {
   "cell_type": "markdown",
   "metadata": {},
   "source": [
    "# 연령별 합산"
   ]
  },
  {
   "cell_type": "code",
   "execution_count": null,
   "metadata": {},
   "outputs": [],
   "source": [
    "def sumPeopleUseAge(npData):\n",
    "    yearSize = len(npData)\n",
    "    \n",
    "    resultData = np.zeros([yearSize, 3, 12])\n",
    "    \n",
    "    for i in range(yearSize):\n",
    "        for j in range(2):\n",
    "            # 남/여 소계 계산\n",
    "            resultData[i][j][0] = np.sum(npData[i][j])\n",
    "            resultData[i][j][1] = np.sum(npData[i][j][0:30])\n",
    "            resultData[i][j][2] = np.sum(npData[i][j][30:40])\n",
    "            resultData[i][j][3] = np.sum(npData[i][j][40:50])\n",
    "            resultData[i][j][4] = np.sum(npData[i][j][50:60])\n",
    "            resultData[i][j][5] = np.sum(npData[i][j][60:])\n",
    "            \n",
    "            # 남/여 비율 계산\n",
    "            for n in range(6):\n",
    "                resultData[i][j][6+n] = resultData[i][j][n]/resultData[i][2][0] if resultData[i][2][0] > 0 else 0\n",
    "        \n",
    "        for j in range(6):\n",
    "            # 합계 계산\n",
    "            resultData[i][2][j] = resultData[i][0][j] + resultData[i][1][j]  \n",
    "            # 합계 비율 계산\n",
    "            resultData[i][2][6+j] = resultData[i][2][j]/resultData[i][2][0] if resultData[i][2][0] > 0 else 0\n",
    "            # 남/여 비율 계산\n",
    "            resultData[i][0][6+j] = resultData[i][0][j]/resultData[i][2][0] if resultData[i][2][0] > 0 else 0\n",
    "            resultData[i][1][6+j] = resultData[i][1][j]/resultData[i][2][0] if resultData[i][2][0] > 0 else 0\n",
    "\n",
    "\n",
    "    return resultData"
   ]
  },
  {
   "cell_type": "markdown",
   "metadata": {},
   "source": [
    "# 코스트 계산"
   ]
  },
  {
   "cell_type": "code",
   "execution_count": null,
   "metadata": {},
   "outputs": [],
   "source": [
    "def calculateCost(npData):   \n",
    "    resultData = np.zeros([6,5,5])\n",
    "\n",
    "    for i in range(6):\n",
    "        manNumCost = npData[39-i][0][1:6] - npAgeData[5-i][8:13]\n",
    "        womanNumCost = npData[39-i][1][1:6] - npAgeData[5-i][14:19]\n",
    "        totalNumCost = npData[39-i][2][1:6] - npAgeData[5-i][2:7]\n",
    "        \n",
    "        manRateCost = npData[39-i][0][7:12] - npAgeData[5-i][26:31]\n",
    "        womanRateCost = npData[39-i][1][7:12] - npAgeData[5-i][32:37]\n",
    "        \n",
    "        npCostArray = np.array([manNumCost, womanNumCost, totalNumCost, \n",
    "                    manRateCost, womanRateCost])\n",
    "\n",
    "        resultData[i] = npCostArray\n",
    "\n",
    "    return resultData"
   ]
  },
  {
   "cell_type": "code",
   "execution_count": null,
   "metadata": {},
   "outputs": [],
   "source": [
    "def getCost(npData, tuningSet):\n",
    "    newPerson = makeNewPerson(npData, tuningSet[0])\n",
    "    resultPerson = makeResultPersonArray(newPerson,tuningSet[1])\n",
    "    # sumData -> 43 x 3 x 12\n",
    "    sumData = sumPeopleUseAge(resultPerson)\n",
    "    costData = calculateCost(sumData)\n",
    "    \n",
    "    return [sumData, costData]"
   ]
  },
  {
   "cell_type": "code",
   "execution_count": null,
   "metadata": {},
   "outputs": [],
   "source": [
    "tuningSetAgeRate = [[0.9,0.7,0.1,0.1,0.9,0.7],[26,26,28,28,27,27],[39, 39, 39, 39, 39, 39]]\n",
    "tuningSetRetireRate = [[1.1, 1.1],[30, 30],[0.1, 0.1]]\n",
    "tuningSet = [tuningSetAgeRate, tuningSetRetireRate]\n",
    "\n",
    "newPerson = makeNewPerson(npData, tuningSet[0])\n",
    "deathPersonList = []\n",
    "retirePersonList = []\n",
    "\n",
    "resultPersonArray = np.zeros([71,2,100])\n",
    "\n",
    "for i in range(71):\n",
    "    if i>0:\n",
    "        # 1살 올리기 / shiftData -> 2 x 100\n",
    "        shiftData = shiftOld(resultPersonArray[i-1])\n",
    "        # 사망률 적용 / aliveData -> 2 x 100\n",
    "        deathRate = np.array([deathMan[i], deathWoman[i]])\n",
    "        deathPerson = np.around((shiftData*deathRate))\n",
    "        deathPersonList.append(deathPerson)\n",
    "        aliveData = shiftData - deathPerson\n",
    "        # 은퇴율 적용 / workData -> 2 x 100\n",
    "        valueList = np.zeros([2,100])\n",
    "        c1 = tuningSetRetireRate[2][0]/((tuningSetRetireRate[0][0]**(100-tuningSetRetireRate[1][0]))-1)\n",
    "        c2 = tuningSetRetireRate[2][1]/((tuningSetRetireRate[0][1]**(100-tuningSetRetireRate[1][1]))-1)\n",
    "        \n",
    "        for j in range(100):\n",
    "            result1 = ((tuningSetRetireRate[0][0]**(j-tuningSetRetireRate[1][0]))-1)*c1\n",
    "            result2 = ((tuningSetRetireRate[0][1]**(j-tuningSetRetireRate[1][1]))-1)*c2\n",
    "            valueList[0][j] = 0 if result1<0 else 1 if result1>1 else  result1\n",
    "            valueList[1][j] = 0 if result2<0 else 1 if result2>1 else  result2\n",
    "            \n",
    "        retirePerson = np.around(aliveData*valueList)\n",
    "        retirePersonList.append(retirePerson)\n",
    "        workData = aliveData - retirePerson\n",
    "        \n",
    "        # 최종 계산\n",
    "        resultPersonArray[i] =  workData + newPerson[i]\n",
    "        \n",
    "    else:\n",
    "        resultPersonArray[i] =  newPerson[i]\n",
    "            \n"
   ]
  },
  {
   "cell_type": "code",
   "execution_count": null,
   "metadata": {},
   "outputs": [],
   "source": [
    "resultPersonArray[70]"
   ]
  },
  {
   "cell_type": "code",
   "execution_count": null,
   "metadata": {
    "scrolled": true
   },
   "outputs": [],
   "source": [
    "sexList = []\n",
    "yearList = []\n",
    "sumList = []\n",
    "dfDPResult = pd.DataFrame([])\n",
    "\n",
    "for i in range(42):\n",
    "    for j in range(2):\n",
    "        dfDPResult = pd.concat([dfDPResult,pd.DataFrame(deathPersonList[i][j]).T])\n",
    "        sumList.append(np.sum(np.array(dfDPResult[(i*2)+j])))\n",
    "        yearList.append(i+1977)\n",
    "        if j%2==0:\n",
    "            sexList.append('남성')\n",
    "        else:\n",
    "            sexList.append('여성')\n",
    "\n",
    "# dfResult.columns = ['합계', '0~29', '30~39', '40~49', '50~59', '60~', '합계/비율', '0~29/비율','30~39/비율', '40~49/비율', '50~59/비율', '60~']\n",
    "dfDPResult.insert(0,'성별',sexList,True)\n",
    "dfDPResult.insert(0,'연도',yearList,True)\n",
    "dfDPResult.insert(0,'합계',sumList,True)\n",
    "#dfDPResult.groupby(['연도', '성별']).sum()"
   ]
  },
  {
   "cell_type": "code",
   "execution_count": null,
   "metadata": {},
   "outputs": [],
   "source": [
    "dfDPResult.groupby(['연도','성별']).sum()"
   ]
  },
  {
   "cell_type": "code",
   "execution_count": null,
   "metadata": {},
   "outputs": [],
   "source": []
  },
  {
   "cell_type": "code",
   "execution_count": null,
   "metadata": {},
   "outputs": [],
   "source": [
    "def makeFigure():\n",
    "    fig = px.bar(dataDf,\n",
    "                 x='값',\n",
    "                 y='과목', \n",
    "                 height=1000,\n",
    "                 range_x=[0,16000],\n",
    "                 color='지역',\n",
    "                 animation_frame='년도'\n",
    "                )\n",
    "    fig.update_layout(\n",
    "                        margin=dict(l=0, r=0, t=100, b=0),\n",
    "                        font=dict(family='Malgun Gothic', size=13,color='rgb(67, 67, 67)'),\n",
    "                        yaxis = dict(categoryorder='total ascending')\n",
    "                    )\n",
    "    \n",
    "    return fig\n",
    "\n",
    "makeFigure()"
   ]
  },
  {
   "cell_type": "code",
   "execution_count": null,
   "metadata": {},
   "outputs": [],
   "source": []
  },
  {
   "cell_type": "markdown",
   "metadata": {},
   "source": [
    "subject_doct = pd.read_excel('../../data/시도별_전문과목별_전문의_현황_2005-2018_2.xlsx',thousands = ',')\n",
    "subject_doct = subject_doct.fillna(0)\n",
    "subject_doct = subject_doct.replace('-', 0)\n",
    "\n",
    "dataList = []\n",
    "\n",
    "for i in subject_doct.index:\n",
    "    for j in range(len(subject_doct.columns[2:])):  \n",
    "        subject = subject_doct.iloc[i,0]\n",
    "        year = subject_doct.iloc[i,1]\n",
    "        local = subject_doct.columns[j+2]\n",
    "        value = subject_doct.iloc[i,j+2]\n",
    "        if local=='계':\n",
    "            continue\n",
    "        if subject=='계':\n",
    "            continue  \n",
    "        dataDict = {'과목':subject,'년도':year,'지역':local,'값':value}\n",
    "        dataList.append(dataDict)\n",
    "        \n",
    "subject_doct[subject_doct['년도']==2012]"
   ]
  },
  {
   "cell_type": "markdown",
   "metadata": {},
   "source": [
    "dataDf = pd.DataFrame(dataList)\n",
    "dataDf"
   ]
  },
  {
   "cell_type": "markdown",
   "metadata": {
    "scrolled": false
   },
   "source": [
    "def makeFigure():\n",
    "    fig = px.bar(dataDf,\n",
    "                 x='값',\n",
    "                 y='과목', \n",
    "                 height=1000,\n",
    "                 range_x=[0,16000],\n",
    "                 color='지역',\n",
    "                 animation_frame='년도'\n",
    "                )\n",
    "    fig.update_layout(\n",
    "                        margin=dict(l=0, r=0, t=100, b=0),\n",
    "                        font=dict(family='Malgun Gothic', size=13,color='rgb(67, 67, 67)'),\n",
    "                        yaxis = dict(categoryorder='total ascending')\n",
    "                    )\n",
    "    \n",
    "    return fig\n",
    "\n",
    "makeFigure()"
   ]
  },
  {
   "cell_type": "markdown",
   "metadata": {},
   "source": [
    "external_stylesheets = ['https://codepen.io/chriddyp/pen/bWLwgP.css']\n",
    "\n",
    "app = dash.Dash()\n",
    "app.layout = html.Div([\n",
    "    dcc.Graph(figure=makeFigure())\n",
    "])\n",
    "\n",
    "app.run_server(debug=False, use_reloader=False)"
   ]
  },
  {
   "cell_type": "markdown",
   "metadata": {},
   "source": [
    "import pymongo\n",
    "from pymongo import MongoClient\n",
    "\n",
    "# DB 연결\n",
    "myclient = MongoClient('218.150.247.209:2017',\n",
    "                       username='unsik',\n",
    "                       password='next1004',\n",
    "                       authSource='admin',\n",
    "                       authMechanism='SCRAM-SHA-256')\n",
    "\n",
    "myDB = myclient['FriDB']\n",
    "collection = myDB['Population']"
   ]
  },
  {
   "cell_type": "markdown",
   "metadata": {},
   "source": [
    "dataDF = pd.DataFrame(collection.find({},{'_id':0}))\n",
    "dataDF = dataDf[dataDf['구간']=='총 인구수']\n",
    "dataDFall = dataDf[dataDf['행정기관']=='전국']\n",
    "dataDFall"
   ]
  }
 ],
 "metadata": {
  "kernelspec": {
   "display_name": "Python 3",
   "language": "python",
   "name": "python3"
  },
  "language_info": {
   "codemirror_mode": {
    "name": "ipython",
    "version": 3
   },
   "file_extension": ".py",
   "mimetype": "text/x-python",
   "name": "python",
   "nbconvert_exporter": "python",
   "pygments_lexer": "ipython3",
   "version": "3.6.9"
  }
 },
 "nbformat": 4,
 "nbformat_minor": 4
}
