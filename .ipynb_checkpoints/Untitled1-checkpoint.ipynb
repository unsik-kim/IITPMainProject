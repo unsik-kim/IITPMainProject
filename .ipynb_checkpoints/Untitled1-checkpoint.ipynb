{
 "cells": [
  {
   "cell_type": "code",
   "execution_count": 32,
   "metadata": {},
   "outputs": [],
   "source": [
    "import dash\n",
    "import dash_core_components as dcc\n",
    "import dash_html_components as html\n",
    "from dash.dependencies import Input, Output\n",
    "import plotly.express as px\n",
    "import connectDB\n",
    "import pandas as pd\n",
    "import plotly.graph_objects as go\n",
    "\n",
    "# DB 연결\n",
    "myclient = connectDB.connectDB()\n",
    "\n",
    "myDB = myclient['FriDB']\n",
    "popCol = myDB['Population']\n",
    "csdCol = myDB['CitiSubjectDoc']\n",
    "\n",
    "popDF = pd.DataFrame(popCol.find({}, {'_id': 0}))\n",
    "csdDF = pd.DataFrame(csdCol.find({}, {'_id': 0}))"
   ]
  },
  {
   "cell_type": "code",
   "execution_count": 30,
   "metadata": {},
   "outputs": [],
   "source": [
    "def makeFigure():\n",
    "    \n",
    "    \n",
    "    fig = px.bar(csdDF,\n",
    "                 x='값',\n",
    "                 y='과목',\n",
    "                 height=1000,\n",
    "                 range_x=[0, 16000],\n",
    "                 orientation='h',\n",
    "                 color='지역',\n",
    "                 animation_frame='년도'\n",
    "                 )\n",
    "\n",
    "    fig.update_layout(\n",
    "        margin=dict(l=0, r=0, t=100, b=0),\n",
    "        font=dict(family='Malgun Gothic', size=13, color='rgb(67, 67, 67)'),\n",
    "        yaxis=dict(categoryorder='total ascending'),\n",
    "        updatemenus=[{'buttons': [{'args': [None, {'frame': {'duration':\n",
    "                                                             1000, 'redraw': True}, 'mode':\n",
    "                                                   'immediate', 'fromcurrent':\n",
    "                                                   True, 'transition':\n",
    "                                                   {'duration': 1000, 'easing':\n",
    "                                                       'quadratic-in-out'}}]}]}]\n",
    "    )\n",
    "\n",
    "    return fig"
   ]
  },
  {
   "cell_type": "code",
   "execution_count": 41,
   "metadata": {},
   "outputs": [
    {
     "data": {
      "text/html": [
       "<div>\n",
       "<style scoped>\n",
       "    .dataframe tbody tr th:only-of-type {\n",
       "        vertical-align: middle;\n",
       "    }\n",
       "\n",
       "    .dataframe tbody tr th {\n",
       "        vertical-align: top;\n",
       "    }\n",
       "\n",
       "    .dataframe thead th {\n",
       "        text-align: right;\n",
       "    }\n",
       "</style>\n",
       "<table border=\"1\" class=\"dataframe\">\n",
       "  <thead>\n",
       "    <tr style=\"text-align: right;\">\n",
       "      <th></th>\n",
       "    </tr>\n",
       "  </thead>\n",
       "  <tbody>\n",
       "  </tbody>\n",
       "</table>\n",
       "</div>"
      ],
      "text/plain": [
       "Empty DataFrame\n",
       "Columns: []\n",
       "Index: []"
      ]
     },
     "execution_count": 41,
     "metadata": {},
     "output_type": "execute_result"
    }
   ],
   "source": []
  }
 ],
 "metadata": {
  "kernelspec": {
   "display_name": "Python 3",
   "language": "python",
   "name": "python3"
  },
  "language_info": {
   "codemirror_mode": {
    "name": "ipython",
    "version": 3
   },
   "file_extension": ".py",
   "mimetype": "text/x-python",
   "name": "python",
   "nbconvert_exporter": "python",
   "pygments_lexer": "ipython3",
   "version": "3.8.5"
  }
 },
 "nbformat": 4,
 "nbformat_minor": 4
}
