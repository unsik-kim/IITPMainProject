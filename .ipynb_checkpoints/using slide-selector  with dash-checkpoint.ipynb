{
 "cells": [
  {
   "cell_type": "code",
   "execution_count": 134,
   "metadata": {},
   "outputs": [],
   "source": [
    "import dash\n",
    "import dash_core_components as dcc\n",
    "import dash_html_components as html\n",
    "from dash.dependencies import Input, Output\n",
    "import plotly.express as px\n",
    "\n",
    "import pandas as pd\n",
    "import plotly.graph_objects as go\n"
   ]
  },
  {
   "cell_type": "code",
   "execution_count": 135,
   "metadata": {},
   "outputs": [
    {
     "data": {
      "text/html": [
       "<div>\n",
       "<style scoped>\n",
       "    .dataframe tbody tr th:only-of-type {\n",
       "        vertical-align: middle;\n",
       "    }\n",
       "\n",
       "    .dataframe tbody tr th {\n",
       "        vertical-align: top;\n",
       "    }\n",
       "\n",
       "    .dataframe thead th {\n",
       "        text-align: right;\n",
       "    }\n",
       "</style>\n",
       "<table border=\"1\" class=\"dataframe\">\n",
       "  <thead>\n",
       "    <tr style=\"text-align: right;\">\n",
       "      <th></th>\n",
       "      <th>서울</th>\n",
       "      <th>부산</th>\n",
       "      <th>대구</th>\n",
       "      <th>인천</th>\n",
       "      <th>광주</th>\n",
       "      <th>대전</th>\n",
       "      <th>울산</th>\n",
       "      <th>세종</th>\n",
       "      <th>경기</th>\n",
       "      <th>강원</th>\n",
       "      <th>충북</th>\n",
       "      <th>충남</th>\n",
       "      <th>전북</th>\n",
       "      <th>전남</th>\n",
       "      <th>경북</th>\n",
       "      <th>경남</th>\n",
       "      <th>제주</th>\n",
       "    </tr>\n",
       "    <tr>\n",
       "      <th>과목</th>\n",
       "      <th></th>\n",
       "      <th></th>\n",
       "      <th></th>\n",
       "      <th></th>\n",
       "      <th></th>\n",
       "      <th></th>\n",
       "      <th></th>\n",
       "      <th></th>\n",
       "      <th></th>\n",
       "      <th></th>\n",
       "      <th></th>\n",
       "      <th></th>\n",
       "      <th></th>\n",
       "      <th></th>\n",
       "      <th></th>\n",
       "      <th></th>\n",
       "      <th></th>\n",
       "    </tr>\n",
       "  </thead>\n",
       "  <tbody>\n",
       "    <tr>\n",
       "      <th>내과</th>\n",
       "      <td>4183</td>\n",
       "      <td>1319</td>\n",
       "      <td>901</td>\n",
       "      <td>795</td>\n",
       "      <td>559</td>\n",
       "      <td>544</td>\n",
       "      <td>270</td>\n",
       "      <td>39</td>\n",
       "      <td>3160</td>\n",
       "      <td>395</td>\n",
       "      <td>344</td>\n",
       "      <td>426</td>\n",
       "      <td>559</td>\n",
       "      <td>451</td>\n",
       "      <td>549</td>\n",
       "      <td>872</td>\n",
       "      <td>161</td>\n",
       "    </tr>\n",
       "    <tr>\n",
       "      <th>신경과</th>\n",
       "      <td>454</td>\n",
       "      <td>130</td>\n",
       "      <td>134</td>\n",
       "      <td>75</td>\n",
       "      <td>61</td>\n",
       "      <td>79</td>\n",
       "      <td>24</td>\n",
       "      <td>4</td>\n",
       "      <td>358</td>\n",
       "      <td>43</td>\n",
       "      <td>41</td>\n",
       "      <td>55</td>\n",
       "      <td>62</td>\n",
       "      <td>56</td>\n",
       "      <td>89</td>\n",
       "      <td>126</td>\n",
       "      <td>23</td>\n",
       "    </tr>\n",
       "    <tr>\n",
       "      <th>정신과</th>\n",
       "      <td>818</td>\n",
       "      <td>267</td>\n",
       "      <td>188</td>\n",
       "      <td>158</td>\n",
       "      <td>110</td>\n",
       "      <td>118</td>\n",
       "      <td>57</td>\n",
       "      <td>9</td>\n",
       "      <td>741</td>\n",
       "      <td>101</td>\n",
       "      <td>105</td>\n",
       "      <td>123</td>\n",
       "      <td>131</td>\n",
       "      <td>123</td>\n",
       "      <td>175</td>\n",
       "      <td>245</td>\n",
       "      <td>37</td>\n",
       "    </tr>\n",
       "    <tr>\n",
       "      <th>외과</th>\n",
       "      <td>1419</td>\n",
       "      <td>499</td>\n",
       "      <td>350</td>\n",
       "      <td>300</td>\n",
       "      <td>209</td>\n",
       "      <td>187</td>\n",
       "      <td>115</td>\n",
       "      <td>15</td>\n",
       "      <td>1158</td>\n",
       "      <td>165</td>\n",
       "      <td>166</td>\n",
       "      <td>222</td>\n",
       "      <td>241</td>\n",
       "      <td>256</td>\n",
       "      <td>297</td>\n",
       "      <td>358</td>\n",
       "      <td>66</td>\n",
       "    </tr>\n",
       "    <tr>\n",
       "      <th>정형외과</th>\n",
       "      <td>1460</td>\n",
       "      <td>488</td>\n",
       "      <td>336</td>\n",
       "      <td>349</td>\n",
       "      <td>211</td>\n",
       "      <td>219</td>\n",
       "      <td>106</td>\n",
       "      <td>13</td>\n",
       "      <td>1359</td>\n",
       "      <td>163</td>\n",
       "      <td>163</td>\n",
       "      <td>189</td>\n",
       "      <td>205</td>\n",
       "      <td>190</td>\n",
       "      <td>242</td>\n",
       "      <td>349</td>\n",
       "      <td>75</td>\n",
       "    </tr>\n",
       "    <tr>\n",
       "      <th>신경외과</th>\n",
       "      <td>627</td>\n",
       "      <td>202</td>\n",
       "      <td>170</td>\n",
       "      <td>158</td>\n",
       "      <td>114</td>\n",
       "      <td>91</td>\n",
       "      <td>46</td>\n",
       "      <td>8</td>\n",
       "      <td>551</td>\n",
       "      <td>88</td>\n",
       "      <td>88</td>\n",
       "      <td>84</td>\n",
       "      <td>99</td>\n",
       "      <td>87</td>\n",
       "      <td>127</td>\n",
       "      <td>181</td>\n",
       "      <td>29</td>\n",
       "    </tr>\n",
       "    <tr>\n",
       "      <th>흉부외과</th>\n",
       "      <td>285</td>\n",
       "      <td>87</td>\n",
       "      <td>50</td>\n",
       "      <td>55</td>\n",
       "      <td>32</td>\n",
       "      <td>47</td>\n",
       "      <td>24</td>\n",
       "      <td>4</td>\n",
       "      <td>191</td>\n",
       "      <td>31</td>\n",
       "      <td>30</td>\n",
       "      <td>37</td>\n",
       "      <td>33</td>\n",
       "      <td>50</td>\n",
       "      <td>49</td>\n",
       "      <td>65</td>\n",
       "      <td>18</td>\n",
       "    </tr>\n",
       "    <tr>\n",
       "      <th>성형외과</th>\n",
       "      <td>936</td>\n",
       "      <td>144</td>\n",
       "      <td>122</td>\n",
       "      <td>56</td>\n",
       "      <td>48</td>\n",
       "      <td>61</td>\n",
       "      <td>32</td>\n",
       "      <td>5</td>\n",
       "      <td>231</td>\n",
       "      <td>34</td>\n",
       "      <td>30</td>\n",
       "      <td>30</td>\n",
       "      <td>45</td>\n",
       "      <td>28</td>\n",
       "      <td>42</td>\n",
       "      <td>51</td>\n",
       "      <td>27</td>\n",
       "    </tr>\n",
       "    <tr>\n",
       "      <th>마취통증의학과</th>\n",
       "      <td>1263</td>\n",
       "      <td>348</td>\n",
       "      <td>238</td>\n",
       "      <td>203</td>\n",
       "      <td>157</td>\n",
       "      <td>137</td>\n",
       "      <td>73</td>\n",
       "      <td>10</td>\n",
       "      <td>884</td>\n",
       "      <td>119</td>\n",
       "      <td>119</td>\n",
       "      <td>125</td>\n",
       "      <td>148</td>\n",
       "      <td>158</td>\n",
       "      <td>177</td>\n",
       "      <td>250</td>\n",
       "      <td>54</td>\n",
       "    </tr>\n",
       "    <tr>\n",
       "      <th>산부인과</th>\n",
       "      <td>1526</td>\n",
       "      <td>442</td>\n",
       "      <td>308</td>\n",
       "      <td>271</td>\n",
       "      <td>213</td>\n",
       "      <td>198</td>\n",
       "      <td>113</td>\n",
       "      <td>17</td>\n",
       "      <td>1224</td>\n",
       "      <td>138</td>\n",
       "      <td>141</td>\n",
       "      <td>185</td>\n",
       "      <td>192</td>\n",
       "      <td>159</td>\n",
       "      <td>209</td>\n",
       "      <td>292</td>\n",
       "      <td>64</td>\n",
       "    </tr>\n",
       "    <tr>\n",
       "      <th>소아과</th>\n",
       "      <td>1241</td>\n",
       "      <td>416</td>\n",
       "      <td>336</td>\n",
       "      <td>297</td>\n",
       "      <td>226</td>\n",
       "      <td>211</td>\n",
       "      <td>112</td>\n",
       "      <td>43</td>\n",
       "      <td>1414</td>\n",
       "      <td>126</td>\n",
       "      <td>137</td>\n",
       "      <td>167</td>\n",
       "      <td>192</td>\n",
       "      <td>147</td>\n",
       "      <td>204</td>\n",
       "      <td>337</td>\n",
       "      <td>64</td>\n",
       "    </tr>\n",
       "    <tr>\n",
       "      <th>안과</th>\n",
       "      <td>998</td>\n",
       "      <td>289</td>\n",
       "      <td>205</td>\n",
       "      <td>151</td>\n",
       "      <td>102</td>\n",
       "      <td>111</td>\n",
       "      <td>61</td>\n",
       "      <td>11</td>\n",
       "      <td>629</td>\n",
       "      <td>83</td>\n",
       "      <td>78</td>\n",
       "      <td>97</td>\n",
       "      <td>112</td>\n",
       "      <td>81</td>\n",
       "      <td>130</td>\n",
       "      <td>162</td>\n",
       "      <td>40</td>\n",
       "    </tr>\n",
       "    <tr>\n",
       "      <th>이비인후과</th>\n",
       "      <td>1068</td>\n",
       "      <td>302</td>\n",
       "      <td>208</td>\n",
       "      <td>189</td>\n",
       "      <td>131</td>\n",
       "      <td>125</td>\n",
       "      <td>67</td>\n",
       "      <td>19</td>\n",
       "      <td>895</td>\n",
       "      <td>87</td>\n",
       "      <td>94</td>\n",
       "      <td>99</td>\n",
       "      <td>103</td>\n",
       "      <td>86</td>\n",
       "      <td>129</td>\n",
       "      <td>189</td>\n",
       "      <td>44</td>\n",
       "    </tr>\n",
       "    <tr>\n",
       "      <th>피부과</th>\n",
       "      <td>822</td>\n",
       "      <td>146</td>\n",
       "      <td>129</td>\n",
       "      <td>86</td>\n",
       "      <td>80</td>\n",
       "      <td>78</td>\n",
       "      <td>32</td>\n",
       "      <td>5</td>\n",
       "      <td>437</td>\n",
       "      <td>35</td>\n",
       "      <td>38</td>\n",
       "      <td>46</td>\n",
       "      <td>57</td>\n",
       "      <td>33</td>\n",
       "      <td>35</td>\n",
       "      <td>79</td>\n",
       "      <td>19</td>\n",
       "    </tr>\n",
       "    <tr>\n",
       "      <th>비뇨기과</th>\n",
       "      <td>696</td>\n",
       "      <td>192</td>\n",
       "      <td>151</td>\n",
       "      <td>123</td>\n",
       "      <td>93</td>\n",
       "      <td>80</td>\n",
       "      <td>53</td>\n",
       "      <td>9</td>\n",
       "      <td>535</td>\n",
       "      <td>59</td>\n",
       "      <td>66</td>\n",
       "      <td>80</td>\n",
       "      <td>74</td>\n",
       "      <td>73</td>\n",
       "      <td>99</td>\n",
       "      <td>142</td>\n",
       "      <td>26</td>\n",
       "    </tr>\n",
       "    <tr>\n",
       "      <th>진단방사선과</th>\n",
       "      <td>1229</td>\n",
       "      <td>242</td>\n",
       "      <td>176</td>\n",
       "      <td>139</td>\n",
       "      <td>114</td>\n",
       "      <td>135</td>\n",
       "      <td>66</td>\n",
       "      <td>2</td>\n",
       "      <td>707</td>\n",
       "      <td>80</td>\n",
       "      <td>84</td>\n",
       "      <td>100</td>\n",
       "      <td>122</td>\n",
       "      <td>116</td>\n",
       "      <td>108</td>\n",
       "      <td>186</td>\n",
       "      <td>34</td>\n",
       "    </tr>\n",
       "    <tr>\n",
       "      <th>방사선종양학과</th>\n",
       "      <td>108</td>\n",
       "      <td>24</td>\n",
       "      <td>17</td>\n",
       "      <td>12</td>\n",
       "      <td>3</td>\n",
       "      <td>11</td>\n",
       "      <td>2</td>\n",
       "      <td>0</td>\n",
       "      <td>52</td>\n",
       "      <td>11</td>\n",
       "      <td>4</td>\n",
       "      <td>6</td>\n",
       "      <td>9</td>\n",
       "      <td>8</td>\n",
       "      <td>11</td>\n",
       "      <td>12</td>\n",
       "      <td>4</td>\n",
       "    </tr>\n",
       "    <tr>\n",
       "      <th>병리과</th>\n",
       "      <td>290</td>\n",
       "      <td>68</td>\n",
       "      <td>55</td>\n",
       "      <td>39</td>\n",
       "      <td>27</td>\n",
       "      <td>31</td>\n",
       "      <td>12</td>\n",
       "      <td>2</td>\n",
       "      <td>165</td>\n",
       "      <td>18</td>\n",
       "      <td>15</td>\n",
       "      <td>15</td>\n",
       "      <td>21</td>\n",
       "      <td>12</td>\n",
       "      <td>16</td>\n",
       "      <td>40</td>\n",
       "      <td>9</td>\n",
       "    </tr>\n",
       "    <tr>\n",
       "      <th>진단검사의학과</th>\n",
       "      <td>264</td>\n",
       "      <td>62</td>\n",
       "      <td>47</td>\n",
       "      <td>44</td>\n",
       "      <td>35</td>\n",
       "      <td>26</td>\n",
       "      <td>13</td>\n",
       "      <td>0</td>\n",
       "      <td>167</td>\n",
       "      <td>21</td>\n",
       "      <td>20</td>\n",
       "      <td>22</td>\n",
       "      <td>22</td>\n",
       "      <td>28</td>\n",
       "      <td>25</td>\n",
       "      <td>35</td>\n",
       "      <td>10</td>\n",
       "    </tr>\n",
       "    <tr>\n",
       "      <th>결핵과</th>\n",
       "      <td>21</td>\n",
       "      <td>2</td>\n",
       "      <td>0</td>\n",
       "      <td>2</td>\n",
       "      <td>0</td>\n",
       "      <td>3</td>\n",
       "      <td>1</td>\n",
       "      <td>0</td>\n",
       "      <td>18</td>\n",
       "      <td>3</td>\n",
       "      <td>0</td>\n",
       "      <td>0</td>\n",
       "      <td>1</td>\n",
       "      <td>3</td>\n",
       "      <td>3</td>\n",
       "      <td>2</td>\n",
       "      <td>1</td>\n",
       "    </tr>\n",
       "    <tr>\n",
       "      <th>재활의학과</th>\n",
       "      <td>481</td>\n",
       "      <td>148</td>\n",
       "      <td>96</td>\n",
       "      <td>111</td>\n",
       "      <td>70</td>\n",
       "      <td>99</td>\n",
       "      <td>28</td>\n",
       "      <td>4</td>\n",
       "      <td>462</td>\n",
       "      <td>49</td>\n",
       "      <td>57</td>\n",
       "      <td>57</td>\n",
       "      <td>84</td>\n",
       "      <td>50</td>\n",
       "      <td>73</td>\n",
       "      <td>120</td>\n",
       "      <td>36</td>\n",
       "    </tr>\n",
       "    <tr>\n",
       "      <th>핵의학과</th>\n",
       "      <td>83</td>\n",
       "      <td>20</td>\n",
       "      <td>18</td>\n",
       "      <td>10</td>\n",
       "      <td>8</td>\n",
       "      <td>7</td>\n",
       "      <td>3</td>\n",
       "      <td>0</td>\n",
       "      <td>32</td>\n",
       "      <td>5</td>\n",
       "      <td>3</td>\n",
       "      <td>7</td>\n",
       "      <td>10</td>\n",
       "      <td>15</td>\n",
       "      <td>3</td>\n",
       "      <td>6</td>\n",
       "      <td>3</td>\n",
       "    </tr>\n",
       "    <tr>\n",
       "      <th>가정의학과</th>\n",
       "      <td>1660</td>\n",
       "      <td>497</td>\n",
       "      <td>312</td>\n",
       "      <td>297</td>\n",
       "      <td>245</td>\n",
       "      <td>238</td>\n",
       "      <td>108</td>\n",
       "      <td>26</td>\n",
       "      <td>1351</td>\n",
       "      <td>123</td>\n",
       "      <td>197</td>\n",
       "      <td>225</td>\n",
       "      <td>287</td>\n",
       "      <td>234</td>\n",
       "      <td>259</td>\n",
       "      <td>293</td>\n",
       "      <td>89</td>\n",
       "    </tr>\n",
       "    <tr>\n",
       "      <th>응급의학과</th>\n",
       "      <td>318</td>\n",
       "      <td>74</td>\n",
       "      <td>43</td>\n",
       "      <td>117</td>\n",
       "      <td>73</td>\n",
       "      <td>54</td>\n",
       "      <td>31</td>\n",
       "      <td>2</td>\n",
       "      <td>374</td>\n",
       "      <td>62</td>\n",
       "      <td>43</td>\n",
       "      <td>72</td>\n",
       "      <td>69</td>\n",
       "      <td>61</td>\n",
       "      <td>102</td>\n",
       "      <td>93</td>\n",
       "      <td>45</td>\n",
       "    </tr>\n",
       "    <tr>\n",
       "      <th>직업환경의학과</th>\n",
       "      <td>68</td>\n",
       "      <td>41</td>\n",
       "      <td>15</td>\n",
       "      <td>43</td>\n",
       "      <td>8</td>\n",
       "      <td>21</td>\n",
       "      <td>27</td>\n",
       "      <td>0</td>\n",
       "      <td>92</td>\n",
       "      <td>8</td>\n",
       "      <td>23</td>\n",
       "      <td>27</td>\n",
       "      <td>12</td>\n",
       "      <td>21</td>\n",
       "      <td>34</td>\n",
       "      <td>65</td>\n",
       "      <td>4</td>\n",
       "    </tr>\n",
       "    <tr>\n",
       "      <th>예방의학과</th>\n",
       "      <td>34</td>\n",
       "      <td>16</td>\n",
       "      <td>15</td>\n",
       "      <td>5</td>\n",
       "      <td>8</td>\n",
       "      <td>6</td>\n",
       "      <td>8</td>\n",
       "      <td>0</td>\n",
       "      <td>36</td>\n",
       "      <td>4</td>\n",
       "      <td>2</td>\n",
       "      <td>5</td>\n",
       "      <td>5</td>\n",
       "      <td>7</td>\n",
       "      <td>17</td>\n",
       "      <td>11</td>\n",
       "      <td>2</td>\n",
       "    </tr>\n",
       "  </tbody>\n",
       "</table>\n",
       "</div>"
      ],
      "text/plain": [
       "           서울    부산   대구   인천   광주   대전   울산  세종    경기   강원   충북   충남   전북  \\\n",
       "과목                                                                           \n",
       "내과       4183  1319  901  795  559  544  270  39  3160  395  344  426  559   \n",
       "신경과       454   130  134   75   61   79   24   4   358   43   41   55   62   \n",
       "정신과       818   267  188  158  110  118   57   9   741  101  105  123  131   \n",
       "외과       1419   499  350  300  209  187  115  15  1158  165  166  222  241   \n",
       "정형외과     1460   488  336  349  211  219  106  13  1359  163  163  189  205   \n",
       "신경외과      627   202  170  158  114   91   46   8   551   88   88   84   99   \n",
       "흉부외과      285    87   50   55   32   47   24   4   191   31   30   37   33   \n",
       "성형외과      936   144  122   56   48   61   32   5   231   34   30   30   45   \n",
       "마취통증의학과  1263   348  238  203  157  137   73  10   884  119  119  125  148   \n",
       "산부인과     1526   442  308  271  213  198  113  17  1224  138  141  185  192   \n",
       "소아과      1241   416  336  297  226  211  112  43  1414  126  137  167  192   \n",
       "안과        998   289  205  151  102  111   61  11   629   83   78   97  112   \n",
       "이비인후과    1068   302  208  189  131  125   67  19   895   87   94   99  103   \n",
       "피부과       822   146  129   86   80   78   32   5   437   35   38   46   57   \n",
       "비뇨기과      696   192  151  123   93   80   53   9   535   59   66   80   74   \n",
       "진단방사선과   1229   242  176  139  114  135   66   2   707   80   84  100  122   \n",
       "방사선종양학과   108    24   17   12    3   11    2   0    52   11    4    6    9   \n",
       "병리과       290    68   55   39   27   31   12   2   165   18   15   15   21   \n",
       "진단검사의학과   264    62   47   44   35   26   13   0   167   21   20   22   22   \n",
       "결핵과        21     2    0    2    0    3    1   0    18    3    0    0    1   \n",
       "재활의학과     481   148   96  111   70   99   28   4   462   49   57   57   84   \n",
       "핵의학과       83    20   18   10    8    7    3   0    32    5    3    7   10   \n",
       "가정의학과    1660   497  312  297  245  238  108  26  1351  123  197  225  287   \n",
       "응급의학과     318    74   43  117   73   54   31   2   374   62   43   72   69   \n",
       "직업환경의학과    68    41   15   43    8   21   27   0    92    8   23   27   12   \n",
       "예방의학과      34    16   15    5    8    6    8   0    36    4    2    5    5   \n",
       "\n",
       "          전남   경북   경남   제주  \n",
       "과목                           \n",
       "내과       451  549  872  161  \n",
       "신경과       56   89  126   23  \n",
       "정신과      123  175  245   37  \n",
       "외과       256  297  358   66  \n",
       "정형외과     190  242  349   75  \n",
       "신경외과      87  127  181   29  \n",
       "흉부외과      50   49   65   18  \n",
       "성형외과      28   42   51   27  \n",
       "마취통증의학과  158  177  250   54  \n",
       "산부인과     159  209  292   64  \n",
       "소아과      147  204  337   64  \n",
       "안과        81  130  162   40  \n",
       "이비인후과     86  129  189   44  \n",
       "피부과       33   35   79   19  \n",
       "비뇨기과      73   99  142   26  \n",
       "진단방사선과   116  108  186   34  \n",
       "방사선종양학과    8   11   12    4  \n",
       "병리과       12   16   40    9  \n",
       "진단검사의학과   28   25   35   10  \n",
       "결핵과        3    3    2    1  \n",
       "재활의학과     50   73  120   36  \n",
       "핵의학과      15    3    6    3  \n",
       "가정의학과    234  259  293   89  \n",
       "응급의학과     61  102   93   45  \n",
       "직업환경의학과   21   34   65    4  \n",
       "예방의학과      7   17   11    2  "
      ]
     },
     "execution_count": 135,
     "metadata": {},
     "output_type": "execute_result"
    }
   ],
   "source": [
    "subject_doct = pd.read_excel('시도별_전문과목별_전문의_현황_2005-2018_2.xlsx',thousands = ',')\n",
    "\n",
    "dataDict = {}\n",
    "\n",
    "for i in range(2005,2019):\n",
    "    data = subject_doct[subject_doct['년도']==i]\n",
    "    data.fillna(0)\n",
    "    data.reset_index(drop=True)\n",
    "    data.drop(['년도','계'], axis='columns', inplace=True)\n",
    "    data.set_index(data['과목'],inplace = True)\n",
    "    data.drop(['과목'],axis='columns', inplace=True)                 \n",
    "    dataDict.setdefault(str(i), data)\n",
    "    dataDict[str(i)] = dataDict[str(i)].fillna(0)\n",
    "    dataDict[str(i)] = dataDict[str(i)].replace('-', 0)\n",
    "    dataDict[str(i)].drop(['계'], inplace=True)  \n",
    "    \n",
    "dataDict['2018']"
   ]
  },
  {
   "cell_type": "code",
   "execution_count": 156,
   "metadata": {
    "scrolled": false
   },
   "outputs": [
    {
     "name": "stdout",
     "output_type": "stream",
     "text": [
      "Index(['내과', '신경과', '정신과', '외과', '정형외과', '신경외과', '흉부외과', '성형외과', '마취통증의학과',\n",
      "       '산부인과', '소아과', '안과', '이비인후과', '피부과', '비뇨기과', '진단방사선과', '방사선종양학과', '병리과',\n",
      "       '진단검사의학과', '결핵과', '재활의학과', '핵의학과', '가정의학과', '응급의학과', '직업환경의학과',\n",
      "       '예방의학과'],\n",
      "      dtype='object', name='과목')\n"
     ]
    },
    {
     "data": {
      "application/vnd.plotly.v1+json": {
       "config": {
        "plotlyServerURL": "https://plot.ly"
       },
       "data": [
        {
         "marker": {
          "line": {
           "color": "rgb(248, 248, 249)",
           "width": 1
          }
         },
         "orientation": "h",
         "type": "bar",
         "x": [
          4183
         ],
         "y": [
          "내과"
         ]
        },
        {
         "marker": {
          "line": {
           "color": "rgb(248, 248, 249)",
           "width": 1
          }
         },
         "orientation": "h",
         "type": "bar",
         "x": [
          454
         ],
         "y": [
          "신경과"
         ]
        },
        {
         "marker": {
          "line": {
           "color": "rgb(248, 248, 249)",
           "width": 1
          }
         },
         "orientation": "h",
         "type": "bar",
         "x": [
          818
         ],
         "y": [
          "정신과"
         ]
        },
        {
         "marker": {
          "line": {
           "color": "rgb(248, 248, 249)",
           "width": 1
          }
         },
         "orientation": "h",
         "type": "bar",
         "x": [
          1419
         ],
         "y": [
          "외과"
         ]
        },
        {
         "marker": {
          "line": {
           "color": "rgb(248, 248, 249)",
           "width": 1
          }
         },
         "orientation": "h",
         "type": "bar",
         "x": [
          1460
         ],
         "y": [
          "정형외과"
         ]
        },
        {
         "marker": {
          "line": {
           "color": "rgb(248, 248, 249)",
           "width": 1
          }
         },
         "orientation": "h",
         "type": "bar",
         "x": [
          627
         ],
         "y": [
          "신경외과"
         ]
        },
        {
         "marker": {
          "line": {
           "color": "rgb(248, 248, 249)",
           "width": 1
          }
         },
         "orientation": "h",
         "type": "bar",
         "x": [
          285
         ],
         "y": [
          "흉부외과"
         ]
        },
        {
         "marker": {
          "line": {
           "color": "rgb(248, 248, 249)",
           "width": 1
          }
         },
         "orientation": "h",
         "type": "bar",
         "x": [
          936
         ],
         "y": [
          "성형외과"
         ]
        },
        {
         "marker": {
          "line": {
           "color": "rgb(248, 248, 249)",
           "width": 1
          }
         },
         "orientation": "h",
         "type": "bar",
         "x": [
          1263
         ],
         "y": [
          "마취통증의학과"
         ]
        },
        {
         "marker": {
          "line": {
           "color": "rgb(248, 248, 249)",
           "width": 1
          }
         },
         "orientation": "h",
         "type": "bar",
         "x": [
          1526
         ],
         "y": [
          "산부인과"
         ]
        },
        {
         "marker": {
          "line": {
           "color": "rgb(248, 248, 249)",
           "width": 1
          }
         },
         "orientation": "h",
         "type": "bar",
         "x": [
          1241
         ],
         "y": [
          "소아과"
         ]
        },
        {
         "marker": {
          "line": {
           "color": "rgb(248, 248, 249)",
           "width": 1
          }
         },
         "orientation": "h",
         "type": "bar",
         "x": [
          998
         ],
         "y": [
          "안과"
         ]
        },
        {
         "marker": {
          "line": {
           "color": "rgb(248, 248, 249)",
           "width": 1
          }
         },
         "orientation": "h",
         "type": "bar",
         "x": [
          1068
         ],
         "y": [
          "이비인후과"
         ]
        },
        {
         "marker": {
          "line": {
           "color": "rgb(248, 248, 249)",
           "width": 1
          }
         },
         "orientation": "h",
         "type": "bar",
         "x": [
          822
         ],
         "y": [
          "피부과"
         ]
        },
        {
         "marker": {
          "line": {
           "color": "rgb(248, 248, 249)",
           "width": 1
          }
         },
         "orientation": "h",
         "type": "bar",
         "x": [
          696
         ],
         "y": [
          "비뇨기과"
         ]
        },
        {
         "marker": {
          "line": {
           "color": "rgb(248, 248, 249)",
           "width": 1
          }
         },
         "orientation": "h",
         "type": "bar",
         "x": [
          1229
         ],
         "y": [
          "진단방사선과"
         ]
        },
        {
         "marker": {
          "line": {
           "color": "rgb(248, 248, 249)",
           "width": 1
          }
         },
         "orientation": "h",
         "type": "bar",
         "x": [
          108
         ],
         "y": [
          "방사선종양학과"
         ]
        },
        {
         "marker": {
          "line": {
           "color": "rgb(248, 248, 249)",
           "width": 1
          }
         },
         "orientation": "h",
         "type": "bar",
         "x": [
          290
         ],
         "y": [
          "병리과"
         ]
        },
        {
         "marker": {
          "line": {
           "color": "rgb(248, 248, 249)",
           "width": 1
          }
         },
         "orientation": "h",
         "type": "bar",
         "x": [
          264
         ],
         "y": [
          "진단검사의학과"
         ]
        },
        {
         "marker": {
          "line": {
           "color": "rgb(248, 248, 249)",
           "width": 1
          }
         },
         "orientation": "h",
         "type": "bar",
         "x": [
          21
         ],
         "y": [
          "결핵과"
         ]
        },
        {
         "marker": {
          "line": {
           "color": "rgb(248, 248, 249)",
           "width": 1
          }
         },
         "orientation": "h",
         "type": "bar",
         "x": [
          481
         ],
         "y": [
          "재활의학과"
         ]
        },
        {
         "marker": {
          "line": {
           "color": "rgb(248, 248, 249)",
           "width": 1
          }
         },
         "orientation": "h",
         "type": "bar",
         "x": [
          83
         ],
         "y": [
          "핵의학과"
         ]
        },
        {
         "marker": {
          "line": {
           "color": "rgb(248, 248, 249)",
           "width": 1
          }
         },
         "orientation": "h",
         "type": "bar",
         "x": [
          1660
         ],
         "y": [
          "가정의학과"
         ]
        },
        {
         "marker": {
          "line": {
           "color": "rgb(248, 248, 249)",
           "width": 1
          }
         },
         "orientation": "h",
         "type": "bar",
         "x": [
          318
         ],
         "y": [
          "응급의학과"
         ]
        },
        {
         "marker": {
          "line": {
           "color": "rgb(248, 248, 249)",
           "width": 1
          }
         },
         "orientation": "h",
         "type": "bar",
         "x": [
          68
         ],
         "y": [
          "직업환경의학과"
         ]
        },
        {
         "marker": {
          "line": {
           "color": "rgb(248, 248, 249)",
           "width": 1
          }
         },
         "orientation": "h",
         "type": "bar",
         "x": [
          34
         ],
         "y": [
          "예방의학과"
         ]
        },
        {
         "marker": {
          "line": {
           "color": "rgb(248, 248, 249)",
           "width": 1
          }
         },
         "orientation": "h",
         "type": "bar",
         "x": [
          1319
         ],
         "y": [
          "내과"
         ]
        },
        {
         "marker": {
          "line": {
           "color": "rgb(248, 248, 249)",
           "width": 1
          }
         },
         "orientation": "h",
         "type": "bar",
         "x": [
          130
         ],
         "y": [
          "신경과"
         ]
        },
        {
         "marker": {
          "line": {
           "color": "rgb(248, 248, 249)",
           "width": 1
          }
         },
         "orientation": "h",
         "type": "bar",
         "x": [
          267
         ],
         "y": [
          "정신과"
         ]
        },
        {
         "marker": {
          "line": {
           "color": "rgb(248, 248, 249)",
           "width": 1
          }
         },
         "orientation": "h",
         "type": "bar",
         "x": [
          499
         ],
         "y": [
          "외과"
         ]
        },
        {
         "marker": {
          "line": {
           "color": "rgb(248, 248, 249)",
           "width": 1
          }
         },
         "orientation": "h",
         "type": "bar",
         "x": [
          488
         ],
         "y": [
          "정형외과"
         ]
        },
        {
         "marker": {
          "line": {
           "color": "rgb(248, 248, 249)",
           "width": 1
          }
         },
         "orientation": "h",
         "type": "bar",
         "x": [
          202
         ],
         "y": [
          "신경외과"
         ]
        },
        {
         "marker": {
          "line": {
           "color": "rgb(248, 248, 249)",
           "width": 1
          }
         },
         "orientation": "h",
         "type": "bar",
         "x": [
          87
         ],
         "y": [
          "흉부외과"
         ]
        },
        {
         "marker": {
          "line": {
           "color": "rgb(248, 248, 249)",
           "width": 1
          }
         },
         "orientation": "h",
         "type": "bar",
         "x": [
          144
         ],
         "y": [
          "성형외과"
         ]
        },
        {
         "marker": {
          "line": {
           "color": "rgb(248, 248, 249)",
           "width": 1
          }
         },
         "orientation": "h",
         "type": "bar",
         "x": [
          348
         ],
         "y": [
          "마취통증의학과"
         ]
        },
        {
         "marker": {
          "line": {
           "color": "rgb(248, 248, 249)",
           "width": 1
          }
         },
         "orientation": "h",
         "type": "bar",
         "x": [
          442
         ],
         "y": [
          "산부인과"
         ]
        },
        {
         "marker": {
          "line": {
           "color": "rgb(248, 248, 249)",
           "width": 1
          }
         },
         "orientation": "h",
         "type": "bar",
         "x": [
          416
         ],
         "y": [
          "소아과"
         ]
        },
        {
         "marker": {
          "line": {
           "color": "rgb(248, 248, 249)",
           "width": 1
          }
         },
         "orientation": "h",
         "type": "bar",
         "x": [
          289
         ],
         "y": [
          "안과"
         ]
        },
        {
         "marker": {
          "line": {
           "color": "rgb(248, 248, 249)",
           "width": 1
          }
         },
         "orientation": "h",
         "type": "bar",
         "x": [
          302
         ],
         "y": [
          "이비인후과"
         ]
        },
        {
         "marker": {
          "line": {
           "color": "rgb(248, 248, 249)",
           "width": 1
          }
         },
         "orientation": "h",
         "type": "bar",
         "x": [
          146
         ],
         "y": [
          "피부과"
         ]
        },
        {
         "marker": {
          "line": {
           "color": "rgb(248, 248, 249)",
           "width": 1
          }
         },
         "orientation": "h",
         "type": "bar",
         "x": [
          192
         ],
         "y": [
          "비뇨기과"
         ]
        },
        {
         "marker": {
          "line": {
           "color": "rgb(248, 248, 249)",
           "width": 1
          }
         },
         "orientation": "h",
         "type": "bar",
         "x": [
          242
         ],
         "y": [
          "진단방사선과"
         ]
        },
        {
         "marker": {
          "line": {
           "color": "rgb(248, 248, 249)",
           "width": 1
          }
         },
         "orientation": "h",
         "type": "bar",
         "x": [
          24
         ],
         "y": [
          "방사선종양학과"
         ]
        },
        {
         "marker": {
          "line": {
           "color": "rgb(248, 248, 249)",
           "width": 1
          }
         },
         "orientation": "h",
         "type": "bar",
         "x": [
          68
         ],
         "y": [
          "병리과"
         ]
        },
        {
         "marker": {
          "line": {
           "color": "rgb(248, 248, 249)",
           "width": 1
          }
         },
         "orientation": "h",
         "type": "bar",
         "x": [
          62
         ],
         "y": [
          "진단검사의학과"
         ]
        },
        {
         "marker": {
          "line": {
           "color": "rgb(248, 248, 249)",
           "width": 1
          }
         },
         "orientation": "h",
         "type": "bar",
         "x": [
          2
         ],
         "y": [
          "결핵과"
         ]
        },
        {
         "marker": {
          "line": {
           "color": "rgb(248, 248, 249)",
           "width": 1
          }
         },
         "orientation": "h",
         "type": "bar",
         "x": [
          148
         ],
         "y": [
          "재활의학과"
         ]
        },
        {
         "marker": {
          "line": {
           "color": "rgb(248, 248, 249)",
           "width": 1
          }
         },
         "orientation": "h",
         "type": "bar",
         "x": [
          20
         ],
         "y": [
          "핵의학과"
         ]
        },
        {
         "marker": {
          "line": {
           "color": "rgb(248, 248, 249)",
           "width": 1
          }
         },
         "orientation": "h",
         "type": "bar",
         "x": [
          497
         ],
         "y": [
          "가정의학과"
         ]
        },
        {
         "marker": {
          "line": {
           "color": "rgb(248, 248, 249)",
           "width": 1
          }
         },
         "orientation": "h",
         "type": "bar",
         "x": [
          74
         ],
         "y": [
          "응급의학과"
         ]
        },
        {
         "marker": {
          "line": {
           "color": "rgb(248, 248, 249)",
           "width": 1
          }
         },
         "orientation": "h",
         "type": "bar",
         "x": [
          41
         ],
         "y": [
          "직업환경의학과"
         ]
        },
        {
         "marker": {
          "line": {
           "color": "rgb(248, 248, 249)",
           "width": 1
          }
         },
         "orientation": "h",
         "type": "bar",
         "x": [
          16
         ],
         "y": [
          "예방의학과"
         ]
        },
        {
         "marker": {
          "line": {
           "color": "rgb(248, 248, 249)",
           "width": 1
          }
         },
         "orientation": "h",
         "type": "bar",
         "x": [
          901
         ],
         "y": [
          "내과"
         ]
        },
        {
         "marker": {
          "line": {
           "color": "rgb(248, 248, 249)",
           "width": 1
          }
         },
         "orientation": "h",
         "type": "bar",
         "x": [
          134
         ],
         "y": [
          "신경과"
         ]
        },
        {
         "marker": {
          "line": {
           "color": "rgb(248, 248, 249)",
           "width": 1
          }
         },
         "orientation": "h",
         "type": "bar",
         "x": [
          188
         ],
         "y": [
          "정신과"
         ]
        },
        {
         "marker": {
          "line": {
           "color": "rgb(248, 248, 249)",
           "width": 1
          }
         },
         "orientation": "h",
         "type": "bar",
         "x": [
          350
         ],
         "y": [
          "외과"
         ]
        },
        {
         "marker": {
          "line": {
           "color": "rgb(248, 248, 249)",
           "width": 1
          }
         },
         "orientation": "h",
         "type": "bar",
         "x": [
          336
         ],
         "y": [
          "정형외과"
         ]
        },
        {
         "marker": {
          "line": {
           "color": "rgb(248, 248, 249)",
           "width": 1
          }
         },
         "orientation": "h",
         "type": "bar",
         "x": [
          170
         ],
         "y": [
          "신경외과"
         ]
        },
        {
         "marker": {
          "line": {
           "color": "rgb(248, 248, 249)",
           "width": 1
          }
         },
         "orientation": "h",
         "type": "bar",
         "x": [
          50
         ],
         "y": [
          "흉부외과"
         ]
        },
        {
         "marker": {
          "line": {
           "color": "rgb(248, 248, 249)",
           "width": 1
          }
         },
         "orientation": "h",
         "type": "bar",
         "x": [
          122
         ],
         "y": [
          "성형외과"
         ]
        },
        {
         "marker": {
          "line": {
           "color": "rgb(248, 248, 249)",
           "width": 1
          }
         },
         "orientation": "h",
         "type": "bar",
         "x": [
          238
         ],
         "y": [
          "마취통증의학과"
         ]
        },
        {
         "marker": {
          "line": {
           "color": "rgb(248, 248, 249)",
           "width": 1
          }
         },
         "orientation": "h",
         "type": "bar",
         "x": [
          308
         ],
         "y": [
          "산부인과"
         ]
        },
        {
         "marker": {
          "line": {
           "color": "rgb(248, 248, 249)",
           "width": 1
          }
         },
         "orientation": "h",
         "type": "bar",
         "x": [
          336
         ],
         "y": [
          "소아과"
         ]
        },
        {
         "marker": {
          "line": {
           "color": "rgb(248, 248, 249)",
           "width": 1
          }
         },
         "orientation": "h",
         "type": "bar",
         "x": [
          205
         ],
         "y": [
          "안과"
         ]
        },
        {
         "marker": {
          "line": {
           "color": "rgb(248, 248, 249)",
           "width": 1
          }
         },
         "orientation": "h",
         "type": "bar",
         "x": [
          208
         ],
         "y": [
          "이비인후과"
         ]
        },
        {
         "marker": {
          "line": {
           "color": "rgb(248, 248, 249)",
           "width": 1
          }
         },
         "orientation": "h",
         "type": "bar",
         "x": [
          129
         ],
         "y": [
          "피부과"
         ]
        },
        {
         "marker": {
          "line": {
           "color": "rgb(248, 248, 249)",
           "width": 1
          }
         },
         "orientation": "h",
         "type": "bar",
         "x": [
          151
         ],
         "y": [
          "비뇨기과"
         ]
        },
        {
         "marker": {
          "line": {
           "color": "rgb(248, 248, 249)",
           "width": 1
          }
         },
         "orientation": "h",
         "type": "bar",
         "x": [
          176
         ],
         "y": [
          "진단방사선과"
         ]
        },
        {
         "marker": {
          "line": {
           "color": "rgb(248, 248, 249)",
           "width": 1
          }
         },
         "orientation": "h",
         "type": "bar",
         "x": [
          17
         ],
         "y": [
          "방사선종양학과"
         ]
        },
        {
         "marker": {
          "line": {
           "color": "rgb(248, 248, 249)",
           "width": 1
          }
         },
         "orientation": "h",
         "type": "bar",
         "x": [
          55
         ],
         "y": [
          "병리과"
         ]
        },
        {
         "marker": {
          "line": {
           "color": "rgb(248, 248, 249)",
           "width": 1
          }
         },
         "orientation": "h",
         "type": "bar",
         "x": [
          47
         ],
         "y": [
          "진단검사의학과"
         ]
        },
        {
         "marker": {
          "line": {
           "color": "rgb(248, 248, 249)",
           "width": 1
          }
         },
         "orientation": "h",
         "type": "bar",
         "x": [
          0
         ],
         "y": [
          "결핵과"
         ]
        },
        {
         "marker": {
          "line": {
           "color": "rgb(248, 248, 249)",
           "width": 1
          }
         },
         "orientation": "h",
         "type": "bar",
         "x": [
          96
         ],
         "y": [
          "재활의학과"
         ]
        },
        {
         "marker": {
          "line": {
           "color": "rgb(248, 248, 249)",
           "width": 1
          }
         },
         "orientation": "h",
         "type": "bar",
         "x": [
          18
         ],
         "y": [
          "핵의학과"
         ]
        },
        {
         "marker": {
          "line": {
           "color": "rgb(248, 248, 249)",
           "width": 1
          }
         },
         "orientation": "h",
         "type": "bar",
         "x": [
          312
         ],
         "y": [
          "가정의학과"
         ]
        },
        {
         "marker": {
          "line": {
           "color": "rgb(248, 248, 249)",
           "width": 1
          }
         },
         "orientation": "h",
         "type": "bar",
         "x": [
          43
         ],
         "y": [
          "응급의학과"
         ]
        },
        {
         "marker": {
          "line": {
           "color": "rgb(248, 248, 249)",
           "width": 1
          }
         },
         "orientation": "h",
         "type": "bar",
         "x": [
          15
         ],
         "y": [
          "직업환경의학과"
         ]
        },
        {
         "marker": {
          "line": {
           "color": "rgb(248, 248, 249)",
           "width": 1
          }
         },
         "orientation": "h",
         "type": "bar",
         "x": [
          15
         ],
         "y": [
          "예방의학과"
         ]
        },
        {
         "marker": {
          "line": {
           "color": "rgb(248, 248, 249)",
           "width": 1
          }
         },
         "orientation": "h",
         "type": "bar",
         "x": [
          795
         ],
         "y": [
          "내과"
         ]
        },
        {
         "marker": {
          "line": {
           "color": "rgb(248, 248, 249)",
           "width": 1
          }
         },
         "orientation": "h",
         "type": "bar",
         "x": [
          75
         ],
         "y": [
          "신경과"
         ]
        },
        {
         "marker": {
          "line": {
           "color": "rgb(248, 248, 249)",
           "width": 1
          }
         },
         "orientation": "h",
         "type": "bar",
         "x": [
          158
         ],
         "y": [
          "정신과"
         ]
        },
        {
         "marker": {
          "line": {
           "color": "rgb(248, 248, 249)",
           "width": 1
          }
         },
         "orientation": "h",
         "type": "bar",
         "x": [
          300
         ],
         "y": [
          "외과"
         ]
        },
        {
         "marker": {
          "line": {
           "color": "rgb(248, 248, 249)",
           "width": 1
          }
         },
         "orientation": "h",
         "type": "bar",
         "x": [
          349
         ],
         "y": [
          "정형외과"
         ]
        },
        {
         "marker": {
          "line": {
           "color": "rgb(248, 248, 249)",
           "width": 1
          }
         },
         "orientation": "h",
         "type": "bar",
         "x": [
          158
         ],
         "y": [
          "신경외과"
         ]
        },
        {
         "marker": {
          "line": {
           "color": "rgb(248, 248, 249)",
           "width": 1
          }
         },
         "orientation": "h",
         "type": "bar",
         "x": [
          55
         ],
         "y": [
          "흉부외과"
         ]
        },
        {
         "marker": {
          "line": {
           "color": "rgb(248, 248, 249)",
           "width": 1
          }
         },
         "orientation": "h",
         "type": "bar",
         "x": [
          56
         ],
         "y": [
          "성형외과"
         ]
        },
        {
         "marker": {
          "line": {
           "color": "rgb(248, 248, 249)",
           "width": 1
          }
         },
         "orientation": "h",
         "type": "bar",
         "x": [
          203
         ],
         "y": [
          "마취통증의학과"
         ]
        },
        {
         "marker": {
          "line": {
           "color": "rgb(248, 248, 249)",
           "width": 1
          }
         },
         "orientation": "h",
         "type": "bar",
         "x": [
          271
         ],
         "y": [
          "산부인과"
         ]
        },
        {
         "marker": {
          "line": {
           "color": "rgb(248, 248, 249)",
           "width": 1
          }
         },
         "orientation": "h",
         "type": "bar",
         "x": [
          297
         ],
         "y": [
          "소아과"
         ]
        },
        {
         "marker": {
          "line": {
           "color": "rgb(248, 248, 249)",
           "width": 1
          }
         },
         "orientation": "h",
         "type": "bar",
         "x": [
          151
         ],
         "y": [
          "안과"
         ]
        },
        {
         "marker": {
          "line": {
           "color": "rgb(248, 248, 249)",
           "width": 1
          }
         },
         "orientation": "h",
         "type": "bar",
         "x": [
          189
         ],
         "y": [
          "이비인후과"
         ]
        },
        {
         "marker": {
          "line": {
           "color": "rgb(248, 248, 249)",
           "width": 1
          }
         },
         "orientation": "h",
         "type": "bar",
         "x": [
          86
         ],
         "y": [
          "피부과"
         ]
        },
        {
         "marker": {
          "line": {
           "color": "rgb(248, 248, 249)",
           "width": 1
          }
         },
         "orientation": "h",
         "type": "bar",
         "x": [
          123
         ],
         "y": [
          "비뇨기과"
         ]
        },
        {
         "marker": {
          "line": {
           "color": "rgb(248, 248, 249)",
           "width": 1
          }
         },
         "orientation": "h",
         "type": "bar",
         "x": [
          139
         ],
         "y": [
          "진단방사선과"
         ]
        },
        {
         "marker": {
          "line": {
           "color": "rgb(248, 248, 249)",
           "width": 1
          }
         },
         "orientation": "h",
         "type": "bar",
         "x": [
          12
         ],
         "y": [
          "방사선종양학과"
         ]
        },
        {
         "marker": {
          "line": {
           "color": "rgb(248, 248, 249)",
           "width": 1
          }
         },
         "orientation": "h",
         "type": "bar",
         "x": [
          39
         ],
         "y": [
          "병리과"
         ]
        },
        {
         "marker": {
          "line": {
           "color": "rgb(248, 248, 249)",
           "width": 1
          }
         },
         "orientation": "h",
         "type": "bar",
         "x": [
          44
         ],
         "y": [
          "진단검사의학과"
         ]
        },
        {
         "marker": {
          "line": {
           "color": "rgb(248, 248, 249)",
           "width": 1
          }
         },
         "orientation": "h",
         "type": "bar",
         "x": [
          2
         ],
         "y": [
          "결핵과"
         ]
        },
        {
         "marker": {
          "line": {
           "color": "rgb(248, 248, 249)",
           "width": 1
          }
         },
         "orientation": "h",
         "type": "bar",
         "x": [
          111
         ],
         "y": [
          "재활의학과"
         ]
        },
        {
         "marker": {
          "line": {
           "color": "rgb(248, 248, 249)",
           "width": 1
          }
         },
         "orientation": "h",
         "type": "bar",
         "x": [
          10
         ],
         "y": [
          "핵의학과"
         ]
        },
        {
         "marker": {
          "line": {
           "color": "rgb(248, 248, 249)",
           "width": 1
          }
         },
         "orientation": "h",
         "type": "bar",
         "x": [
          297
         ],
         "y": [
          "가정의학과"
         ]
        },
        {
         "marker": {
          "line": {
           "color": "rgb(248, 248, 249)",
           "width": 1
          }
         },
         "orientation": "h",
         "type": "bar",
         "x": [
          117
         ],
         "y": [
          "응급의학과"
         ]
        },
        {
         "marker": {
          "line": {
           "color": "rgb(248, 248, 249)",
           "width": 1
          }
         },
         "orientation": "h",
         "type": "bar",
         "x": [
          43
         ],
         "y": [
          "직업환경의학과"
         ]
        },
        {
         "marker": {
          "line": {
           "color": "rgb(248, 248, 249)",
           "width": 1
          }
         },
         "orientation": "h",
         "type": "bar",
         "x": [
          5
         ],
         "y": [
          "예방의학과"
         ]
        },
        {
         "marker": {
          "line": {
           "color": "rgb(248, 248, 249)",
           "width": 1
          }
         },
         "orientation": "h",
         "type": "bar",
         "x": [
          559
         ],
         "y": [
          "내과"
         ]
        },
        {
         "marker": {
          "line": {
           "color": "rgb(248, 248, 249)",
           "width": 1
          }
         },
         "orientation": "h",
         "type": "bar",
         "x": [
          61
         ],
         "y": [
          "신경과"
         ]
        },
        {
         "marker": {
          "line": {
           "color": "rgb(248, 248, 249)",
           "width": 1
          }
         },
         "orientation": "h",
         "type": "bar",
         "x": [
          110
         ],
         "y": [
          "정신과"
         ]
        },
        {
         "marker": {
          "line": {
           "color": "rgb(248, 248, 249)",
           "width": 1
          }
         },
         "orientation": "h",
         "type": "bar",
         "x": [
          209
         ],
         "y": [
          "외과"
         ]
        },
        {
         "marker": {
          "line": {
           "color": "rgb(248, 248, 249)",
           "width": 1
          }
         },
         "orientation": "h",
         "type": "bar",
         "x": [
          211
         ],
         "y": [
          "정형외과"
         ]
        },
        {
         "marker": {
          "line": {
           "color": "rgb(248, 248, 249)",
           "width": 1
          }
         },
         "orientation": "h",
         "type": "bar",
         "x": [
          114
         ],
         "y": [
          "신경외과"
         ]
        },
        {
         "marker": {
          "line": {
           "color": "rgb(248, 248, 249)",
           "width": 1
          }
         },
         "orientation": "h",
         "type": "bar",
         "x": [
          32
         ],
         "y": [
          "흉부외과"
         ]
        },
        {
         "marker": {
          "line": {
           "color": "rgb(248, 248, 249)",
           "width": 1
          }
         },
         "orientation": "h",
         "type": "bar",
         "x": [
          48
         ],
         "y": [
          "성형외과"
         ]
        },
        {
         "marker": {
          "line": {
           "color": "rgb(248, 248, 249)",
           "width": 1
          }
         },
         "orientation": "h",
         "type": "bar",
         "x": [
          157
         ],
         "y": [
          "마취통증의학과"
         ]
        },
        {
         "marker": {
          "line": {
           "color": "rgb(248, 248, 249)",
           "width": 1
          }
         },
         "orientation": "h",
         "type": "bar",
         "x": [
          213
         ],
         "y": [
          "산부인과"
         ]
        },
        {
         "marker": {
          "line": {
           "color": "rgb(248, 248, 249)",
           "width": 1
          }
         },
         "orientation": "h",
         "type": "bar",
         "x": [
          226
         ],
         "y": [
          "소아과"
         ]
        },
        {
         "marker": {
          "line": {
           "color": "rgb(248, 248, 249)",
           "width": 1
          }
         },
         "orientation": "h",
         "type": "bar",
         "x": [
          102
         ],
         "y": [
          "안과"
         ]
        },
        {
         "marker": {
          "line": {
           "color": "rgb(248, 248, 249)",
           "width": 1
          }
         },
         "orientation": "h",
         "type": "bar",
         "x": [
          131
         ],
         "y": [
          "이비인후과"
         ]
        },
        {
         "marker": {
          "line": {
           "color": "rgb(248, 248, 249)",
           "width": 1
          }
         },
         "orientation": "h",
         "type": "bar",
         "x": [
          80
         ],
         "y": [
          "피부과"
         ]
        },
        {
         "marker": {
          "line": {
           "color": "rgb(248, 248, 249)",
           "width": 1
          }
         },
         "orientation": "h",
         "type": "bar",
         "x": [
          93
         ],
         "y": [
          "비뇨기과"
         ]
        },
        {
         "marker": {
          "line": {
           "color": "rgb(248, 248, 249)",
           "width": 1
          }
         },
         "orientation": "h",
         "type": "bar",
         "x": [
          114
         ],
         "y": [
          "진단방사선과"
         ]
        },
        {
         "marker": {
          "line": {
           "color": "rgb(248, 248, 249)",
           "width": 1
          }
         },
         "orientation": "h",
         "type": "bar",
         "x": [
          3
         ],
         "y": [
          "방사선종양학과"
         ]
        },
        {
         "marker": {
          "line": {
           "color": "rgb(248, 248, 249)",
           "width": 1
          }
         },
         "orientation": "h",
         "type": "bar",
         "x": [
          27
         ],
         "y": [
          "병리과"
         ]
        },
        {
         "marker": {
          "line": {
           "color": "rgb(248, 248, 249)",
           "width": 1
          }
         },
         "orientation": "h",
         "type": "bar",
         "x": [
          35
         ],
         "y": [
          "진단검사의학과"
         ]
        },
        {
         "marker": {
          "line": {
           "color": "rgb(248, 248, 249)",
           "width": 1
          }
         },
         "orientation": "h",
         "type": "bar",
         "x": [
          0
         ],
         "y": [
          "결핵과"
         ]
        },
        {
         "marker": {
          "line": {
           "color": "rgb(248, 248, 249)",
           "width": 1
          }
         },
         "orientation": "h",
         "type": "bar",
         "x": [
          70
         ],
         "y": [
          "재활의학과"
         ]
        },
        {
         "marker": {
          "line": {
           "color": "rgb(248, 248, 249)",
           "width": 1
          }
         },
         "orientation": "h",
         "type": "bar",
         "x": [
          8
         ],
         "y": [
          "핵의학과"
         ]
        },
        {
         "marker": {
          "line": {
           "color": "rgb(248, 248, 249)",
           "width": 1
          }
         },
         "orientation": "h",
         "type": "bar",
         "x": [
          245
         ],
         "y": [
          "가정의학과"
         ]
        },
        {
         "marker": {
          "line": {
           "color": "rgb(248, 248, 249)",
           "width": 1
          }
         },
         "orientation": "h",
         "type": "bar",
         "x": [
          73
         ],
         "y": [
          "응급의학과"
         ]
        },
        {
         "marker": {
          "line": {
           "color": "rgb(248, 248, 249)",
           "width": 1
          }
         },
         "orientation": "h",
         "type": "bar",
         "x": [
          8
         ],
         "y": [
          "직업환경의학과"
         ]
        },
        {
         "marker": {
          "line": {
           "color": "rgb(248, 248, 249)",
           "width": 1
          }
         },
         "orientation": "h",
         "type": "bar",
         "x": [
          8
         ],
         "y": [
          "예방의학과"
         ]
        },
        {
         "marker": {
          "line": {
           "color": "rgb(248, 248, 249)",
           "width": 1
          }
         },
         "orientation": "h",
         "type": "bar",
         "x": [
          544
         ],
         "y": [
          "내과"
         ]
        },
        {
         "marker": {
          "line": {
           "color": "rgb(248, 248, 249)",
           "width": 1
          }
         },
         "orientation": "h",
         "type": "bar",
         "x": [
          79
         ],
         "y": [
          "신경과"
         ]
        },
        {
         "marker": {
          "line": {
           "color": "rgb(248, 248, 249)",
           "width": 1
          }
         },
         "orientation": "h",
         "type": "bar",
         "x": [
          118
         ],
         "y": [
          "정신과"
         ]
        },
        {
         "marker": {
          "line": {
           "color": "rgb(248, 248, 249)",
           "width": 1
          }
         },
         "orientation": "h",
         "type": "bar",
         "x": [
          187
         ],
         "y": [
          "외과"
         ]
        },
        {
         "marker": {
          "line": {
           "color": "rgb(248, 248, 249)",
           "width": 1
          }
         },
         "orientation": "h",
         "type": "bar",
         "x": [
          219
         ],
         "y": [
          "정형외과"
         ]
        },
        {
         "marker": {
          "line": {
           "color": "rgb(248, 248, 249)",
           "width": 1
          }
         },
         "orientation": "h",
         "type": "bar",
         "x": [
          91
         ],
         "y": [
          "신경외과"
         ]
        },
        {
         "marker": {
          "line": {
           "color": "rgb(248, 248, 249)",
           "width": 1
          }
         },
         "orientation": "h",
         "type": "bar",
         "x": [
          47
         ],
         "y": [
          "흉부외과"
         ]
        },
        {
         "marker": {
          "line": {
           "color": "rgb(248, 248, 249)",
           "width": 1
          }
         },
         "orientation": "h",
         "type": "bar",
         "x": [
          61
         ],
         "y": [
          "성형외과"
         ]
        },
        {
         "marker": {
          "line": {
           "color": "rgb(248, 248, 249)",
           "width": 1
          }
         },
         "orientation": "h",
         "type": "bar",
         "x": [
          137
         ],
         "y": [
          "마취통증의학과"
         ]
        },
        {
         "marker": {
          "line": {
           "color": "rgb(248, 248, 249)",
           "width": 1
          }
         },
         "orientation": "h",
         "type": "bar",
         "x": [
          198
         ],
         "y": [
          "산부인과"
         ]
        },
        {
         "marker": {
          "line": {
           "color": "rgb(248, 248, 249)",
           "width": 1
          }
         },
         "orientation": "h",
         "type": "bar",
         "x": [
          211
         ],
         "y": [
          "소아과"
         ]
        },
        {
         "marker": {
          "line": {
           "color": "rgb(248, 248, 249)",
           "width": 1
          }
         },
         "orientation": "h",
         "type": "bar",
         "x": [
          111
         ],
         "y": [
          "안과"
         ]
        },
        {
         "marker": {
          "line": {
           "color": "rgb(248, 248, 249)",
           "width": 1
          }
         },
         "orientation": "h",
         "type": "bar",
         "x": [
          125
         ],
         "y": [
          "이비인후과"
         ]
        },
        {
         "marker": {
          "line": {
           "color": "rgb(248, 248, 249)",
           "width": 1
          }
         },
         "orientation": "h",
         "type": "bar",
         "x": [
          78
         ],
         "y": [
          "피부과"
         ]
        },
        {
         "marker": {
          "line": {
           "color": "rgb(248, 248, 249)",
           "width": 1
          }
         },
         "orientation": "h",
         "type": "bar",
         "x": [
          80
         ],
         "y": [
          "비뇨기과"
         ]
        },
        {
         "marker": {
          "line": {
           "color": "rgb(248, 248, 249)",
           "width": 1
          }
         },
         "orientation": "h",
         "type": "bar",
         "x": [
          135
         ],
         "y": [
          "진단방사선과"
         ]
        },
        {
         "marker": {
          "line": {
           "color": "rgb(248, 248, 249)",
           "width": 1
          }
         },
         "orientation": "h",
         "type": "bar",
         "x": [
          11
         ],
         "y": [
          "방사선종양학과"
         ]
        },
        {
         "marker": {
          "line": {
           "color": "rgb(248, 248, 249)",
           "width": 1
          }
         },
         "orientation": "h",
         "type": "bar",
         "x": [
          31
         ],
         "y": [
          "병리과"
         ]
        },
        {
         "marker": {
          "line": {
           "color": "rgb(248, 248, 249)",
           "width": 1
          }
         },
         "orientation": "h",
         "type": "bar",
         "x": [
          26
         ],
         "y": [
          "진단검사의학과"
         ]
        },
        {
         "marker": {
          "line": {
           "color": "rgb(248, 248, 249)",
           "width": 1
          }
         },
         "orientation": "h",
         "type": "bar",
         "x": [
          3
         ],
         "y": [
          "결핵과"
         ]
        },
        {
         "marker": {
          "line": {
           "color": "rgb(248, 248, 249)",
           "width": 1
          }
         },
         "orientation": "h",
         "type": "bar",
         "x": [
          99
         ],
         "y": [
          "재활의학과"
         ]
        },
        {
         "marker": {
          "line": {
           "color": "rgb(248, 248, 249)",
           "width": 1
          }
         },
         "orientation": "h",
         "type": "bar",
         "x": [
          7
         ],
         "y": [
          "핵의학과"
         ]
        },
        {
         "marker": {
          "line": {
           "color": "rgb(248, 248, 249)",
           "width": 1
          }
         },
         "orientation": "h",
         "type": "bar",
         "x": [
          238
         ],
         "y": [
          "가정의학과"
         ]
        },
        {
         "marker": {
          "line": {
           "color": "rgb(248, 248, 249)",
           "width": 1
          }
         },
         "orientation": "h",
         "type": "bar",
         "x": [
          54
         ],
         "y": [
          "응급의학과"
         ]
        },
        {
         "marker": {
          "line": {
           "color": "rgb(248, 248, 249)",
           "width": 1
          }
         },
         "orientation": "h",
         "type": "bar",
         "x": [
          21
         ],
         "y": [
          "직업환경의학과"
         ]
        },
        {
         "marker": {
          "line": {
           "color": "rgb(248, 248, 249)",
           "width": 1
          }
         },
         "orientation": "h",
         "type": "bar",
         "x": [
          6
         ],
         "y": [
          "예방의학과"
         ]
        },
        {
         "marker": {
          "line": {
           "color": "rgb(248, 248, 249)",
           "width": 1
          }
         },
         "orientation": "h",
         "type": "bar",
         "x": [
          270
         ],
         "y": [
          "내과"
         ]
        },
        {
         "marker": {
          "line": {
           "color": "rgb(248, 248, 249)",
           "width": 1
          }
         },
         "orientation": "h",
         "type": "bar",
         "x": [
          24
         ],
         "y": [
          "신경과"
         ]
        },
        {
         "marker": {
          "line": {
           "color": "rgb(248, 248, 249)",
           "width": 1
          }
         },
         "orientation": "h",
         "type": "bar",
         "x": [
          57
         ],
         "y": [
          "정신과"
         ]
        },
        {
         "marker": {
          "line": {
           "color": "rgb(248, 248, 249)",
           "width": 1
          }
         },
         "orientation": "h",
         "type": "bar",
         "x": [
          115
         ],
         "y": [
          "외과"
         ]
        },
        {
         "marker": {
          "line": {
           "color": "rgb(248, 248, 249)",
           "width": 1
          }
         },
         "orientation": "h",
         "type": "bar",
         "x": [
          106
         ],
         "y": [
          "정형외과"
         ]
        },
        {
         "marker": {
          "line": {
           "color": "rgb(248, 248, 249)",
           "width": 1
          }
         },
         "orientation": "h",
         "type": "bar",
         "x": [
          46
         ],
         "y": [
          "신경외과"
         ]
        },
        {
         "marker": {
          "line": {
           "color": "rgb(248, 248, 249)",
           "width": 1
          }
         },
         "orientation": "h",
         "type": "bar",
         "x": [
          24
         ],
         "y": [
          "흉부외과"
         ]
        },
        {
         "marker": {
          "line": {
           "color": "rgb(248, 248, 249)",
           "width": 1
          }
         },
         "orientation": "h",
         "type": "bar",
         "x": [
          32
         ],
         "y": [
          "성형외과"
         ]
        },
        {
         "marker": {
          "line": {
           "color": "rgb(248, 248, 249)",
           "width": 1
          }
         },
         "orientation": "h",
         "type": "bar",
         "x": [
          73
         ],
         "y": [
          "마취통증의학과"
         ]
        },
        {
         "marker": {
          "line": {
           "color": "rgb(248, 248, 249)",
           "width": 1
          }
         },
         "orientation": "h",
         "type": "bar",
         "x": [
          113
         ],
         "y": [
          "산부인과"
         ]
        },
        {
         "marker": {
          "line": {
           "color": "rgb(248, 248, 249)",
           "width": 1
          }
         },
         "orientation": "h",
         "type": "bar",
         "x": [
          112
         ],
         "y": [
          "소아과"
         ]
        },
        {
         "marker": {
          "line": {
           "color": "rgb(248, 248, 249)",
           "width": 1
          }
         },
         "orientation": "h",
         "type": "bar",
         "x": [
          61
         ],
         "y": [
          "안과"
         ]
        },
        {
         "marker": {
          "line": {
           "color": "rgb(248, 248, 249)",
           "width": 1
          }
         },
         "orientation": "h",
         "type": "bar",
         "x": [
          67
         ],
         "y": [
          "이비인후과"
         ]
        },
        {
         "marker": {
          "line": {
           "color": "rgb(248, 248, 249)",
           "width": 1
          }
         },
         "orientation": "h",
         "type": "bar",
         "x": [
          32
         ],
         "y": [
          "피부과"
         ]
        },
        {
         "marker": {
          "line": {
           "color": "rgb(248, 248, 249)",
           "width": 1
          }
         },
         "orientation": "h",
         "type": "bar",
         "x": [
          53
         ],
         "y": [
          "비뇨기과"
         ]
        },
        {
         "marker": {
          "line": {
           "color": "rgb(248, 248, 249)",
           "width": 1
          }
         },
         "orientation": "h",
         "type": "bar",
         "x": [
          66
         ],
         "y": [
          "진단방사선과"
         ]
        },
        {
         "marker": {
          "line": {
           "color": "rgb(248, 248, 249)",
           "width": 1
          }
         },
         "orientation": "h",
         "type": "bar",
         "x": [
          2
         ],
         "y": [
          "방사선종양학과"
         ]
        },
        {
         "marker": {
          "line": {
           "color": "rgb(248, 248, 249)",
           "width": 1
          }
         },
         "orientation": "h",
         "type": "bar",
         "x": [
          12
         ],
         "y": [
          "병리과"
         ]
        },
        {
         "marker": {
          "line": {
           "color": "rgb(248, 248, 249)",
           "width": 1
          }
         },
         "orientation": "h",
         "type": "bar",
         "x": [
          13
         ],
         "y": [
          "진단검사의학과"
         ]
        },
        {
         "marker": {
          "line": {
           "color": "rgb(248, 248, 249)",
           "width": 1
          }
         },
         "orientation": "h",
         "type": "bar",
         "x": [
          1
         ],
         "y": [
          "결핵과"
         ]
        },
        {
         "marker": {
          "line": {
           "color": "rgb(248, 248, 249)",
           "width": 1
          }
         },
         "orientation": "h",
         "type": "bar",
         "x": [
          28
         ],
         "y": [
          "재활의학과"
         ]
        },
        {
         "marker": {
          "line": {
           "color": "rgb(248, 248, 249)",
           "width": 1
          }
         },
         "orientation": "h",
         "type": "bar",
         "x": [
          3
         ],
         "y": [
          "핵의학과"
         ]
        },
        {
         "marker": {
          "line": {
           "color": "rgb(248, 248, 249)",
           "width": 1
          }
         },
         "orientation": "h",
         "type": "bar",
         "x": [
          108
         ],
         "y": [
          "가정의학과"
         ]
        },
        {
         "marker": {
          "line": {
           "color": "rgb(248, 248, 249)",
           "width": 1
          }
         },
         "orientation": "h",
         "type": "bar",
         "x": [
          31
         ],
         "y": [
          "응급의학과"
         ]
        },
        {
         "marker": {
          "line": {
           "color": "rgb(248, 248, 249)",
           "width": 1
          }
         },
         "orientation": "h",
         "type": "bar",
         "x": [
          27
         ],
         "y": [
          "직업환경의학과"
         ]
        },
        {
         "marker": {
          "line": {
           "color": "rgb(248, 248, 249)",
           "width": 1
          }
         },
         "orientation": "h",
         "type": "bar",
         "x": [
          8
         ],
         "y": [
          "예방의학과"
         ]
        },
        {
         "marker": {
          "line": {
           "color": "rgb(248, 248, 249)",
           "width": 1
          }
         },
         "orientation": "h",
         "type": "bar",
         "x": [
          39
         ],
         "y": [
          "내과"
         ]
        },
        {
         "marker": {
          "line": {
           "color": "rgb(248, 248, 249)",
           "width": 1
          }
         },
         "orientation": "h",
         "type": "bar",
         "x": [
          4
         ],
         "y": [
          "신경과"
         ]
        },
        {
         "marker": {
          "line": {
           "color": "rgb(248, 248, 249)",
           "width": 1
          }
         },
         "orientation": "h",
         "type": "bar",
         "x": [
          9
         ],
         "y": [
          "정신과"
         ]
        },
        {
         "marker": {
          "line": {
           "color": "rgb(248, 248, 249)",
           "width": 1
          }
         },
         "orientation": "h",
         "type": "bar",
         "x": [
          15
         ],
         "y": [
          "외과"
         ]
        },
        {
         "marker": {
          "line": {
           "color": "rgb(248, 248, 249)",
           "width": 1
          }
         },
         "orientation": "h",
         "type": "bar",
         "x": [
          13
         ],
         "y": [
          "정형외과"
         ]
        },
        {
         "marker": {
          "line": {
           "color": "rgb(248, 248, 249)",
           "width": 1
          }
         },
         "orientation": "h",
         "type": "bar",
         "x": [
          8
         ],
         "y": [
          "신경외과"
         ]
        },
        {
         "marker": {
          "line": {
           "color": "rgb(248, 248, 249)",
           "width": 1
          }
         },
         "orientation": "h",
         "type": "bar",
         "x": [
          4
         ],
         "y": [
          "흉부외과"
         ]
        },
        {
         "marker": {
          "line": {
           "color": "rgb(248, 248, 249)",
           "width": 1
          }
         },
         "orientation": "h",
         "type": "bar",
         "x": [
          5
         ],
         "y": [
          "성형외과"
         ]
        },
        {
         "marker": {
          "line": {
           "color": "rgb(248, 248, 249)",
           "width": 1
          }
         },
         "orientation": "h",
         "type": "bar",
         "x": [
          10
         ],
         "y": [
          "마취통증의학과"
         ]
        },
        {
         "marker": {
          "line": {
           "color": "rgb(248, 248, 249)",
           "width": 1
          }
         },
         "orientation": "h",
         "type": "bar",
         "x": [
          17
         ],
         "y": [
          "산부인과"
         ]
        },
        {
         "marker": {
          "line": {
           "color": "rgb(248, 248, 249)",
           "width": 1
          }
         },
         "orientation": "h",
         "type": "bar",
         "x": [
          43
         ],
         "y": [
          "소아과"
         ]
        },
        {
         "marker": {
          "line": {
           "color": "rgb(248, 248, 249)",
           "width": 1
          }
         },
         "orientation": "h",
         "type": "bar",
         "x": [
          11
         ],
         "y": [
          "안과"
         ]
        },
        {
         "marker": {
          "line": {
           "color": "rgb(248, 248, 249)",
           "width": 1
          }
         },
         "orientation": "h",
         "type": "bar",
         "x": [
          19
         ],
         "y": [
          "이비인후과"
         ]
        },
        {
         "marker": {
          "line": {
           "color": "rgb(248, 248, 249)",
           "width": 1
          }
         },
         "orientation": "h",
         "type": "bar",
         "x": [
          5
         ],
         "y": [
          "피부과"
         ]
        },
        {
         "marker": {
          "line": {
           "color": "rgb(248, 248, 249)",
           "width": 1
          }
         },
         "orientation": "h",
         "type": "bar",
         "x": [
          9
         ],
         "y": [
          "비뇨기과"
         ]
        },
        {
         "marker": {
          "line": {
           "color": "rgb(248, 248, 249)",
           "width": 1
          }
         },
         "orientation": "h",
         "type": "bar",
         "x": [
          2
         ],
         "y": [
          "진단방사선과"
         ]
        },
        {
         "marker": {
          "line": {
           "color": "rgb(248, 248, 249)",
           "width": 1
          }
         },
         "orientation": "h",
         "type": "bar",
         "x": [
          0
         ],
         "y": [
          "방사선종양학과"
         ]
        },
        {
         "marker": {
          "line": {
           "color": "rgb(248, 248, 249)",
           "width": 1
          }
         },
         "orientation": "h",
         "type": "bar",
         "x": [
          2
         ],
         "y": [
          "병리과"
         ]
        },
        {
         "marker": {
          "line": {
           "color": "rgb(248, 248, 249)",
           "width": 1
          }
         },
         "orientation": "h",
         "type": "bar",
         "x": [
          0
         ],
         "y": [
          "진단검사의학과"
         ]
        },
        {
         "marker": {
          "line": {
           "color": "rgb(248, 248, 249)",
           "width": 1
          }
         },
         "orientation": "h",
         "type": "bar",
         "x": [
          0
         ],
         "y": [
          "결핵과"
         ]
        },
        {
         "marker": {
          "line": {
           "color": "rgb(248, 248, 249)",
           "width": 1
          }
         },
         "orientation": "h",
         "type": "bar",
         "x": [
          4
         ],
         "y": [
          "재활의학과"
         ]
        },
        {
         "marker": {
          "line": {
           "color": "rgb(248, 248, 249)",
           "width": 1
          }
         },
         "orientation": "h",
         "type": "bar",
         "x": [
          0
         ],
         "y": [
          "핵의학과"
         ]
        },
        {
         "marker": {
          "line": {
           "color": "rgb(248, 248, 249)",
           "width": 1
          }
         },
         "orientation": "h",
         "type": "bar",
         "x": [
          26
         ],
         "y": [
          "가정의학과"
         ]
        },
        {
         "marker": {
          "line": {
           "color": "rgb(248, 248, 249)",
           "width": 1
          }
         },
         "orientation": "h",
         "type": "bar",
         "x": [
          2
         ],
         "y": [
          "응급의학과"
         ]
        },
        {
         "marker": {
          "line": {
           "color": "rgb(248, 248, 249)",
           "width": 1
          }
         },
         "orientation": "h",
         "type": "bar",
         "x": [
          0
         ],
         "y": [
          "직업환경의학과"
         ]
        },
        {
         "marker": {
          "line": {
           "color": "rgb(248, 248, 249)",
           "width": 1
          }
         },
         "orientation": "h",
         "type": "bar",
         "x": [
          0
         ],
         "y": [
          "예방의학과"
         ]
        },
        {
         "marker": {
          "line": {
           "color": "rgb(248, 248, 249)",
           "width": 1
          }
         },
         "orientation": "h",
         "type": "bar",
         "x": [
          3160
         ],
         "y": [
          "내과"
         ]
        },
        {
         "marker": {
          "line": {
           "color": "rgb(248, 248, 249)",
           "width": 1
          }
         },
         "orientation": "h",
         "type": "bar",
         "x": [
          358
         ],
         "y": [
          "신경과"
         ]
        },
        {
         "marker": {
          "line": {
           "color": "rgb(248, 248, 249)",
           "width": 1
          }
         },
         "orientation": "h",
         "type": "bar",
         "x": [
          741
         ],
         "y": [
          "정신과"
         ]
        },
        {
         "marker": {
          "line": {
           "color": "rgb(248, 248, 249)",
           "width": 1
          }
         },
         "orientation": "h",
         "type": "bar",
         "x": [
          1158
         ],
         "y": [
          "외과"
         ]
        },
        {
         "marker": {
          "line": {
           "color": "rgb(248, 248, 249)",
           "width": 1
          }
         },
         "orientation": "h",
         "type": "bar",
         "x": [
          1359
         ],
         "y": [
          "정형외과"
         ]
        },
        {
         "marker": {
          "line": {
           "color": "rgb(248, 248, 249)",
           "width": 1
          }
         },
         "orientation": "h",
         "type": "bar",
         "x": [
          551
         ],
         "y": [
          "신경외과"
         ]
        },
        {
         "marker": {
          "line": {
           "color": "rgb(248, 248, 249)",
           "width": 1
          }
         },
         "orientation": "h",
         "type": "bar",
         "x": [
          191
         ],
         "y": [
          "흉부외과"
         ]
        },
        {
         "marker": {
          "line": {
           "color": "rgb(248, 248, 249)",
           "width": 1
          }
         },
         "orientation": "h",
         "type": "bar",
         "x": [
          231
         ],
         "y": [
          "성형외과"
         ]
        },
        {
         "marker": {
          "line": {
           "color": "rgb(248, 248, 249)",
           "width": 1
          }
         },
         "orientation": "h",
         "type": "bar",
         "x": [
          884
         ],
         "y": [
          "마취통증의학과"
         ]
        },
        {
         "marker": {
          "line": {
           "color": "rgb(248, 248, 249)",
           "width": 1
          }
         },
         "orientation": "h",
         "type": "bar",
         "x": [
          1224
         ],
         "y": [
          "산부인과"
         ]
        },
        {
         "marker": {
          "line": {
           "color": "rgb(248, 248, 249)",
           "width": 1
          }
         },
         "orientation": "h",
         "type": "bar",
         "x": [
          1414
         ],
         "y": [
          "소아과"
         ]
        },
        {
         "marker": {
          "line": {
           "color": "rgb(248, 248, 249)",
           "width": 1
          }
         },
         "orientation": "h",
         "type": "bar",
         "x": [
          629
         ],
         "y": [
          "안과"
         ]
        },
        {
         "marker": {
          "line": {
           "color": "rgb(248, 248, 249)",
           "width": 1
          }
         },
         "orientation": "h",
         "type": "bar",
         "x": [
          895
         ],
         "y": [
          "이비인후과"
         ]
        },
        {
         "marker": {
          "line": {
           "color": "rgb(248, 248, 249)",
           "width": 1
          }
         },
         "orientation": "h",
         "type": "bar",
         "x": [
          437
         ],
         "y": [
          "피부과"
         ]
        },
        {
         "marker": {
          "line": {
           "color": "rgb(248, 248, 249)",
           "width": 1
          }
         },
         "orientation": "h",
         "type": "bar",
         "x": [
          535
         ],
         "y": [
          "비뇨기과"
         ]
        },
        {
         "marker": {
          "line": {
           "color": "rgb(248, 248, 249)",
           "width": 1
          }
         },
         "orientation": "h",
         "type": "bar",
         "x": [
          707
         ],
         "y": [
          "진단방사선과"
         ]
        },
        {
         "marker": {
          "line": {
           "color": "rgb(248, 248, 249)",
           "width": 1
          }
         },
         "orientation": "h",
         "type": "bar",
         "x": [
          52
         ],
         "y": [
          "방사선종양학과"
         ]
        },
        {
         "marker": {
          "line": {
           "color": "rgb(248, 248, 249)",
           "width": 1
          }
         },
         "orientation": "h",
         "type": "bar",
         "x": [
          165
         ],
         "y": [
          "병리과"
         ]
        },
        {
         "marker": {
          "line": {
           "color": "rgb(248, 248, 249)",
           "width": 1
          }
         },
         "orientation": "h",
         "type": "bar",
         "x": [
          167
         ],
         "y": [
          "진단검사의학과"
         ]
        },
        {
         "marker": {
          "line": {
           "color": "rgb(248, 248, 249)",
           "width": 1
          }
         },
         "orientation": "h",
         "type": "bar",
         "x": [
          18
         ],
         "y": [
          "결핵과"
         ]
        },
        {
         "marker": {
          "line": {
           "color": "rgb(248, 248, 249)",
           "width": 1
          }
         },
         "orientation": "h",
         "type": "bar",
         "x": [
          462
         ],
         "y": [
          "재활의학과"
         ]
        },
        {
         "marker": {
          "line": {
           "color": "rgb(248, 248, 249)",
           "width": 1
          }
         },
         "orientation": "h",
         "type": "bar",
         "x": [
          32
         ],
         "y": [
          "핵의학과"
         ]
        },
        {
         "marker": {
          "line": {
           "color": "rgb(248, 248, 249)",
           "width": 1
          }
         },
         "orientation": "h",
         "type": "bar",
         "x": [
          1351
         ],
         "y": [
          "가정의학과"
         ]
        },
        {
         "marker": {
          "line": {
           "color": "rgb(248, 248, 249)",
           "width": 1
          }
         },
         "orientation": "h",
         "type": "bar",
         "x": [
          374
         ],
         "y": [
          "응급의학과"
         ]
        },
        {
         "marker": {
          "line": {
           "color": "rgb(248, 248, 249)",
           "width": 1
          }
         },
         "orientation": "h",
         "type": "bar",
         "x": [
          92
         ],
         "y": [
          "직업환경의학과"
         ]
        },
        {
         "marker": {
          "line": {
           "color": "rgb(248, 248, 249)",
           "width": 1
          }
         },
         "orientation": "h",
         "type": "bar",
         "x": [
          36
         ],
         "y": [
          "예방의학과"
         ]
        },
        {
         "marker": {
          "line": {
           "color": "rgb(248, 248, 249)",
           "width": 1
          }
         },
         "orientation": "h",
         "type": "bar",
         "x": [
          395
         ],
         "y": [
          "내과"
         ]
        },
        {
         "marker": {
          "line": {
           "color": "rgb(248, 248, 249)",
           "width": 1
          }
         },
         "orientation": "h",
         "type": "bar",
         "x": [
          43
         ],
         "y": [
          "신경과"
         ]
        },
        {
         "marker": {
          "line": {
           "color": "rgb(248, 248, 249)",
           "width": 1
          }
         },
         "orientation": "h",
         "type": "bar",
         "x": [
          101
         ],
         "y": [
          "정신과"
         ]
        },
        {
         "marker": {
          "line": {
           "color": "rgb(248, 248, 249)",
           "width": 1
          }
         },
         "orientation": "h",
         "type": "bar",
         "x": [
          165
         ],
         "y": [
          "외과"
         ]
        },
        {
         "marker": {
          "line": {
           "color": "rgb(248, 248, 249)",
           "width": 1
          }
         },
         "orientation": "h",
         "type": "bar",
         "x": [
          163
         ],
         "y": [
          "정형외과"
         ]
        },
        {
         "marker": {
          "line": {
           "color": "rgb(248, 248, 249)",
           "width": 1
          }
         },
         "orientation": "h",
         "type": "bar",
         "x": [
          88
         ],
         "y": [
          "신경외과"
         ]
        },
        {
         "marker": {
          "line": {
           "color": "rgb(248, 248, 249)",
           "width": 1
          }
         },
         "orientation": "h",
         "type": "bar",
         "x": [
          31
         ],
         "y": [
          "흉부외과"
         ]
        },
        {
         "marker": {
          "line": {
           "color": "rgb(248, 248, 249)",
           "width": 1
          }
         },
         "orientation": "h",
         "type": "bar",
         "x": [
          34
         ],
         "y": [
          "성형외과"
         ]
        },
        {
         "marker": {
          "line": {
           "color": "rgb(248, 248, 249)",
           "width": 1
          }
         },
         "orientation": "h",
         "type": "bar",
         "x": [
          119
         ],
         "y": [
          "마취통증의학과"
         ]
        },
        {
         "marker": {
          "line": {
           "color": "rgb(248, 248, 249)",
           "width": 1
          }
         },
         "orientation": "h",
         "type": "bar",
         "x": [
          138
         ],
         "y": [
          "산부인과"
         ]
        },
        {
         "marker": {
          "line": {
           "color": "rgb(248, 248, 249)",
           "width": 1
          }
         },
         "orientation": "h",
         "type": "bar",
         "x": [
          126
         ],
         "y": [
          "소아과"
         ]
        },
        {
         "marker": {
          "line": {
           "color": "rgb(248, 248, 249)",
           "width": 1
          }
         },
         "orientation": "h",
         "type": "bar",
         "x": [
          83
         ],
         "y": [
          "안과"
         ]
        },
        {
         "marker": {
          "line": {
           "color": "rgb(248, 248, 249)",
           "width": 1
          }
         },
         "orientation": "h",
         "type": "bar",
         "x": [
          87
         ],
         "y": [
          "이비인후과"
         ]
        },
        {
         "marker": {
          "line": {
           "color": "rgb(248, 248, 249)",
           "width": 1
          }
         },
         "orientation": "h",
         "type": "bar",
         "x": [
          35
         ],
         "y": [
          "피부과"
         ]
        },
        {
         "marker": {
          "line": {
           "color": "rgb(248, 248, 249)",
           "width": 1
          }
         },
         "orientation": "h",
         "type": "bar",
         "x": [
          59
         ],
         "y": [
          "비뇨기과"
         ]
        },
        {
         "marker": {
          "line": {
           "color": "rgb(248, 248, 249)",
           "width": 1
          }
         },
         "orientation": "h",
         "type": "bar",
         "x": [
          80
         ],
         "y": [
          "진단방사선과"
         ]
        },
        {
         "marker": {
          "line": {
           "color": "rgb(248, 248, 249)",
           "width": 1
          }
         },
         "orientation": "h",
         "type": "bar",
         "x": [
          11
         ],
         "y": [
          "방사선종양학과"
         ]
        },
        {
         "marker": {
          "line": {
           "color": "rgb(248, 248, 249)",
           "width": 1
          }
         },
         "orientation": "h",
         "type": "bar",
         "x": [
          18
         ],
         "y": [
          "병리과"
         ]
        },
        {
         "marker": {
          "line": {
           "color": "rgb(248, 248, 249)",
           "width": 1
          }
         },
         "orientation": "h",
         "type": "bar",
         "x": [
          21
         ],
         "y": [
          "진단검사의학과"
         ]
        },
        {
         "marker": {
          "line": {
           "color": "rgb(248, 248, 249)",
           "width": 1
          }
         },
         "orientation": "h",
         "type": "bar",
         "x": [
          3
         ],
         "y": [
          "결핵과"
         ]
        },
        {
         "marker": {
          "line": {
           "color": "rgb(248, 248, 249)",
           "width": 1
          }
         },
         "orientation": "h",
         "type": "bar",
         "x": [
          49
         ],
         "y": [
          "재활의학과"
         ]
        },
        {
         "marker": {
          "line": {
           "color": "rgb(248, 248, 249)",
           "width": 1
          }
         },
         "orientation": "h",
         "type": "bar",
         "x": [
          5
         ],
         "y": [
          "핵의학과"
         ]
        },
        {
         "marker": {
          "line": {
           "color": "rgb(248, 248, 249)",
           "width": 1
          }
         },
         "orientation": "h",
         "type": "bar",
         "x": [
          123
         ],
         "y": [
          "가정의학과"
         ]
        },
        {
         "marker": {
          "line": {
           "color": "rgb(248, 248, 249)",
           "width": 1
          }
         },
         "orientation": "h",
         "type": "bar",
         "x": [
          62
         ],
         "y": [
          "응급의학과"
         ]
        },
        {
         "marker": {
          "line": {
           "color": "rgb(248, 248, 249)",
           "width": 1
          }
         },
         "orientation": "h",
         "type": "bar",
         "x": [
          8
         ],
         "y": [
          "직업환경의학과"
         ]
        },
        {
         "marker": {
          "line": {
           "color": "rgb(248, 248, 249)",
           "width": 1
          }
         },
         "orientation": "h",
         "type": "bar",
         "x": [
          4
         ],
         "y": [
          "예방의학과"
         ]
        },
        {
         "marker": {
          "line": {
           "color": "rgb(248, 248, 249)",
           "width": 1
          }
         },
         "orientation": "h",
         "type": "bar",
         "x": [
          344
         ],
         "y": [
          "내과"
         ]
        },
        {
         "marker": {
          "line": {
           "color": "rgb(248, 248, 249)",
           "width": 1
          }
         },
         "orientation": "h",
         "type": "bar",
         "x": [
          41
         ],
         "y": [
          "신경과"
         ]
        },
        {
         "marker": {
          "line": {
           "color": "rgb(248, 248, 249)",
           "width": 1
          }
         },
         "orientation": "h",
         "type": "bar",
         "x": [
          105
         ],
         "y": [
          "정신과"
         ]
        },
        {
         "marker": {
          "line": {
           "color": "rgb(248, 248, 249)",
           "width": 1
          }
         },
         "orientation": "h",
         "type": "bar",
         "x": [
          166
         ],
         "y": [
          "외과"
         ]
        },
        {
         "marker": {
          "line": {
           "color": "rgb(248, 248, 249)",
           "width": 1
          }
         },
         "orientation": "h",
         "type": "bar",
         "x": [
          163
         ],
         "y": [
          "정형외과"
         ]
        },
        {
         "marker": {
          "line": {
           "color": "rgb(248, 248, 249)",
           "width": 1
          }
         },
         "orientation": "h",
         "type": "bar",
         "x": [
          88
         ],
         "y": [
          "신경외과"
         ]
        },
        {
         "marker": {
          "line": {
           "color": "rgb(248, 248, 249)",
           "width": 1
          }
         },
         "orientation": "h",
         "type": "bar",
         "x": [
          30
         ],
         "y": [
          "흉부외과"
         ]
        },
        {
         "marker": {
          "line": {
           "color": "rgb(248, 248, 249)",
           "width": 1
          }
         },
         "orientation": "h",
         "type": "bar",
         "x": [
          30
         ],
         "y": [
          "성형외과"
         ]
        },
        {
         "marker": {
          "line": {
           "color": "rgb(248, 248, 249)",
           "width": 1
          }
         },
         "orientation": "h",
         "type": "bar",
         "x": [
          119
         ],
         "y": [
          "마취통증의학과"
         ]
        },
        {
         "marker": {
          "line": {
           "color": "rgb(248, 248, 249)",
           "width": 1
          }
         },
         "orientation": "h",
         "type": "bar",
         "x": [
          141
         ],
         "y": [
          "산부인과"
         ]
        },
        {
         "marker": {
          "line": {
           "color": "rgb(248, 248, 249)",
           "width": 1
          }
         },
         "orientation": "h",
         "type": "bar",
         "x": [
          137
         ],
         "y": [
          "소아과"
         ]
        },
        {
         "marker": {
          "line": {
           "color": "rgb(248, 248, 249)",
           "width": 1
          }
         },
         "orientation": "h",
         "type": "bar",
         "x": [
          78
         ],
         "y": [
          "안과"
         ]
        },
        {
         "marker": {
          "line": {
           "color": "rgb(248, 248, 249)",
           "width": 1
          }
         },
         "orientation": "h",
         "type": "bar",
         "x": [
          94
         ],
         "y": [
          "이비인후과"
         ]
        },
        {
         "marker": {
          "line": {
           "color": "rgb(248, 248, 249)",
           "width": 1
          }
         },
         "orientation": "h",
         "type": "bar",
         "x": [
          38
         ],
         "y": [
          "피부과"
         ]
        },
        {
         "marker": {
          "line": {
           "color": "rgb(248, 248, 249)",
           "width": 1
          }
         },
         "orientation": "h",
         "type": "bar",
         "x": [
          66
         ],
         "y": [
          "비뇨기과"
         ]
        },
        {
         "marker": {
          "line": {
           "color": "rgb(248, 248, 249)",
           "width": 1
          }
         },
         "orientation": "h",
         "type": "bar",
         "x": [
          84
         ],
         "y": [
          "진단방사선과"
         ]
        },
        {
         "marker": {
          "line": {
           "color": "rgb(248, 248, 249)",
           "width": 1
          }
         },
         "orientation": "h",
         "type": "bar",
         "x": [
          4
         ],
         "y": [
          "방사선종양학과"
         ]
        },
        {
         "marker": {
          "line": {
           "color": "rgb(248, 248, 249)",
           "width": 1
          }
         },
         "orientation": "h",
         "type": "bar",
         "x": [
          15
         ],
         "y": [
          "병리과"
         ]
        },
        {
         "marker": {
          "line": {
           "color": "rgb(248, 248, 249)",
           "width": 1
          }
         },
         "orientation": "h",
         "type": "bar",
         "x": [
          20
         ],
         "y": [
          "진단검사의학과"
         ]
        },
        {
         "marker": {
          "line": {
           "color": "rgb(248, 248, 249)",
           "width": 1
          }
         },
         "orientation": "h",
         "type": "bar",
         "x": [
          0
         ],
         "y": [
          "결핵과"
         ]
        },
        {
         "marker": {
          "line": {
           "color": "rgb(248, 248, 249)",
           "width": 1
          }
         },
         "orientation": "h",
         "type": "bar",
         "x": [
          57
         ],
         "y": [
          "재활의학과"
         ]
        },
        {
         "marker": {
          "line": {
           "color": "rgb(248, 248, 249)",
           "width": 1
          }
         },
         "orientation": "h",
         "type": "bar",
         "x": [
          3
         ],
         "y": [
          "핵의학과"
         ]
        },
        {
         "marker": {
          "line": {
           "color": "rgb(248, 248, 249)",
           "width": 1
          }
         },
         "orientation": "h",
         "type": "bar",
         "x": [
          197
         ],
         "y": [
          "가정의학과"
         ]
        },
        {
         "marker": {
          "line": {
           "color": "rgb(248, 248, 249)",
           "width": 1
          }
         },
         "orientation": "h",
         "type": "bar",
         "x": [
          43
         ],
         "y": [
          "응급의학과"
         ]
        },
        {
         "marker": {
          "line": {
           "color": "rgb(248, 248, 249)",
           "width": 1
          }
         },
         "orientation": "h",
         "type": "bar",
         "x": [
          23
         ],
         "y": [
          "직업환경의학과"
         ]
        },
        {
         "marker": {
          "line": {
           "color": "rgb(248, 248, 249)",
           "width": 1
          }
         },
         "orientation": "h",
         "type": "bar",
         "x": [
          2
         ],
         "y": [
          "예방의학과"
         ]
        },
        {
         "marker": {
          "line": {
           "color": "rgb(248, 248, 249)",
           "width": 1
          }
         },
         "orientation": "h",
         "type": "bar",
         "x": [
          426
         ],
         "y": [
          "내과"
         ]
        },
        {
         "marker": {
          "line": {
           "color": "rgb(248, 248, 249)",
           "width": 1
          }
         },
         "orientation": "h",
         "type": "bar",
         "x": [
          55
         ],
         "y": [
          "신경과"
         ]
        },
        {
         "marker": {
          "line": {
           "color": "rgb(248, 248, 249)",
           "width": 1
          }
         },
         "orientation": "h",
         "type": "bar",
         "x": [
          123
         ],
         "y": [
          "정신과"
         ]
        },
        {
         "marker": {
          "line": {
           "color": "rgb(248, 248, 249)",
           "width": 1
          }
         },
         "orientation": "h",
         "type": "bar",
         "x": [
          222
         ],
         "y": [
          "외과"
         ]
        },
        {
         "marker": {
          "line": {
           "color": "rgb(248, 248, 249)",
           "width": 1
          }
         },
         "orientation": "h",
         "type": "bar",
         "x": [
          189
         ],
         "y": [
          "정형외과"
         ]
        },
        {
         "marker": {
          "line": {
           "color": "rgb(248, 248, 249)",
           "width": 1
          }
         },
         "orientation": "h",
         "type": "bar",
         "x": [
          84
         ],
         "y": [
          "신경외과"
         ]
        },
        {
         "marker": {
          "line": {
           "color": "rgb(248, 248, 249)",
           "width": 1
          }
         },
         "orientation": "h",
         "type": "bar",
         "x": [
          37
         ],
         "y": [
          "흉부외과"
         ]
        },
        {
         "marker": {
          "line": {
           "color": "rgb(248, 248, 249)",
           "width": 1
          }
         },
         "orientation": "h",
         "type": "bar",
         "x": [
          30
         ],
         "y": [
          "성형외과"
         ]
        },
        {
         "marker": {
          "line": {
           "color": "rgb(248, 248, 249)",
           "width": 1
          }
         },
         "orientation": "h",
         "type": "bar",
         "x": [
          125
         ],
         "y": [
          "마취통증의학과"
         ]
        },
        {
         "marker": {
          "line": {
           "color": "rgb(248, 248, 249)",
           "width": 1
          }
         },
         "orientation": "h",
         "type": "bar",
         "x": [
          185
         ],
         "y": [
          "산부인과"
         ]
        },
        {
         "marker": {
          "line": {
           "color": "rgb(248, 248, 249)",
           "width": 1
          }
         },
         "orientation": "h",
         "type": "bar",
         "x": [
          167
         ],
         "y": [
          "소아과"
         ]
        },
        {
         "marker": {
          "line": {
           "color": "rgb(248, 248, 249)",
           "width": 1
          }
         },
         "orientation": "h",
         "type": "bar",
         "x": [
          97
         ],
         "y": [
          "안과"
         ]
        },
        {
         "marker": {
          "line": {
           "color": "rgb(248, 248, 249)",
           "width": 1
          }
         },
         "orientation": "h",
         "type": "bar",
         "x": [
          99
         ],
         "y": [
          "이비인후과"
         ]
        },
        {
         "marker": {
          "line": {
           "color": "rgb(248, 248, 249)",
           "width": 1
          }
         },
         "orientation": "h",
         "type": "bar",
         "x": [
          46
         ],
         "y": [
          "피부과"
         ]
        },
        {
         "marker": {
          "line": {
           "color": "rgb(248, 248, 249)",
           "width": 1
          }
         },
         "orientation": "h",
         "type": "bar",
         "x": [
          80
         ],
         "y": [
          "비뇨기과"
         ]
        },
        {
         "marker": {
          "line": {
           "color": "rgb(248, 248, 249)",
           "width": 1
          }
         },
         "orientation": "h",
         "type": "bar",
         "x": [
          100
         ],
         "y": [
          "진단방사선과"
         ]
        },
        {
         "marker": {
          "line": {
           "color": "rgb(248, 248, 249)",
           "width": 1
          }
         },
         "orientation": "h",
         "type": "bar",
         "x": [
          6
         ],
         "y": [
          "방사선종양학과"
         ]
        },
        {
         "marker": {
          "line": {
           "color": "rgb(248, 248, 249)",
           "width": 1
          }
         },
         "orientation": "h",
         "type": "bar",
         "x": [
          15
         ],
         "y": [
          "병리과"
         ]
        },
        {
         "marker": {
          "line": {
           "color": "rgb(248, 248, 249)",
           "width": 1
          }
         },
         "orientation": "h",
         "type": "bar",
         "x": [
          22
         ],
         "y": [
          "진단검사의학과"
         ]
        },
        {
         "marker": {
          "line": {
           "color": "rgb(248, 248, 249)",
           "width": 1
          }
         },
         "orientation": "h",
         "type": "bar",
         "x": [
          0
         ],
         "y": [
          "결핵과"
         ]
        },
        {
         "marker": {
          "line": {
           "color": "rgb(248, 248, 249)",
           "width": 1
          }
         },
         "orientation": "h",
         "type": "bar",
         "x": [
          57
         ],
         "y": [
          "재활의학과"
         ]
        },
        {
         "marker": {
          "line": {
           "color": "rgb(248, 248, 249)",
           "width": 1
          }
         },
         "orientation": "h",
         "type": "bar",
         "x": [
          7
         ],
         "y": [
          "핵의학과"
         ]
        },
        {
         "marker": {
          "line": {
           "color": "rgb(248, 248, 249)",
           "width": 1
          }
         },
         "orientation": "h",
         "type": "bar",
         "x": [
          225
         ],
         "y": [
          "가정의학과"
         ]
        },
        {
         "marker": {
          "line": {
           "color": "rgb(248, 248, 249)",
           "width": 1
          }
         },
         "orientation": "h",
         "type": "bar",
         "x": [
          72
         ],
         "y": [
          "응급의학과"
         ]
        },
        {
         "marker": {
          "line": {
           "color": "rgb(248, 248, 249)",
           "width": 1
          }
         },
         "orientation": "h",
         "type": "bar",
         "x": [
          27
         ],
         "y": [
          "직업환경의학과"
         ]
        },
        {
         "marker": {
          "line": {
           "color": "rgb(248, 248, 249)",
           "width": 1
          }
         },
         "orientation": "h",
         "type": "bar",
         "x": [
          5
         ],
         "y": [
          "예방의학과"
         ]
        },
        {
         "marker": {
          "line": {
           "color": "rgb(248, 248, 249)",
           "width": 1
          }
         },
         "orientation": "h",
         "type": "bar",
         "x": [
          559
         ],
         "y": [
          "내과"
         ]
        },
        {
         "marker": {
          "line": {
           "color": "rgb(248, 248, 249)",
           "width": 1
          }
         },
         "orientation": "h",
         "type": "bar",
         "x": [
          62
         ],
         "y": [
          "신경과"
         ]
        },
        {
         "marker": {
          "line": {
           "color": "rgb(248, 248, 249)",
           "width": 1
          }
         },
         "orientation": "h",
         "type": "bar",
         "x": [
          131
         ],
         "y": [
          "정신과"
         ]
        },
        {
         "marker": {
          "line": {
           "color": "rgb(248, 248, 249)",
           "width": 1
          }
         },
         "orientation": "h",
         "type": "bar",
         "x": [
          241
         ],
         "y": [
          "외과"
         ]
        },
        {
         "marker": {
          "line": {
           "color": "rgb(248, 248, 249)",
           "width": 1
          }
         },
         "orientation": "h",
         "type": "bar",
         "x": [
          205
         ],
         "y": [
          "정형외과"
         ]
        },
        {
         "marker": {
          "line": {
           "color": "rgb(248, 248, 249)",
           "width": 1
          }
         },
         "orientation": "h",
         "type": "bar",
         "x": [
          99
         ],
         "y": [
          "신경외과"
         ]
        },
        {
         "marker": {
          "line": {
           "color": "rgb(248, 248, 249)",
           "width": 1
          }
         },
         "orientation": "h",
         "type": "bar",
         "x": [
          33
         ],
         "y": [
          "흉부외과"
         ]
        },
        {
         "marker": {
          "line": {
           "color": "rgb(248, 248, 249)",
           "width": 1
          }
         },
         "orientation": "h",
         "type": "bar",
         "x": [
          45
         ],
         "y": [
          "성형외과"
         ]
        },
        {
         "marker": {
          "line": {
           "color": "rgb(248, 248, 249)",
           "width": 1
          }
         },
         "orientation": "h",
         "type": "bar",
         "x": [
          148
         ],
         "y": [
          "마취통증의학과"
         ]
        },
        {
         "marker": {
          "line": {
           "color": "rgb(248, 248, 249)",
           "width": 1
          }
         },
         "orientation": "h",
         "type": "bar",
         "x": [
          192
         ],
         "y": [
          "산부인과"
         ]
        },
        {
         "marker": {
          "line": {
           "color": "rgb(248, 248, 249)",
           "width": 1
          }
         },
         "orientation": "h",
         "type": "bar",
         "x": [
          192
         ],
         "y": [
          "소아과"
         ]
        },
        {
         "marker": {
          "line": {
           "color": "rgb(248, 248, 249)",
           "width": 1
          }
         },
         "orientation": "h",
         "type": "bar",
         "x": [
          112
         ],
         "y": [
          "안과"
         ]
        },
        {
         "marker": {
          "line": {
           "color": "rgb(248, 248, 249)",
           "width": 1
          }
         },
         "orientation": "h",
         "type": "bar",
         "x": [
          103
         ],
         "y": [
          "이비인후과"
         ]
        },
        {
         "marker": {
          "line": {
           "color": "rgb(248, 248, 249)",
           "width": 1
          }
         },
         "orientation": "h",
         "type": "bar",
         "x": [
          57
         ],
         "y": [
          "피부과"
         ]
        },
        {
         "marker": {
          "line": {
           "color": "rgb(248, 248, 249)",
           "width": 1
          }
         },
         "orientation": "h",
         "type": "bar",
         "x": [
          74
         ],
         "y": [
          "비뇨기과"
         ]
        },
        {
         "marker": {
          "line": {
           "color": "rgb(248, 248, 249)",
           "width": 1
          }
         },
         "orientation": "h",
         "type": "bar",
         "x": [
          122
         ],
         "y": [
          "진단방사선과"
         ]
        },
        {
         "marker": {
          "line": {
           "color": "rgb(248, 248, 249)",
           "width": 1
          }
         },
         "orientation": "h",
         "type": "bar",
         "x": [
          9
         ],
         "y": [
          "방사선종양학과"
         ]
        },
        {
         "marker": {
          "line": {
           "color": "rgb(248, 248, 249)",
           "width": 1
          }
         },
         "orientation": "h",
         "type": "bar",
         "x": [
          21
         ],
         "y": [
          "병리과"
         ]
        },
        {
         "marker": {
          "line": {
           "color": "rgb(248, 248, 249)",
           "width": 1
          }
         },
         "orientation": "h",
         "type": "bar",
         "x": [
          22
         ],
         "y": [
          "진단검사의학과"
         ]
        },
        {
         "marker": {
          "line": {
           "color": "rgb(248, 248, 249)",
           "width": 1
          }
         },
         "orientation": "h",
         "type": "bar",
         "x": [
          1
         ],
         "y": [
          "결핵과"
         ]
        },
        {
         "marker": {
          "line": {
           "color": "rgb(248, 248, 249)",
           "width": 1
          }
         },
         "orientation": "h",
         "type": "bar",
         "x": [
          84
         ],
         "y": [
          "재활의학과"
         ]
        },
        {
         "marker": {
          "line": {
           "color": "rgb(248, 248, 249)",
           "width": 1
          }
         },
         "orientation": "h",
         "type": "bar",
         "x": [
          10
         ],
         "y": [
          "핵의학과"
         ]
        },
        {
         "marker": {
          "line": {
           "color": "rgb(248, 248, 249)",
           "width": 1
          }
         },
         "orientation": "h",
         "type": "bar",
         "x": [
          287
         ],
         "y": [
          "가정의학과"
         ]
        },
        {
         "marker": {
          "line": {
           "color": "rgb(248, 248, 249)",
           "width": 1
          }
         },
         "orientation": "h",
         "type": "bar",
         "x": [
          69
         ],
         "y": [
          "응급의학과"
         ]
        },
        {
         "marker": {
          "line": {
           "color": "rgb(248, 248, 249)",
           "width": 1
          }
         },
         "orientation": "h",
         "type": "bar",
         "x": [
          12
         ],
         "y": [
          "직업환경의학과"
         ]
        },
        {
         "marker": {
          "line": {
           "color": "rgb(248, 248, 249)",
           "width": 1
          }
         },
         "orientation": "h",
         "type": "bar",
         "x": [
          5
         ],
         "y": [
          "예방의학과"
         ]
        },
        {
         "marker": {
          "line": {
           "color": "rgb(248, 248, 249)",
           "width": 1
          }
         },
         "orientation": "h",
         "type": "bar",
         "x": [
          451
         ],
         "y": [
          "내과"
         ]
        },
        {
         "marker": {
          "line": {
           "color": "rgb(248, 248, 249)",
           "width": 1
          }
         },
         "orientation": "h",
         "type": "bar",
         "x": [
          56
         ],
         "y": [
          "신경과"
         ]
        },
        {
         "marker": {
          "line": {
           "color": "rgb(248, 248, 249)",
           "width": 1
          }
         },
         "orientation": "h",
         "type": "bar",
         "x": [
          123
         ],
         "y": [
          "정신과"
         ]
        },
        {
         "marker": {
          "line": {
           "color": "rgb(248, 248, 249)",
           "width": 1
          }
         },
         "orientation": "h",
         "type": "bar",
         "x": [
          256
         ],
         "y": [
          "외과"
         ]
        },
        {
         "marker": {
          "line": {
           "color": "rgb(248, 248, 249)",
           "width": 1
          }
         },
         "orientation": "h",
         "type": "bar",
         "x": [
          190
         ],
         "y": [
          "정형외과"
         ]
        },
        {
         "marker": {
          "line": {
           "color": "rgb(248, 248, 249)",
           "width": 1
          }
         },
         "orientation": "h",
         "type": "bar",
         "x": [
          87
         ],
         "y": [
          "신경외과"
         ]
        },
        {
         "marker": {
          "line": {
           "color": "rgb(248, 248, 249)",
           "width": 1
          }
         },
         "orientation": "h",
         "type": "bar",
         "x": [
          50
         ],
         "y": [
          "흉부외과"
         ]
        },
        {
         "marker": {
          "line": {
           "color": "rgb(248, 248, 249)",
           "width": 1
          }
         },
         "orientation": "h",
         "type": "bar",
         "x": [
          28
         ],
         "y": [
          "성형외과"
         ]
        },
        {
         "marker": {
          "line": {
           "color": "rgb(248, 248, 249)",
           "width": 1
          }
         },
         "orientation": "h",
         "type": "bar",
         "x": [
          158
         ],
         "y": [
          "마취통증의학과"
         ]
        },
        {
         "marker": {
          "line": {
           "color": "rgb(248, 248, 249)",
           "width": 1
          }
         },
         "orientation": "h",
         "type": "bar",
         "x": [
          159
         ],
         "y": [
          "산부인과"
         ]
        },
        {
         "marker": {
          "line": {
           "color": "rgb(248, 248, 249)",
           "width": 1
          }
         },
         "orientation": "h",
         "type": "bar",
         "x": [
          147
         ],
         "y": [
          "소아과"
         ]
        },
        {
         "marker": {
          "line": {
           "color": "rgb(248, 248, 249)",
           "width": 1
          }
         },
         "orientation": "h",
         "type": "bar",
         "x": [
          81
         ],
         "y": [
          "안과"
         ]
        },
        {
         "marker": {
          "line": {
           "color": "rgb(248, 248, 249)",
           "width": 1
          }
         },
         "orientation": "h",
         "type": "bar",
         "x": [
          86
         ],
         "y": [
          "이비인후과"
         ]
        },
        {
         "marker": {
          "line": {
           "color": "rgb(248, 248, 249)",
           "width": 1
          }
         },
         "orientation": "h",
         "type": "bar",
         "x": [
          33
         ],
         "y": [
          "피부과"
         ]
        },
        {
         "marker": {
          "line": {
           "color": "rgb(248, 248, 249)",
           "width": 1
          }
         },
         "orientation": "h",
         "type": "bar",
         "x": [
          73
         ],
         "y": [
          "비뇨기과"
         ]
        },
        {
         "marker": {
          "line": {
           "color": "rgb(248, 248, 249)",
           "width": 1
          }
         },
         "orientation": "h",
         "type": "bar",
         "x": [
          116
         ],
         "y": [
          "진단방사선과"
         ]
        },
        {
         "marker": {
          "line": {
           "color": "rgb(248, 248, 249)",
           "width": 1
          }
         },
         "orientation": "h",
         "type": "bar",
         "x": [
          8
         ],
         "y": [
          "방사선종양학과"
         ]
        },
        {
         "marker": {
          "line": {
           "color": "rgb(248, 248, 249)",
           "width": 1
          }
         },
         "orientation": "h",
         "type": "bar",
         "x": [
          12
         ],
         "y": [
          "병리과"
         ]
        },
        {
         "marker": {
          "line": {
           "color": "rgb(248, 248, 249)",
           "width": 1
          }
         },
         "orientation": "h",
         "type": "bar",
         "x": [
          28
         ],
         "y": [
          "진단검사의학과"
         ]
        },
        {
         "marker": {
          "line": {
           "color": "rgb(248, 248, 249)",
           "width": 1
          }
         },
         "orientation": "h",
         "type": "bar",
         "x": [
          3
         ],
         "y": [
          "결핵과"
         ]
        },
        {
         "marker": {
          "line": {
           "color": "rgb(248, 248, 249)",
           "width": 1
          }
         },
         "orientation": "h",
         "type": "bar",
         "x": [
          50
         ],
         "y": [
          "재활의학과"
         ]
        },
        {
         "marker": {
          "line": {
           "color": "rgb(248, 248, 249)",
           "width": 1
          }
         },
         "orientation": "h",
         "type": "bar",
         "x": [
          15
         ],
         "y": [
          "핵의학과"
         ]
        },
        {
         "marker": {
          "line": {
           "color": "rgb(248, 248, 249)",
           "width": 1
          }
         },
         "orientation": "h",
         "type": "bar",
         "x": [
          234
         ],
         "y": [
          "가정의학과"
         ]
        },
        {
         "marker": {
          "line": {
           "color": "rgb(248, 248, 249)",
           "width": 1
          }
         },
         "orientation": "h",
         "type": "bar",
         "x": [
          61
         ],
         "y": [
          "응급의학과"
         ]
        },
        {
         "marker": {
          "line": {
           "color": "rgb(248, 248, 249)",
           "width": 1
          }
         },
         "orientation": "h",
         "type": "bar",
         "x": [
          21
         ],
         "y": [
          "직업환경의학과"
         ]
        },
        {
         "marker": {
          "line": {
           "color": "rgb(248, 248, 249)",
           "width": 1
          }
         },
         "orientation": "h",
         "type": "bar",
         "x": [
          7
         ],
         "y": [
          "예방의학과"
         ]
        },
        {
         "marker": {
          "line": {
           "color": "rgb(248, 248, 249)",
           "width": 1
          }
         },
         "orientation": "h",
         "type": "bar",
         "x": [
          549
         ],
         "y": [
          "내과"
         ]
        },
        {
         "marker": {
          "line": {
           "color": "rgb(248, 248, 249)",
           "width": 1
          }
         },
         "orientation": "h",
         "type": "bar",
         "x": [
          89
         ],
         "y": [
          "신경과"
         ]
        },
        {
         "marker": {
          "line": {
           "color": "rgb(248, 248, 249)",
           "width": 1
          }
         },
         "orientation": "h",
         "type": "bar",
         "x": [
          175
         ],
         "y": [
          "정신과"
         ]
        },
        {
         "marker": {
          "line": {
           "color": "rgb(248, 248, 249)",
           "width": 1
          }
         },
         "orientation": "h",
         "type": "bar",
         "x": [
          297
         ],
         "y": [
          "외과"
         ]
        },
        {
         "marker": {
          "line": {
           "color": "rgb(248, 248, 249)",
           "width": 1
          }
         },
         "orientation": "h",
         "type": "bar",
         "x": [
          242
         ],
         "y": [
          "정형외과"
         ]
        },
        {
         "marker": {
          "line": {
           "color": "rgb(248, 248, 249)",
           "width": 1
          }
         },
         "orientation": "h",
         "type": "bar",
         "x": [
          127
         ],
         "y": [
          "신경외과"
         ]
        },
        {
         "marker": {
          "line": {
           "color": "rgb(248, 248, 249)",
           "width": 1
          }
         },
         "orientation": "h",
         "type": "bar",
         "x": [
          49
         ],
         "y": [
          "흉부외과"
         ]
        },
        {
         "marker": {
          "line": {
           "color": "rgb(248, 248, 249)",
           "width": 1
          }
         },
         "orientation": "h",
         "type": "bar",
         "x": [
          42
         ],
         "y": [
          "성형외과"
         ]
        },
        {
         "marker": {
          "line": {
           "color": "rgb(248, 248, 249)",
           "width": 1
          }
         },
         "orientation": "h",
         "type": "bar",
         "x": [
          177
         ],
         "y": [
          "마취통증의학과"
         ]
        },
        {
         "marker": {
          "line": {
           "color": "rgb(248, 248, 249)",
           "width": 1
          }
         },
         "orientation": "h",
         "type": "bar",
         "x": [
          209
         ],
         "y": [
          "산부인과"
         ]
        },
        {
         "marker": {
          "line": {
           "color": "rgb(248, 248, 249)",
           "width": 1
          }
         },
         "orientation": "h",
         "type": "bar",
         "x": [
          204
         ],
         "y": [
          "소아과"
         ]
        },
        {
         "marker": {
          "line": {
           "color": "rgb(248, 248, 249)",
           "width": 1
          }
         },
         "orientation": "h",
         "type": "bar",
         "x": [
          130
         ],
         "y": [
          "안과"
         ]
        },
        {
         "marker": {
          "line": {
           "color": "rgb(248, 248, 249)",
           "width": 1
          }
         },
         "orientation": "h",
         "type": "bar",
         "x": [
          129
         ],
         "y": [
          "이비인후과"
         ]
        },
        {
         "marker": {
          "line": {
           "color": "rgb(248, 248, 249)",
           "width": 1
          }
         },
         "orientation": "h",
         "type": "bar",
         "x": [
          35
         ],
         "y": [
          "피부과"
         ]
        },
        {
         "marker": {
          "line": {
           "color": "rgb(248, 248, 249)",
           "width": 1
          }
         },
         "orientation": "h",
         "type": "bar",
         "x": [
          99
         ],
         "y": [
          "비뇨기과"
         ]
        },
        {
         "marker": {
          "line": {
           "color": "rgb(248, 248, 249)",
           "width": 1
          }
         },
         "orientation": "h",
         "type": "bar",
         "x": [
          108
         ],
         "y": [
          "진단방사선과"
         ]
        },
        {
         "marker": {
          "line": {
           "color": "rgb(248, 248, 249)",
           "width": 1
          }
         },
         "orientation": "h",
         "type": "bar",
         "x": [
          11
         ],
         "y": [
          "방사선종양학과"
         ]
        },
        {
         "marker": {
          "line": {
           "color": "rgb(248, 248, 249)",
           "width": 1
          }
         },
         "orientation": "h",
         "type": "bar",
         "x": [
          16
         ],
         "y": [
          "병리과"
         ]
        },
        {
         "marker": {
          "line": {
           "color": "rgb(248, 248, 249)",
           "width": 1
          }
         },
         "orientation": "h",
         "type": "bar",
         "x": [
          25
         ],
         "y": [
          "진단검사의학과"
         ]
        },
        {
         "marker": {
          "line": {
           "color": "rgb(248, 248, 249)",
           "width": 1
          }
         },
         "orientation": "h",
         "type": "bar",
         "x": [
          3
         ],
         "y": [
          "결핵과"
         ]
        },
        {
         "marker": {
          "line": {
           "color": "rgb(248, 248, 249)",
           "width": 1
          }
         },
         "orientation": "h",
         "type": "bar",
         "x": [
          73
         ],
         "y": [
          "재활의학과"
         ]
        },
        {
         "marker": {
          "line": {
           "color": "rgb(248, 248, 249)",
           "width": 1
          }
         },
         "orientation": "h",
         "type": "bar",
         "x": [
          3
         ],
         "y": [
          "핵의학과"
         ]
        },
        {
         "marker": {
          "line": {
           "color": "rgb(248, 248, 249)",
           "width": 1
          }
         },
         "orientation": "h",
         "type": "bar",
         "x": [
          259
         ],
         "y": [
          "가정의학과"
         ]
        },
        {
         "marker": {
          "line": {
           "color": "rgb(248, 248, 249)",
           "width": 1
          }
         },
         "orientation": "h",
         "type": "bar",
         "x": [
          102
         ],
         "y": [
          "응급의학과"
         ]
        },
        {
         "marker": {
          "line": {
           "color": "rgb(248, 248, 249)",
           "width": 1
          }
         },
         "orientation": "h",
         "type": "bar",
         "x": [
          34
         ],
         "y": [
          "직업환경의학과"
         ]
        },
        {
         "marker": {
          "line": {
           "color": "rgb(248, 248, 249)",
           "width": 1
          }
         },
         "orientation": "h",
         "type": "bar",
         "x": [
          17
         ],
         "y": [
          "예방의학과"
         ]
        },
        {
         "marker": {
          "line": {
           "color": "rgb(248, 248, 249)",
           "width": 1
          }
         },
         "orientation": "h",
         "type": "bar",
         "x": [
          872
         ],
         "y": [
          "내과"
         ]
        },
        {
         "marker": {
          "line": {
           "color": "rgb(248, 248, 249)",
           "width": 1
          }
         },
         "orientation": "h",
         "type": "bar",
         "x": [
          126
         ],
         "y": [
          "신경과"
         ]
        },
        {
         "marker": {
          "line": {
           "color": "rgb(248, 248, 249)",
           "width": 1
          }
         },
         "orientation": "h",
         "type": "bar",
         "x": [
          245
         ],
         "y": [
          "정신과"
         ]
        },
        {
         "marker": {
          "line": {
           "color": "rgb(248, 248, 249)",
           "width": 1
          }
         },
         "orientation": "h",
         "type": "bar",
         "x": [
          358
         ],
         "y": [
          "외과"
         ]
        },
        {
         "marker": {
          "line": {
           "color": "rgb(248, 248, 249)",
           "width": 1
          }
         },
         "orientation": "h",
         "type": "bar",
         "x": [
          349
         ],
         "y": [
          "정형외과"
         ]
        },
        {
         "marker": {
          "line": {
           "color": "rgb(248, 248, 249)",
           "width": 1
          }
         },
         "orientation": "h",
         "type": "bar",
         "x": [
          181
         ],
         "y": [
          "신경외과"
         ]
        },
        {
         "marker": {
          "line": {
           "color": "rgb(248, 248, 249)",
           "width": 1
          }
         },
         "orientation": "h",
         "type": "bar",
         "x": [
          65
         ],
         "y": [
          "흉부외과"
         ]
        },
        {
         "marker": {
          "line": {
           "color": "rgb(248, 248, 249)",
           "width": 1
          }
         },
         "orientation": "h",
         "type": "bar",
         "x": [
          51
         ],
         "y": [
          "성형외과"
         ]
        },
        {
         "marker": {
          "line": {
           "color": "rgb(248, 248, 249)",
           "width": 1
          }
         },
         "orientation": "h",
         "type": "bar",
         "x": [
          250
         ],
         "y": [
          "마취통증의학과"
         ]
        },
        {
         "marker": {
          "line": {
           "color": "rgb(248, 248, 249)",
           "width": 1
          }
         },
         "orientation": "h",
         "type": "bar",
         "x": [
          292
         ],
         "y": [
          "산부인과"
         ]
        },
        {
         "marker": {
          "line": {
           "color": "rgb(248, 248, 249)",
           "width": 1
          }
         },
         "orientation": "h",
         "type": "bar",
         "x": [
          337
         ],
         "y": [
          "소아과"
         ]
        },
        {
         "marker": {
          "line": {
           "color": "rgb(248, 248, 249)",
           "width": 1
          }
         },
         "orientation": "h",
         "type": "bar",
         "x": [
          162
         ],
         "y": [
          "안과"
         ]
        },
        {
         "marker": {
          "line": {
           "color": "rgb(248, 248, 249)",
           "width": 1
          }
         },
         "orientation": "h",
         "type": "bar",
         "x": [
          189
         ],
         "y": [
          "이비인후과"
         ]
        },
        {
         "marker": {
          "line": {
           "color": "rgb(248, 248, 249)",
           "width": 1
          }
         },
         "orientation": "h",
         "type": "bar",
         "x": [
          79
         ],
         "y": [
          "피부과"
         ]
        },
        {
         "marker": {
          "line": {
           "color": "rgb(248, 248, 249)",
           "width": 1
          }
         },
         "orientation": "h",
         "type": "bar",
         "x": [
          142
         ],
         "y": [
          "비뇨기과"
         ]
        },
        {
         "marker": {
          "line": {
           "color": "rgb(248, 248, 249)",
           "width": 1
          }
         },
         "orientation": "h",
         "type": "bar",
         "x": [
          186
         ],
         "y": [
          "진단방사선과"
         ]
        },
        {
         "marker": {
          "line": {
           "color": "rgb(248, 248, 249)",
           "width": 1
          }
         },
         "orientation": "h",
         "type": "bar",
         "x": [
          12
         ],
         "y": [
          "방사선종양학과"
         ]
        },
        {
         "marker": {
          "line": {
           "color": "rgb(248, 248, 249)",
           "width": 1
          }
         },
         "orientation": "h",
         "type": "bar",
         "x": [
          40
         ],
         "y": [
          "병리과"
         ]
        },
        {
         "marker": {
          "line": {
           "color": "rgb(248, 248, 249)",
           "width": 1
          }
         },
         "orientation": "h",
         "type": "bar",
         "x": [
          35
         ],
         "y": [
          "진단검사의학과"
         ]
        },
        {
         "marker": {
          "line": {
           "color": "rgb(248, 248, 249)",
           "width": 1
          }
         },
         "orientation": "h",
         "type": "bar",
         "x": [
          2
         ],
         "y": [
          "결핵과"
         ]
        },
        {
         "marker": {
          "line": {
           "color": "rgb(248, 248, 249)",
           "width": 1
          }
         },
         "orientation": "h",
         "type": "bar",
         "x": [
          120
         ],
         "y": [
          "재활의학과"
         ]
        },
        {
         "marker": {
          "line": {
           "color": "rgb(248, 248, 249)",
           "width": 1
          }
         },
         "orientation": "h",
         "type": "bar",
         "x": [
          6
         ],
         "y": [
          "핵의학과"
         ]
        },
        {
         "marker": {
          "line": {
           "color": "rgb(248, 248, 249)",
           "width": 1
          }
         },
         "orientation": "h",
         "type": "bar",
         "x": [
          293
         ],
         "y": [
          "가정의학과"
         ]
        },
        {
         "marker": {
          "line": {
           "color": "rgb(248, 248, 249)",
           "width": 1
          }
         },
         "orientation": "h",
         "type": "bar",
         "x": [
          93
         ],
         "y": [
          "응급의학과"
         ]
        },
        {
         "marker": {
          "line": {
           "color": "rgb(248, 248, 249)",
           "width": 1
          }
         },
         "orientation": "h",
         "type": "bar",
         "x": [
          65
         ],
         "y": [
          "직업환경의학과"
         ]
        },
        {
         "marker": {
          "line": {
           "color": "rgb(248, 248, 249)",
           "width": 1
          }
         },
         "orientation": "h",
         "type": "bar",
         "x": [
          11
         ],
         "y": [
          "예방의학과"
         ]
        },
        {
         "marker": {
          "line": {
           "color": "rgb(248, 248, 249)",
           "width": 1
          }
         },
         "orientation": "h",
         "type": "bar",
         "x": [
          161
         ],
         "y": [
          "내과"
         ]
        },
        {
         "marker": {
          "line": {
           "color": "rgb(248, 248, 249)",
           "width": 1
          }
         },
         "orientation": "h",
         "type": "bar",
         "x": [
          23
         ],
         "y": [
          "신경과"
         ]
        },
        {
         "marker": {
          "line": {
           "color": "rgb(248, 248, 249)",
           "width": 1
          }
         },
         "orientation": "h",
         "type": "bar",
         "x": [
          37
         ],
         "y": [
          "정신과"
         ]
        },
        {
         "marker": {
          "line": {
           "color": "rgb(248, 248, 249)",
           "width": 1
          }
         },
         "orientation": "h",
         "type": "bar",
         "x": [
          66
         ],
         "y": [
          "외과"
         ]
        },
        {
         "marker": {
          "line": {
           "color": "rgb(248, 248, 249)",
           "width": 1
          }
         },
         "orientation": "h",
         "type": "bar",
         "x": [
          75
         ],
         "y": [
          "정형외과"
         ]
        },
        {
         "marker": {
          "line": {
           "color": "rgb(248, 248, 249)",
           "width": 1
          }
         },
         "orientation": "h",
         "type": "bar",
         "x": [
          29
         ],
         "y": [
          "신경외과"
         ]
        },
        {
         "marker": {
          "line": {
           "color": "rgb(248, 248, 249)",
           "width": 1
          }
         },
         "orientation": "h",
         "type": "bar",
         "x": [
          18
         ],
         "y": [
          "흉부외과"
         ]
        },
        {
         "marker": {
          "line": {
           "color": "rgb(248, 248, 249)",
           "width": 1
          }
         },
         "orientation": "h",
         "type": "bar",
         "x": [
          27
         ],
         "y": [
          "성형외과"
         ]
        },
        {
         "marker": {
          "line": {
           "color": "rgb(248, 248, 249)",
           "width": 1
          }
         },
         "orientation": "h",
         "type": "bar",
         "x": [
          54
         ],
         "y": [
          "마취통증의학과"
         ]
        },
        {
         "marker": {
          "line": {
           "color": "rgb(248, 248, 249)",
           "width": 1
          }
         },
         "orientation": "h",
         "type": "bar",
         "x": [
          64
         ],
         "y": [
          "산부인과"
         ]
        },
        {
         "marker": {
          "line": {
           "color": "rgb(248, 248, 249)",
           "width": 1
          }
         },
         "orientation": "h",
         "type": "bar",
         "x": [
          64
         ],
         "y": [
          "소아과"
         ]
        },
        {
         "marker": {
          "line": {
           "color": "rgb(248, 248, 249)",
           "width": 1
          }
         },
         "orientation": "h",
         "type": "bar",
         "x": [
          40
         ],
         "y": [
          "안과"
         ]
        },
        {
         "marker": {
          "line": {
           "color": "rgb(248, 248, 249)",
           "width": 1
          }
         },
         "orientation": "h",
         "type": "bar",
         "x": [
          44
         ],
         "y": [
          "이비인후과"
         ]
        },
        {
         "marker": {
          "line": {
           "color": "rgb(248, 248, 249)",
           "width": 1
          }
         },
         "orientation": "h",
         "type": "bar",
         "x": [
          19
         ],
         "y": [
          "피부과"
         ]
        },
        {
         "marker": {
          "line": {
           "color": "rgb(248, 248, 249)",
           "width": 1
          }
         },
         "orientation": "h",
         "type": "bar",
         "x": [
          26
         ],
         "y": [
          "비뇨기과"
         ]
        },
        {
         "marker": {
          "line": {
           "color": "rgb(248, 248, 249)",
           "width": 1
          }
         },
         "orientation": "h",
         "type": "bar",
         "x": [
          34
         ],
         "y": [
          "진단방사선과"
         ]
        },
        {
         "marker": {
          "line": {
           "color": "rgb(248, 248, 249)",
           "width": 1
          }
         },
         "orientation": "h",
         "type": "bar",
         "x": [
          4
         ],
         "y": [
          "방사선종양학과"
         ]
        },
        {
         "marker": {
          "line": {
           "color": "rgb(248, 248, 249)",
           "width": 1
          }
         },
         "orientation": "h",
         "type": "bar",
         "x": [
          9
         ],
         "y": [
          "병리과"
         ]
        },
        {
         "marker": {
          "line": {
           "color": "rgb(248, 248, 249)",
           "width": 1
          }
         },
         "orientation": "h",
         "type": "bar",
         "x": [
          10
         ],
         "y": [
          "진단검사의학과"
         ]
        },
        {
         "marker": {
          "line": {
           "color": "rgb(248, 248, 249)",
           "width": 1
          }
         },
         "orientation": "h",
         "type": "bar",
         "x": [
          1
         ],
         "y": [
          "결핵과"
         ]
        },
        {
         "marker": {
          "line": {
           "color": "rgb(248, 248, 249)",
           "width": 1
          }
         },
         "orientation": "h",
         "type": "bar",
         "x": [
          36
         ],
         "y": [
          "재활의학과"
         ]
        },
        {
         "marker": {
          "line": {
           "color": "rgb(248, 248, 249)",
           "width": 1
          }
         },
         "orientation": "h",
         "type": "bar",
         "x": [
          3
         ],
         "y": [
          "핵의학과"
         ]
        },
        {
         "marker": {
          "line": {
           "color": "rgb(248, 248, 249)",
           "width": 1
          }
         },
         "orientation": "h",
         "type": "bar",
         "x": [
          89
         ],
         "y": [
          "가정의학과"
         ]
        },
        {
         "marker": {
          "line": {
           "color": "rgb(248, 248, 249)",
           "width": 1
          }
         },
         "orientation": "h",
         "type": "bar",
         "x": [
          45
         ],
         "y": [
          "응급의학과"
         ]
        },
        {
         "marker": {
          "line": {
           "color": "rgb(248, 248, 249)",
           "width": 1
          }
         },
         "orientation": "h",
         "type": "bar",
         "x": [
          4
         ],
         "y": [
          "직업환경의학과"
         ]
        },
        {
         "marker": {
          "line": {
           "color": "rgb(248, 248, 249)",
           "width": 1
          }
         },
         "orientation": "h",
         "type": "bar",
         "x": [
          2
         ],
         "y": [
          "예방의학과"
         ]
        }
       ],
       "layout": {
        "annotations": [
         {
          "align": "right",
          "font": {
           "color": "rgb(67, 67, 67)",
           "family": "Arial",
           "size": 7
          },
          "showarrow": false,
          "text": "내과",
          "x": 0.14,
          "xanchor": "right",
          "xref": "paper",
          "y": "내과",
          "yref": "y"
         },
         {
          "align": "right",
          "font": {
           "color": "rgb(67, 67, 67)",
           "family": "Arial",
           "size": 7
          },
          "showarrow": false,
          "text": "신경과",
          "x": 0.14,
          "xanchor": "right",
          "xref": "paper",
          "y": "신경과",
          "yref": "y"
         },
         {
          "align": "right",
          "font": {
           "color": "rgb(67, 67, 67)",
           "family": "Arial",
           "size": 7
          },
          "showarrow": false,
          "text": "정신과",
          "x": 0.14,
          "xanchor": "right",
          "xref": "paper",
          "y": "정신과",
          "yref": "y"
         },
         {
          "align": "right",
          "font": {
           "color": "rgb(67, 67, 67)",
           "family": "Arial",
           "size": 7
          },
          "showarrow": false,
          "text": "외과",
          "x": 0.14,
          "xanchor": "right",
          "xref": "paper",
          "y": "외과",
          "yref": "y"
         },
         {
          "align": "right",
          "font": {
           "color": "rgb(67, 67, 67)",
           "family": "Arial",
           "size": 7
          },
          "showarrow": false,
          "text": "정형외과",
          "x": 0.14,
          "xanchor": "right",
          "xref": "paper",
          "y": "정형외과",
          "yref": "y"
         },
         {
          "align": "right",
          "font": {
           "color": "rgb(67, 67, 67)",
           "family": "Arial",
           "size": 7
          },
          "showarrow": false,
          "text": "신경외과",
          "x": 0.14,
          "xanchor": "right",
          "xref": "paper",
          "y": "신경외과",
          "yref": "y"
         },
         {
          "align": "right",
          "font": {
           "color": "rgb(67, 67, 67)",
           "family": "Arial",
           "size": 7
          },
          "showarrow": false,
          "text": "흉부외과",
          "x": 0.14,
          "xanchor": "right",
          "xref": "paper",
          "y": "흉부외과",
          "yref": "y"
         },
         {
          "align": "right",
          "font": {
           "color": "rgb(67, 67, 67)",
           "family": "Arial",
           "size": 7
          },
          "showarrow": false,
          "text": "성형외과",
          "x": 0.14,
          "xanchor": "right",
          "xref": "paper",
          "y": "성형외과",
          "yref": "y"
         },
         {
          "align": "right",
          "font": {
           "color": "rgb(67, 67, 67)",
           "family": "Arial",
           "size": 7
          },
          "showarrow": false,
          "text": "마취통증의학과",
          "x": 0.14,
          "xanchor": "right",
          "xref": "paper",
          "y": "마취통증의학과",
          "yref": "y"
         },
         {
          "align": "right",
          "font": {
           "color": "rgb(67, 67, 67)",
           "family": "Arial",
           "size": 7
          },
          "showarrow": false,
          "text": "산부인과",
          "x": 0.14,
          "xanchor": "right",
          "xref": "paper",
          "y": "산부인과",
          "yref": "y"
         },
         {
          "align": "right",
          "font": {
           "color": "rgb(67, 67, 67)",
           "family": "Arial",
           "size": 7
          },
          "showarrow": false,
          "text": "소아과",
          "x": 0.14,
          "xanchor": "right",
          "xref": "paper",
          "y": "소아과",
          "yref": "y"
         },
         {
          "align": "right",
          "font": {
           "color": "rgb(67, 67, 67)",
           "family": "Arial",
           "size": 7
          },
          "showarrow": false,
          "text": "안과",
          "x": 0.14,
          "xanchor": "right",
          "xref": "paper",
          "y": "안과",
          "yref": "y"
         },
         {
          "align": "right",
          "font": {
           "color": "rgb(67, 67, 67)",
           "family": "Arial",
           "size": 7
          },
          "showarrow": false,
          "text": "이비인후과",
          "x": 0.14,
          "xanchor": "right",
          "xref": "paper",
          "y": "이비인후과",
          "yref": "y"
         },
         {
          "align": "right",
          "font": {
           "color": "rgb(67, 67, 67)",
           "family": "Arial",
           "size": 7
          },
          "showarrow": false,
          "text": "피부과",
          "x": 0.14,
          "xanchor": "right",
          "xref": "paper",
          "y": "피부과",
          "yref": "y"
         },
         {
          "align": "right",
          "font": {
           "color": "rgb(67, 67, 67)",
           "family": "Arial",
           "size": 7
          },
          "showarrow": false,
          "text": "비뇨기과",
          "x": 0.14,
          "xanchor": "right",
          "xref": "paper",
          "y": "비뇨기과",
          "yref": "y"
         },
         {
          "align": "right",
          "font": {
           "color": "rgb(67, 67, 67)",
           "family": "Arial",
           "size": 7
          },
          "showarrow": false,
          "text": "진단방사선과",
          "x": 0.14,
          "xanchor": "right",
          "xref": "paper",
          "y": "진단방사선과",
          "yref": "y"
         },
         {
          "align": "right",
          "font": {
           "color": "rgb(67, 67, 67)",
           "family": "Arial",
           "size": 7
          },
          "showarrow": false,
          "text": "방사선종양학과",
          "x": 0.14,
          "xanchor": "right",
          "xref": "paper",
          "y": "방사선종양학과",
          "yref": "y"
         },
         {
          "align": "right",
          "font": {
           "color": "rgb(67, 67, 67)",
           "family": "Arial",
           "size": 7
          },
          "showarrow": false,
          "text": "병리과",
          "x": 0.14,
          "xanchor": "right",
          "xref": "paper",
          "y": "병리과",
          "yref": "y"
         },
         {
          "align": "right",
          "font": {
           "color": "rgb(67, 67, 67)",
           "family": "Arial",
           "size": 7
          },
          "showarrow": false,
          "text": "진단검사의학과",
          "x": 0.14,
          "xanchor": "right",
          "xref": "paper",
          "y": "진단검사의학과",
          "yref": "y"
         },
         {
          "align": "right",
          "font": {
           "color": "rgb(67, 67, 67)",
           "family": "Arial",
           "size": 7
          },
          "showarrow": false,
          "text": "결핵과",
          "x": 0.14,
          "xanchor": "right",
          "xref": "paper",
          "y": "결핵과",
          "yref": "y"
         },
         {
          "align": "right",
          "font": {
           "color": "rgb(67, 67, 67)",
           "family": "Arial",
           "size": 7
          },
          "showarrow": false,
          "text": "재활의학과",
          "x": 0.14,
          "xanchor": "right",
          "xref": "paper",
          "y": "재활의학과",
          "yref": "y"
         },
         {
          "align": "right",
          "font": {
           "color": "rgb(67, 67, 67)",
           "family": "Arial",
           "size": 7
          },
          "showarrow": false,
          "text": "핵의학과",
          "x": 0.14,
          "xanchor": "right",
          "xref": "paper",
          "y": "핵의학과",
          "yref": "y"
         },
         {
          "align": "right",
          "font": {
           "color": "rgb(67, 67, 67)",
           "family": "Arial",
           "size": 7
          },
          "showarrow": false,
          "text": "가정의학과",
          "x": 0.14,
          "xanchor": "right",
          "xref": "paper",
          "y": "가정의학과",
          "yref": "y"
         },
         {
          "align": "right",
          "font": {
           "color": "rgb(67, 67, 67)",
           "family": "Arial",
           "size": 7
          },
          "showarrow": false,
          "text": "응급의학과",
          "x": 0.14,
          "xanchor": "right",
          "xref": "paper",
          "y": "응급의학과",
          "yref": "y"
         },
         {
          "align": "right",
          "font": {
           "color": "rgb(67, 67, 67)",
           "family": "Arial",
           "size": 7
          },
          "showarrow": false,
          "text": "직업환경의학과",
          "x": 0.14,
          "xanchor": "right",
          "xref": "paper",
          "y": "직업환경의학과",
          "yref": "y"
         },
         {
          "align": "right",
          "font": {
           "color": "rgb(67, 67, 67)",
           "family": "Arial",
           "size": 7
          },
          "showarrow": false,
          "text": "예방의학과",
          "x": 0.14,
          "xanchor": "right",
          "xref": "paper",
          "y": "예방의학과",
          "yref": "y"
         }
        ],
        "barmode": "stack",
        "height": 1200,
        "margin": {
         "l": 0
        },
        "paper_bgcolor": "rgb(248, 248, 255)",
        "plot_bgcolor": "rgb(248, 248, 255)",
        "showlegend": false,
        "template": {
         "data": {
          "bar": [
           {
            "error_x": {
             "color": "#2a3f5f"
            },
            "error_y": {
             "color": "#2a3f5f"
            },
            "marker": {
             "line": {
              "color": "#E5ECF6",
              "width": 0.5
             }
            },
            "type": "bar"
           }
          ],
          "barpolar": [
           {
            "marker": {
             "line": {
              "color": "#E5ECF6",
              "width": 0.5
             }
            },
            "type": "barpolar"
           }
          ],
          "carpet": [
           {
            "aaxis": {
             "endlinecolor": "#2a3f5f",
             "gridcolor": "white",
             "linecolor": "white",
             "minorgridcolor": "white",
             "startlinecolor": "#2a3f5f"
            },
            "baxis": {
             "endlinecolor": "#2a3f5f",
             "gridcolor": "white",
             "linecolor": "white",
             "minorgridcolor": "white",
             "startlinecolor": "#2a3f5f"
            },
            "type": "carpet"
           }
          ],
          "choropleth": [
           {
            "colorbar": {
             "outlinewidth": 0,
             "ticks": ""
            },
            "type": "choropleth"
           }
          ],
          "contour": [
           {
            "colorbar": {
             "outlinewidth": 0,
             "ticks": ""
            },
            "colorscale": [
             [
              0,
              "#0d0887"
             ],
             [
              0.1111111111111111,
              "#46039f"
             ],
             [
              0.2222222222222222,
              "#7201a8"
             ],
             [
              0.3333333333333333,
              "#9c179e"
             ],
             [
              0.4444444444444444,
              "#bd3786"
             ],
             [
              0.5555555555555556,
              "#d8576b"
             ],
             [
              0.6666666666666666,
              "#ed7953"
             ],
             [
              0.7777777777777778,
              "#fb9f3a"
             ],
             [
              0.8888888888888888,
              "#fdca26"
             ],
             [
              1,
              "#f0f921"
             ]
            ],
            "type": "contour"
           }
          ],
          "contourcarpet": [
           {
            "colorbar": {
             "outlinewidth": 0,
             "ticks": ""
            },
            "type": "contourcarpet"
           }
          ],
          "heatmap": [
           {
            "colorbar": {
             "outlinewidth": 0,
             "ticks": ""
            },
            "colorscale": [
             [
              0,
              "#0d0887"
             ],
             [
              0.1111111111111111,
              "#46039f"
             ],
             [
              0.2222222222222222,
              "#7201a8"
             ],
             [
              0.3333333333333333,
              "#9c179e"
             ],
             [
              0.4444444444444444,
              "#bd3786"
             ],
             [
              0.5555555555555556,
              "#d8576b"
             ],
             [
              0.6666666666666666,
              "#ed7953"
             ],
             [
              0.7777777777777778,
              "#fb9f3a"
             ],
             [
              0.8888888888888888,
              "#fdca26"
             ],
             [
              1,
              "#f0f921"
             ]
            ],
            "type": "heatmap"
           }
          ],
          "heatmapgl": [
           {
            "colorbar": {
             "outlinewidth": 0,
             "ticks": ""
            },
            "colorscale": [
             [
              0,
              "#0d0887"
             ],
             [
              0.1111111111111111,
              "#46039f"
             ],
             [
              0.2222222222222222,
              "#7201a8"
             ],
             [
              0.3333333333333333,
              "#9c179e"
             ],
             [
              0.4444444444444444,
              "#bd3786"
             ],
             [
              0.5555555555555556,
              "#d8576b"
             ],
             [
              0.6666666666666666,
              "#ed7953"
             ],
             [
              0.7777777777777778,
              "#fb9f3a"
             ],
             [
              0.8888888888888888,
              "#fdca26"
             ],
             [
              1,
              "#f0f921"
             ]
            ],
            "type": "heatmapgl"
           }
          ],
          "histogram": [
           {
            "marker": {
             "colorbar": {
              "outlinewidth": 0,
              "ticks": ""
             }
            },
            "type": "histogram"
           }
          ],
          "histogram2d": [
           {
            "colorbar": {
             "outlinewidth": 0,
             "ticks": ""
            },
            "colorscale": [
             [
              0,
              "#0d0887"
             ],
             [
              0.1111111111111111,
              "#46039f"
             ],
             [
              0.2222222222222222,
              "#7201a8"
             ],
             [
              0.3333333333333333,
              "#9c179e"
             ],
             [
              0.4444444444444444,
              "#bd3786"
             ],
             [
              0.5555555555555556,
              "#d8576b"
             ],
             [
              0.6666666666666666,
              "#ed7953"
             ],
             [
              0.7777777777777778,
              "#fb9f3a"
             ],
             [
              0.8888888888888888,
              "#fdca26"
             ],
             [
              1,
              "#f0f921"
             ]
            ],
            "type": "histogram2d"
           }
          ],
          "histogram2dcontour": [
           {
            "colorbar": {
             "outlinewidth": 0,
             "ticks": ""
            },
            "colorscale": [
             [
              0,
              "#0d0887"
             ],
             [
              0.1111111111111111,
              "#46039f"
             ],
             [
              0.2222222222222222,
              "#7201a8"
             ],
             [
              0.3333333333333333,
              "#9c179e"
             ],
             [
              0.4444444444444444,
              "#bd3786"
             ],
             [
              0.5555555555555556,
              "#d8576b"
             ],
             [
              0.6666666666666666,
              "#ed7953"
             ],
             [
              0.7777777777777778,
              "#fb9f3a"
             ],
             [
              0.8888888888888888,
              "#fdca26"
             ],
             [
              1,
              "#f0f921"
             ]
            ],
            "type": "histogram2dcontour"
           }
          ],
          "mesh3d": [
           {
            "colorbar": {
             "outlinewidth": 0,
             "ticks": ""
            },
            "type": "mesh3d"
           }
          ],
          "parcoords": [
           {
            "line": {
             "colorbar": {
              "outlinewidth": 0,
              "ticks": ""
             }
            },
            "type": "parcoords"
           }
          ],
          "pie": [
           {
            "automargin": true,
            "type": "pie"
           }
          ],
          "scatter": [
           {
            "marker": {
             "colorbar": {
              "outlinewidth": 0,
              "ticks": ""
             }
            },
            "type": "scatter"
           }
          ],
          "scatter3d": [
           {
            "line": {
             "colorbar": {
              "outlinewidth": 0,
              "ticks": ""
             }
            },
            "marker": {
             "colorbar": {
              "outlinewidth": 0,
              "ticks": ""
             }
            },
            "type": "scatter3d"
           }
          ],
          "scattercarpet": [
           {
            "marker": {
             "colorbar": {
              "outlinewidth": 0,
              "ticks": ""
             }
            },
            "type": "scattercarpet"
           }
          ],
          "scattergeo": [
           {
            "marker": {
             "colorbar": {
              "outlinewidth": 0,
              "ticks": ""
             }
            },
            "type": "scattergeo"
           }
          ],
          "scattergl": [
           {
            "marker": {
             "colorbar": {
              "outlinewidth": 0,
              "ticks": ""
             }
            },
            "type": "scattergl"
           }
          ],
          "scattermapbox": [
           {
            "marker": {
             "colorbar": {
              "outlinewidth": 0,
              "ticks": ""
             }
            },
            "type": "scattermapbox"
           }
          ],
          "scatterpolar": [
           {
            "marker": {
             "colorbar": {
              "outlinewidth": 0,
              "ticks": ""
             }
            },
            "type": "scatterpolar"
           }
          ],
          "scatterpolargl": [
           {
            "marker": {
             "colorbar": {
              "outlinewidth": 0,
              "ticks": ""
             }
            },
            "type": "scatterpolargl"
           }
          ],
          "scatterternary": [
           {
            "marker": {
             "colorbar": {
              "outlinewidth": 0,
              "ticks": ""
             }
            },
            "type": "scatterternary"
           }
          ],
          "surface": [
           {
            "colorbar": {
             "outlinewidth": 0,
             "ticks": ""
            },
            "colorscale": [
             [
              0,
              "#0d0887"
             ],
             [
              0.1111111111111111,
              "#46039f"
             ],
             [
              0.2222222222222222,
              "#7201a8"
             ],
             [
              0.3333333333333333,
              "#9c179e"
             ],
             [
              0.4444444444444444,
              "#bd3786"
             ],
             [
              0.5555555555555556,
              "#d8576b"
             ],
             [
              0.6666666666666666,
              "#ed7953"
             ],
             [
              0.7777777777777778,
              "#fb9f3a"
             ],
             [
              0.8888888888888888,
              "#fdca26"
             ],
             [
              1,
              "#f0f921"
             ]
            ],
            "type": "surface"
           }
          ],
          "table": [
           {
            "cells": {
             "fill": {
              "color": "#EBF0F8"
             },
             "line": {
              "color": "white"
             }
            },
            "header": {
             "fill": {
              "color": "#C8D4E3"
             },
             "line": {
              "color": "white"
             }
            },
            "type": "table"
           }
          ]
         },
         "layout": {
          "annotationdefaults": {
           "arrowcolor": "#2a3f5f",
           "arrowhead": 0,
           "arrowwidth": 1
          },
          "coloraxis": {
           "colorbar": {
            "outlinewidth": 0,
            "ticks": ""
           }
          },
          "colorscale": {
           "diverging": [
            [
             0,
             "#8e0152"
            ],
            [
             0.1,
             "#c51b7d"
            ],
            [
             0.2,
             "#de77ae"
            ],
            [
             0.3,
             "#f1b6da"
            ],
            [
             0.4,
             "#fde0ef"
            ],
            [
             0.5,
             "#f7f7f7"
            ],
            [
             0.6,
             "#e6f5d0"
            ],
            [
             0.7,
             "#b8e186"
            ],
            [
             0.8,
             "#7fbc41"
            ],
            [
             0.9,
             "#4d9221"
            ],
            [
             1,
             "#276419"
            ]
           ],
           "sequential": [
            [
             0,
             "#0d0887"
            ],
            [
             0.1111111111111111,
             "#46039f"
            ],
            [
             0.2222222222222222,
             "#7201a8"
            ],
            [
             0.3333333333333333,
             "#9c179e"
            ],
            [
             0.4444444444444444,
             "#bd3786"
            ],
            [
             0.5555555555555556,
             "#d8576b"
            ],
            [
             0.6666666666666666,
             "#ed7953"
            ],
            [
             0.7777777777777778,
             "#fb9f3a"
            ],
            [
             0.8888888888888888,
             "#fdca26"
            ],
            [
             1,
             "#f0f921"
            ]
           ],
           "sequentialminus": [
            [
             0,
             "#0d0887"
            ],
            [
             0.1111111111111111,
             "#46039f"
            ],
            [
             0.2222222222222222,
             "#7201a8"
            ],
            [
             0.3333333333333333,
             "#9c179e"
            ],
            [
             0.4444444444444444,
             "#bd3786"
            ],
            [
             0.5555555555555556,
             "#d8576b"
            ],
            [
             0.6666666666666666,
             "#ed7953"
            ],
            [
             0.7777777777777778,
             "#fb9f3a"
            ],
            [
             0.8888888888888888,
             "#fdca26"
            ],
            [
             1,
             "#f0f921"
            ]
           ]
          },
          "colorway": [
           "#636efa",
           "#EF553B",
           "#00cc96",
           "#ab63fa",
           "#FFA15A",
           "#19d3f3",
           "#FF6692",
           "#B6E880",
           "#FF97FF",
           "#FECB52"
          ],
          "font": {
           "color": "#2a3f5f"
          },
          "geo": {
           "bgcolor": "white",
           "lakecolor": "white",
           "landcolor": "#E5ECF6",
           "showlakes": true,
           "showland": true,
           "subunitcolor": "white"
          },
          "hoverlabel": {
           "align": "left"
          },
          "hovermode": "closest",
          "mapbox": {
           "style": "light"
          },
          "paper_bgcolor": "white",
          "plot_bgcolor": "#E5ECF6",
          "polar": {
           "angularaxis": {
            "gridcolor": "white",
            "linecolor": "white",
            "ticks": ""
           },
           "bgcolor": "#E5ECF6",
           "radialaxis": {
            "gridcolor": "white",
            "linecolor": "white",
            "ticks": ""
           }
          },
          "scene": {
           "xaxis": {
            "backgroundcolor": "#E5ECF6",
            "gridcolor": "white",
            "gridwidth": 2,
            "linecolor": "white",
            "showbackground": true,
            "ticks": "",
            "zerolinecolor": "white"
           },
           "yaxis": {
            "backgroundcolor": "#E5ECF6",
            "gridcolor": "white",
            "gridwidth": 2,
            "linecolor": "white",
            "showbackground": true,
            "ticks": "",
            "zerolinecolor": "white"
           },
           "zaxis": {
            "backgroundcolor": "#E5ECF6",
            "gridcolor": "white",
            "gridwidth": 2,
            "linecolor": "white",
            "showbackground": true,
            "ticks": "",
            "zerolinecolor": "white"
           }
          },
          "shapedefaults": {
           "line": {
            "color": "#2a3f5f"
           }
          },
          "ternary": {
           "aaxis": {
            "gridcolor": "white",
            "linecolor": "white",
            "ticks": ""
           },
           "baxis": {
            "gridcolor": "white",
            "linecolor": "white",
            "ticks": ""
           },
           "bgcolor": "#E5ECF6",
           "caxis": {
            "gridcolor": "white",
            "linecolor": "white",
            "ticks": ""
           }
          },
          "title": {
           "x": 0.05
          },
          "xaxis": {
           "automargin": true,
           "gridcolor": "white",
           "linecolor": "white",
           "ticks": "",
           "title": {
            "standoff": 15
           },
           "zerolinecolor": "white",
           "zerolinewidth": 2
          },
          "yaxis": {
           "automargin": true,
           "gridcolor": "white",
           "linecolor": "white",
           "ticks": "",
           "title": {
            "standoff": 15
           },
           "zerolinecolor": "white",
           "zerolinewidth": 2
          }
         }
        },
        "xaxis": {
         "domain": [
          0.15,
          1
         ],
         "showgrid": false,
         "showline": false,
         "showticklabels": false,
         "zeroline": false
        },
        "yaxis": {
         "showgrid": false,
         "showline": false,
         "showticklabels": false,
         "zeroline": false
        }
       }
      },
      "text/html": [
       "<div>\n",
       "        \n",
       "        \n",
       "            <div id=\"7c87ac81-2d19-46f9-bf20-c5aa8856d7e7\" class=\"plotly-graph-div\" style=\"height:1200px; width:100%;\"></div>\n",
       "            <script type=\"text/javascript\">\n",
       "                require([\"plotly\"], function(Plotly) {\n",
       "                    window.PLOTLYENV=window.PLOTLYENV || {};\n",
       "                    \n",
       "                if (document.getElementById(\"7c87ac81-2d19-46f9-bf20-c5aa8856d7e7\")) {\n",
       "                    Plotly.newPlot(\n",
       "                        '7c87ac81-2d19-46f9-bf20-c5aa8856d7e7',\n",
       "                        [{\"marker\": {\"line\": {\"color\": \"rgb(248, 248, 249)\", \"width\": 1}}, \"orientation\": \"h\", \"type\": \"bar\", \"x\": [4183], \"y\": [\"\\ub0b4\\uacfc\"]}, {\"marker\": {\"line\": {\"color\": \"rgb(248, 248, 249)\", \"width\": 1}}, \"orientation\": \"h\", \"type\": \"bar\", \"x\": [454], \"y\": [\"\\uc2e0\\uacbd\\uacfc\"]}, {\"marker\": {\"line\": {\"color\": \"rgb(248, 248, 249)\", \"width\": 1}}, \"orientation\": \"h\", \"type\": \"bar\", \"x\": [818], \"y\": [\"\\uc815\\uc2e0\\uacfc\"]}, {\"marker\": {\"line\": {\"color\": \"rgb(248, 248, 249)\", \"width\": 1}}, \"orientation\": \"h\", \"type\": \"bar\", \"x\": [1419], \"y\": [\"\\uc678\\uacfc\"]}, {\"marker\": {\"line\": {\"color\": \"rgb(248, 248, 249)\", \"width\": 1}}, \"orientation\": \"h\", \"type\": \"bar\", \"x\": [1460], \"y\": [\"\\uc815\\ud615\\uc678\\uacfc\"]}, {\"marker\": {\"line\": {\"color\": \"rgb(248, 248, 249)\", \"width\": 1}}, \"orientation\": \"h\", \"type\": \"bar\", \"x\": [627], \"y\": [\"\\uc2e0\\uacbd\\uc678\\uacfc\"]}, {\"marker\": {\"line\": {\"color\": \"rgb(248, 248, 249)\", \"width\": 1}}, \"orientation\": \"h\", \"type\": \"bar\", \"x\": [285], \"y\": [\"\\ud749\\ubd80\\uc678\\uacfc\"]}, {\"marker\": {\"line\": {\"color\": \"rgb(248, 248, 249)\", \"width\": 1}}, \"orientation\": \"h\", \"type\": \"bar\", \"x\": [936], \"y\": [\"\\uc131\\ud615\\uc678\\uacfc\"]}, {\"marker\": {\"line\": {\"color\": \"rgb(248, 248, 249)\", \"width\": 1}}, \"orientation\": \"h\", \"type\": \"bar\", \"x\": [1263], \"y\": [\"\\ub9c8\\ucde8\\ud1b5\\uc99d\\uc758\\ud559\\uacfc\"]}, {\"marker\": {\"line\": {\"color\": \"rgb(248, 248, 249)\", \"width\": 1}}, \"orientation\": \"h\", \"type\": \"bar\", \"x\": [1526], \"y\": [\"\\uc0b0\\ubd80\\uc778\\uacfc\"]}, {\"marker\": {\"line\": {\"color\": \"rgb(248, 248, 249)\", \"width\": 1}}, \"orientation\": \"h\", \"type\": \"bar\", \"x\": [1241], \"y\": [\"\\uc18c\\uc544\\uacfc\"]}, {\"marker\": {\"line\": {\"color\": \"rgb(248, 248, 249)\", \"width\": 1}}, \"orientation\": \"h\", \"type\": \"bar\", \"x\": [998], \"y\": [\"\\uc548\\uacfc\"]}, {\"marker\": {\"line\": {\"color\": \"rgb(248, 248, 249)\", \"width\": 1}}, \"orientation\": \"h\", \"type\": \"bar\", \"x\": [1068], \"y\": [\"\\uc774\\ube44\\uc778\\ud6c4\\uacfc\"]}, {\"marker\": {\"line\": {\"color\": \"rgb(248, 248, 249)\", \"width\": 1}}, \"orientation\": \"h\", \"type\": \"bar\", \"x\": [822], \"y\": [\"\\ud53c\\ubd80\\uacfc\"]}, {\"marker\": {\"line\": {\"color\": \"rgb(248, 248, 249)\", \"width\": 1}}, \"orientation\": \"h\", \"type\": \"bar\", \"x\": [696], \"y\": [\"\\ube44\\ub1e8\\uae30\\uacfc\"]}, {\"marker\": {\"line\": {\"color\": \"rgb(248, 248, 249)\", \"width\": 1}}, \"orientation\": \"h\", \"type\": \"bar\", \"x\": [1229], \"y\": [\"\\uc9c4\\ub2e8\\ubc29\\uc0ac\\uc120\\uacfc\"]}, {\"marker\": {\"line\": {\"color\": \"rgb(248, 248, 249)\", \"width\": 1}}, \"orientation\": \"h\", \"type\": \"bar\", \"x\": [108], \"y\": [\"\\ubc29\\uc0ac\\uc120\\uc885\\uc591\\ud559\\uacfc\"]}, {\"marker\": {\"line\": {\"color\": \"rgb(248, 248, 249)\", \"width\": 1}}, \"orientation\": \"h\", \"type\": \"bar\", \"x\": [290], \"y\": [\"\\ubcd1\\ub9ac\\uacfc\"]}, {\"marker\": {\"line\": {\"color\": \"rgb(248, 248, 249)\", \"width\": 1}}, \"orientation\": \"h\", \"type\": \"bar\", \"x\": [264], \"y\": [\"\\uc9c4\\ub2e8\\uac80\\uc0ac\\uc758\\ud559\\uacfc\"]}, {\"marker\": {\"line\": {\"color\": \"rgb(248, 248, 249)\", \"width\": 1}}, \"orientation\": \"h\", \"type\": \"bar\", \"x\": [21], \"y\": [\"\\uacb0\\ud575\\uacfc\"]}, {\"marker\": {\"line\": {\"color\": \"rgb(248, 248, 249)\", \"width\": 1}}, \"orientation\": \"h\", \"type\": \"bar\", \"x\": [481], \"y\": [\"\\uc7ac\\ud65c\\uc758\\ud559\\uacfc\"]}, {\"marker\": {\"line\": {\"color\": \"rgb(248, 248, 249)\", \"width\": 1}}, \"orientation\": \"h\", \"type\": \"bar\", \"x\": [83], \"y\": [\"\\ud575\\uc758\\ud559\\uacfc\"]}, {\"marker\": {\"line\": {\"color\": \"rgb(248, 248, 249)\", \"width\": 1}}, \"orientation\": \"h\", \"type\": \"bar\", \"x\": [1660], \"y\": [\"\\uac00\\uc815\\uc758\\ud559\\uacfc\"]}, {\"marker\": {\"line\": {\"color\": \"rgb(248, 248, 249)\", \"width\": 1}}, \"orientation\": \"h\", \"type\": \"bar\", \"x\": [318], \"y\": [\"\\uc751\\uae09\\uc758\\ud559\\uacfc\"]}, {\"marker\": {\"line\": {\"color\": \"rgb(248, 248, 249)\", \"width\": 1}}, \"orientation\": \"h\", \"type\": \"bar\", \"x\": [68], \"y\": [\"\\uc9c1\\uc5c5\\ud658\\uacbd\\uc758\\ud559\\uacfc\"]}, {\"marker\": {\"line\": {\"color\": \"rgb(248, 248, 249)\", \"width\": 1}}, \"orientation\": \"h\", \"type\": \"bar\", \"x\": [34], \"y\": [\"\\uc608\\ubc29\\uc758\\ud559\\uacfc\"]}, {\"marker\": {\"line\": {\"color\": \"rgb(248, 248, 249)\", \"width\": 1}}, \"orientation\": \"h\", \"type\": \"bar\", \"x\": [1319], \"y\": [\"\\ub0b4\\uacfc\"]}, {\"marker\": {\"line\": {\"color\": \"rgb(248, 248, 249)\", \"width\": 1}}, \"orientation\": \"h\", \"type\": \"bar\", \"x\": [130], \"y\": [\"\\uc2e0\\uacbd\\uacfc\"]}, {\"marker\": {\"line\": {\"color\": \"rgb(248, 248, 249)\", \"width\": 1}}, \"orientation\": \"h\", \"type\": \"bar\", \"x\": [267], \"y\": [\"\\uc815\\uc2e0\\uacfc\"]}, {\"marker\": {\"line\": {\"color\": \"rgb(248, 248, 249)\", \"width\": 1}}, \"orientation\": \"h\", \"type\": \"bar\", \"x\": [499], \"y\": [\"\\uc678\\uacfc\"]}, {\"marker\": {\"line\": {\"color\": \"rgb(248, 248, 249)\", \"width\": 1}}, \"orientation\": \"h\", \"type\": \"bar\", \"x\": [488], \"y\": [\"\\uc815\\ud615\\uc678\\uacfc\"]}, {\"marker\": {\"line\": {\"color\": \"rgb(248, 248, 249)\", \"width\": 1}}, \"orientation\": \"h\", \"type\": \"bar\", \"x\": [202], \"y\": [\"\\uc2e0\\uacbd\\uc678\\uacfc\"]}, {\"marker\": {\"line\": {\"color\": \"rgb(248, 248, 249)\", \"width\": 1}}, \"orientation\": \"h\", \"type\": \"bar\", \"x\": [87], \"y\": [\"\\ud749\\ubd80\\uc678\\uacfc\"]}, {\"marker\": {\"line\": {\"color\": \"rgb(248, 248, 249)\", \"width\": 1}}, \"orientation\": \"h\", \"type\": \"bar\", \"x\": [144], \"y\": [\"\\uc131\\ud615\\uc678\\uacfc\"]}, {\"marker\": {\"line\": {\"color\": \"rgb(248, 248, 249)\", \"width\": 1}}, \"orientation\": \"h\", \"type\": \"bar\", \"x\": [348], \"y\": [\"\\ub9c8\\ucde8\\ud1b5\\uc99d\\uc758\\ud559\\uacfc\"]}, {\"marker\": {\"line\": {\"color\": \"rgb(248, 248, 249)\", \"width\": 1}}, \"orientation\": \"h\", \"type\": \"bar\", \"x\": [442], \"y\": [\"\\uc0b0\\ubd80\\uc778\\uacfc\"]}, {\"marker\": {\"line\": {\"color\": \"rgb(248, 248, 249)\", \"width\": 1}}, \"orientation\": \"h\", \"type\": \"bar\", \"x\": [416], \"y\": [\"\\uc18c\\uc544\\uacfc\"]}, {\"marker\": {\"line\": {\"color\": \"rgb(248, 248, 249)\", \"width\": 1}}, \"orientation\": \"h\", \"type\": \"bar\", \"x\": [289], \"y\": [\"\\uc548\\uacfc\"]}, {\"marker\": {\"line\": {\"color\": \"rgb(248, 248, 249)\", \"width\": 1}}, \"orientation\": \"h\", \"type\": \"bar\", \"x\": [302], \"y\": [\"\\uc774\\ube44\\uc778\\ud6c4\\uacfc\"]}, {\"marker\": {\"line\": {\"color\": \"rgb(248, 248, 249)\", \"width\": 1}}, \"orientation\": \"h\", \"type\": \"bar\", \"x\": [146], \"y\": [\"\\ud53c\\ubd80\\uacfc\"]}, {\"marker\": {\"line\": {\"color\": \"rgb(248, 248, 249)\", \"width\": 1}}, \"orientation\": \"h\", \"type\": \"bar\", \"x\": [192], \"y\": [\"\\ube44\\ub1e8\\uae30\\uacfc\"]}, {\"marker\": {\"line\": {\"color\": \"rgb(248, 248, 249)\", \"width\": 1}}, \"orientation\": \"h\", \"type\": \"bar\", \"x\": [242], \"y\": [\"\\uc9c4\\ub2e8\\ubc29\\uc0ac\\uc120\\uacfc\"]}, {\"marker\": {\"line\": {\"color\": \"rgb(248, 248, 249)\", \"width\": 1}}, \"orientation\": \"h\", \"type\": \"bar\", \"x\": [24], \"y\": [\"\\ubc29\\uc0ac\\uc120\\uc885\\uc591\\ud559\\uacfc\"]}, {\"marker\": {\"line\": {\"color\": \"rgb(248, 248, 249)\", \"width\": 1}}, \"orientation\": \"h\", \"type\": \"bar\", \"x\": [68], \"y\": [\"\\ubcd1\\ub9ac\\uacfc\"]}, {\"marker\": {\"line\": {\"color\": \"rgb(248, 248, 249)\", \"width\": 1}}, \"orientation\": \"h\", \"type\": \"bar\", \"x\": [62], \"y\": [\"\\uc9c4\\ub2e8\\uac80\\uc0ac\\uc758\\ud559\\uacfc\"]}, {\"marker\": {\"line\": {\"color\": \"rgb(248, 248, 249)\", \"width\": 1}}, \"orientation\": \"h\", \"type\": \"bar\", \"x\": [2], \"y\": [\"\\uacb0\\ud575\\uacfc\"]}, {\"marker\": {\"line\": {\"color\": \"rgb(248, 248, 249)\", \"width\": 1}}, \"orientation\": \"h\", \"type\": \"bar\", \"x\": [148], \"y\": [\"\\uc7ac\\ud65c\\uc758\\ud559\\uacfc\"]}, {\"marker\": {\"line\": {\"color\": \"rgb(248, 248, 249)\", \"width\": 1}}, \"orientation\": \"h\", \"type\": \"bar\", \"x\": [20], \"y\": [\"\\ud575\\uc758\\ud559\\uacfc\"]}, {\"marker\": {\"line\": {\"color\": \"rgb(248, 248, 249)\", \"width\": 1}}, \"orientation\": \"h\", \"type\": \"bar\", \"x\": [497], \"y\": [\"\\uac00\\uc815\\uc758\\ud559\\uacfc\"]}, {\"marker\": {\"line\": {\"color\": \"rgb(248, 248, 249)\", \"width\": 1}}, \"orientation\": \"h\", \"type\": \"bar\", \"x\": [74], \"y\": [\"\\uc751\\uae09\\uc758\\ud559\\uacfc\"]}, {\"marker\": {\"line\": {\"color\": \"rgb(248, 248, 249)\", \"width\": 1}}, \"orientation\": \"h\", \"type\": \"bar\", \"x\": [41], \"y\": [\"\\uc9c1\\uc5c5\\ud658\\uacbd\\uc758\\ud559\\uacfc\"]}, {\"marker\": {\"line\": {\"color\": \"rgb(248, 248, 249)\", \"width\": 1}}, \"orientation\": \"h\", \"type\": \"bar\", \"x\": [16], \"y\": [\"\\uc608\\ubc29\\uc758\\ud559\\uacfc\"]}, {\"marker\": {\"line\": {\"color\": \"rgb(248, 248, 249)\", \"width\": 1}}, \"orientation\": \"h\", \"type\": \"bar\", \"x\": [901], \"y\": [\"\\ub0b4\\uacfc\"]}, {\"marker\": {\"line\": {\"color\": \"rgb(248, 248, 249)\", \"width\": 1}}, \"orientation\": \"h\", \"type\": \"bar\", \"x\": [134], \"y\": [\"\\uc2e0\\uacbd\\uacfc\"]}, {\"marker\": {\"line\": {\"color\": \"rgb(248, 248, 249)\", \"width\": 1}}, \"orientation\": \"h\", \"type\": \"bar\", \"x\": [188], \"y\": [\"\\uc815\\uc2e0\\uacfc\"]}, {\"marker\": {\"line\": {\"color\": \"rgb(248, 248, 249)\", \"width\": 1}}, \"orientation\": \"h\", \"type\": \"bar\", \"x\": [350], \"y\": [\"\\uc678\\uacfc\"]}, {\"marker\": {\"line\": {\"color\": \"rgb(248, 248, 249)\", \"width\": 1}}, \"orientation\": \"h\", \"type\": \"bar\", \"x\": [336], \"y\": [\"\\uc815\\ud615\\uc678\\uacfc\"]}, {\"marker\": {\"line\": {\"color\": \"rgb(248, 248, 249)\", \"width\": 1}}, \"orientation\": \"h\", \"type\": \"bar\", \"x\": [170], \"y\": [\"\\uc2e0\\uacbd\\uc678\\uacfc\"]}, {\"marker\": {\"line\": {\"color\": \"rgb(248, 248, 249)\", \"width\": 1}}, \"orientation\": \"h\", \"type\": \"bar\", \"x\": [50], \"y\": [\"\\ud749\\ubd80\\uc678\\uacfc\"]}, {\"marker\": {\"line\": {\"color\": \"rgb(248, 248, 249)\", \"width\": 1}}, \"orientation\": \"h\", \"type\": \"bar\", \"x\": [122], \"y\": [\"\\uc131\\ud615\\uc678\\uacfc\"]}, {\"marker\": {\"line\": {\"color\": \"rgb(248, 248, 249)\", \"width\": 1}}, \"orientation\": \"h\", \"type\": \"bar\", \"x\": [238], \"y\": [\"\\ub9c8\\ucde8\\ud1b5\\uc99d\\uc758\\ud559\\uacfc\"]}, {\"marker\": {\"line\": {\"color\": \"rgb(248, 248, 249)\", \"width\": 1}}, \"orientation\": \"h\", \"type\": \"bar\", \"x\": [308], \"y\": [\"\\uc0b0\\ubd80\\uc778\\uacfc\"]}, {\"marker\": {\"line\": {\"color\": \"rgb(248, 248, 249)\", \"width\": 1}}, \"orientation\": \"h\", \"type\": \"bar\", \"x\": [336], \"y\": [\"\\uc18c\\uc544\\uacfc\"]}, {\"marker\": {\"line\": {\"color\": \"rgb(248, 248, 249)\", \"width\": 1}}, \"orientation\": \"h\", \"type\": \"bar\", \"x\": [205], \"y\": [\"\\uc548\\uacfc\"]}, {\"marker\": {\"line\": {\"color\": \"rgb(248, 248, 249)\", \"width\": 1}}, \"orientation\": \"h\", \"type\": \"bar\", \"x\": [208], \"y\": [\"\\uc774\\ube44\\uc778\\ud6c4\\uacfc\"]}, {\"marker\": {\"line\": {\"color\": \"rgb(248, 248, 249)\", \"width\": 1}}, \"orientation\": \"h\", \"type\": \"bar\", \"x\": [129], \"y\": [\"\\ud53c\\ubd80\\uacfc\"]}, {\"marker\": {\"line\": {\"color\": \"rgb(248, 248, 249)\", \"width\": 1}}, \"orientation\": \"h\", \"type\": \"bar\", \"x\": [151], \"y\": [\"\\ube44\\ub1e8\\uae30\\uacfc\"]}, {\"marker\": {\"line\": {\"color\": \"rgb(248, 248, 249)\", \"width\": 1}}, \"orientation\": \"h\", \"type\": \"bar\", \"x\": [176], \"y\": [\"\\uc9c4\\ub2e8\\ubc29\\uc0ac\\uc120\\uacfc\"]}, {\"marker\": {\"line\": {\"color\": \"rgb(248, 248, 249)\", \"width\": 1}}, \"orientation\": \"h\", \"type\": \"bar\", \"x\": [17], \"y\": [\"\\ubc29\\uc0ac\\uc120\\uc885\\uc591\\ud559\\uacfc\"]}, {\"marker\": {\"line\": {\"color\": \"rgb(248, 248, 249)\", \"width\": 1}}, \"orientation\": \"h\", \"type\": \"bar\", \"x\": [55], \"y\": [\"\\ubcd1\\ub9ac\\uacfc\"]}, {\"marker\": {\"line\": {\"color\": \"rgb(248, 248, 249)\", \"width\": 1}}, \"orientation\": \"h\", \"type\": \"bar\", \"x\": [47], \"y\": [\"\\uc9c4\\ub2e8\\uac80\\uc0ac\\uc758\\ud559\\uacfc\"]}, {\"marker\": {\"line\": {\"color\": \"rgb(248, 248, 249)\", \"width\": 1}}, \"orientation\": \"h\", \"type\": \"bar\", \"x\": [0], \"y\": [\"\\uacb0\\ud575\\uacfc\"]}, {\"marker\": {\"line\": {\"color\": \"rgb(248, 248, 249)\", \"width\": 1}}, \"orientation\": \"h\", \"type\": \"bar\", \"x\": [96], \"y\": [\"\\uc7ac\\ud65c\\uc758\\ud559\\uacfc\"]}, {\"marker\": {\"line\": {\"color\": \"rgb(248, 248, 249)\", \"width\": 1}}, \"orientation\": \"h\", \"type\": \"bar\", \"x\": [18], \"y\": [\"\\ud575\\uc758\\ud559\\uacfc\"]}, {\"marker\": {\"line\": {\"color\": \"rgb(248, 248, 249)\", \"width\": 1}}, \"orientation\": \"h\", \"type\": \"bar\", \"x\": [312], \"y\": [\"\\uac00\\uc815\\uc758\\ud559\\uacfc\"]}, {\"marker\": {\"line\": {\"color\": \"rgb(248, 248, 249)\", \"width\": 1}}, \"orientation\": \"h\", \"type\": \"bar\", \"x\": [43], \"y\": [\"\\uc751\\uae09\\uc758\\ud559\\uacfc\"]}, {\"marker\": {\"line\": {\"color\": \"rgb(248, 248, 249)\", \"width\": 1}}, \"orientation\": \"h\", \"type\": \"bar\", \"x\": [15], \"y\": [\"\\uc9c1\\uc5c5\\ud658\\uacbd\\uc758\\ud559\\uacfc\"]}, {\"marker\": {\"line\": {\"color\": \"rgb(248, 248, 249)\", \"width\": 1}}, \"orientation\": \"h\", \"type\": \"bar\", \"x\": [15], \"y\": [\"\\uc608\\ubc29\\uc758\\ud559\\uacfc\"]}, {\"marker\": {\"line\": {\"color\": \"rgb(248, 248, 249)\", \"width\": 1}}, \"orientation\": \"h\", \"type\": \"bar\", \"x\": [795], \"y\": [\"\\ub0b4\\uacfc\"]}, {\"marker\": {\"line\": {\"color\": \"rgb(248, 248, 249)\", \"width\": 1}}, \"orientation\": \"h\", \"type\": \"bar\", \"x\": [75], \"y\": [\"\\uc2e0\\uacbd\\uacfc\"]}, {\"marker\": {\"line\": {\"color\": \"rgb(248, 248, 249)\", \"width\": 1}}, \"orientation\": \"h\", \"type\": \"bar\", \"x\": [158], \"y\": [\"\\uc815\\uc2e0\\uacfc\"]}, {\"marker\": {\"line\": {\"color\": \"rgb(248, 248, 249)\", \"width\": 1}}, \"orientation\": \"h\", \"type\": \"bar\", \"x\": [300], \"y\": [\"\\uc678\\uacfc\"]}, {\"marker\": {\"line\": {\"color\": \"rgb(248, 248, 249)\", \"width\": 1}}, \"orientation\": \"h\", \"type\": \"bar\", \"x\": [349], \"y\": [\"\\uc815\\ud615\\uc678\\uacfc\"]}, {\"marker\": {\"line\": {\"color\": \"rgb(248, 248, 249)\", \"width\": 1}}, \"orientation\": \"h\", \"type\": \"bar\", \"x\": [158], \"y\": [\"\\uc2e0\\uacbd\\uc678\\uacfc\"]}, {\"marker\": {\"line\": {\"color\": \"rgb(248, 248, 249)\", \"width\": 1}}, \"orientation\": \"h\", \"type\": \"bar\", \"x\": [55], \"y\": [\"\\ud749\\ubd80\\uc678\\uacfc\"]}, {\"marker\": {\"line\": {\"color\": \"rgb(248, 248, 249)\", \"width\": 1}}, \"orientation\": \"h\", \"type\": \"bar\", \"x\": [56], \"y\": [\"\\uc131\\ud615\\uc678\\uacfc\"]}, {\"marker\": {\"line\": {\"color\": \"rgb(248, 248, 249)\", \"width\": 1}}, \"orientation\": \"h\", \"type\": \"bar\", \"x\": [203], \"y\": [\"\\ub9c8\\ucde8\\ud1b5\\uc99d\\uc758\\ud559\\uacfc\"]}, {\"marker\": {\"line\": {\"color\": \"rgb(248, 248, 249)\", \"width\": 1}}, \"orientation\": \"h\", \"type\": \"bar\", \"x\": [271], \"y\": [\"\\uc0b0\\ubd80\\uc778\\uacfc\"]}, {\"marker\": {\"line\": {\"color\": \"rgb(248, 248, 249)\", \"width\": 1}}, \"orientation\": \"h\", \"type\": \"bar\", \"x\": [297], \"y\": [\"\\uc18c\\uc544\\uacfc\"]}, {\"marker\": {\"line\": {\"color\": \"rgb(248, 248, 249)\", \"width\": 1}}, \"orientation\": \"h\", \"type\": \"bar\", \"x\": [151], \"y\": [\"\\uc548\\uacfc\"]}, {\"marker\": {\"line\": {\"color\": \"rgb(248, 248, 249)\", \"width\": 1}}, \"orientation\": \"h\", \"type\": \"bar\", \"x\": [189], \"y\": [\"\\uc774\\ube44\\uc778\\ud6c4\\uacfc\"]}, {\"marker\": {\"line\": {\"color\": \"rgb(248, 248, 249)\", \"width\": 1}}, \"orientation\": \"h\", \"type\": \"bar\", \"x\": [86], \"y\": [\"\\ud53c\\ubd80\\uacfc\"]}, {\"marker\": {\"line\": {\"color\": \"rgb(248, 248, 249)\", \"width\": 1}}, \"orientation\": \"h\", \"type\": \"bar\", \"x\": [123], \"y\": [\"\\ube44\\ub1e8\\uae30\\uacfc\"]}, {\"marker\": {\"line\": {\"color\": \"rgb(248, 248, 249)\", \"width\": 1}}, \"orientation\": \"h\", \"type\": \"bar\", \"x\": [139], \"y\": [\"\\uc9c4\\ub2e8\\ubc29\\uc0ac\\uc120\\uacfc\"]}, {\"marker\": {\"line\": {\"color\": \"rgb(248, 248, 249)\", \"width\": 1}}, \"orientation\": \"h\", \"type\": \"bar\", \"x\": [12], \"y\": [\"\\ubc29\\uc0ac\\uc120\\uc885\\uc591\\ud559\\uacfc\"]}, {\"marker\": {\"line\": {\"color\": \"rgb(248, 248, 249)\", \"width\": 1}}, \"orientation\": \"h\", \"type\": \"bar\", \"x\": [39], \"y\": [\"\\ubcd1\\ub9ac\\uacfc\"]}, {\"marker\": {\"line\": {\"color\": \"rgb(248, 248, 249)\", \"width\": 1}}, \"orientation\": \"h\", \"type\": \"bar\", \"x\": [44], \"y\": [\"\\uc9c4\\ub2e8\\uac80\\uc0ac\\uc758\\ud559\\uacfc\"]}, {\"marker\": {\"line\": {\"color\": \"rgb(248, 248, 249)\", \"width\": 1}}, \"orientation\": \"h\", \"type\": \"bar\", \"x\": [2], \"y\": [\"\\uacb0\\ud575\\uacfc\"]}, {\"marker\": {\"line\": {\"color\": \"rgb(248, 248, 249)\", \"width\": 1}}, \"orientation\": \"h\", \"type\": \"bar\", \"x\": [111], \"y\": [\"\\uc7ac\\ud65c\\uc758\\ud559\\uacfc\"]}, {\"marker\": {\"line\": {\"color\": \"rgb(248, 248, 249)\", \"width\": 1}}, \"orientation\": \"h\", \"type\": \"bar\", \"x\": [10], \"y\": [\"\\ud575\\uc758\\ud559\\uacfc\"]}, {\"marker\": {\"line\": {\"color\": \"rgb(248, 248, 249)\", \"width\": 1}}, \"orientation\": \"h\", \"type\": \"bar\", \"x\": [297], \"y\": [\"\\uac00\\uc815\\uc758\\ud559\\uacfc\"]}, {\"marker\": {\"line\": {\"color\": \"rgb(248, 248, 249)\", \"width\": 1}}, \"orientation\": \"h\", \"type\": \"bar\", \"x\": [117], \"y\": [\"\\uc751\\uae09\\uc758\\ud559\\uacfc\"]}, {\"marker\": {\"line\": {\"color\": \"rgb(248, 248, 249)\", \"width\": 1}}, \"orientation\": \"h\", \"type\": \"bar\", \"x\": [43], \"y\": [\"\\uc9c1\\uc5c5\\ud658\\uacbd\\uc758\\ud559\\uacfc\"]}, {\"marker\": {\"line\": {\"color\": \"rgb(248, 248, 249)\", \"width\": 1}}, \"orientation\": \"h\", \"type\": \"bar\", \"x\": [5], \"y\": [\"\\uc608\\ubc29\\uc758\\ud559\\uacfc\"]}, {\"marker\": {\"line\": {\"color\": \"rgb(248, 248, 249)\", \"width\": 1}}, \"orientation\": \"h\", \"type\": \"bar\", \"x\": [559], \"y\": [\"\\ub0b4\\uacfc\"]}, {\"marker\": {\"line\": {\"color\": \"rgb(248, 248, 249)\", \"width\": 1}}, \"orientation\": \"h\", \"type\": \"bar\", \"x\": [61], \"y\": [\"\\uc2e0\\uacbd\\uacfc\"]}, {\"marker\": {\"line\": {\"color\": \"rgb(248, 248, 249)\", \"width\": 1}}, \"orientation\": \"h\", \"type\": \"bar\", \"x\": [110], \"y\": [\"\\uc815\\uc2e0\\uacfc\"]}, {\"marker\": {\"line\": {\"color\": \"rgb(248, 248, 249)\", \"width\": 1}}, \"orientation\": \"h\", \"type\": \"bar\", \"x\": [209], \"y\": [\"\\uc678\\uacfc\"]}, {\"marker\": {\"line\": {\"color\": \"rgb(248, 248, 249)\", \"width\": 1}}, \"orientation\": \"h\", \"type\": \"bar\", \"x\": [211], \"y\": [\"\\uc815\\ud615\\uc678\\uacfc\"]}, {\"marker\": {\"line\": {\"color\": \"rgb(248, 248, 249)\", \"width\": 1}}, \"orientation\": \"h\", \"type\": \"bar\", \"x\": [114], \"y\": [\"\\uc2e0\\uacbd\\uc678\\uacfc\"]}, {\"marker\": {\"line\": {\"color\": \"rgb(248, 248, 249)\", \"width\": 1}}, \"orientation\": \"h\", \"type\": \"bar\", \"x\": [32], \"y\": [\"\\ud749\\ubd80\\uc678\\uacfc\"]}, {\"marker\": {\"line\": {\"color\": \"rgb(248, 248, 249)\", \"width\": 1}}, \"orientation\": \"h\", \"type\": \"bar\", \"x\": [48], \"y\": [\"\\uc131\\ud615\\uc678\\uacfc\"]}, {\"marker\": {\"line\": {\"color\": \"rgb(248, 248, 249)\", \"width\": 1}}, \"orientation\": \"h\", \"type\": \"bar\", \"x\": [157], \"y\": [\"\\ub9c8\\ucde8\\ud1b5\\uc99d\\uc758\\ud559\\uacfc\"]}, {\"marker\": {\"line\": {\"color\": \"rgb(248, 248, 249)\", \"width\": 1}}, \"orientation\": \"h\", \"type\": \"bar\", \"x\": [213], \"y\": [\"\\uc0b0\\ubd80\\uc778\\uacfc\"]}, {\"marker\": {\"line\": {\"color\": \"rgb(248, 248, 249)\", \"width\": 1}}, \"orientation\": \"h\", \"type\": \"bar\", \"x\": [226], \"y\": [\"\\uc18c\\uc544\\uacfc\"]}, {\"marker\": {\"line\": {\"color\": \"rgb(248, 248, 249)\", \"width\": 1}}, \"orientation\": \"h\", \"type\": \"bar\", \"x\": [102], \"y\": [\"\\uc548\\uacfc\"]}, {\"marker\": {\"line\": {\"color\": \"rgb(248, 248, 249)\", \"width\": 1}}, \"orientation\": \"h\", \"type\": \"bar\", \"x\": [131], \"y\": [\"\\uc774\\ube44\\uc778\\ud6c4\\uacfc\"]}, {\"marker\": {\"line\": {\"color\": \"rgb(248, 248, 249)\", \"width\": 1}}, \"orientation\": \"h\", \"type\": \"bar\", \"x\": [80], \"y\": [\"\\ud53c\\ubd80\\uacfc\"]}, {\"marker\": {\"line\": {\"color\": \"rgb(248, 248, 249)\", \"width\": 1}}, \"orientation\": \"h\", \"type\": \"bar\", \"x\": [93], \"y\": [\"\\ube44\\ub1e8\\uae30\\uacfc\"]}, {\"marker\": {\"line\": {\"color\": \"rgb(248, 248, 249)\", \"width\": 1}}, \"orientation\": \"h\", \"type\": \"bar\", \"x\": [114], \"y\": [\"\\uc9c4\\ub2e8\\ubc29\\uc0ac\\uc120\\uacfc\"]}, {\"marker\": {\"line\": {\"color\": \"rgb(248, 248, 249)\", \"width\": 1}}, \"orientation\": \"h\", \"type\": \"bar\", \"x\": [3], \"y\": [\"\\ubc29\\uc0ac\\uc120\\uc885\\uc591\\ud559\\uacfc\"]}, {\"marker\": {\"line\": {\"color\": \"rgb(248, 248, 249)\", \"width\": 1}}, \"orientation\": \"h\", \"type\": \"bar\", \"x\": [27], \"y\": [\"\\ubcd1\\ub9ac\\uacfc\"]}, {\"marker\": {\"line\": {\"color\": \"rgb(248, 248, 249)\", \"width\": 1}}, \"orientation\": \"h\", \"type\": \"bar\", \"x\": [35], \"y\": [\"\\uc9c4\\ub2e8\\uac80\\uc0ac\\uc758\\ud559\\uacfc\"]}, {\"marker\": {\"line\": {\"color\": \"rgb(248, 248, 249)\", \"width\": 1}}, \"orientation\": \"h\", \"type\": \"bar\", \"x\": [0], \"y\": [\"\\uacb0\\ud575\\uacfc\"]}, {\"marker\": {\"line\": {\"color\": \"rgb(248, 248, 249)\", \"width\": 1}}, \"orientation\": \"h\", \"type\": \"bar\", \"x\": [70], \"y\": [\"\\uc7ac\\ud65c\\uc758\\ud559\\uacfc\"]}, {\"marker\": {\"line\": {\"color\": \"rgb(248, 248, 249)\", \"width\": 1}}, \"orientation\": \"h\", \"type\": \"bar\", \"x\": [8], \"y\": [\"\\ud575\\uc758\\ud559\\uacfc\"]}, {\"marker\": {\"line\": {\"color\": \"rgb(248, 248, 249)\", \"width\": 1}}, \"orientation\": \"h\", \"type\": \"bar\", \"x\": [245], \"y\": [\"\\uac00\\uc815\\uc758\\ud559\\uacfc\"]}, {\"marker\": {\"line\": {\"color\": \"rgb(248, 248, 249)\", \"width\": 1}}, \"orientation\": \"h\", \"type\": \"bar\", \"x\": [73], \"y\": [\"\\uc751\\uae09\\uc758\\ud559\\uacfc\"]}, {\"marker\": {\"line\": {\"color\": \"rgb(248, 248, 249)\", \"width\": 1}}, \"orientation\": \"h\", \"type\": \"bar\", \"x\": [8], \"y\": [\"\\uc9c1\\uc5c5\\ud658\\uacbd\\uc758\\ud559\\uacfc\"]}, {\"marker\": {\"line\": {\"color\": \"rgb(248, 248, 249)\", \"width\": 1}}, \"orientation\": \"h\", \"type\": \"bar\", \"x\": [8], \"y\": [\"\\uc608\\ubc29\\uc758\\ud559\\uacfc\"]}, {\"marker\": {\"line\": {\"color\": \"rgb(248, 248, 249)\", \"width\": 1}}, \"orientation\": \"h\", \"type\": \"bar\", \"x\": [544], \"y\": [\"\\ub0b4\\uacfc\"]}, {\"marker\": {\"line\": {\"color\": \"rgb(248, 248, 249)\", \"width\": 1}}, \"orientation\": \"h\", \"type\": \"bar\", \"x\": [79], \"y\": [\"\\uc2e0\\uacbd\\uacfc\"]}, {\"marker\": {\"line\": {\"color\": \"rgb(248, 248, 249)\", \"width\": 1}}, \"orientation\": \"h\", \"type\": \"bar\", \"x\": [118], \"y\": [\"\\uc815\\uc2e0\\uacfc\"]}, {\"marker\": {\"line\": {\"color\": \"rgb(248, 248, 249)\", \"width\": 1}}, \"orientation\": \"h\", \"type\": \"bar\", \"x\": [187], \"y\": [\"\\uc678\\uacfc\"]}, {\"marker\": {\"line\": {\"color\": \"rgb(248, 248, 249)\", \"width\": 1}}, \"orientation\": \"h\", \"type\": \"bar\", \"x\": [219], \"y\": [\"\\uc815\\ud615\\uc678\\uacfc\"]}, {\"marker\": {\"line\": {\"color\": \"rgb(248, 248, 249)\", \"width\": 1}}, \"orientation\": \"h\", \"type\": \"bar\", \"x\": [91], \"y\": [\"\\uc2e0\\uacbd\\uc678\\uacfc\"]}, {\"marker\": {\"line\": {\"color\": \"rgb(248, 248, 249)\", \"width\": 1}}, \"orientation\": \"h\", \"type\": \"bar\", \"x\": [47], \"y\": [\"\\ud749\\ubd80\\uc678\\uacfc\"]}, {\"marker\": {\"line\": {\"color\": \"rgb(248, 248, 249)\", \"width\": 1}}, \"orientation\": \"h\", \"type\": \"bar\", \"x\": [61], \"y\": [\"\\uc131\\ud615\\uc678\\uacfc\"]}, {\"marker\": {\"line\": {\"color\": \"rgb(248, 248, 249)\", \"width\": 1}}, \"orientation\": \"h\", \"type\": \"bar\", \"x\": [137], \"y\": [\"\\ub9c8\\ucde8\\ud1b5\\uc99d\\uc758\\ud559\\uacfc\"]}, {\"marker\": {\"line\": {\"color\": \"rgb(248, 248, 249)\", \"width\": 1}}, \"orientation\": \"h\", \"type\": \"bar\", \"x\": [198], \"y\": [\"\\uc0b0\\ubd80\\uc778\\uacfc\"]}, {\"marker\": {\"line\": {\"color\": \"rgb(248, 248, 249)\", \"width\": 1}}, \"orientation\": \"h\", \"type\": \"bar\", \"x\": [211], \"y\": [\"\\uc18c\\uc544\\uacfc\"]}, {\"marker\": {\"line\": {\"color\": \"rgb(248, 248, 249)\", \"width\": 1}}, \"orientation\": \"h\", \"type\": \"bar\", \"x\": [111], \"y\": [\"\\uc548\\uacfc\"]}, {\"marker\": {\"line\": {\"color\": \"rgb(248, 248, 249)\", \"width\": 1}}, \"orientation\": \"h\", \"type\": \"bar\", \"x\": [125], \"y\": [\"\\uc774\\ube44\\uc778\\ud6c4\\uacfc\"]}, {\"marker\": {\"line\": {\"color\": \"rgb(248, 248, 249)\", \"width\": 1}}, \"orientation\": \"h\", \"type\": \"bar\", \"x\": [78], \"y\": [\"\\ud53c\\ubd80\\uacfc\"]}, {\"marker\": {\"line\": {\"color\": \"rgb(248, 248, 249)\", \"width\": 1}}, \"orientation\": \"h\", \"type\": \"bar\", \"x\": [80], \"y\": [\"\\ube44\\ub1e8\\uae30\\uacfc\"]}, {\"marker\": {\"line\": {\"color\": \"rgb(248, 248, 249)\", \"width\": 1}}, \"orientation\": \"h\", \"type\": \"bar\", \"x\": [135], \"y\": [\"\\uc9c4\\ub2e8\\ubc29\\uc0ac\\uc120\\uacfc\"]}, {\"marker\": {\"line\": {\"color\": \"rgb(248, 248, 249)\", \"width\": 1}}, \"orientation\": \"h\", \"type\": \"bar\", \"x\": [11], \"y\": [\"\\ubc29\\uc0ac\\uc120\\uc885\\uc591\\ud559\\uacfc\"]}, {\"marker\": {\"line\": {\"color\": \"rgb(248, 248, 249)\", \"width\": 1}}, \"orientation\": \"h\", \"type\": \"bar\", \"x\": [31], \"y\": [\"\\ubcd1\\ub9ac\\uacfc\"]}, {\"marker\": {\"line\": {\"color\": \"rgb(248, 248, 249)\", \"width\": 1}}, \"orientation\": \"h\", \"type\": \"bar\", \"x\": [26], \"y\": [\"\\uc9c4\\ub2e8\\uac80\\uc0ac\\uc758\\ud559\\uacfc\"]}, {\"marker\": {\"line\": {\"color\": \"rgb(248, 248, 249)\", \"width\": 1}}, \"orientation\": \"h\", \"type\": \"bar\", \"x\": [3], \"y\": [\"\\uacb0\\ud575\\uacfc\"]}, {\"marker\": {\"line\": {\"color\": \"rgb(248, 248, 249)\", \"width\": 1}}, \"orientation\": \"h\", \"type\": \"bar\", \"x\": [99], \"y\": [\"\\uc7ac\\ud65c\\uc758\\ud559\\uacfc\"]}, {\"marker\": {\"line\": {\"color\": \"rgb(248, 248, 249)\", \"width\": 1}}, \"orientation\": \"h\", \"type\": \"bar\", \"x\": [7], \"y\": [\"\\ud575\\uc758\\ud559\\uacfc\"]}, {\"marker\": {\"line\": {\"color\": \"rgb(248, 248, 249)\", \"width\": 1}}, \"orientation\": \"h\", \"type\": \"bar\", \"x\": [238], \"y\": [\"\\uac00\\uc815\\uc758\\ud559\\uacfc\"]}, {\"marker\": {\"line\": {\"color\": \"rgb(248, 248, 249)\", \"width\": 1}}, \"orientation\": \"h\", \"type\": \"bar\", \"x\": [54], \"y\": [\"\\uc751\\uae09\\uc758\\ud559\\uacfc\"]}, {\"marker\": {\"line\": {\"color\": \"rgb(248, 248, 249)\", \"width\": 1}}, \"orientation\": \"h\", \"type\": \"bar\", \"x\": [21], \"y\": [\"\\uc9c1\\uc5c5\\ud658\\uacbd\\uc758\\ud559\\uacfc\"]}, {\"marker\": {\"line\": {\"color\": \"rgb(248, 248, 249)\", \"width\": 1}}, \"orientation\": \"h\", \"type\": \"bar\", \"x\": [6], \"y\": [\"\\uc608\\ubc29\\uc758\\ud559\\uacfc\"]}, {\"marker\": {\"line\": {\"color\": \"rgb(248, 248, 249)\", \"width\": 1}}, \"orientation\": \"h\", \"type\": \"bar\", \"x\": [270], \"y\": [\"\\ub0b4\\uacfc\"]}, {\"marker\": {\"line\": {\"color\": \"rgb(248, 248, 249)\", \"width\": 1}}, \"orientation\": \"h\", \"type\": \"bar\", \"x\": [24], \"y\": [\"\\uc2e0\\uacbd\\uacfc\"]}, {\"marker\": {\"line\": {\"color\": \"rgb(248, 248, 249)\", \"width\": 1}}, \"orientation\": \"h\", \"type\": \"bar\", \"x\": [57], \"y\": [\"\\uc815\\uc2e0\\uacfc\"]}, {\"marker\": {\"line\": {\"color\": \"rgb(248, 248, 249)\", \"width\": 1}}, \"orientation\": \"h\", \"type\": \"bar\", \"x\": [115], \"y\": [\"\\uc678\\uacfc\"]}, {\"marker\": {\"line\": {\"color\": \"rgb(248, 248, 249)\", \"width\": 1}}, \"orientation\": \"h\", \"type\": \"bar\", \"x\": [106], \"y\": [\"\\uc815\\ud615\\uc678\\uacfc\"]}, {\"marker\": {\"line\": {\"color\": \"rgb(248, 248, 249)\", \"width\": 1}}, \"orientation\": \"h\", \"type\": \"bar\", \"x\": [46], \"y\": [\"\\uc2e0\\uacbd\\uc678\\uacfc\"]}, {\"marker\": {\"line\": {\"color\": \"rgb(248, 248, 249)\", \"width\": 1}}, \"orientation\": \"h\", \"type\": \"bar\", \"x\": [24], \"y\": [\"\\ud749\\ubd80\\uc678\\uacfc\"]}, {\"marker\": {\"line\": {\"color\": \"rgb(248, 248, 249)\", \"width\": 1}}, \"orientation\": \"h\", \"type\": \"bar\", \"x\": [32], \"y\": [\"\\uc131\\ud615\\uc678\\uacfc\"]}, {\"marker\": {\"line\": {\"color\": \"rgb(248, 248, 249)\", \"width\": 1}}, \"orientation\": \"h\", \"type\": \"bar\", \"x\": [73], \"y\": [\"\\ub9c8\\ucde8\\ud1b5\\uc99d\\uc758\\ud559\\uacfc\"]}, {\"marker\": {\"line\": {\"color\": \"rgb(248, 248, 249)\", \"width\": 1}}, \"orientation\": \"h\", \"type\": \"bar\", \"x\": [113], \"y\": [\"\\uc0b0\\ubd80\\uc778\\uacfc\"]}, {\"marker\": {\"line\": {\"color\": \"rgb(248, 248, 249)\", \"width\": 1}}, \"orientation\": \"h\", \"type\": \"bar\", \"x\": [112], \"y\": [\"\\uc18c\\uc544\\uacfc\"]}, {\"marker\": {\"line\": {\"color\": \"rgb(248, 248, 249)\", \"width\": 1}}, \"orientation\": \"h\", \"type\": \"bar\", \"x\": [61], \"y\": [\"\\uc548\\uacfc\"]}, {\"marker\": {\"line\": {\"color\": \"rgb(248, 248, 249)\", \"width\": 1}}, \"orientation\": \"h\", \"type\": \"bar\", \"x\": [67], \"y\": [\"\\uc774\\ube44\\uc778\\ud6c4\\uacfc\"]}, {\"marker\": {\"line\": {\"color\": \"rgb(248, 248, 249)\", \"width\": 1}}, \"orientation\": \"h\", \"type\": \"bar\", \"x\": [32], \"y\": [\"\\ud53c\\ubd80\\uacfc\"]}, {\"marker\": {\"line\": {\"color\": \"rgb(248, 248, 249)\", \"width\": 1}}, \"orientation\": \"h\", \"type\": \"bar\", \"x\": [53], \"y\": [\"\\ube44\\ub1e8\\uae30\\uacfc\"]}, {\"marker\": {\"line\": {\"color\": \"rgb(248, 248, 249)\", \"width\": 1}}, \"orientation\": \"h\", \"type\": \"bar\", \"x\": [66], \"y\": [\"\\uc9c4\\ub2e8\\ubc29\\uc0ac\\uc120\\uacfc\"]}, {\"marker\": {\"line\": {\"color\": \"rgb(248, 248, 249)\", \"width\": 1}}, \"orientation\": \"h\", \"type\": \"bar\", \"x\": [2], \"y\": [\"\\ubc29\\uc0ac\\uc120\\uc885\\uc591\\ud559\\uacfc\"]}, {\"marker\": {\"line\": {\"color\": \"rgb(248, 248, 249)\", \"width\": 1}}, \"orientation\": \"h\", \"type\": \"bar\", \"x\": [12], \"y\": [\"\\ubcd1\\ub9ac\\uacfc\"]}, {\"marker\": {\"line\": {\"color\": \"rgb(248, 248, 249)\", \"width\": 1}}, \"orientation\": \"h\", \"type\": \"bar\", \"x\": [13], \"y\": [\"\\uc9c4\\ub2e8\\uac80\\uc0ac\\uc758\\ud559\\uacfc\"]}, {\"marker\": {\"line\": {\"color\": \"rgb(248, 248, 249)\", \"width\": 1}}, \"orientation\": \"h\", \"type\": \"bar\", \"x\": [1], \"y\": [\"\\uacb0\\ud575\\uacfc\"]}, {\"marker\": {\"line\": {\"color\": \"rgb(248, 248, 249)\", \"width\": 1}}, \"orientation\": \"h\", \"type\": \"bar\", \"x\": [28], \"y\": [\"\\uc7ac\\ud65c\\uc758\\ud559\\uacfc\"]}, {\"marker\": {\"line\": {\"color\": \"rgb(248, 248, 249)\", \"width\": 1}}, \"orientation\": \"h\", \"type\": \"bar\", \"x\": [3], \"y\": [\"\\ud575\\uc758\\ud559\\uacfc\"]}, {\"marker\": {\"line\": {\"color\": \"rgb(248, 248, 249)\", \"width\": 1}}, \"orientation\": \"h\", \"type\": \"bar\", \"x\": [108], \"y\": [\"\\uac00\\uc815\\uc758\\ud559\\uacfc\"]}, {\"marker\": {\"line\": {\"color\": \"rgb(248, 248, 249)\", \"width\": 1}}, \"orientation\": \"h\", \"type\": \"bar\", \"x\": [31], \"y\": [\"\\uc751\\uae09\\uc758\\ud559\\uacfc\"]}, {\"marker\": {\"line\": {\"color\": \"rgb(248, 248, 249)\", \"width\": 1}}, \"orientation\": \"h\", \"type\": \"bar\", \"x\": [27], \"y\": [\"\\uc9c1\\uc5c5\\ud658\\uacbd\\uc758\\ud559\\uacfc\"]}, {\"marker\": {\"line\": {\"color\": \"rgb(248, 248, 249)\", \"width\": 1}}, \"orientation\": \"h\", \"type\": \"bar\", \"x\": [8], \"y\": [\"\\uc608\\ubc29\\uc758\\ud559\\uacfc\"]}, {\"marker\": {\"line\": {\"color\": \"rgb(248, 248, 249)\", \"width\": 1}}, \"orientation\": \"h\", \"type\": \"bar\", \"x\": [39], \"y\": [\"\\ub0b4\\uacfc\"]}, {\"marker\": {\"line\": {\"color\": \"rgb(248, 248, 249)\", \"width\": 1}}, \"orientation\": \"h\", \"type\": \"bar\", \"x\": [4], \"y\": [\"\\uc2e0\\uacbd\\uacfc\"]}, {\"marker\": {\"line\": {\"color\": \"rgb(248, 248, 249)\", \"width\": 1}}, \"orientation\": \"h\", \"type\": \"bar\", \"x\": [9], \"y\": [\"\\uc815\\uc2e0\\uacfc\"]}, {\"marker\": {\"line\": {\"color\": \"rgb(248, 248, 249)\", \"width\": 1}}, \"orientation\": \"h\", \"type\": \"bar\", \"x\": [15], \"y\": [\"\\uc678\\uacfc\"]}, {\"marker\": {\"line\": {\"color\": \"rgb(248, 248, 249)\", \"width\": 1}}, \"orientation\": \"h\", \"type\": \"bar\", \"x\": [13], \"y\": [\"\\uc815\\ud615\\uc678\\uacfc\"]}, {\"marker\": {\"line\": {\"color\": \"rgb(248, 248, 249)\", \"width\": 1}}, \"orientation\": \"h\", \"type\": \"bar\", \"x\": [8], \"y\": [\"\\uc2e0\\uacbd\\uc678\\uacfc\"]}, {\"marker\": {\"line\": {\"color\": \"rgb(248, 248, 249)\", \"width\": 1}}, \"orientation\": \"h\", \"type\": \"bar\", \"x\": [4], \"y\": [\"\\ud749\\ubd80\\uc678\\uacfc\"]}, {\"marker\": {\"line\": {\"color\": \"rgb(248, 248, 249)\", \"width\": 1}}, \"orientation\": \"h\", \"type\": \"bar\", \"x\": [5], \"y\": [\"\\uc131\\ud615\\uc678\\uacfc\"]}, {\"marker\": {\"line\": {\"color\": \"rgb(248, 248, 249)\", \"width\": 1}}, \"orientation\": \"h\", \"type\": \"bar\", \"x\": [10], \"y\": [\"\\ub9c8\\ucde8\\ud1b5\\uc99d\\uc758\\ud559\\uacfc\"]}, {\"marker\": {\"line\": {\"color\": \"rgb(248, 248, 249)\", \"width\": 1}}, \"orientation\": \"h\", \"type\": \"bar\", \"x\": [17], \"y\": [\"\\uc0b0\\ubd80\\uc778\\uacfc\"]}, {\"marker\": {\"line\": {\"color\": \"rgb(248, 248, 249)\", \"width\": 1}}, \"orientation\": \"h\", \"type\": \"bar\", \"x\": [43], \"y\": [\"\\uc18c\\uc544\\uacfc\"]}, {\"marker\": {\"line\": {\"color\": \"rgb(248, 248, 249)\", \"width\": 1}}, \"orientation\": \"h\", \"type\": \"bar\", \"x\": [11], \"y\": [\"\\uc548\\uacfc\"]}, {\"marker\": {\"line\": {\"color\": \"rgb(248, 248, 249)\", \"width\": 1}}, \"orientation\": \"h\", \"type\": \"bar\", \"x\": [19], \"y\": [\"\\uc774\\ube44\\uc778\\ud6c4\\uacfc\"]}, {\"marker\": {\"line\": {\"color\": \"rgb(248, 248, 249)\", \"width\": 1}}, \"orientation\": \"h\", \"type\": \"bar\", \"x\": [5], \"y\": [\"\\ud53c\\ubd80\\uacfc\"]}, {\"marker\": {\"line\": {\"color\": \"rgb(248, 248, 249)\", \"width\": 1}}, \"orientation\": \"h\", \"type\": \"bar\", \"x\": [9], \"y\": [\"\\ube44\\ub1e8\\uae30\\uacfc\"]}, {\"marker\": {\"line\": {\"color\": \"rgb(248, 248, 249)\", \"width\": 1}}, \"orientation\": \"h\", \"type\": \"bar\", \"x\": [2], \"y\": [\"\\uc9c4\\ub2e8\\ubc29\\uc0ac\\uc120\\uacfc\"]}, {\"marker\": {\"line\": {\"color\": \"rgb(248, 248, 249)\", \"width\": 1}}, \"orientation\": \"h\", \"type\": \"bar\", \"x\": [0], \"y\": [\"\\ubc29\\uc0ac\\uc120\\uc885\\uc591\\ud559\\uacfc\"]}, {\"marker\": {\"line\": {\"color\": \"rgb(248, 248, 249)\", \"width\": 1}}, \"orientation\": \"h\", \"type\": \"bar\", \"x\": [2], \"y\": [\"\\ubcd1\\ub9ac\\uacfc\"]}, {\"marker\": {\"line\": {\"color\": \"rgb(248, 248, 249)\", \"width\": 1}}, \"orientation\": \"h\", \"type\": \"bar\", \"x\": [0], \"y\": [\"\\uc9c4\\ub2e8\\uac80\\uc0ac\\uc758\\ud559\\uacfc\"]}, {\"marker\": {\"line\": {\"color\": \"rgb(248, 248, 249)\", \"width\": 1}}, \"orientation\": \"h\", \"type\": \"bar\", \"x\": [0], \"y\": [\"\\uacb0\\ud575\\uacfc\"]}, {\"marker\": {\"line\": {\"color\": \"rgb(248, 248, 249)\", \"width\": 1}}, \"orientation\": \"h\", \"type\": \"bar\", \"x\": [4], \"y\": [\"\\uc7ac\\ud65c\\uc758\\ud559\\uacfc\"]}, {\"marker\": {\"line\": {\"color\": \"rgb(248, 248, 249)\", \"width\": 1}}, \"orientation\": \"h\", \"type\": \"bar\", \"x\": [0], \"y\": [\"\\ud575\\uc758\\ud559\\uacfc\"]}, {\"marker\": {\"line\": {\"color\": \"rgb(248, 248, 249)\", \"width\": 1}}, \"orientation\": \"h\", \"type\": \"bar\", \"x\": [26], \"y\": [\"\\uac00\\uc815\\uc758\\ud559\\uacfc\"]}, {\"marker\": {\"line\": {\"color\": \"rgb(248, 248, 249)\", \"width\": 1}}, \"orientation\": \"h\", \"type\": \"bar\", \"x\": [2], \"y\": [\"\\uc751\\uae09\\uc758\\ud559\\uacfc\"]}, {\"marker\": {\"line\": {\"color\": \"rgb(248, 248, 249)\", \"width\": 1}}, \"orientation\": \"h\", \"type\": \"bar\", \"x\": [0], \"y\": [\"\\uc9c1\\uc5c5\\ud658\\uacbd\\uc758\\ud559\\uacfc\"]}, {\"marker\": {\"line\": {\"color\": \"rgb(248, 248, 249)\", \"width\": 1}}, \"orientation\": \"h\", \"type\": \"bar\", \"x\": [0], \"y\": [\"\\uc608\\ubc29\\uc758\\ud559\\uacfc\"]}, {\"marker\": {\"line\": {\"color\": \"rgb(248, 248, 249)\", \"width\": 1}}, \"orientation\": \"h\", \"type\": \"bar\", \"x\": [3160], \"y\": [\"\\ub0b4\\uacfc\"]}, {\"marker\": {\"line\": {\"color\": \"rgb(248, 248, 249)\", \"width\": 1}}, \"orientation\": \"h\", \"type\": \"bar\", \"x\": [358], \"y\": [\"\\uc2e0\\uacbd\\uacfc\"]}, {\"marker\": {\"line\": {\"color\": \"rgb(248, 248, 249)\", \"width\": 1}}, \"orientation\": \"h\", \"type\": \"bar\", \"x\": [741], \"y\": [\"\\uc815\\uc2e0\\uacfc\"]}, {\"marker\": {\"line\": {\"color\": \"rgb(248, 248, 249)\", \"width\": 1}}, \"orientation\": \"h\", \"type\": \"bar\", \"x\": [1158], \"y\": [\"\\uc678\\uacfc\"]}, {\"marker\": {\"line\": {\"color\": \"rgb(248, 248, 249)\", \"width\": 1}}, \"orientation\": \"h\", \"type\": \"bar\", \"x\": [1359], \"y\": [\"\\uc815\\ud615\\uc678\\uacfc\"]}, {\"marker\": {\"line\": {\"color\": \"rgb(248, 248, 249)\", \"width\": 1}}, \"orientation\": \"h\", \"type\": \"bar\", \"x\": [551], \"y\": [\"\\uc2e0\\uacbd\\uc678\\uacfc\"]}, {\"marker\": {\"line\": {\"color\": \"rgb(248, 248, 249)\", \"width\": 1}}, \"orientation\": \"h\", \"type\": \"bar\", \"x\": [191], \"y\": [\"\\ud749\\ubd80\\uc678\\uacfc\"]}, {\"marker\": {\"line\": {\"color\": \"rgb(248, 248, 249)\", \"width\": 1}}, \"orientation\": \"h\", \"type\": \"bar\", \"x\": [231], \"y\": [\"\\uc131\\ud615\\uc678\\uacfc\"]}, {\"marker\": {\"line\": {\"color\": \"rgb(248, 248, 249)\", \"width\": 1}}, \"orientation\": \"h\", \"type\": \"bar\", \"x\": [884], \"y\": [\"\\ub9c8\\ucde8\\ud1b5\\uc99d\\uc758\\ud559\\uacfc\"]}, {\"marker\": {\"line\": {\"color\": \"rgb(248, 248, 249)\", \"width\": 1}}, \"orientation\": \"h\", \"type\": \"bar\", \"x\": [1224], \"y\": [\"\\uc0b0\\ubd80\\uc778\\uacfc\"]}, {\"marker\": {\"line\": {\"color\": \"rgb(248, 248, 249)\", \"width\": 1}}, \"orientation\": \"h\", \"type\": \"bar\", \"x\": [1414], \"y\": [\"\\uc18c\\uc544\\uacfc\"]}, {\"marker\": {\"line\": {\"color\": \"rgb(248, 248, 249)\", \"width\": 1}}, \"orientation\": \"h\", \"type\": \"bar\", \"x\": [629], \"y\": [\"\\uc548\\uacfc\"]}, {\"marker\": {\"line\": {\"color\": \"rgb(248, 248, 249)\", \"width\": 1}}, \"orientation\": \"h\", \"type\": \"bar\", \"x\": [895], \"y\": [\"\\uc774\\ube44\\uc778\\ud6c4\\uacfc\"]}, {\"marker\": {\"line\": {\"color\": \"rgb(248, 248, 249)\", \"width\": 1}}, \"orientation\": \"h\", \"type\": \"bar\", \"x\": [437], \"y\": [\"\\ud53c\\ubd80\\uacfc\"]}, {\"marker\": {\"line\": {\"color\": \"rgb(248, 248, 249)\", \"width\": 1}}, \"orientation\": \"h\", \"type\": \"bar\", \"x\": [535], \"y\": [\"\\ube44\\ub1e8\\uae30\\uacfc\"]}, {\"marker\": {\"line\": {\"color\": \"rgb(248, 248, 249)\", \"width\": 1}}, \"orientation\": \"h\", \"type\": \"bar\", \"x\": [707], \"y\": [\"\\uc9c4\\ub2e8\\ubc29\\uc0ac\\uc120\\uacfc\"]}, {\"marker\": {\"line\": {\"color\": \"rgb(248, 248, 249)\", \"width\": 1}}, \"orientation\": \"h\", \"type\": \"bar\", \"x\": [52], \"y\": [\"\\ubc29\\uc0ac\\uc120\\uc885\\uc591\\ud559\\uacfc\"]}, {\"marker\": {\"line\": {\"color\": \"rgb(248, 248, 249)\", \"width\": 1}}, \"orientation\": \"h\", \"type\": \"bar\", \"x\": [165], \"y\": [\"\\ubcd1\\ub9ac\\uacfc\"]}, {\"marker\": {\"line\": {\"color\": \"rgb(248, 248, 249)\", \"width\": 1}}, \"orientation\": \"h\", \"type\": \"bar\", \"x\": [167], \"y\": [\"\\uc9c4\\ub2e8\\uac80\\uc0ac\\uc758\\ud559\\uacfc\"]}, {\"marker\": {\"line\": {\"color\": \"rgb(248, 248, 249)\", \"width\": 1}}, \"orientation\": \"h\", \"type\": \"bar\", \"x\": [18], \"y\": [\"\\uacb0\\ud575\\uacfc\"]}, {\"marker\": {\"line\": {\"color\": \"rgb(248, 248, 249)\", \"width\": 1}}, \"orientation\": \"h\", \"type\": \"bar\", \"x\": [462], \"y\": [\"\\uc7ac\\ud65c\\uc758\\ud559\\uacfc\"]}, {\"marker\": {\"line\": {\"color\": \"rgb(248, 248, 249)\", \"width\": 1}}, \"orientation\": \"h\", \"type\": \"bar\", \"x\": [32], \"y\": [\"\\ud575\\uc758\\ud559\\uacfc\"]}, {\"marker\": {\"line\": {\"color\": \"rgb(248, 248, 249)\", \"width\": 1}}, \"orientation\": \"h\", \"type\": \"bar\", \"x\": [1351], \"y\": [\"\\uac00\\uc815\\uc758\\ud559\\uacfc\"]}, {\"marker\": {\"line\": {\"color\": \"rgb(248, 248, 249)\", \"width\": 1}}, \"orientation\": \"h\", \"type\": \"bar\", \"x\": [374], \"y\": [\"\\uc751\\uae09\\uc758\\ud559\\uacfc\"]}, {\"marker\": {\"line\": {\"color\": \"rgb(248, 248, 249)\", \"width\": 1}}, \"orientation\": \"h\", \"type\": \"bar\", \"x\": [92], \"y\": [\"\\uc9c1\\uc5c5\\ud658\\uacbd\\uc758\\ud559\\uacfc\"]}, {\"marker\": {\"line\": {\"color\": \"rgb(248, 248, 249)\", \"width\": 1}}, \"orientation\": \"h\", \"type\": \"bar\", \"x\": [36], \"y\": [\"\\uc608\\ubc29\\uc758\\ud559\\uacfc\"]}, {\"marker\": {\"line\": {\"color\": \"rgb(248, 248, 249)\", \"width\": 1}}, \"orientation\": \"h\", \"type\": \"bar\", \"x\": [395], \"y\": [\"\\ub0b4\\uacfc\"]}, {\"marker\": {\"line\": {\"color\": \"rgb(248, 248, 249)\", \"width\": 1}}, \"orientation\": \"h\", \"type\": \"bar\", \"x\": [43], \"y\": [\"\\uc2e0\\uacbd\\uacfc\"]}, {\"marker\": {\"line\": {\"color\": \"rgb(248, 248, 249)\", \"width\": 1}}, \"orientation\": \"h\", \"type\": \"bar\", \"x\": [101], \"y\": [\"\\uc815\\uc2e0\\uacfc\"]}, {\"marker\": {\"line\": {\"color\": \"rgb(248, 248, 249)\", \"width\": 1}}, \"orientation\": \"h\", \"type\": \"bar\", \"x\": [165], \"y\": [\"\\uc678\\uacfc\"]}, {\"marker\": {\"line\": {\"color\": \"rgb(248, 248, 249)\", \"width\": 1}}, \"orientation\": \"h\", \"type\": \"bar\", \"x\": [163], \"y\": [\"\\uc815\\ud615\\uc678\\uacfc\"]}, {\"marker\": {\"line\": {\"color\": \"rgb(248, 248, 249)\", \"width\": 1}}, \"orientation\": \"h\", \"type\": \"bar\", \"x\": [88], \"y\": [\"\\uc2e0\\uacbd\\uc678\\uacfc\"]}, {\"marker\": {\"line\": {\"color\": \"rgb(248, 248, 249)\", \"width\": 1}}, \"orientation\": \"h\", \"type\": \"bar\", \"x\": [31], \"y\": [\"\\ud749\\ubd80\\uc678\\uacfc\"]}, {\"marker\": {\"line\": {\"color\": \"rgb(248, 248, 249)\", \"width\": 1}}, \"orientation\": \"h\", \"type\": \"bar\", \"x\": [34], \"y\": [\"\\uc131\\ud615\\uc678\\uacfc\"]}, {\"marker\": {\"line\": {\"color\": \"rgb(248, 248, 249)\", \"width\": 1}}, \"orientation\": \"h\", \"type\": \"bar\", \"x\": [119], \"y\": [\"\\ub9c8\\ucde8\\ud1b5\\uc99d\\uc758\\ud559\\uacfc\"]}, {\"marker\": {\"line\": {\"color\": \"rgb(248, 248, 249)\", \"width\": 1}}, \"orientation\": \"h\", \"type\": \"bar\", \"x\": [138], \"y\": [\"\\uc0b0\\ubd80\\uc778\\uacfc\"]}, {\"marker\": {\"line\": {\"color\": \"rgb(248, 248, 249)\", \"width\": 1}}, \"orientation\": \"h\", \"type\": \"bar\", \"x\": [126], \"y\": [\"\\uc18c\\uc544\\uacfc\"]}, {\"marker\": {\"line\": {\"color\": \"rgb(248, 248, 249)\", \"width\": 1}}, \"orientation\": \"h\", \"type\": \"bar\", \"x\": [83], \"y\": [\"\\uc548\\uacfc\"]}, {\"marker\": {\"line\": {\"color\": \"rgb(248, 248, 249)\", \"width\": 1}}, \"orientation\": \"h\", \"type\": \"bar\", \"x\": [87], \"y\": [\"\\uc774\\ube44\\uc778\\ud6c4\\uacfc\"]}, {\"marker\": {\"line\": {\"color\": \"rgb(248, 248, 249)\", \"width\": 1}}, \"orientation\": \"h\", \"type\": \"bar\", \"x\": [35], \"y\": [\"\\ud53c\\ubd80\\uacfc\"]}, {\"marker\": {\"line\": {\"color\": \"rgb(248, 248, 249)\", \"width\": 1}}, \"orientation\": \"h\", \"type\": \"bar\", \"x\": [59], \"y\": [\"\\ube44\\ub1e8\\uae30\\uacfc\"]}, {\"marker\": {\"line\": {\"color\": \"rgb(248, 248, 249)\", \"width\": 1}}, \"orientation\": \"h\", \"type\": \"bar\", \"x\": [80], \"y\": [\"\\uc9c4\\ub2e8\\ubc29\\uc0ac\\uc120\\uacfc\"]}, {\"marker\": {\"line\": {\"color\": \"rgb(248, 248, 249)\", \"width\": 1}}, \"orientation\": \"h\", \"type\": \"bar\", \"x\": [11], \"y\": [\"\\ubc29\\uc0ac\\uc120\\uc885\\uc591\\ud559\\uacfc\"]}, {\"marker\": {\"line\": {\"color\": \"rgb(248, 248, 249)\", \"width\": 1}}, \"orientation\": \"h\", \"type\": \"bar\", \"x\": [18], \"y\": [\"\\ubcd1\\ub9ac\\uacfc\"]}, {\"marker\": {\"line\": {\"color\": \"rgb(248, 248, 249)\", \"width\": 1}}, \"orientation\": \"h\", \"type\": \"bar\", \"x\": [21], \"y\": [\"\\uc9c4\\ub2e8\\uac80\\uc0ac\\uc758\\ud559\\uacfc\"]}, {\"marker\": {\"line\": {\"color\": \"rgb(248, 248, 249)\", \"width\": 1}}, \"orientation\": \"h\", \"type\": \"bar\", \"x\": [3], \"y\": [\"\\uacb0\\ud575\\uacfc\"]}, {\"marker\": {\"line\": {\"color\": \"rgb(248, 248, 249)\", \"width\": 1}}, \"orientation\": \"h\", \"type\": \"bar\", \"x\": [49], \"y\": [\"\\uc7ac\\ud65c\\uc758\\ud559\\uacfc\"]}, {\"marker\": {\"line\": {\"color\": \"rgb(248, 248, 249)\", \"width\": 1}}, \"orientation\": \"h\", \"type\": \"bar\", \"x\": [5], \"y\": [\"\\ud575\\uc758\\ud559\\uacfc\"]}, {\"marker\": {\"line\": {\"color\": \"rgb(248, 248, 249)\", \"width\": 1}}, \"orientation\": \"h\", \"type\": \"bar\", \"x\": [123], \"y\": [\"\\uac00\\uc815\\uc758\\ud559\\uacfc\"]}, {\"marker\": {\"line\": {\"color\": \"rgb(248, 248, 249)\", \"width\": 1}}, \"orientation\": \"h\", \"type\": \"bar\", \"x\": [62], \"y\": [\"\\uc751\\uae09\\uc758\\ud559\\uacfc\"]}, {\"marker\": {\"line\": {\"color\": \"rgb(248, 248, 249)\", \"width\": 1}}, \"orientation\": \"h\", \"type\": \"bar\", \"x\": [8], \"y\": [\"\\uc9c1\\uc5c5\\ud658\\uacbd\\uc758\\ud559\\uacfc\"]}, {\"marker\": {\"line\": {\"color\": \"rgb(248, 248, 249)\", \"width\": 1}}, \"orientation\": \"h\", \"type\": \"bar\", \"x\": [4], \"y\": [\"\\uc608\\ubc29\\uc758\\ud559\\uacfc\"]}, {\"marker\": {\"line\": {\"color\": \"rgb(248, 248, 249)\", \"width\": 1}}, \"orientation\": \"h\", \"type\": \"bar\", \"x\": [344], \"y\": [\"\\ub0b4\\uacfc\"]}, {\"marker\": {\"line\": {\"color\": \"rgb(248, 248, 249)\", \"width\": 1}}, \"orientation\": \"h\", \"type\": \"bar\", \"x\": [41], \"y\": [\"\\uc2e0\\uacbd\\uacfc\"]}, {\"marker\": {\"line\": {\"color\": \"rgb(248, 248, 249)\", \"width\": 1}}, \"orientation\": \"h\", \"type\": \"bar\", \"x\": [105], \"y\": [\"\\uc815\\uc2e0\\uacfc\"]}, {\"marker\": {\"line\": {\"color\": \"rgb(248, 248, 249)\", \"width\": 1}}, \"orientation\": \"h\", \"type\": \"bar\", \"x\": [166], \"y\": [\"\\uc678\\uacfc\"]}, {\"marker\": {\"line\": {\"color\": \"rgb(248, 248, 249)\", \"width\": 1}}, \"orientation\": \"h\", \"type\": \"bar\", \"x\": [163], \"y\": [\"\\uc815\\ud615\\uc678\\uacfc\"]}, {\"marker\": {\"line\": {\"color\": \"rgb(248, 248, 249)\", \"width\": 1}}, \"orientation\": \"h\", \"type\": \"bar\", \"x\": [88], \"y\": [\"\\uc2e0\\uacbd\\uc678\\uacfc\"]}, {\"marker\": {\"line\": {\"color\": \"rgb(248, 248, 249)\", \"width\": 1}}, \"orientation\": \"h\", \"type\": \"bar\", \"x\": [30], \"y\": [\"\\ud749\\ubd80\\uc678\\uacfc\"]}, {\"marker\": {\"line\": {\"color\": \"rgb(248, 248, 249)\", \"width\": 1}}, \"orientation\": \"h\", \"type\": \"bar\", \"x\": [30], \"y\": [\"\\uc131\\ud615\\uc678\\uacfc\"]}, {\"marker\": {\"line\": {\"color\": \"rgb(248, 248, 249)\", \"width\": 1}}, \"orientation\": \"h\", \"type\": \"bar\", \"x\": [119], \"y\": [\"\\ub9c8\\ucde8\\ud1b5\\uc99d\\uc758\\ud559\\uacfc\"]}, {\"marker\": {\"line\": {\"color\": \"rgb(248, 248, 249)\", \"width\": 1}}, \"orientation\": \"h\", \"type\": \"bar\", \"x\": [141], \"y\": [\"\\uc0b0\\ubd80\\uc778\\uacfc\"]}, {\"marker\": {\"line\": {\"color\": \"rgb(248, 248, 249)\", \"width\": 1}}, \"orientation\": \"h\", \"type\": \"bar\", \"x\": [137], \"y\": [\"\\uc18c\\uc544\\uacfc\"]}, {\"marker\": {\"line\": {\"color\": \"rgb(248, 248, 249)\", \"width\": 1}}, \"orientation\": \"h\", \"type\": \"bar\", \"x\": [78], \"y\": [\"\\uc548\\uacfc\"]}, {\"marker\": {\"line\": {\"color\": \"rgb(248, 248, 249)\", \"width\": 1}}, \"orientation\": \"h\", \"type\": \"bar\", \"x\": [94], \"y\": [\"\\uc774\\ube44\\uc778\\ud6c4\\uacfc\"]}, {\"marker\": {\"line\": {\"color\": \"rgb(248, 248, 249)\", \"width\": 1}}, \"orientation\": \"h\", \"type\": \"bar\", \"x\": [38], \"y\": [\"\\ud53c\\ubd80\\uacfc\"]}, {\"marker\": {\"line\": {\"color\": \"rgb(248, 248, 249)\", \"width\": 1}}, \"orientation\": \"h\", \"type\": \"bar\", \"x\": [66], \"y\": [\"\\ube44\\ub1e8\\uae30\\uacfc\"]}, {\"marker\": {\"line\": {\"color\": \"rgb(248, 248, 249)\", \"width\": 1}}, \"orientation\": \"h\", \"type\": \"bar\", \"x\": [84], \"y\": [\"\\uc9c4\\ub2e8\\ubc29\\uc0ac\\uc120\\uacfc\"]}, {\"marker\": {\"line\": {\"color\": \"rgb(248, 248, 249)\", \"width\": 1}}, \"orientation\": \"h\", \"type\": \"bar\", \"x\": [4], \"y\": [\"\\ubc29\\uc0ac\\uc120\\uc885\\uc591\\ud559\\uacfc\"]}, {\"marker\": {\"line\": {\"color\": \"rgb(248, 248, 249)\", \"width\": 1}}, \"orientation\": \"h\", \"type\": \"bar\", \"x\": [15], \"y\": [\"\\ubcd1\\ub9ac\\uacfc\"]}, {\"marker\": {\"line\": {\"color\": \"rgb(248, 248, 249)\", \"width\": 1}}, \"orientation\": \"h\", \"type\": \"bar\", \"x\": [20], \"y\": [\"\\uc9c4\\ub2e8\\uac80\\uc0ac\\uc758\\ud559\\uacfc\"]}, {\"marker\": {\"line\": {\"color\": \"rgb(248, 248, 249)\", \"width\": 1}}, \"orientation\": \"h\", \"type\": \"bar\", \"x\": [0], \"y\": [\"\\uacb0\\ud575\\uacfc\"]}, {\"marker\": {\"line\": {\"color\": \"rgb(248, 248, 249)\", \"width\": 1}}, \"orientation\": \"h\", \"type\": \"bar\", \"x\": [57], \"y\": [\"\\uc7ac\\ud65c\\uc758\\ud559\\uacfc\"]}, {\"marker\": {\"line\": {\"color\": \"rgb(248, 248, 249)\", \"width\": 1}}, \"orientation\": \"h\", \"type\": \"bar\", \"x\": [3], \"y\": [\"\\ud575\\uc758\\ud559\\uacfc\"]}, {\"marker\": {\"line\": {\"color\": \"rgb(248, 248, 249)\", \"width\": 1}}, \"orientation\": \"h\", \"type\": \"bar\", \"x\": [197], \"y\": [\"\\uac00\\uc815\\uc758\\ud559\\uacfc\"]}, {\"marker\": {\"line\": {\"color\": \"rgb(248, 248, 249)\", \"width\": 1}}, \"orientation\": \"h\", \"type\": \"bar\", \"x\": [43], \"y\": [\"\\uc751\\uae09\\uc758\\ud559\\uacfc\"]}, {\"marker\": {\"line\": {\"color\": \"rgb(248, 248, 249)\", \"width\": 1}}, \"orientation\": \"h\", \"type\": \"bar\", \"x\": [23], \"y\": [\"\\uc9c1\\uc5c5\\ud658\\uacbd\\uc758\\ud559\\uacfc\"]}, {\"marker\": {\"line\": {\"color\": \"rgb(248, 248, 249)\", \"width\": 1}}, \"orientation\": \"h\", \"type\": \"bar\", \"x\": [2], \"y\": [\"\\uc608\\ubc29\\uc758\\ud559\\uacfc\"]}, {\"marker\": {\"line\": {\"color\": \"rgb(248, 248, 249)\", \"width\": 1}}, \"orientation\": \"h\", \"type\": \"bar\", \"x\": [426], \"y\": [\"\\ub0b4\\uacfc\"]}, {\"marker\": {\"line\": {\"color\": \"rgb(248, 248, 249)\", \"width\": 1}}, \"orientation\": \"h\", \"type\": \"bar\", \"x\": [55], \"y\": [\"\\uc2e0\\uacbd\\uacfc\"]}, {\"marker\": {\"line\": {\"color\": \"rgb(248, 248, 249)\", \"width\": 1}}, \"orientation\": \"h\", \"type\": \"bar\", \"x\": [123], \"y\": [\"\\uc815\\uc2e0\\uacfc\"]}, {\"marker\": {\"line\": {\"color\": \"rgb(248, 248, 249)\", \"width\": 1}}, \"orientation\": \"h\", \"type\": \"bar\", \"x\": [222], \"y\": [\"\\uc678\\uacfc\"]}, {\"marker\": {\"line\": {\"color\": \"rgb(248, 248, 249)\", \"width\": 1}}, \"orientation\": \"h\", \"type\": \"bar\", \"x\": [189], \"y\": [\"\\uc815\\ud615\\uc678\\uacfc\"]}, {\"marker\": {\"line\": {\"color\": \"rgb(248, 248, 249)\", \"width\": 1}}, \"orientation\": \"h\", \"type\": \"bar\", \"x\": [84], \"y\": [\"\\uc2e0\\uacbd\\uc678\\uacfc\"]}, {\"marker\": {\"line\": {\"color\": \"rgb(248, 248, 249)\", \"width\": 1}}, \"orientation\": \"h\", \"type\": \"bar\", \"x\": [37], \"y\": [\"\\ud749\\ubd80\\uc678\\uacfc\"]}, {\"marker\": {\"line\": {\"color\": \"rgb(248, 248, 249)\", \"width\": 1}}, \"orientation\": \"h\", \"type\": \"bar\", \"x\": [30], \"y\": [\"\\uc131\\ud615\\uc678\\uacfc\"]}, {\"marker\": {\"line\": {\"color\": \"rgb(248, 248, 249)\", \"width\": 1}}, \"orientation\": \"h\", \"type\": \"bar\", \"x\": [125], \"y\": [\"\\ub9c8\\ucde8\\ud1b5\\uc99d\\uc758\\ud559\\uacfc\"]}, {\"marker\": {\"line\": {\"color\": \"rgb(248, 248, 249)\", \"width\": 1}}, \"orientation\": \"h\", \"type\": \"bar\", \"x\": [185], \"y\": [\"\\uc0b0\\ubd80\\uc778\\uacfc\"]}, {\"marker\": {\"line\": {\"color\": \"rgb(248, 248, 249)\", \"width\": 1}}, \"orientation\": \"h\", \"type\": \"bar\", \"x\": [167], \"y\": [\"\\uc18c\\uc544\\uacfc\"]}, {\"marker\": {\"line\": {\"color\": \"rgb(248, 248, 249)\", \"width\": 1}}, \"orientation\": \"h\", \"type\": \"bar\", \"x\": [97], \"y\": [\"\\uc548\\uacfc\"]}, {\"marker\": {\"line\": {\"color\": \"rgb(248, 248, 249)\", \"width\": 1}}, \"orientation\": \"h\", \"type\": \"bar\", \"x\": [99], \"y\": [\"\\uc774\\ube44\\uc778\\ud6c4\\uacfc\"]}, {\"marker\": {\"line\": {\"color\": \"rgb(248, 248, 249)\", \"width\": 1}}, \"orientation\": \"h\", \"type\": \"bar\", \"x\": [46], \"y\": [\"\\ud53c\\ubd80\\uacfc\"]}, {\"marker\": {\"line\": {\"color\": \"rgb(248, 248, 249)\", \"width\": 1}}, \"orientation\": \"h\", \"type\": \"bar\", \"x\": [80], \"y\": [\"\\ube44\\ub1e8\\uae30\\uacfc\"]}, {\"marker\": {\"line\": {\"color\": \"rgb(248, 248, 249)\", \"width\": 1}}, \"orientation\": \"h\", \"type\": \"bar\", \"x\": [100], \"y\": [\"\\uc9c4\\ub2e8\\ubc29\\uc0ac\\uc120\\uacfc\"]}, {\"marker\": {\"line\": {\"color\": \"rgb(248, 248, 249)\", \"width\": 1}}, \"orientation\": \"h\", \"type\": \"bar\", \"x\": [6], \"y\": [\"\\ubc29\\uc0ac\\uc120\\uc885\\uc591\\ud559\\uacfc\"]}, {\"marker\": {\"line\": {\"color\": \"rgb(248, 248, 249)\", \"width\": 1}}, \"orientation\": \"h\", \"type\": \"bar\", \"x\": [15], \"y\": [\"\\ubcd1\\ub9ac\\uacfc\"]}, {\"marker\": {\"line\": {\"color\": \"rgb(248, 248, 249)\", \"width\": 1}}, \"orientation\": \"h\", \"type\": \"bar\", \"x\": [22], \"y\": [\"\\uc9c4\\ub2e8\\uac80\\uc0ac\\uc758\\ud559\\uacfc\"]}, {\"marker\": {\"line\": {\"color\": \"rgb(248, 248, 249)\", \"width\": 1}}, \"orientation\": \"h\", \"type\": \"bar\", \"x\": [0], \"y\": [\"\\uacb0\\ud575\\uacfc\"]}, {\"marker\": {\"line\": {\"color\": \"rgb(248, 248, 249)\", \"width\": 1}}, \"orientation\": \"h\", \"type\": \"bar\", \"x\": [57], \"y\": [\"\\uc7ac\\ud65c\\uc758\\ud559\\uacfc\"]}, {\"marker\": {\"line\": {\"color\": \"rgb(248, 248, 249)\", \"width\": 1}}, \"orientation\": \"h\", \"type\": \"bar\", \"x\": [7], \"y\": [\"\\ud575\\uc758\\ud559\\uacfc\"]}, {\"marker\": {\"line\": {\"color\": \"rgb(248, 248, 249)\", \"width\": 1}}, \"orientation\": \"h\", \"type\": \"bar\", \"x\": [225], \"y\": [\"\\uac00\\uc815\\uc758\\ud559\\uacfc\"]}, {\"marker\": {\"line\": {\"color\": \"rgb(248, 248, 249)\", \"width\": 1}}, \"orientation\": \"h\", \"type\": \"bar\", \"x\": [72], \"y\": [\"\\uc751\\uae09\\uc758\\ud559\\uacfc\"]}, {\"marker\": {\"line\": {\"color\": \"rgb(248, 248, 249)\", \"width\": 1}}, \"orientation\": \"h\", \"type\": \"bar\", \"x\": [27], \"y\": [\"\\uc9c1\\uc5c5\\ud658\\uacbd\\uc758\\ud559\\uacfc\"]}, {\"marker\": {\"line\": {\"color\": \"rgb(248, 248, 249)\", \"width\": 1}}, \"orientation\": \"h\", \"type\": \"bar\", \"x\": [5], \"y\": [\"\\uc608\\ubc29\\uc758\\ud559\\uacfc\"]}, {\"marker\": {\"line\": {\"color\": \"rgb(248, 248, 249)\", \"width\": 1}}, \"orientation\": \"h\", \"type\": \"bar\", \"x\": [559], \"y\": [\"\\ub0b4\\uacfc\"]}, {\"marker\": {\"line\": {\"color\": \"rgb(248, 248, 249)\", \"width\": 1}}, \"orientation\": \"h\", \"type\": \"bar\", \"x\": [62], \"y\": [\"\\uc2e0\\uacbd\\uacfc\"]}, {\"marker\": {\"line\": {\"color\": \"rgb(248, 248, 249)\", \"width\": 1}}, \"orientation\": \"h\", \"type\": \"bar\", \"x\": [131], \"y\": [\"\\uc815\\uc2e0\\uacfc\"]}, {\"marker\": {\"line\": {\"color\": \"rgb(248, 248, 249)\", \"width\": 1}}, \"orientation\": \"h\", \"type\": \"bar\", \"x\": [241], \"y\": [\"\\uc678\\uacfc\"]}, {\"marker\": {\"line\": {\"color\": \"rgb(248, 248, 249)\", \"width\": 1}}, \"orientation\": \"h\", \"type\": \"bar\", \"x\": [205], \"y\": [\"\\uc815\\ud615\\uc678\\uacfc\"]}, {\"marker\": {\"line\": {\"color\": \"rgb(248, 248, 249)\", \"width\": 1}}, \"orientation\": \"h\", \"type\": \"bar\", \"x\": [99], \"y\": [\"\\uc2e0\\uacbd\\uc678\\uacfc\"]}, {\"marker\": {\"line\": {\"color\": \"rgb(248, 248, 249)\", \"width\": 1}}, \"orientation\": \"h\", \"type\": \"bar\", \"x\": [33], \"y\": [\"\\ud749\\ubd80\\uc678\\uacfc\"]}, {\"marker\": {\"line\": {\"color\": \"rgb(248, 248, 249)\", \"width\": 1}}, \"orientation\": \"h\", \"type\": \"bar\", \"x\": [45], \"y\": [\"\\uc131\\ud615\\uc678\\uacfc\"]}, {\"marker\": {\"line\": {\"color\": \"rgb(248, 248, 249)\", \"width\": 1}}, \"orientation\": \"h\", \"type\": \"bar\", \"x\": [148], \"y\": [\"\\ub9c8\\ucde8\\ud1b5\\uc99d\\uc758\\ud559\\uacfc\"]}, {\"marker\": {\"line\": {\"color\": \"rgb(248, 248, 249)\", \"width\": 1}}, \"orientation\": \"h\", \"type\": \"bar\", \"x\": [192], \"y\": [\"\\uc0b0\\ubd80\\uc778\\uacfc\"]}, {\"marker\": {\"line\": {\"color\": \"rgb(248, 248, 249)\", \"width\": 1}}, \"orientation\": \"h\", \"type\": \"bar\", \"x\": [192], \"y\": [\"\\uc18c\\uc544\\uacfc\"]}, {\"marker\": {\"line\": {\"color\": \"rgb(248, 248, 249)\", \"width\": 1}}, \"orientation\": \"h\", \"type\": \"bar\", \"x\": [112], \"y\": [\"\\uc548\\uacfc\"]}, {\"marker\": {\"line\": {\"color\": \"rgb(248, 248, 249)\", \"width\": 1}}, \"orientation\": \"h\", \"type\": \"bar\", \"x\": [103], \"y\": [\"\\uc774\\ube44\\uc778\\ud6c4\\uacfc\"]}, {\"marker\": {\"line\": {\"color\": \"rgb(248, 248, 249)\", \"width\": 1}}, \"orientation\": \"h\", \"type\": \"bar\", \"x\": [57], \"y\": [\"\\ud53c\\ubd80\\uacfc\"]}, {\"marker\": {\"line\": {\"color\": \"rgb(248, 248, 249)\", \"width\": 1}}, \"orientation\": \"h\", \"type\": \"bar\", \"x\": [74], \"y\": [\"\\ube44\\ub1e8\\uae30\\uacfc\"]}, {\"marker\": {\"line\": {\"color\": \"rgb(248, 248, 249)\", \"width\": 1}}, \"orientation\": \"h\", \"type\": \"bar\", \"x\": [122], \"y\": [\"\\uc9c4\\ub2e8\\ubc29\\uc0ac\\uc120\\uacfc\"]}, {\"marker\": {\"line\": {\"color\": \"rgb(248, 248, 249)\", \"width\": 1}}, \"orientation\": \"h\", \"type\": \"bar\", \"x\": [9], \"y\": [\"\\ubc29\\uc0ac\\uc120\\uc885\\uc591\\ud559\\uacfc\"]}, {\"marker\": {\"line\": {\"color\": \"rgb(248, 248, 249)\", \"width\": 1}}, \"orientation\": \"h\", \"type\": \"bar\", \"x\": [21], \"y\": [\"\\ubcd1\\ub9ac\\uacfc\"]}, {\"marker\": {\"line\": {\"color\": \"rgb(248, 248, 249)\", \"width\": 1}}, \"orientation\": \"h\", \"type\": \"bar\", \"x\": [22], \"y\": [\"\\uc9c4\\ub2e8\\uac80\\uc0ac\\uc758\\ud559\\uacfc\"]}, {\"marker\": {\"line\": {\"color\": \"rgb(248, 248, 249)\", \"width\": 1}}, \"orientation\": \"h\", \"type\": \"bar\", \"x\": [1], \"y\": [\"\\uacb0\\ud575\\uacfc\"]}, {\"marker\": {\"line\": {\"color\": \"rgb(248, 248, 249)\", \"width\": 1}}, \"orientation\": \"h\", \"type\": \"bar\", \"x\": [84], \"y\": [\"\\uc7ac\\ud65c\\uc758\\ud559\\uacfc\"]}, {\"marker\": {\"line\": {\"color\": \"rgb(248, 248, 249)\", \"width\": 1}}, \"orientation\": \"h\", \"type\": \"bar\", \"x\": [10], \"y\": [\"\\ud575\\uc758\\ud559\\uacfc\"]}, {\"marker\": {\"line\": {\"color\": \"rgb(248, 248, 249)\", \"width\": 1}}, \"orientation\": \"h\", \"type\": \"bar\", \"x\": [287], \"y\": [\"\\uac00\\uc815\\uc758\\ud559\\uacfc\"]}, {\"marker\": {\"line\": {\"color\": \"rgb(248, 248, 249)\", \"width\": 1}}, \"orientation\": \"h\", \"type\": \"bar\", \"x\": [69], \"y\": [\"\\uc751\\uae09\\uc758\\ud559\\uacfc\"]}, {\"marker\": {\"line\": {\"color\": \"rgb(248, 248, 249)\", \"width\": 1}}, \"orientation\": \"h\", \"type\": \"bar\", \"x\": [12], \"y\": [\"\\uc9c1\\uc5c5\\ud658\\uacbd\\uc758\\ud559\\uacfc\"]}, {\"marker\": {\"line\": {\"color\": \"rgb(248, 248, 249)\", \"width\": 1}}, \"orientation\": \"h\", \"type\": \"bar\", \"x\": [5], \"y\": [\"\\uc608\\ubc29\\uc758\\ud559\\uacfc\"]}, {\"marker\": {\"line\": {\"color\": \"rgb(248, 248, 249)\", \"width\": 1}}, \"orientation\": \"h\", \"type\": \"bar\", \"x\": [451], \"y\": [\"\\ub0b4\\uacfc\"]}, {\"marker\": {\"line\": {\"color\": \"rgb(248, 248, 249)\", \"width\": 1}}, \"orientation\": \"h\", \"type\": \"bar\", \"x\": [56], \"y\": [\"\\uc2e0\\uacbd\\uacfc\"]}, {\"marker\": {\"line\": {\"color\": \"rgb(248, 248, 249)\", \"width\": 1}}, \"orientation\": \"h\", \"type\": \"bar\", \"x\": [123], \"y\": [\"\\uc815\\uc2e0\\uacfc\"]}, {\"marker\": {\"line\": {\"color\": \"rgb(248, 248, 249)\", \"width\": 1}}, \"orientation\": \"h\", \"type\": \"bar\", \"x\": [256], \"y\": [\"\\uc678\\uacfc\"]}, {\"marker\": {\"line\": {\"color\": \"rgb(248, 248, 249)\", \"width\": 1}}, \"orientation\": \"h\", \"type\": \"bar\", \"x\": [190], \"y\": [\"\\uc815\\ud615\\uc678\\uacfc\"]}, {\"marker\": {\"line\": {\"color\": \"rgb(248, 248, 249)\", \"width\": 1}}, \"orientation\": \"h\", \"type\": \"bar\", \"x\": [87], \"y\": [\"\\uc2e0\\uacbd\\uc678\\uacfc\"]}, {\"marker\": {\"line\": {\"color\": \"rgb(248, 248, 249)\", \"width\": 1}}, \"orientation\": \"h\", \"type\": \"bar\", \"x\": [50], \"y\": [\"\\ud749\\ubd80\\uc678\\uacfc\"]}, {\"marker\": {\"line\": {\"color\": \"rgb(248, 248, 249)\", \"width\": 1}}, \"orientation\": \"h\", \"type\": \"bar\", \"x\": [28], \"y\": [\"\\uc131\\ud615\\uc678\\uacfc\"]}, {\"marker\": {\"line\": {\"color\": \"rgb(248, 248, 249)\", \"width\": 1}}, \"orientation\": \"h\", \"type\": \"bar\", \"x\": [158], \"y\": [\"\\ub9c8\\ucde8\\ud1b5\\uc99d\\uc758\\ud559\\uacfc\"]}, {\"marker\": {\"line\": {\"color\": \"rgb(248, 248, 249)\", \"width\": 1}}, \"orientation\": \"h\", \"type\": \"bar\", \"x\": [159], \"y\": [\"\\uc0b0\\ubd80\\uc778\\uacfc\"]}, {\"marker\": {\"line\": {\"color\": \"rgb(248, 248, 249)\", \"width\": 1}}, \"orientation\": \"h\", \"type\": \"bar\", \"x\": [147], \"y\": [\"\\uc18c\\uc544\\uacfc\"]}, {\"marker\": {\"line\": {\"color\": \"rgb(248, 248, 249)\", \"width\": 1}}, \"orientation\": \"h\", \"type\": \"bar\", \"x\": [81], \"y\": [\"\\uc548\\uacfc\"]}, {\"marker\": {\"line\": {\"color\": \"rgb(248, 248, 249)\", \"width\": 1}}, \"orientation\": \"h\", \"type\": \"bar\", \"x\": [86], \"y\": [\"\\uc774\\ube44\\uc778\\ud6c4\\uacfc\"]}, {\"marker\": {\"line\": {\"color\": \"rgb(248, 248, 249)\", \"width\": 1}}, \"orientation\": \"h\", \"type\": \"bar\", \"x\": [33], \"y\": [\"\\ud53c\\ubd80\\uacfc\"]}, {\"marker\": {\"line\": {\"color\": \"rgb(248, 248, 249)\", \"width\": 1}}, \"orientation\": \"h\", \"type\": \"bar\", \"x\": [73], \"y\": [\"\\ube44\\ub1e8\\uae30\\uacfc\"]}, {\"marker\": {\"line\": {\"color\": \"rgb(248, 248, 249)\", \"width\": 1}}, \"orientation\": \"h\", \"type\": \"bar\", \"x\": [116], \"y\": [\"\\uc9c4\\ub2e8\\ubc29\\uc0ac\\uc120\\uacfc\"]}, {\"marker\": {\"line\": {\"color\": \"rgb(248, 248, 249)\", \"width\": 1}}, \"orientation\": \"h\", \"type\": \"bar\", \"x\": [8], \"y\": [\"\\ubc29\\uc0ac\\uc120\\uc885\\uc591\\ud559\\uacfc\"]}, {\"marker\": {\"line\": {\"color\": \"rgb(248, 248, 249)\", \"width\": 1}}, \"orientation\": \"h\", \"type\": \"bar\", \"x\": [12], \"y\": [\"\\ubcd1\\ub9ac\\uacfc\"]}, {\"marker\": {\"line\": {\"color\": \"rgb(248, 248, 249)\", \"width\": 1}}, \"orientation\": \"h\", \"type\": \"bar\", \"x\": [28], \"y\": [\"\\uc9c4\\ub2e8\\uac80\\uc0ac\\uc758\\ud559\\uacfc\"]}, {\"marker\": {\"line\": {\"color\": \"rgb(248, 248, 249)\", \"width\": 1}}, \"orientation\": \"h\", \"type\": \"bar\", \"x\": [3], \"y\": [\"\\uacb0\\ud575\\uacfc\"]}, {\"marker\": {\"line\": {\"color\": \"rgb(248, 248, 249)\", \"width\": 1}}, \"orientation\": \"h\", \"type\": \"bar\", \"x\": [50], \"y\": [\"\\uc7ac\\ud65c\\uc758\\ud559\\uacfc\"]}, {\"marker\": {\"line\": {\"color\": \"rgb(248, 248, 249)\", \"width\": 1}}, \"orientation\": \"h\", \"type\": \"bar\", \"x\": [15], \"y\": [\"\\ud575\\uc758\\ud559\\uacfc\"]}, {\"marker\": {\"line\": {\"color\": \"rgb(248, 248, 249)\", \"width\": 1}}, \"orientation\": \"h\", \"type\": \"bar\", \"x\": [234], \"y\": [\"\\uac00\\uc815\\uc758\\ud559\\uacfc\"]}, {\"marker\": {\"line\": {\"color\": \"rgb(248, 248, 249)\", \"width\": 1}}, \"orientation\": \"h\", \"type\": \"bar\", \"x\": [61], \"y\": [\"\\uc751\\uae09\\uc758\\ud559\\uacfc\"]}, {\"marker\": {\"line\": {\"color\": \"rgb(248, 248, 249)\", \"width\": 1}}, \"orientation\": \"h\", \"type\": \"bar\", \"x\": [21], \"y\": [\"\\uc9c1\\uc5c5\\ud658\\uacbd\\uc758\\ud559\\uacfc\"]}, {\"marker\": {\"line\": {\"color\": \"rgb(248, 248, 249)\", \"width\": 1}}, \"orientation\": \"h\", \"type\": \"bar\", \"x\": [7], \"y\": [\"\\uc608\\ubc29\\uc758\\ud559\\uacfc\"]}, {\"marker\": {\"line\": {\"color\": \"rgb(248, 248, 249)\", \"width\": 1}}, \"orientation\": \"h\", \"type\": \"bar\", \"x\": [549], \"y\": [\"\\ub0b4\\uacfc\"]}, {\"marker\": {\"line\": {\"color\": \"rgb(248, 248, 249)\", \"width\": 1}}, \"orientation\": \"h\", \"type\": \"bar\", \"x\": [89], \"y\": [\"\\uc2e0\\uacbd\\uacfc\"]}, {\"marker\": {\"line\": {\"color\": \"rgb(248, 248, 249)\", \"width\": 1}}, \"orientation\": \"h\", \"type\": \"bar\", \"x\": [175], \"y\": [\"\\uc815\\uc2e0\\uacfc\"]}, {\"marker\": {\"line\": {\"color\": \"rgb(248, 248, 249)\", \"width\": 1}}, \"orientation\": \"h\", \"type\": \"bar\", \"x\": [297], \"y\": [\"\\uc678\\uacfc\"]}, {\"marker\": {\"line\": {\"color\": \"rgb(248, 248, 249)\", \"width\": 1}}, \"orientation\": \"h\", \"type\": \"bar\", \"x\": [242], \"y\": [\"\\uc815\\ud615\\uc678\\uacfc\"]}, {\"marker\": {\"line\": {\"color\": \"rgb(248, 248, 249)\", \"width\": 1}}, \"orientation\": \"h\", \"type\": \"bar\", \"x\": [127], \"y\": [\"\\uc2e0\\uacbd\\uc678\\uacfc\"]}, {\"marker\": {\"line\": {\"color\": \"rgb(248, 248, 249)\", \"width\": 1}}, \"orientation\": \"h\", \"type\": \"bar\", \"x\": [49], \"y\": [\"\\ud749\\ubd80\\uc678\\uacfc\"]}, {\"marker\": {\"line\": {\"color\": \"rgb(248, 248, 249)\", \"width\": 1}}, \"orientation\": \"h\", \"type\": \"bar\", \"x\": [42], \"y\": [\"\\uc131\\ud615\\uc678\\uacfc\"]}, {\"marker\": {\"line\": {\"color\": \"rgb(248, 248, 249)\", \"width\": 1}}, \"orientation\": \"h\", \"type\": \"bar\", \"x\": [177], \"y\": [\"\\ub9c8\\ucde8\\ud1b5\\uc99d\\uc758\\ud559\\uacfc\"]}, {\"marker\": {\"line\": {\"color\": \"rgb(248, 248, 249)\", \"width\": 1}}, \"orientation\": \"h\", \"type\": \"bar\", \"x\": [209], \"y\": [\"\\uc0b0\\ubd80\\uc778\\uacfc\"]}, {\"marker\": {\"line\": {\"color\": \"rgb(248, 248, 249)\", \"width\": 1}}, \"orientation\": \"h\", \"type\": \"bar\", \"x\": [204], \"y\": [\"\\uc18c\\uc544\\uacfc\"]}, {\"marker\": {\"line\": {\"color\": \"rgb(248, 248, 249)\", \"width\": 1}}, \"orientation\": \"h\", \"type\": \"bar\", \"x\": [130], \"y\": [\"\\uc548\\uacfc\"]}, {\"marker\": {\"line\": {\"color\": \"rgb(248, 248, 249)\", \"width\": 1}}, \"orientation\": \"h\", \"type\": \"bar\", \"x\": [129], \"y\": [\"\\uc774\\ube44\\uc778\\ud6c4\\uacfc\"]}, {\"marker\": {\"line\": {\"color\": \"rgb(248, 248, 249)\", \"width\": 1}}, \"orientation\": \"h\", \"type\": \"bar\", \"x\": [35], \"y\": [\"\\ud53c\\ubd80\\uacfc\"]}, {\"marker\": {\"line\": {\"color\": \"rgb(248, 248, 249)\", \"width\": 1}}, \"orientation\": \"h\", \"type\": \"bar\", \"x\": [99], \"y\": [\"\\ube44\\ub1e8\\uae30\\uacfc\"]}, {\"marker\": {\"line\": {\"color\": \"rgb(248, 248, 249)\", \"width\": 1}}, \"orientation\": \"h\", \"type\": \"bar\", \"x\": [108], \"y\": [\"\\uc9c4\\ub2e8\\ubc29\\uc0ac\\uc120\\uacfc\"]}, {\"marker\": {\"line\": {\"color\": \"rgb(248, 248, 249)\", \"width\": 1}}, \"orientation\": \"h\", \"type\": \"bar\", \"x\": [11], \"y\": [\"\\ubc29\\uc0ac\\uc120\\uc885\\uc591\\ud559\\uacfc\"]}, {\"marker\": {\"line\": {\"color\": \"rgb(248, 248, 249)\", \"width\": 1}}, \"orientation\": \"h\", \"type\": \"bar\", \"x\": [16], \"y\": [\"\\ubcd1\\ub9ac\\uacfc\"]}, {\"marker\": {\"line\": {\"color\": \"rgb(248, 248, 249)\", \"width\": 1}}, \"orientation\": \"h\", \"type\": \"bar\", \"x\": [25], \"y\": [\"\\uc9c4\\ub2e8\\uac80\\uc0ac\\uc758\\ud559\\uacfc\"]}, {\"marker\": {\"line\": {\"color\": \"rgb(248, 248, 249)\", \"width\": 1}}, \"orientation\": \"h\", \"type\": \"bar\", \"x\": [3], \"y\": [\"\\uacb0\\ud575\\uacfc\"]}, {\"marker\": {\"line\": {\"color\": \"rgb(248, 248, 249)\", \"width\": 1}}, \"orientation\": \"h\", \"type\": \"bar\", \"x\": [73], \"y\": [\"\\uc7ac\\ud65c\\uc758\\ud559\\uacfc\"]}, {\"marker\": {\"line\": {\"color\": \"rgb(248, 248, 249)\", \"width\": 1}}, \"orientation\": \"h\", \"type\": \"bar\", \"x\": [3], \"y\": [\"\\ud575\\uc758\\ud559\\uacfc\"]}, {\"marker\": {\"line\": {\"color\": \"rgb(248, 248, 249)\", \"width\": 1}}, \"orientation\": \"h\", \"type\": \"bar\", \"x\": [259], \"y\": [\"\\uac00\\uc815\\uc758\\ud559\\uacfc\"]}, {\"marker\": {\"line\": {\"color\": \"rgb(248, 248, 249)\", \"width\": 1}}, \"orientation\": \"h\", \"type\": \"bar\", \"x\": [102], \"y\": [\"\\uc751\\uae09\\uc758\\ud559\\uacfc\"]}, {\"marker\": {\"line\": {\"color\": \"rgb(248, 248, 249)\", \"width\": 1}}, \"orientation\": \"h\", \"type\": \"bar\", \"x\": [34], \"y\": [\"\\uc9c1\\uc5c5\\ud658\\uacbd\\uc758\\ud559\\uacfc\"]}, {\"marker\": {\"line\": {\"color\": \"rgb(248, 248, 249)\", \"width\": 1}}, \"orientation\": \"h\", \"type\": \"bar\", \"x\": [17], \"y\": [\"\\uc608\\ubc29\\uc758\\ud559\\uacfc\"]}, {\"marker\": {\"line\": {\"color\": \"rgb(248, 248, 249)\", \"width\": 1}}, \"orientation\": \"h\", \"type\": \"bar\", \"x\": [872], \"y\": [\"\\ub0b4\\uacfc\"]}, {\"marker\": {\"line\": {\"color\": \"rgb(248, 248, 249)\", \"width\": 1}}, \"orientation\": \"h\", \"type\": \"bar\", \"x\": [126], \"y\": [\"\\uc2e0\\uacbd\\uacfc\"]}, {\"marker\": {\"line\": {\"color\": \"rgb(248, 248, 249)\", \"width\": 1}}, \"orientation\": \"h\", \"type\": \"bar\", \"x\": [245], \"y\": [\"\\uc815\\uc2e0\\uacfc\"]}, {\"marker\": {\"line\": {\"color\": \"rgb(248, 248, 249)\", \"width\": 1}}, \"orientation\": \"h\", \"type\": \"bar\", \"x\": [358], \"y\": [\"\\uc678\\uacfc\"]}, {\"marker\": {\"line\": {\"color\": \"rgb(248, 248, 249)\", \"width\": 1}}, \"orientation\": \"h\", \"type\": \"bar\", \"x\": [349], \"y\": [\"\\uc815\\ud615\\uc678\\uacfc\"]}, {\"marker\": {\"line\": {\"color\": \"rgb(248, 248, 249)\", \"width\": 1}}, \"orientation\": \"h\", \"type\": \"bar\", \"x\": [181], \"y\": [\"\\uc2e0\\uacbd\\uc678\\uacfc\"]}, {\"marker\": {\"line\": {\"color\": \"rgb(248, 248, 249)\", \"width\": 1}}, \"orientation\": \"h\", \"type\": \"bar\", \"x\": [65], \"y\": [\"\\ud749\\ubd80\\uc678\\uacfc\"]}, {\"marker\": {\"line\": {\"color\": \"rgb(248, 248, 249)\", \"width\": 1}}, \"orientation\": \"h\", \"type\": \"bar\", \"x\": [51], \"y\": [\"\\uc131\\ud615\\uc678\\uacfc\"]}, {\"marker\": {\"line\": {\"color\": \"rgb(248, 248, 249)\", \"width\": 1}}, \"orientation\": \"h\", \"type\": \"bar\", \"x\": [250], \"y\": [\"\\ub9c8\\ucde8\\ud1b5\\uc99d\\uc758\\ud559\\uacfc\"]}, {\"marker\": {\"line\": {\"color\": \"rgb(248, 248, 249)\", \"width\": 1}}, \"orientation\": \"h\", \"type\": \"bar\", \"x\": [292], \"y\": [\"\\uc0b0\\ubd80\\uc778\\uacfc\"]}, {\"marker\": {\"line\": {\"color\": \"rgb(248, 248, 249)\", \"width\": 1}}, \"orientation\": \"h\", \"type\": \"bar\", \"x\": [337], \"y\": [\"\\uc18c\\uc544\\uacfc\"]}, {\"marker\": {\"line\": {\"color\": \"rgb(248, 248, 249)\", \"width\": 1}}, \"orientation\": \"h\", \"type\": \"bar\", \"x\": [162], \"y\": [\"\\uc548\\uacfc\"]}, {\"marker\": {\"line\": {\"color\": \"rgb(248, 248, 249)\", \"width\": 1}}, \"orientation\": \"h\", \"type\": \"bar\", \"x\": [189], \"y\": [\"\\uc774\\ube44\\uc778\\ud6c4\\uacfc\"]}, {\"marker\": {\"line\": {\"color\": \"rgb(248, 248, 249)\", \"width\": 1}}, \"orientation\": \"h\", \"type\": \"bar\", \"x\": [79], \"y\": [\"\\ud53c\\ubd80\\uacfc\"]}, {\"marker\": {\"line\": {\"color\": \"rgb(248, 248, 249)\", \"width\": 1}}, \"orientation\": \"h\", \"type\": \"bar\", \"x\": [142], \"y\": [\"\\ube44\\ub1e8\\uae30\\uacfc\"]}, {\"marker\": {\"line\": {\"color\": \"rgb(248, 248, 249)\", \"width\": 1}}, \"orientation\": \"h\", \"type\": \"bar\", \"x\": [186], \"y\": [\"\\uc9c4\\ub2e8\\ubc29\\uc0ac\\uc120\\uacfc\"]}, {\"marker\": {\"line\": {\"color\": \"rgb(248, 248, 249)\", \"width\": 1}}, \"orientation\": \"h\", \"type\": \"bar\", \"x\": [12], \"y\": [\"\\ubc29\\uc0ac\\uc120\\uc885\\uc591\\ud559\\uacfc\"]}, {\"marker\": {\"line\": {\"color\": \"rgb(248, 248, 249)\", \"width\": 1}}, \"orientation\": \"h\", \"type\": \"bar\", \"x\": [40], \"y\": [\"\\ubcd1\\ub9ac\\uacfc\"]}, {\"marker\": {\"line\": {\"color\": \"rgb(248, 248, 249)\", \"width\": 1}}, \"orientation\": \"h\", \"type\": \"bar\", \"x\": [35], \"y\": [\"\\uc9c4\\ub2e8\\uac80\\uc0ac\\uc758\\ud559\\uacfc\"]}, {\"marker\": {\"line\": {\"color\": \"rgb(248, 248, 249)\", \"width\": 1}}, \"orientation\": \"h\", \"type\": \"bar\", \"x\": [2], \"y\": [\"\\uacb0\\ud575\\uacfc\"]}, {\"marker\": {\"line\": {\"color\": \"rgb(248, 248, 249)\", \"width\": 1}}, \"orientation\": \"h\", \"type\": \"bar\", \"x\": [120], \"y\": [\"\\uc7ac\\ud65c\\uc758\\ud559\\uacfc\"]}, {\"marker\": {\"line\": {\"color\": \"rgb(248, 248, 249)\", \"width\": 1}}, \"orientation\": \"h\", \"type\": \"bar\", \"x\": [6], \"y\": [\"\\ud575\\uc758\\ud559\\uacfc\"]}, {\"marker\": {\"line\": {\"color\": \"rgb(248, 248, 249)\", \"width\": 1}}, \"orientation\": \"h\", \"type\": \"bar\", \"x\": [293], \"y\": [\"\\uac00\\uc815\\uc758\\ud559\\uacfc\"]}, {\"marker\": {\"line\": {\"color\": \"rgb(248, 248, 249)\", \"width\": 1}}, \"orientation\": \"h\", \"type\": \"bar\", \"x\": [93], \"y\": [\"\\uc751\\uae09\\uc758\\ud559\\uacfc\"]}, {\"marker\": {\"line\": {\"color\": \"rgb(248, 248, 249)\", \"width\": 1}}, \"orientation\": \"h\", \"type\": \"bar\", \"x\": [65], \"y\": [\"\\uc9c1\\uc5c5\\ud658\\uacbd\\uc758\\ud559\\uacfc\"]}, {\"marker\": {\"line\": {\"color\": \"rgb(248, 248, 249)\", \"width\": 1}}, \"orientation\": \"h\", \"type\": \"bar\", \"x\": [11], \"y\": [\"\\uc608\\ubc29\\uc758\\ud559\\uacfc\"]}, {\"marker\": {\"line\": {\"color\": \"rgb(248, 248, 249)\", \"width\": 1}}, \"orientation\": \"h\", \"type\": \"bar\", \"x\": [161], \"y\": [\"\\ub0b4\\uacfc\"]}, {\"marker\": {\"line\": {\"color\": \"rgb(248, 248, 249)\", \"width\": 1}}, \"orientation\": \"h\", \"type\": \"bar\", \"x\": [23], \"y\": [\"\\uc2e0\\uacbd\\uacfc\"]}, {\"marker\": {\"line\": {\"color\": \"rgb(248, 248, 249)\", \"width\": 1}}, \"orientation\": \"h\", \"type\": \"bar\", \"x\": [37], \"y\": [\"\\uc815\\uc2e0\\uacfc\"]}, {\"marker\": {\"line\": {\"color\": \"rgb(248, 248, 249)\", \"width\": 1}}, \"orientation\": \"h\", \"type\": \"bar\", \"x\": [66], \"y\": [\"\\uc678\\uacfc\"]}, {\"marker\": {\"line\": {\"color\": \"rgb(248, 248, 249)\", \"width\": 1}}, \"orientation\": \"h\", \"type\": \"bar\", \"x\": [75], \"y\": [\"\\uc815\\ud615\\uc678\\uacfc\"]}, {\"marker\": {\"line\": {\"color\": \"rgb(248, 248, 249)\", \"width\": 1}}, \"orientation\": \"h\", \"type\": \"bar\", \"x\": [29], \"y\": [\"\\uc2e0\\uacbd\\uc678\\uacfc\"]}, {\"marker\": {\"line\": {\"color\": \"rgb(248, 248, 249)\", \"width\": 1}}, \"orientation\": \"h\", \"type\": \"bar\", \"x\": [18], \"y\": [\"\\ud749\\ubd80\\uc678\\uacfc\"]}, {\"marker\": {\"line\": {\"color\": \"rgb(248, 248, 249)\", \"width\": 1}}, \"orientation\": \"h\", \"type\": \"bar\", \"x\": [27], \"y\": [\"\\uc131\\ud615\\uc678\\uacfc\"]}, {\"marker\": {\"line\": {\"color\": \"rgb(248, 248, 249)\", \"width\": 1}}, \"orientation\": \"h\", \"type\": \"bar\", \"x\": [54], \"y\": [\"\\ub9c8\\ucde8\\ud1b5\\uc99d\\uc758\\ud559\\uacfc\"]}, {\"marker\": {\"line\": {\"color\": \"rgb(248, 248, 249)\", \"width\": 1}}, \"orientation\": \"h\", \"type\": \"bar\", \"x\": [64], \"y\": [\"\\uc0b0\\ubd80\\uc778\\uacfc\"]}, {\"marker\": {\"line\": {\"color\": \"rgb(248, 248, 249)\", \"width\": 1}}, \"orientation\": \"h\", \"type\": \"bar\", \"x\": [64], \"y\": [\"\\uc18c\\uc544\\uacfc\"]}, {\"marker\": {\"line\": {\"color\": \"rgb(248, 248, 249)\", \"width\": 1}}, \"orientation\": \"h\", \"type\": \"bar\", \"x\": [40], \"y\": [\"\\uc548\\uacfc\"]}, {\"marker\": {\"line\": {\"color\": \"rgb(248, 248, 249)\", \"width\": 1}}, \"orientation\": \"h\", \"type\": \"bar\", \"x\": [44], \"y\": [\"\\uc774\\ube44\\uc778\\ud6c4\\uacfc\"]}, {\"marker\": {\"line\": {\"color\": \"rgb(248, 248, 249)\", \"width\": 1}}, \"orientation\": \"h\", \"type\": \"bar\", \"x\": [19], \"y\": [\"\\ud53c\\ubd80\\uacfc\"]}, {\"marker\": {\"line\": {\"color\": \"rgb(248, 248, 249)\", \"width\": 1}}, \"orientation\": \"h\", \"type\": \"bar\", \"x\": [26], \"y\": [\"\\ube44\\ub1e8\\uae30\\uacfc\"]}, {\"marker\": {\"line\": {\"color\": \"rgb(248, 248, 249)\", \"width\": 1}}, \"orientation\": \"h\", \"type\": \"bar\", \"x\": [34], \"y\": [\"\\uc9c4\\ub2e8\\ubc29\\uc0ac\\uc120\\uacfc\"]}, {\"marker\": {\"line\": {\"color\": \"rgb(248, 248, 249)\", \"width\": 1}}, \"orientation\": \"h\", \"type\": \"bar\", \"x\": [4], \"y\": [\"\\ubc29\\uc0ac\\uc120\\uc885\\uc591\\ud559\\uacfc\"]}, {\"marker\": {\"line\": {\"color\": \"rgb(248, 248, 249)\", \"width\": 1}}, \"orientation\": \"h\", \"type\": \"bar\", \"x\": [9], \"y\": [\"\\ubcd1\\ub9ac\\uacfc\"]}, {\"marker\": {\"line\": {\"color\": \"rgb(248, 248, 249)\", \"width\": 1}}, \"orientation\": \"h\", \"type\": \"bar\", \"x\": [10], \"y\": [\"\\uc9c4\\ub2e8\\uac80\\uc0ac\\uc758\\ud559\\uacfc\"]}, {\"marker\": {\"line\": {\"color\": \"rgb(248, 248, 249)\", \"width\": 1}}, \"orientation\": \"h\", \"type\": \"bar\", \"x\": [1], \"y\": [\"\\uacb0\\ud575\\uacfc\"]}, {\"marker\": {\"line\": {\"color\": \"rgb(248, 248, 249)\", \"width\": 1}}, \"orientation\": \"h\", \"type\": \"bar\", \"x\": [36], \"y\": [\"\\uc7ac\\ud65c\\uc758\\ud559\\uacfc\"]}, {\"marker\": {\"line\": {\"color\": \"rgb(248, 248, 249)\", \"width\": 1}}, \"orientation\": \"h\", \"type\": \"bar\", \"x\": [3], \"y\": [\"\\ud575\\uc758\\ud559\\uacfc\"]}, {\"marker\": {\"line\": {\"color\": \"rgb(248, 248, 249)\", \"width\": 1}}, \"orientation\": \"h\", \"type\": \"bar\", \"x\": [89], \"y\": [\"\\uac00\\uc815\\uc758\\ud559\\uacfc\"]}, {\"marker\": {\"line\": {\"color\": \"rgb(248, 248, 249)\", \"width\": 1}}, \"orientation\": \"h\", \"type\": \"bar\", \"x\": [45], \"y\": [\"\\uc751\\uae09\\uc758\\ud559\\uacfc\"]}, {\"marker\": {\"line\": {\"color\": \"rgb(248, 248, 249)\", \"width\": 1}}, \"orientation\": \"h\", \"type\": \"bar\", \"x\": [4], \"y\": [\"\\uc9c1\\uc5c5\\ud658\\uacbd\\uc758\\ud559\\uacfc\"]}, {\"marker\": {\"line\": {\"color\": \"rgb(248, 248, 249)\", \"width\": 1}}, \"orientation\": \"h\", \"type\": \"bar\", \"x\": [2], \"y\": [\"\\uc608\\ubc29\\uc758\\ud559\\uacfc\"]}],\n",
       "                        {\"annotations\": [{\"align\": \"right\", \"font\": {\"color\": \"rgb(67, 67, 67)\", \"family\": \"Arial\", \"size\": 7}, \"showarrow\": false, \"text\": \"\\ub0b4\\uacfc\", \"x\": 0.14, \"xanchor\": \"right\", \"xref\": \"paper\", \"y\": \"\\ub0b4\\uacfc\", \"yref\": \"y\"}, {\"align\": \"right\", \"font\": {\"color\": \"rgb(67, 67, 67)\", \"family\": \"Arial\", \"size\": 7}, \"showarrow\": false, \"text\": \"\\uc2e0\\uacbd\\uacfc\", \"x\": 0.14, \"xanchor\": \"right\", \"xref\": \"paper\", \"y\": \"\\uc2e0\\uacbd\\uacfc\", \"yref\": \"y\"}, {\"align\": \"right\", \"font\": {\"color\": \"rgb(67, 67, 67)\", \"family\": \"Arial\", \"size\": 7}, \"showarrow\": false, \"text\": \"\\uc815\\uc2e0\\uacfc\", \"x\": 0.14, \"xanchor\": \"right\", \"xref\": \"paper\", \"y\": \"\\uc815\\uc2e0\\uacfc\", \"yref\": \"y\"}, {\"align\": \"right\", \"font\": {\"color\": \"rgb(67, 67, 67)\", \"family\": \"Arial\", \"size\": 7}, \"showarrow\": false, \"text\": \"\\uc678\\uacfc\", \"x\": 0.14, \"xanchor\": \"right\", \"xref\": \"paper\", \"y\": \"\\uc678\\uacfc\", \"yref\": \"y\"}, {\"align\": \"right\", \"font\": {\"color\": \"rgb(67, 67, 67)\", \"family\": \"Arial\", \"size\": 7}, \"showarrow\": false, \"text\": \"\\uc815\\ud615\\uc678\\uacfc\", \"x\": 0.14, \"xanchor\": \"right\", \"xref\": \"paper\", \"y\": \"\\uc815\\ud615\\uc678\\uacfc\", \"yref\": \"y\"}, {\"align\": \"right\", \"font\": {\"color\": \"rgb(67, 67, 67)\", \"family\": \"Arial\", \"size\": 7}, \"showarrow\": false, \"text\": \"\\uc2e0\\uacbd\\uc678\\uacfc\", \"x\": 0.14, \"xanchor\": \"right\", \"xref\": \"paper\", \"y\": \"\\uc2e0\\uacbd\\uc678\\uacfc\", \"yref\": \"y\"}, {\"align\": \"right\", \"font\": {\"color\": \"rgb(67, 67, 67)\", \"family\": \"Arial\", \"size\": 7}, \"showarrow\": false, \"text\": \"\\ud749\\ubd80\\uc678\\uacfc\", \"x\": 0.14, \"xanchor\": \"right\", \"xref\": \"paper\", \"y\": \"\\ud749\\ubd80\\uc678\\uacfc\", \"yref\": \"y\"}, {\"align\": \"right\", \"font\": {\"color\": \"rgb(67, 67, 67)\", \"family\": \"Arial\", \"size\": 7}, \"showarrow\": false, \"text\": \"\\uc131\\ud615\\uc678\\uacfc\", \"x\": 0.14, \"xanchor\": \"right\", \"xref\": \"paper\", \"y\": \"\\uc131\\ud615\\uc678\\uacfc\", \"yref\": \"y\"}, {\"align\": \"right\", \"font\": {\"color\": \"rgb(67, 67, 67)\", \"family\": \"Arial\", \"size\": 7}, \"showarrow\": false, \"text\": \"\\ub9c8\\ucde8\\ud1b5\\uc99d\\uc758\\ud559\\uacfc\", \"x\": 0.14, \"xanchor\": \"right\", \"xref\": \"paper\", \"y\": \"\\ub9c8\\ucde8\\ud1b5\\uc99d\\uc758\\ud559\\uacfc\", \"yref\": \"y\"}, {\"align\": \"right\", \"font\": {\"color\": \"rgb(67, 67, 67)\", \"family\": \"Arial\", \"size\": 7}, \"showarrow\": false, \"text\": \"\\uc0b0\\ubd80\\uc778\\uacfc\", \"x\": 0.14, \"xanchor\": \"right\", \"xref\": \"paper\", \"y\": \"\\uc0b0\\ubd80\\uc778\\uacfc\", \"yref\": \"y\"}, {\"align\": \"right\", \"font\": {\"color\": \"rgb(67, 67, 67)\", \"family\": \"Arial\", \"size\": 7}, \"showarrow\": false, \"text\": \"\\uc18c\\uc544\\uacfc\", \"x\": 0.14, \"xanchor\": \"right\", \"xref\": \"paper\", \"y\": \"\\uc18c\\uc544\\uacfc\", \"yref\": \"y\"}, {\"align\": \"right\", \"font\": {\"color\": \"rgb(67, 67, 67)\", \"family\": \"Arial\", \"size\": 7}, \"showarrow\": false, \"text\": \"\\uc548\\uacfc\", \"x\": 0.14, \"xanchor\": \"right\", \"xref\": \"paper\", \"y\": \"\\uc548\\uacfc\", \"yref\": \"y\"}, {\"align\": \"right\", \"font\": {\"color\": \"rgb(67, 67, 67)\", \"family\": \"Arial\", \"size\": 7}, \"showarrow\": false, \"text\": \"\\uc774\\ube44\\uc778\\ud6c4\\uacfc\", \"x\": 0.14, \"xanchor\": \"right\", \"xref\": \"paper\", \"y\": \"\\uc774\\ube44\\uc778\\ud6c4\\uacfc\", \"yref\": \"y\"}, {\"align\": \"right\", \"font\": {\"color\": \"rgb(67, 67, 67)\", \"family\": \"Arial\", \"size\": 7}, \"showarrow\": false, \"text\": \"\\ud53c\\ubd80\\uacfc\", \"x\": 0.14, \"xanchor\": \"right\", \"xref\": \"paper\", \"y\": \"\\ud53c\\ubd80\\uacfc\", \"yref\": \"y\"}, {\"align\": \"right\", \"font\": {\"color\": \"rgb(67, 67, 67)\", \"family\": \"Arial\", \"size\": 7}, \"showarrow\": false, \"text\": \"\\ube44\\ub1e8\\uae30\\uacfc\", \"x\": 0.14, \"xanchor\": \"right\", \"xref\": \"paper\", \"y\": \"\\ube44\\ub1e8\\uae30\\uacfc\", \"yref\": \"y\"}, {\"align\": \"right\", \"font\": {\"color\": \"rgb(67, 67, 67)\", \"family\": \"Arial\", \"size\": 7}, \"showarrow\": false, \"text\": \"\\uc9c4\\ub2e8\\ubc29\\uc0ac\\uc120\\uacfc\", \"x\": 0.14, \"xanchor\": \"right\", \"xref\": \"paper\", \"y\": \"\\uc9c4\\ub2e8\\ubc29\\uc0ac\\uc120\\uacfc\", \"yref\": \"y\"}, {\"align\": \"right\", \"font\": {\"color\": \"rgb(67, 67, 67)\", \"family\": \"Arial\", \"size\": 7}, \"showarrow\": false, \"text\": \"\\ubc29\\uc0ac\\uc120\\uc885\\uc591\\ud559\\uacfc\", \"x\": 0.14, \"xanchor\": \"right\", \"xref\": \"paper\", \"y\": \"\\ubc29\\uc0ac\\uc120\\uc885\\uc591\\ud559\\uacfc\", \"yref\": \"y\"}, {\"align\": \"right\", \"font\": {\"color\": \"rgb(67, 67, 67)\", \"family\": \"Arial\", \"size\": 7}, \"showarrow\": false, \"text\": \"\\ubcd1\\ub9ac\\uacfc\", \"x\": 0.14, \"xanchor\": \"right\", \"xref\": \"paper\", \"y\": \"\\ubcd1\\ub9ac\\uacfc\", \"yref\": \"y\"}, {\"align\": \"right\", \"font\": {\"color\": \"rgb(67, 67, 67)\", \"family\": \"Arial\", \"size\": 7}, \"showarrow\": false, \"text\": \"\\uc9c4\\ub2e8\\uac80\\uc0ac\\uc758\\ud559\\uacfc\", \"x\": 0.14, \"xanchor\": \"right\", \"xref\": \"paper\", \"y\": \"\\uc9c4\\ub2e8\\uac80\\uc0ac\\uc758\\ud559\\uacfc\", \"yref\": \"y\"}, {\"align\": \"right\", \"font\": {\"color\": \"rgb(67, 67, 67)\", \"family\": \"Arial\", \"size\": 7}, \"showarrow\": false, \"text\": \"\\uacb0\\ud575\\uacfc\", \"x\": 0.14, \"xanchor\": \"right\", \"xref\": \"paper\", \"y\": \"\\uacb0\\ud575\\uacfc\", \"yref\": \"y\"}, {\"align\": \"right\", \"font\": {\"color\": \"rgb(67, 67, 67)\", \"family\": \"Arial\", \"size\": 7}, \"showarrow\": false, \"text\": \"\\uc7ac\\ud65c\\uc758\\ud559\\uacfc\", \"x\": 0.14, \"xanchor\": \"right\", \"xref\": \"paper\", \"y\": \"\\uc7ac\\ud65c\\uc758\\ud559\\uacfc\", \"yref\": \"y\"}, {\"align\": \"right\", \"font\": {\"color\": \"rgb(67, 67, 67)\", \"family\": \"Arial\", \"size\": 7}, \"showarrow\": false, \"text\": \"\\ud575\\uc758\\ud559\\uacfc\", \"x\": 0.14, \"xanchor\": \"right\", \"xref\": \"paper\", \"y\": \"\\ud575\\uc758\\ud559\\uacfc\", \"yref\": \"y\"}, {\"align\": \"right\", \"font\": {\"color\": \"rgb(67, 67, 67)\", \"family\": \"Arial\", \"size\": 7}, \"showarrow\": false, \"text\": \"\\uac00\\uc815\\uc758\\ud559\\uacfc\", \"x\": 0.14, \"xanchor\": \"right\", \"xref\": \"paper\", \"y\": \"\\uac00\\uc815\\uc758\\ud559\\uacfc\", \"yref\": \"y\"}, {\"align\": \"right\", \"font\": {\"color\": \"rgb(67, 67, 67)\", \"family\": \"Arial\", \"size\": 7}, \"showarrow\": false, \"text\": \"\\uc751\\uae09\\uc758\\ud559\\uacfc\", \"x\": 0.14, \"xanchor\": \"right\", \"xref\": \"paper\", \"y\": \"\\uc751\\uae09\\uc758\\ud559\\uacfc\", \"yref\": \"y\"}, {\"align\": \"right\", \"font\": {\"color\": \"rgb(67, 67, 67)\", \"family\": \"Arial\", \"size\": 7}, \"showarrow\": false, \"text\": \"\\uc9c1\\uc5c5\\ud658\\uacbd\\uc758\\ud559\\uacfc\", \"x\": 0.14, \"xanchor\": \"right\", \"xref\": \"paper\", \"y\": \"\\uc9c1\\uc5c5\\ud658\\uacbd\\uc758\\ud559\\uacfc\", \"yref\": \"y\"}, {\"align\": \"right\", \"font\": {\"color\": \"rgb(67, 67, 67)\", \"family\": \"Arial\", \"size\": 7}, \"showarrow\": false, \"text\": \"\\uc608\\ubc29\\uc758\\ud559\\uacfc\", \"x\": 0.14, \"xanchor\": \"right\", \"xref\": \"paper\", \"y\": \"\\uc608\\ubc29\\uc758\\ud559\\uacfc\", \"yref\": \"y\"}], \"barmode\": \"stack\", \"height\": 1200, \"margin\": {\"l\": 0}, \"paper_bgcolor\": \"rgb(248, 248, 255)\", \"plot_bgcolor\": \"rgb(248, 248, 255)\", \"showlegend\": false, \"template\": {\"data\": {\"bar\": [{\"error_x\": {\"color\": \"#2a3f5f\"}, \"error_y\": {\"color\": \"#2a3f5f\"}, \"marker\": {\"line\": {\"color\": \"#E5ECF6\", \"width\": 0.5}}, \"type\": \"bar\"}], \"barpolar\": [{\"marker\": {\"line\": {\"color\": \"#E5ECF6\", \"width\": 0.5}}, \"type\": \"barpolar\"}], \"carpet\": [{\"aaxis\": {\"endlinecolor\": \"#2a3f5f\", \"gridcolor\": \"white\", \"linecolor\": \"white\", \"minorgridcolor\": \"white\", \"startlinecolor\": \"#2a3f5f\"}, \"baxis\": {\"endlinecolor\": \"#2a3f5f\", \"gridcolor\": \"white\", \"linecolor\": \"white\", \"minorgridcolor\": \"white\", \"startlinecolor\": \"#2a3f5f\"}, \"type\": \"carpet\"}], \"choropleth\": [{\"colorbar\": {\"outlinewidth\": 0, \"ticks\": \"\"}, \"type\": \"choropleth\"}], \"contour\": [{\"colorbar\": {\"outlinewidth\": 0, \"ticks\": \"\"}, \"colorscale\": [[0.0, \"#0d0887\"], [0.1111111111111111, \"#46039f\"], [0.2222222222222222, \"#7201a8\"], [0.3333333333333333, \"#9c179e\"], [0.4444444444444444, \"#bd3786\"], [0.5555555555555556, \"#d8576b\"], [0.6666666666666666, \"#ed7953\"], [0.7777777777777778, \"#fb9f3a\"], [0.8888888888888888, \"#fdca26\"], [1.0, \"#f0f921\"]], \"type\": \"contour\"}], \"contourcarpet\": [{\"colorbar\": {\"outlinewidth\": 0, \"ticks\": \"\"}, \"type\": \"contourcarpet\"}], \"heatmap\": [{\"colorbar\": {\"outlinewidth\": 0, \"ticks\": \"\"}, \"colorscale\": [[0.0, \"#0d0887\"], [0.1111111111111111, \"#46039f\"], [0.2222222222222222, \"#7201a8\"], [0.3333333333333333, \"#9c179e\"], [0.4444444444444444, \"#bd3786\"], [0.5555555555555556, \"#d8576b\"], [0.6666666666666666, \"#ed7953\"], [0.7777777777777778, \"#fb9f3a\"], [0.8888888888888888, \"#fdca26\"], [1.0, \"#f0f921\"]], \"type\": \"heatmap\"}], \"heatmapgl\": [{\"colorbar\": {\"outlinewidth\": 0, \"ticks\": \"\"}, \"colorscale\": [[0.0, \"#0d0887\"], [0.1111111111111111, \"#46039f\"], [0.2222222222222222, \"#7201a8\"], [0.3333333333333333, \"#9c179e\"], [0.4444444444444444, \"#bd3786\"], [0.5555555555555556, \"#d8576b\"], [0.6666666666666666, \"#ed7953\"], [0.7777777777777778, \"#fb9f3a\"], [0.8888888888888888, \"#fdca26\"], [1.0, \"#f0f921\"]], \"type\": \"heatmapgl\"}], \"histogram\": [{\"marker\": {\"colorbar\": {\"outlinewidth\": 0, \"ticks\": \"\"}}, \"type\": \"histogram\"}], \"histogram2d\": [{\"colorbar\": {\"outlinewidth\": 0, \"ticks\": \"\"}, \"colorscale\": [[0.0, \"#0d0887\"], [0.1111111111111111, \"#46039f\"], [0.2222222222222222, \"#7201a8\"], [0.3333333333333333, \"#9c179e\"], [0.4444444444444444, \"#bd3786\"], [0.5555555555555556, \"#d8576b\"], [0.6666666666666666, \"#ed7953\"], [0.7777777777777778, \"#fb9f3a\"], [0.8888888888888888, \"#fdca26\"], [1.0, \"#f0f921\"]], \"type\": \"histogram2d\"}], \"histogram2dcontour\": [{\"colorbar\": {\"outlinewidth\": 0, \"ticks\": \"\"}, \"colorscale\": [[0.0, \"#0d0887\"], [0.1111111111111111, \"#46039f\"], [0.2222222222222222, \"#7201a8\"], [0.3333333333333333, \"#9c179e\"], [0.4444444444444444, \"#bd3786\"], [0.5555555555555556, \"#d8576b\"], [0.6666666666666666, \"#ed7953\"], [0.7777777777777778, \"#fb9f3a\"], [0.8888888888888888, \"#fdca26\"], [1.0, \"#f0f921\"]], \"type\": \"histogram2dcontour\"}], \"mesh3d\": [{\"colorbar\": {\"outlinewidth\": 0, \"ticks\": \"\"}, \"type\": \"mesh3d\"}], \"parcoords\": [{\"line\": {\"colorbar\": {\"outlinewidth\": 0, \"ticks\": \"\"}}, \"type\": \"parcoords\"}], \"pie\": [{\"automargin\": true, \"type\": \"pie\"}], \"scatter\": [{\"marker\": {\"colorbar\": {\"outlinewidth\": 0, \"ticks\": \"\"}}, \"type\": \"scatter\"}], \"scatter3d\": [{\"line\": {\"colorbar\": {\"outlinewidth\": 0, \"ticks\": \"\"}}, \"marker\": {\"colorbar\": {\"outlinewidth\": 0, \"ticks\": \"\"}}, \"type\": \"scatter3d\"}], \"scattercarpet\": [{\"marker\": {\"colorbar\": {\"outlinewidth\": 0, \"ticks\": \"\"}}, \"type\": \"scattercarpet\"}], \"scattergeo\": [{\"marker\": {\"colorbar\": {\"outlinewidth\": 0, \"ticks\": \"\"}}, \"type\": \"scattergeo\"}], \"scattergl\": [{\"marker\": {\"colorbar\": {\"outlinewidth\": 0, \"ticks\": \"\"}}, \"type\": \"scattergl\"}], \"scattermapbox\": [{\"marker\": {\"colorbar\": {\"outlinewidth\": 0, \"ticks\": \"\"}}, \"type\": \"scattermapbox\"}], \"scatterpolar\": [{\"marker\": {\"colorbar\": {\"outlinewidth\": 0, \"ticks\": \"\"}}, \"type\": \"scatterpolar\"}], \"scatterpolargl\": [{\"marker\": {\"colorbar\": {\"outlinewidth\": 0, \"ticks\": \"\"}}, \"type\": \"scatterpolargl\"}], \"scatterternary\": [{\"marker\": {\"colorbar\": {\"outlinewidth\": 0, \"ticks\": \"\"}}, \"type\": \"scatterternary\"}], \"surface\": [{\"colorbar\": {\"outlinewidth\": 0, \"ticks\": \"\"}, \"colorscale\": [[0.0, \"#0d0887\"], [0.1111111111111111, \"#46039f\"], [0.2222222222222222, \"#7201a8\"], [0.3333333333333333, \"#9c179e\"], [0.4444444444444444, \"#bd3786\"], [0.5555555555555556, \"#d8576b\"], [0.6666666666666666, \"#ed7953\"], [0.7777777777777778, \"#fb9f3a\"], [0.8888888888888888, \"#fdca26\"], [1.0, \"#f0f921\"]], \"type\": \"surface\"}], \"table\": [{\"cells\": {\"fill\": {\"color\": \"#EBF0F8\"}, \"line\": {\"color\": \"white\"}}, \"header\": {\"fill\": {\"color\": \"#C8D4E3\"}, \"line\": {\"color\": \"white\"}}, \"type\": \"table\"}]}, \"layout\": {\"annotationdefaults\": {\"arrowcolor\": \"#2a3f5f\", \"arrowhead\": 0, \"arrowwidth\": 1}, \"coloraxis\": {\"colorbar\": {\"outlinewidth\": 0, \"ticks\": \"\"}}, \"colorscale\": {\"diverging\": [[0, \"#8e0152\"], [0.1, \"#c51b7d\"], [0.2, \"#de77ae\"], [0.3, \"#f1b6da\"], [0.4, \"#fde0ef\"], [0.5, \"#f7f7f7\"], [0.6, \"#e6f5d0\"], [0.7, \"#b8e186\"], [0.8, \"#7fbc41\"], [0.9, \"#4d9221\"], [1, \"#276419\"]], \"sequential\": [[0.0, \"#0d0887\"], [0.1111111111111111, \"#46039f\"], [0.2222222222222222, \"#7201a8\"], [0.3333333333333333, \"#9c179e\"], [0.4444444444444444, \"#bd3786\"], [0.5555555555555556, \"#d8576b\"], [0.6666666666666666, \"#ed7953\"], [0.7777777777777778, \"#fb9f3a\"], [0.8888888888888888, \"#fdca26\"], [1.0, \"#f0f921\"]], \"sequentialminus\": [[0.0, \"#0d0887\"], [0.1111111111111111, \"#46039f\"], [0.2222222222222222, \"#7201a8\"], [0.3333333333333333, \"#9c179e\"], [0.4444444444444444, \"#bd3786\"], [0.5555555555555556, \"#d8576b\"], [0.6666666666666666, \"#ed7953\"], [0.7777777777777778, \"#fb9f3a\"], [0.8888888888888888, \"#fdca26\"], [1.0, \"#f0f921\"]]}, \"colorway\": [\"#636efa\", \"#EF553B\", \"#00cc96\", \"#ab63fa\", \"#FFA15A\", \"#19d3f3\", \"#FF6692\", \"#B6E880\", \"#FF97FF\", \"#FECB52\"], \"font\": {\"color\": \"#2a3f5f\"}, \"geo\": {\"bgcolor\": \"white\", \"lakecolor\": \"white\", \"landcolor\": \"#E5ECF6\", \"showlakes\": true, \"showland\": true, \"subunitcolor\": \"white\"}, \"hoverlabel\": {\"align\": \"left\"}, \"hovermode\": \"closest\", \"mapbox\": {\"style\": \"light\"}, \"paper_bgcolor\": \"white\", \"plot_bgcolor\": \"#E5ECF6\", \"polar\": {\"angularaxis\": {\"gridcolor\": \"white\", \"linecolor\": \"white\", \"ticks\": \"\"}, \"bgcolor\": \"#E5ECF6\", \"radialaxis\": {\"gridcolor\": \"white\", \"linecolor\": \"white\", \"ticks\": \"\"}}, \"scene\": {\"xaxis\": {\"backgroundcolor\": \"#E5ECF6\", \"gridcolor\": \"white\", \"gridwidth\": 2, \"linecolor\": \"white\", \"showbackground\": true, \"ticks\": \"\", \"zerolinecolor\": \"white\"}, \"yaxis\": {\"backgroundcolor\": \"#E5ECF6\", \"gridcolor\": \"white\", \"gridwidth\": 2, \"linecolor\": \"white\", \"showbackground\": true, \"ticks\": \"\", \"zerolinecolor\": \"white\"}, \"zaxis\": {\"backgroundcolor\": \"#E5ECF6\", \"gridcolor\": \"white\", \"gridwidth\": 2, \"linecolor\": \"white\", \"showbackground\": true, \"ticks\": \"\", \"zerolinecolor\": \"white\"}}, \"shapedefaults\": {\"line\": {\"color\": \"#2a3f5f\"}}, \"ternary\": {\"aaxis\": {\"gridcolor\": \"white\", \"linecolor\": \"white\", \"ticks\": \"\"}, \"baxis\": {\"gridcolor\": \"white\", \"linecolor\": \"white\", \"ticks\": \"\"}, \"bgcolor\": \"#E5ECF6\", \"caxis\": {\"gridcolor\": \"white\", \"linecolor\": \"white\", \"ticks\": \"\"}}, \"title\": {\"x\": 0.05}, \"xaxis\": {\"automargin\": true, \"gridcolor\": \"white\", \"linecolor\": \"white\", \"ticks\": \"\", \"title\": {\"standoff\": 15}, \"zerolinecolor\": \"white\", \"zerolinewidth\": 2}, \"yaxis\": {\"automargin\": true, \"gridcolor\": \"white\", \"linecolor\": \"white\", \"ticks\": \"\", \"title\": {\"standoff\": 15}, \"zerolinecolor\": \"white\", \"zerolinewidth\": 2}}}, \"xaxis\": {\"domain\": [0.15, 1], \"showgrid\": false, \"showline\": false, \"showticklabels\": false, \"zeroline\": false}, \"yaxis\": {\"showgrid\": false, \"showline\": false, \"showticklabels\": false, \"zeroline\": false}},\n",
       "                        {\"responsive\": true}\n",
       "                    ).then(function(){\n",
       "                            \n",
       "var gd = document.getElementById('7c87ac81-2d19-46f9-bf20-c5aa8856d7e7');\n",
       "var x = new MutationObserver(function (mutations, observer) {{\n",
       "        var display = window.getComputedStyle(gd).display;\n",
       "        if (!display || display === 'none') {{\n",
       "            console.log([gd, 'removed!']);\n",
       "            Plotly.purge(gd);\n",
       "            observer.disconnect();\n",
       "        }}\n",
       "}});\n",
       "\n",
       "// Listen for the removal of the full notebook cells\n",
       "var notebookContainer = gd.closest('#notebook-container');\n",
       "if (notebookContainer) {{\n",
       "    x.observe(notebookContainer, {childList: true});\n",
       "}}\n",
       "\n",
       "// Listen for the clearing of the current output cell\n",
       "var outputEl = gd.closest('.output');\n",
       "if (outputEl) {{\n",
       "    x.observe(outputEl, {childList: true});\n",
       "}}\n",
       "\n",
       "                        })\n",
       "                };\n",
       "                });\n",
       "            </script>\n",
       "        </div>"
      ]
     },
     "metadata": {},
     "output_type": "display_data"
    }
   ],
   "source": [
    "def makeFigure(year):\n",
    "    top_labels =  dataDict[year].columns\n",
    "\n",
    "    x_data = np.array(dataDict[year])\n",
    "\n",
    "    y_data = dataDict[year].index\n",
    "\n",
    "    print(y_data)\n",
    "\n",
    "    fig = go.Figure()\n",
    "\n",
    "    for i in range(0, len(x_data[0])):\n",
    "        for xd, yd in zip(x_data, y_data):\n",
    "            fig.add_trace(go.Bar(\n",
    "                x=[xd[i]], y=[yd],\n",
    "                orientation='h',\n",
    "                marker=dict(\n",
    "                    line=dict(color='rgb(248, 248, 249)', width=1)\n",
    "                )\n",
    "            ))\n",
    "\n",
    "    fig.update_layout(\n",
    "        height=1200,\n",
    "        xaxis=dict(\n",
    "            showgrid=False,\n",
    "            showline=False,\n",
    "            showticklabels=False,\n",
    "            zeroline=False,\n",
    "            domain=[0.15, 1]\n",
    "        ),\n",
    "        yaxis=dict(\n",
    "            showgrid=False,\n",
    "            showline=False,\n",
    "            showticklabels=False,\n",
    "            zeroline=False,\n",
    "        ),\n",
    "        barmode='stack',\n",
    "        paper_bgcolor='rgb(248, 248, 255)',\n",
    "        plot_bgcolor='rgb(248, 248, 255)',\n",
    "        margin=dict(l=0),\n",
    "        showlegend=False,\n",
    "    )\n",
    "\n",
    "    annotations = []\n",
    "\n",
    "    for yd, xd in zip(y_data, x_data):\n",
    "        # labeling the y-axis\n",
    "        annotations.append(dict(xref='paper', yref='y',\n",
    "                                x=0.14, y=yd,\n",
    "                                xanchor='right',\n",
    "                                text=str(yd),\n",
    "                                font=dict(family='Arial', size=11,\n",
    "                                          color='rgb(67, 67, 67)'),\n",
    "                                showarrow=False, align='right'))\n",
    "\n",
    "        space = xd[0]\n",
    "        for i in range(1, len(xd)):\n",
    "                space += xd[i]\n",
    "\n",
    "    fig.update_layout(annotations=annotations)\n",
    "    \n",
    "    return fig\n",
    "\n",
    "makeFigure('2018').show()"
   ]
  },
  {
   "cell_type": "code",
   "execution_count": null,
   "metadata": {},
   "outputs": [
    {
     "name": "stdout",
     "output_type": "stream",
     "text": [
      "Dash is running on http://127.0.0.1:8050/\n",
      "\n",
      "Dash is running on http://127.0.0.1:8050/\n",
      "\n",
      "Dash is running on http://127.0.0.1:8050/\n",
      "\n",
      "Dash is running on http://127.0.0.1:8050/\n",
      "\n",
      "Dash is running on http://127.0.0.1:8050/\n",
      "\n",
      "Dash is running on http://127.0.0.1:8050/\n",
      "\n",
      "Dash is running on http://127.0.0.1:8050/\n",
      "\n",
      "Dash is running on http://127.0.0.1:8050/\n",
      "\n",
      "Dash is running on http://127.0.0.1:8050/\n",
      "\n",
      "Dash is running on http://127.0.0.1:8050/\n",
      "\n",
      "Dash is running on http://127.0.0.1:8050/\n",
      "\n",
      "Dash is running on http://127.0.0.1:8050/\n",
      "\n",
      "Dash is running on http://127.0.0.1:8050/\n",
      "\n",
      "Dash is running on http://127.0.0.1:8050/\n",
      "\n",
      " Warning: This is a development server. Do not use app.run_server\n",
      " Warning: This is a development server. Do not use app.run_server\n",
      " Warning: This is a development server. Do not use app.run_server\n",
      " Warning: This is a development server. Do not use app.run_server\n",
      " Warning: This is a development server. Do not use app.run_server\n",
      " Warning: This is a development server. Do not use app.run_server\n",
      " Warning: This is a development server. Do not use app.run_server\n",
      " Warning: This is a development server. Do not use app.run_server\n",
      " Warning: This is a development server. Do not use app.run_server\n",
      " Warning: This is a development server. Do not use app.run_server\n",
      " Warning: This is a development server. Do not use app.run_server\n",
      " Warning: This is a development server. Do not use app.run_server\n",
      " Warning: This is a development server. Do not use app.run_server\n",
      " Warning: This is a development server. Do not use app.run_server\n",
      " in production, use a production WSGI server like gunicorn instead.\n",
      "\n",
      " in production, use a production WSGI server like gunicorn instead.\n",
      "\n",
      " in production, use a production WSGI server like gunicorn instead.\n",
      "\n",
      " in production, use a production WSGI server like gunicorn instead.\n",
      "\n",
      " in production, use a production WSGI server like gunicorn instead.\n",
      "\n",
      " in production, use a production WSGI server like gunicorn instead.\n",
      "\n",
      " in production, use a production WSGI server like gunicorn instead.\n",
      "\n",
      " in production, use a production WSGI server like gunicorn instead.\n",
      "\n",
      " in production, use a production WSGI server like gunicorn instead.\n",
      "\n",
      " in production, use a production WSGI server like gunicorn instead.\n",
      "\n",
      " in production, use a production WSGI server like gunicorn instead.\n",
      "\n",
      " in production, use a production WSGI server like gunicorn instead.\n",
      "\n",
      " in production, use a production WSGI server like gunicorn instead.\n",
      "\n",
      " in production, use a production WSGI server like gunicorn instead.\n",
      "\n",
      " * Serving Flask app \"__main__\" (lazy loading)\n",
      " * Environment: production\n",
      "   WARNING: This is a development server. Do not use it in a production deployment.\n",
      "   Use a production WSGI server instead.\n",
      " * Debug mode: off\n",
      "Index(['내과', '신경과', '정신과', '외과', '정형외과', '신경외과', '흉부외과', '성형외과', '마취통증의학과',\n",
      "       '산부인과', '소아과', '안과', '이비인후과', '피부과', '비뇨기과', '진단방사선과', '방사선종양학과', '병리과',\n",
      "       '진단검사의학과', '결핵과', '재활의학과', '핵의학과', '가정의학과', '응급의학과', '직업환경의학과',\n",
      "       '예방의학과'],\n",
      "      dtype='object', name='과목')\n"
     ]
    }
   ],
   "source": [
    "external_stylesheets = ['https://codepen.io/chriddyp/pen/bWLwgP.css']\n",
    "\n",
    "app = dash.Dash(__name__, external_stylesheets=external_stylesheets)\n",
    "\n",
    "app.layout = html.Div([\n",
    "\n",
    "    dcc.Graph(id='indicator-graphic'),\n",
    "\n",
    "    dcc.Slider(\n",
    "        id='year--slider',\n",
    "        min=2005,\n",
    "        max=2018,\n",
    "        value=2018,\n",
    "        marks={i: '{}'.format(i) for i in range(2005,2019)},\n",
    "        step=1\n",
    "    )\n",
    "])\n",
    "\n",
    "@app.callback(\n",
    "    Output('indicator-graphic', 'figure'),\n",
    "    [Input('year--slider', 'value')])\n",
    "def update_graph(year_value):\n",
    "    return makeFigure(str(year_value))\n",
    "\n",
    "\n",
    "if __name__ == '__main__':\n",
    "    app.run_server(debug=False)"
   ]
  },
  {
   "cell_type": "code",
   "execution_count": null,
   "metadata": {},
   "outputs": [],
   "source": []
  }
 ],
 "metadata": {
  "kernelspec": {
   "display_name": "Python 3",
   "language": "python",
   "name": "python3"
  },
  "language_info": {
   "codemirror_mode": {
    "name": "ipython",
    "version": 3
   },
   "file_extension": ".py",
   "mimetype": "text/x-python",
   "name": "python",
   "nbconvert_exporter": "python",
   "pygments_lexer": "ipython3",
<<<<<<< HEAD
   "version": "3.8.5"
=======
   "version": "3.7.7"
>>>>>>> 7f790ecd61016e90fc918d8d4c8ff979d98d22d6
  }
 },
 "nbformat": 4,
 "nbformat_minor": 4
}
