{
 "cells": [
  {
   "cell_type": "code",
   "execution_count": 2,
   "metadata": {},
   "outputs": [],
   "source": [
    "import pymongo\n",
    "from pymongo import MongoClient\n",
    "import pandas as pd"
   ]
  },
  {
   "cell_type": "code",
   "execution_count": 3,
   "metadata": {},
   "outputs": [],
   "source": [
    "# DB 연결\n",
    "myclient = MongoClient('218.150.247.209:2017',\n",
    "                       username='unsik',\n",
    "                       password='next1004',\n",
    "                       authSource='admin',\n",
    "                       authMechanism='SCRAM-SHA-256')"
   ]
  },
  {
   "cell_type": "code",
   "execution_count": 4,
   "metadata": {},
   "outputs": [],
   "source": [
    "# DB 객체 불러오기 / DB가 없으면 생성\n",
    "newDB = myclient['TestDB']"
   ]
  },
  {
   "cell_type": "code",
   "execution_count": 5,
   "metadata": {},
   "outputs": [],
   "source": [
    "# 컬렉션 객체 불러오기 / 컬렉션이 없으면 생성\n",
    "newCollection = newDB['TestCollection']"
   ]
  },
  {
   "cell_type": "code",
   "execution_count": 6,
   "metadata": {},
   "outputs": [],
   "source": [
    "local_doc = pd.read_excel('data/local_doc_1000.xlsx',thousands = ',')\n",
    "mayjor_doc =  pd.read_excel('data/mayjor_doc.xlsx',thousands = ',')"
   ]
  },
  {
   "cell_type": "code",
   "execution_count": 7,
   "metadata": {},
   "outputs": [
    {
     "data": {
      "text/html": [
       "<div>\n",
       "<style scoped>\n",
       "    .dataframe tbody tr th:only-of-type {\n",
       "        vertical-align: middle;\n",
       "    }\n",
       "\n",
       "    .dataframe tbody tr th {\n",
       "        vertical-align: top;\n",
       "    }\n",
       "\n",
       "    .dataframe thead th {\n",
       "        text-align: right;\n",
       "    }\n",
       "</style>\n",
       "<table border=\"1\" class=\"dataframe\">\n",
       "  <thead>\n",
       "    <tr style=\"text-align: right;\">\n",
       "      <th></th>\n",
       "      <th>year</th>\n",
       "      <th>합계</th>\n",
       "      <th>서울</th>\n",
       "      <th>부산</th>\n",
       "      <th>대구</th>\n",
       "      <th>인천</th>\n",
       "      <th>광주</th>\n",
       "      <th>대전</th>\n",
       "      <th>울산</th>\n",
       "      <th>세종</th>\n",
       "      <th>경기</th>\n",
       "      <th>강원</th>\n",
       "      <th>충북</th>\n",
       "      <th>충남</th>\n",
       "      <th>전북</th>\n",
       "      <th>전남</th>\n",
       "      <th>경북</th>\n",
       "      <th>경남</th>\n",
       "      <th>제주</th>\n",
       "    </tr>\n",
       "  </thead>\n",
       "  <tbody>\n",
       "    <tr>\n",
       "      <th>0</th>\n",
       "      <td>2013</td>\n",
       "      <td>1.773708</td>\n",
       "      <td>2.667187</td>\n",
       "      <td>2.027421</td>\n",
       "      <td>2.044301</td>\n",
       "      <td>1.366770</td>\n",
       "      <td>2.112824</td>\n",
       "      <td>2.117678</td>\n",
       "      <td>1.296175</td>\n",
       "      <td>0.785900</td>\n",
       "      <td>1.396773</td>\n",
       "      <td>1.558100</td>\n",
       "      <td>1.389938</td>\n",
       "      <td>1.350829</td>\n",
       "      <td>1.750700</td>\n",
       "      <td>1.500127</td>\n",
       "      <td>1.245443</td>\n",
       "      <td>1.383998</td>\n",
       "      <td>1.583009</td>\n",
       "    </tr>\n",
       "    <tr>\n",
       "      <th>1</th>\n",
       "      <td>2014</td>\n",
       "      <td>1.810457</td>\n",
       "      <td>2.718437</td>\n",
       "      <td>2.085866</td>\n",
       "      <td>2.083614</td>\n",
       "      <td>1.435605</td>\n",
       "      <td>2.164127</td>\n",
       "      <td>2.158885</td>\n",
       "      <td>1.322043</td>\n",
       "      <td>0.794235</td>\n",
       "      <td>1.419586</td>\n",
       "      <td>1.603815</td>\n",
       "      <td>1.423113</td>\n",
       "      <td>1.384395</td>\n",
       "      <td>1.790485</td>\n",
       "      <td>1.514865</td>\n",
       "      <td>1.282586</td>\n",
       "      <td>1.434815</td>\n",
       "      <td>1.582294</td>\n",
       "    </tr>\n",
       "    <tr>\n",
       "      <th>2</th>\n",
       "      <td>2015</td>\n",
       "      <td>1.845085</td>\n",
       "      <td>2.766464</td>\n",
       "      <td>2.145270</td>\n",
       "      <td>2.144440</td>\n",
       "      <td>1.487107</td>\n",
       "      <td>2.236111</td>\n",
       "      <td>2.237988</td>\n",
       "      <td>1.391523</td>\n",
       "      <td>0.753969</td>\n",
       "      <td>1.445785</td>\n",
       "      <td>1.625678</td>\n",
       "      <td>1.460903</td>\n",
       "      <td>1.403028</td>\n",
       "      <td>1.859111</td>\n",
       "      <td>1.543220</td>\n",
       "      <td>1.270152</td>\n",
       "      <td>1.460456</td>\n",
       "      <td>1.635183</td>\n",
       "    </tr>\n",
       "    <tr>\n",
       "      <th>3</th>\n",
       "      <td>2016</td>\n",
       "      <td>1.890138</td>\n",
       "      <td>2.838595</td>\n",
       "      <td>2.182917</td>\n",
       "      <td>2.211662</td>\n",
       "      <td>1.518483</td>\n",
       "      <td>2.337304</td>\n",
       "      <td>2.281477</td>\n",
       "      <td>1.451842</td>\n",
       "      <td>0.740594</td>\n",
       "      <td>1.481979</td>\n",
       "      <td>1.660427</td>\n",
       "      <td>1.500982</td>\n",
       "      <td>1.428417</td>\n",
       "      <td>1.888684</td>\n",
       "      <td>1.597761</td>\n",
       "      <td>1.301660</td>\n",
       "      <td>1.547481</td>\n",
       "      <td>1.631865</td>\n",
       "    </tr>\n",
       "    <tr>\n",
       "      <th>4</th>\n",
       "      <td>2017</td>\n",
       "      <td>1.935956</td>\n",
       "      <td>2.916177</td>\n",
       "      <td>2.228687</td>\n",
       "      <td>2.243023</td>\n",
       "      <td>1.588582</td>\n",
       "      <td>2.389037</td>\n",
       "      <td>2.359830</td>\n",
       "      <td>1.483952</td>\n",
       "      <td>0.853267</td>\n",
       "      <td>1.525723</td>\n",
       "      <td>1.695974</td>\n",
       "      <td>1.515900</td>\n",
       "      <td>1.459299</td>\n",
       "      <td>1.940034</td>\n",
       "      <td>1.628855</td>\n",
       "      <td>1.332612</td>\n",
       "      <td>1.582947</td>\n",
       "      <td>1.692328</td>\n",
       "    </tr>\n",
       "    <tr>\n",
       "      <th>5</th>\n",
       "      <td>2018</td>\n",
       "      <td>1.977210</td>\n",
       "      <td>3.008308</td>\n",
       "      <td>2.281594</td>\n",
       "      <td>2.323939</td>\n",
       "      <td>1.656038</td>\n",
       "      <td>2.430557</td>\n",
       "      <td>2.435675</td>\n",
       "      <td>1.493567</td>\n",
       "      <td>0.859528</td>\n",
       "      <td>1.556531</td>\n",
       "      <td>1.724504</td>\n",
       "      <td>1.545723</td>\n",
       "      <td>1.464528</td>\n",
       "      <td>1.970240</td>\n",
       "      <td>1.638900</td>\n",
       "      <td>1.351972</td>\n",
       "      <td>1.598109</td>\n",
       "      <td>1.704160</td>\n",
       "    </tr>\n",
       "    <tr>\n",
       "      <th>6</th>\n",
       "      <td>2019</td>\n",
       "      <td>2.037190</td>\n",
       "      <td>3.120430</td>\n",
       "      <td>2.345745</td>\n",
       "      <td>2.423267</td>\n",
       "      <td>1.714899</td>\n",
       "      <td>2.511555</td>\n",
       "      <td>2.526324</td>\n",
       "      <td>1.527849</td>\n",
       "      <td>0.886736</td>\n",
       "      <td>1.602004</td>\n",
       "      <td>1.763864</td>\n",
       "      <td>1.580618</td>\n",
       "      <td>1.505856</td>\n",
       "      <td>2.028130</td>\n",
       "      <td>1.673851</td>\n",
       "      <td>1.373678</td>\n",
       "      <td>1.645179</td>\n",
       "      <td>1.751146</td>\n",
       "    </tr>\n",
       "    <tr>\n",
       "      <th>7</th>\n",
       "      <td>2020</td>\n",
       "      <td>2.081946</td>\n",
       "      <td>3.213453</td>\n",
       "      <td>2.401890</td>\n",
       "      <td>2.463113</td>\n",
       "      <td>1.753700</td>\n",
       "      <td>2.540309</td>\n",
       "      <td>2.554050</td>\n",
       "      <td>1.544317</td>\n",
       "      <td>0.935974</td>\n",
       "      <td>1.649800</td>\n",
       "      <td>1.803089</td>\n",
       "      <td>1.595583</td>\n",
       "      <td>1.526513</td>\n",
       "      <td>2.031438</td>\n",
       "      <td>1.699258</td>\n",
       "      <td>1.382845</td>\n",
       "      <td>1.677045</td>\n",
       "      <td>1.757558</td>\n",
       "    </tr>\n",
       "  </tbody>\n",
       "</table>\n",
       "</div>"
      ],
      "text/plain": [
       "   year        합계        서울        부산        대구        인천        광주        대전  \\\n",
       "0  2013  1.773708  2.667187  2.027421  2.044301  1.366770  2.112824  2.117678   \n",
       "1  2014  1.810457  2.718437  2.085866  2.083614  1.435605  2.164127  2.158885   \n",
       "2  2015  1.845085  2.766464  2.145270  2.144440  1.487107  2.236111  2.237988   \n",
       "3  2016  1.890138  2.838595  2.182917  2.211662  1.518483  2.337304  2.281477   \n",
       "4  2017  1.935956  2.916177  2.228687  2.243023  1.588582  2.389037  2.359830   \n",
       "5  2018  1.977210  3.008308  2.281594  2.323939  1.656038  2.430557  2.435675   \n",
       "6  2019  2.037190  3.120430  2.345745  2.423267  1.714899  2.511555  2.526324   \n",
       "7  2020  2.081946  3.213453  2.401890  2.463113  1.753700  2.540309  2.554050   \n",
       "\n",
       "         울산        세종        경기        강원        충북        충남        전북  \\\n",
       "0  1.296175  0.785900  1.396773  1.558100  1.389938  1.350829  1.750700   \n",
       "1  1.322043  0.794235  1.419586  1.603815  1.423113  1.384395  1.790485   \n",
       "2  1.391523  0.753969  1.445785  1.625678  1.460903  1.403028  1.859111   \n",
       "3  1.451842  0.740594  1.481979  1.660427  1.500982  1.428417  1.888684   \n",
       "4  1.483952  0.853267  1.525723  1.695974  1.515900  1.459299  1.940034   \n",
       "5  1.493567  0.859528  1.556531  1.724504  1.545723  1.464528  1.970240   \n",
       "6  1.527849  0.886736  1.602004  1.763864  1.580618  1.505856  2.028130   \n",
       "7  1.544317  0.935974  1.649800  1.803089  1.595583  1.526513  2.031438   \n",
       "\n",
       "         전남        경북        경남        제주  \n",
       "0  1.500127  1.245443  1.383998  1.583009  \n",
       "1  1.514865  1.282586  1.434815  1.582294  \n",
       "2  1.543220  1.270152  1.460456  1.635183  \n",
       "3  1.597761  1.301660  1.547481  1.631865  \n",
       "4  1.628855  1.332612  1.582947  1.692328  \n",
       "5  1.638900  1.351972  1.598109  1.704160  \n",
       "6  1.673851  1.373678  1.645179  1.751146  \n",
       "7  1.699258  1.382845  1.677045  1.757558  "
      ]
     },
     "execution_count": 7,
     "metadata": {},
     "output_type": "execute_result"
    }
   ],
   "source": [
    "local_doc"
   ]
  },
  {
   "cell_type": "code",
   "execution_count": 6,
   "metadata": {},
   "outputs": [],
   "source": [
    "# 테스트 데이터 생성\n",
    "\n",
    "test_list = []\n",
    "for i in range(len(doc_pass.index)):\n",
    "    test_year = doc_pass.iloc[i,0]\n",
    "    test_apply = doc_pass.iloc[i,1]\n",
    "    test_pass = doc_pass.iloc[i,2]\n",
    "    test_pass_rate = doc_pass.iloc[i,3]\n",
    "    dic_doc = {\"년도\":test_year, \"응시인원\":int(test_apply),\"합격자 수\":int(test_pass), \"합격률\":float(test_pass_rate)}\n",
    "    test_list.append(dic_doc)\n",
    "\n",
    "print(type(test_list))\n",
    "print(type(test_list[0]))\n",
    "print(type(test_list[0]['년도']))\n",
    "print(type(test_list[0]['응시인원']))"
   ]
  },
  {
   "cell_type": "code",
   "execution_count": 7,
   "metadata": {},
   "outputs": [
    {
     "data": {
      "text/plain": [
       "<pymongo.results.InsertOneResult at 0x1d4c0a0c308>"
      ]
     },
     "execution_count": 7,
     "metadata": {},
     "output_type": "execute_result"
    }
   ],
   "source": [
    "# 하나의 데이터만 삽입  / dict 타입\n",
    "newCollection.insert_one(test)"
   ]
  },
  {
   "cell_type": "code",
   "execution_count": 8,
   "metadata": {},
   "outputs": [
    {
     "data": {
      "text/plain": [
       "<pymongo.results.InsertManyResult at 0x1d4c0e77308>"
      ]
     },
     "execution_count": 8,
     "metadata": {},
     "output_type": "execute_result"
    }
   ],
   "source": [
    "# 다수의 데이터 삽입 / dict가 들어있는 list 타입\n",
    "newCollection.insert_many(testDictList)"
   ]
  },
  {
   "cell_type": "code",
   "execution_count": 16,
   "metadata": {},
   "outputs": [
    {
     "name": "stdout",
     "output_type": "stream",
     "text": [
      "{'_id': ObjectId('5f5a09946ba057a8f92b2ee1'), 'name': 'unsik', 'phone': '010-9792-0999'}\n",
      "{'_id': ObjectId('5f5a14bb420bb76a4848af39'), 'name': 'eun', 'phone': '010-0000-0000'}\n"
     ]
    }
   ],
   "source": [
    "# 하나의 Document만 불러오기\n",
    "print(newCollection.find_one({\"name\":\"unsik\"}))\n",
    "print(newCollection.find_one({'name':'eun'}))"
   ]
  },
  {
   "cell_type": "code",
   "execution_count": 1,
   "metadata": {},
   "outputs": [
    {
     "ename": "NameError",
     "evalue": "name 'newCollection' is not defined",
     "output_type": "error",
     "traceback": [
      "\u001b[1;31m---------------------------------------------------------------------------\u001b[0m",
      "\u001b[1;31mNameError\u001b[0m                                 Traceback (most recent call last)",
      "\u001b[1;32m<ipython-input-1-856960e8b9de>\u001b[0m in \u001b[0;36m<module>\u001b[1;34m\u001b[0m\n\u001b[0;32m      1\u001b[0m \u001b[1;31m# 다수의 Document 불러오기\u001b[0m\u001b[1;33m\u001b[0m\u001b[1;33m\u001b[0m\u001b[1;33m\u001b[0m\u001b[0m\n\u001b[1;32m----> 2\u001b[1;33m \u001b[1;32mfor\u001b[0m \u001b[0mdata\u001b[0m \u001b[1;32min\u001b[0m \u001b[0mnewCollection\u001b[0m\u001b[1;33m.\u001b[0m\u001b[0mfind\u001b[0m\u001b[1;33m(\u001b[0m\u001b[1;33m{\u001b[0m\u001b[1;34m'name'\u001b[0m\u001b[1;33m:\u001b[0m\u001b[1;34m'eun'\u001b[0m\u001b[1;33m}\u001b[0m\u001b[1;33m)\u001b[0m\u001b[1;33m:\u001b[0m\u001b[1;33m\u001b[0m\u001b[1;33m\u001b[0m\u001b[0m\n\u001b[0m\u001b[0;32m      3\u001b[0m     \u001b[0mprint\u001b[0m\u001b[1;33m(\u001b[0m\u001b[0mdata\u001b[0m\u001b[1;33m)\u001b[0m\u001b[1;33m\u001b[0m\u001b[1;33m\u001b[0m\u001b[0m\n",
      "\u001b[1;31mNameError\u001b[0m: name 'newCollection' is not defined"
     ]
    }
   ],
   "source": [
    "# 다수의 Document 불러오기\n",
    "for data in newCollection.find({'name':'eun'}):\n",
    "    print(data)"
   ]
  },
  {
   "cell_type": "code",
   "execution_count": null,
   "metadata": {},
   "outputs": [],
   "source": []
  }
 ],
 "metadata": {
  "kernelspec": {
   "display_name": "Python 3",
   "language": "python",
   "name": "python3"
  },
  "language_info": {
   "codemirror_mode": {
    "name": "ipython",
    "version": 3
   },
   "file_extension": ".py",
   "mimetype": "text/x-python",
   "name": "python",
   "nbconvert_exporter": "python",
   "pygments_lexer": "ipython3",
   "version": "3.7.7"
  }
 },
 "nbformat": 4,
 "nbformat_minor": 4
}
